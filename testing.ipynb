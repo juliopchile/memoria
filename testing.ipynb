{
 "cells": [
  {
   "cell_type": "code",
   "execution_count": null,
   "metadata": {},
   "outputs": [],
   "source": [
    "from ultralytics import YOLO\n",
    "\n",
    "modelo = YOLO(\"models/backbone/yolov8m-seg.pt\")\n",
    "\n",
    "params = {\"data\": \"datasets_yaml/Salmones.yaml\", \"epochs\": 10, \"batch\": 8}\n",
    "#params = {\"data\": \"datasets_yaml/Salmones.yaml\", \"epochs\": 80}\n",
    "\n",
    "resultados = modelo.train(**params)"
   ]
  }
 ],
 "metadata": {
  "kernelspec": {
   "display_name": "thesis",
   "language": "python",
   "name": "python3"
  },
  "language_info": {
   "codemirror_mode": {
    "name": "ipython",
    "version": 3
   },
   "file_extension": ".py",
   "mimetype": "text/x-python",
   "name": "python",
   "nbconvert_exporter": "python",
   "pygments_lexer": "ipython3",
   "version": "3.10.16"
  }
 },
 "nbformat": 4,
 "nbformat_minor": 2
}
