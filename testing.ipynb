{
 "cells": [
  {
   "cell_type": "code",
   "execution_count": 1,
   "metadata": {},
   "outputs": [
    {
     "name": "stderr",
     "output_type": "stream",
     "text": [
      "/home/memorista01/miniconda3/envs/thesis/lib/python3.10/site-packages/tqdm/auto.py:21: TqdmWarning: IProgress not found. Please update jupyter and ipywidgets. See https://ipywidgets.readthedocs.io/en/stable/user_install.html\n",
      "  from .autonotebook import tqdm as notebook_tqdm\n",
      "2025-04-10 23:28:14,326\tINFO util.py:154 -- Missing packages: ['ipywidgets']. Run `pip install -U ipywidgets`, then restart the notebook server for rich notebook output.\n",
      "2025-04-10 23:28:14,620\tINFO util.py:154 -- Missing packages: ['ipywidgets']. Run `pip install -U ipywidgets`, then restart the notebook server for rich notebook output.\n"
     ]
    }
   ],
   "source": [
    "import os\n",
    "import json\n",
    "import numpy as np\n",
    "from ultralytics import YOLO, settings\n",
    "from utility_models import get_backbone_path\n",
    "from config import DATASETS_YAML_LIST, ALL_MODELS, TUNING_NAMES_LIST_DEEPFISH, MODEL_BACKBONE_LAYERS\n",
    "from ray import tune"
   ]
  },
  {
   "cell_type": "code",
   "execution_count": 2,
   "metadata": {},
   "outputs": [],
   "source": [
    "SEARCH_SPACES = {\n",
    "        False: {\n",
    "                'lr0': (1e-5, 1e-1),\n",
    "                'lrf': (0.01, 0.5),\n",
    "                'momentum': (0.6, 0.98),\n",
    "                'weight_decay': (0.0, 0.001),\n",
    "                'warmup_epochs': (0.0, 5.0),\n",
    "                'warmup_momentum': (0.0, 0.95)\n",
    "        },\n",
    "        True: {\n",
    "                'lr0': tune.uniform(1e-5, 1e-1),\n",
    "                'lrf': tune.uniform(0.01, 0.5),\n",
    "                'momentum': tune.uniform(0.6, 0.98),\n",
    "                'weight_decay': tune.uniform(0.0, 0.001),\n",
    "                'warmup_epochs': tune.uniform(0.0, 5.0),\n",
    "                'warmup_momentum': tune.uniform(0.0, 0.95)\n",
    "        }\n",
    "}"
   ]
  },
  {
   "cell_type": "code",
   "execution_count": null,
   "metadata": {},
   "outputs": [],
   "source": []
  },
  {
   "cell_type": "code",
   "execution_count": 34,
   "metadata": {},
   "outputs": [],
   "source": [
    "def create_tune_dict(models, datasets, optimizers, use_ray=False, use_freeze=False):\n",
    "    datasets_yaml_dir = os.path.abspath(\"datasets_yaml\")\n",
    "    \n",
    "    tune_dict = {}\n",
    "\n",
    "    for model_name in models:\n",
    "        for dataset_yaml in datasets:\n",
    "            # Path completo del archivo Yaml\n",
    "            data_yaml = os.path.join(datasets_yaml_dir, dataset_yaml)\n",
    "\n",
    "            for optimizer in optimizers:\n",
    "                # Definir nombre del experimento\n",
    "                caso = os.path.splitext(dataset_yaml)[0] + \"_\" + model_name + \"_\" + optimizer\n",
    "\n",
    "                # Parámetros\n",
    "                model = model_name\n",
    "                tuning_params = {\"data\" :data_yaml, \"optimizer\": optimizer}\n",
    "                \n",
    "                # Guardarlos en un diccionario por caso\n",
    "                tune_dict[caso] = {\"model\": model, \"tuning_params\": tuning_params, \"done\": False,\n",
    "                                   \"use_ray\": use_ray, \"use_freeze\": use_freeze}\n",
    "\n",
    "    return tune_dict\n",
    "\n",
    "def do_tuning(values, epochs, iterations):\n",
    "    # Cargar parámetros del diccionario\n",
    "    model_name = values[\"model\"]\n",
    "    use_ray = values[\"use_ray\"]\n",
    "    data = values[\"tuning_params\"][\"data\"]\n",
    "    optimizer = values[\"tuning_params\"][\"optimizer\"]\n",
    "    \n",
    "    # Actualizar los parámetros de entrenamiento\n",
    "    train_params = {\"space\": SEARCH_SPACES[use_ray], \"epochs\": epochs, \"iterations\": iterations,\n",
    "                    \"use_ray\": use_ray, \"data\": data, \"optimizer\": optimizer}\n",
    "    if values[\"use_freeze\"]:\n",
    "        train_params.update(freeze=MODEL_BACKBONE_LAYERS[model_name])\n",
    "    if use_ray:\n",
    "        train_params.update(gpu_per_trial=1)\n",
    "\n",
    "    # Cargar modelo\n",
    "    model = YOLO(get_backbone_path(model_name), task=\"segment\")\n",
    "    \n",
    "    # Realizar tuning\n",
    "    result_grid = model.tune(**train_params)\n",
    "        \n",
    "\n",
    "def run_tuning_file(json_file, epochs, iterations):\n",
    "    # Cargar el archivo de configuración para el tuning\n",
    "    tune_dict = load_tune_config(json_file)\n",
    "\n",
    "    for case, values in tune_dict.items():\n",
    "        if values[\"done\"]:\n",
    "            continue\n",
    "\n",
    "        do_tuning(values, epochs, iterations)\n",
    "        \n",
    "        tune_dict[case][\"done\"] = True\n",
    "        save_tune_config(tune_dict, json_file)\n",
    "\n",
    "\n",
    "def save_tune_config(tune_dict, json_file):\n",
    "    # Crea el directorio si no existe\n",
    "    directorio = os.path.dirname(json_file)\n",
    "    if directorio and not os.path.exists(directorio):\n",
    "        os.makedirs(directorio)\n",
    "\n",
    "    with open(json_file, 'w', encoding='utf-8') as archivo:\n",
    "        json.dump(tune_dict, archivo, ensure_ascii=False, indent=4)\n",
    "\n",
    "\n",
    "def load_tune_config(json_file) -> dict:\n",
    "    with open(json_file, 'r', encoding='utf-8') as archivo:\n",
    "        tune_dict = json.load(archivo)\n",
    "    return tune_dict"
   ]
  },
  {
   "cell_type": "code",
   "execution_count": 35,
   "metadata": {},
   "outputs": [],
   "source": [
    "models = ['yolov8n-seg']\n",
    "datasets = ['Deepfish.yaml']\n",
    "optimizers = ['SGD']\n",
    "\n",
    "tune_dict_1 = create_tune_dict(models, datasets, optimizers, False, False)\n",
    "tune_dict_2 = create_tune_dict(models, datasets, optimizers, True, False)"
   ]
  },
  {
   "cell_type": "code",
   "execution_count": 36,
   "metadata": {},
   "outputs": [],
   "source": [
    "tuning_config_deepfish_1 = \"tuning/testing_json_1\"\n",
    "tuning_config_deepfish_2 = \"tuning/testing_json_2\""
   ]
  },
  {
   "cell_type": "code",
   "execution_count": 37,
   "metadata": {},
   "outputs": [],
   "source": [
    "save_tune_config(tune_dict_1, tuning_config_deepfish_1)\n",
    "save_tune_config(tune_dict_2, tuning_config_deepfish_2)"
   ]
  },
  {
   "cell_type": "code",
   "execution_count": 38,
   "metadata": {},
   "outputs": [
    {
     "name": "stdout",
     "output_type": "stream",
     "text": [
      "\u001b[34m\u001b[1mTuner: \u001b[0mInitialized Tuner instance with 'tune_dir=runs/segment/tune'\n",
      "\u001b[34m\u001b[1mTuner: \u001b[0m💡 Learn about tuning at https://docs.ultralytics.com/guides/hyperparameter-tuning\n",
      "\u001b[34m\u001b[1mTuner: \u001b[0mStarting iteration 1/5 with hyperparameters: {'lr0': 0.01, 'lrf': 0.01, 'momentum': 0.937, 'weight_decay': 0.0005, 'warmup_epochs': 3.0, 'warmup_momentum': 0.8}\n"
     ]
    },
    {
     "name": "stdout",
     "output_type": "stream",
     "text": [
      "New https://pypi.org/project/ultralytics/8.3.107 available 😃 Update with 'pip install -U ultralytics'\n",
      "Ultralytics 8.3.96 🚀 Python-3.10.16 torch-2.6.0+cu124 CUDA:0 (NVIDIA GeForce RTX 3060, 11912MiB)\n",
      "\u001b[34m\u001b[1mengine/trainer: \u001b[0mtask=segment, mode=train, model=models/backbone/yolov8n-seg.pt, data=/home/memorista01/tesis/datasets_yaml/Deepfish.yaml, epochs=20, time=None, patience=100, batch=16, imgsz=640, save=True, save_period=-1, cache=False, device=None, workers=8, project=None, name=train, exist_ok=False, pretrained=True, optimizer=SGD, verbose=True, seed=0, deterministic=True, single_cls=False, rect=False, cos_lr=False, close_mosaic=10, resume=False, amp=True, fraction=1.0, profile=False, freeze=None, multi_scale=False, overlap_mask=True, mask_ratio=4, dropout=0.0, val=True, split=val, save_json=False, save_hybrid=False, conf=None, iou=0.7, max_det=300, half=False, dnn=False, plots=True, source=None, vid_stride=1, stream_buffer=False, visualize=False, augment=False, agnostic_nms=False, classes=None, retina_masks=False, embed=None, show=False, save_frames=False, save_txt=False, save_conf=False, save_crop=False, show_labels=True, show_conf=True, show_boxes=True, line_width=None, format=torchscript, keras=False, optimize=False, int8=False, dynamic=False, simplify=True, opset=None, workspace=None, nms=False, lr0=0.01, lrf=0.01, momentum=0.937, weight_decay=0.0005, warmup_epochs=3.0, warmup_momentum=0.8, warmup_bias_lr=0.1, box=7.5, cls=0.5, dfl=1.5, pose=12.0, kobj=1.0, nbs=64, hsv_h=0.015, hsv_s=0.7, hsv_v=0.4, degrees=0.0, translate=0.1, scale=0.5, shear=0.0, perspective=0.0, flipud=0.0, fliplr=0.5, bgr=0.0, mosaic=1.0, mixup=0.0, copy_paste=0.0, copy_paste_mode=flip, auto_augment=randaugment, erasing=0.4, crop_fraction=1.0, cfg=None, tracker=botsort.yaml, save_dir=runs/segment/train\n",
      "Overriding model.yaml nc=80 with nc=1\n",
      "\n",
      "                   from  n    params  module                                       arguments                     \n",
      "  0                  -1  1       464  ultralytics.nn.modules.conv.Conv             [3, 16, 3, 2]                 \n",
      "  1                  -1  1      4672  ultralytics.nn.modules.conv.Conv             [16, 32, 3, 2]                \n",
      "  2                  -1  1      7360  ultralytics.nn.modules.block.C2f             [32, 32, 1, True]             \n",
      "  3                  -1  1     18560  ultralytics.nn.modules.conv.Conv             [32, 64, 3, 2]                \n",
      "  4                  -1  2     49664  ultralytics.nn.modules.block.C2f             [64, 64, 2, True]             \n",
      "  5                  -1  1     73984  ultralytics.nn.modules.conv.Conv             [64, 128, 3, 2]               \n",
      "  6                  -1  2    197632  ultralytics.nn.modules.block.C2f             [128, 128, 2, True]           \n",
      "  7                  -1  1    295424  ultralytics.nn.modules.conv.Conv             [128, 256, 3, 2]              \n",
      "  8                  -1  1    460288  ultralytics.nn.modules.block.C2f             [256, 256, 1, True]           \n",
      "  9                  -1  1    164608  ultralytics.nn.modules.block.SPPF            [256, 256, 5]                 \n",
      " 10                  -1  1         0  torch.nn.modules.upsampling.Upsample         [None, 2, 'nearest']          \n",
      " 11             [-1, 6]  1         0  ultralytics.nn.modules.conv.Concat           [1]                           \n",
      " 12                  -1  1    148224  ultralytics.nn.modules.block.C2f             [384, 128, 1]                 \n",
      " 13                  -1  1         0  torch.nn.modules.upsampling.Upsample         [None, 2, 'nearest']          \n",
      " 14             [-1, 4]  1         0  ultralytics.nn.modules.conv.Concat           [1]                           \n",
      " 15                  -1  1     37248  ultralytics.nn.modules.block.C2f             [192, 64, 1]                  \n",
      " 16                  -1  1     36992  ultralytics.nn.modules.conv.Conv             [64, 64, 3, 2]                \n",
      " 17            [-1, 12]  1         0  ultralytics.nn.modules.conv.Concat           [1]                           \n",
      " 18                  -1  1    123648  ultralytics.nn.modules.block.C2f             [192, 128, 1]                 \n",
      " 19                  -1  1    147712  ultralytics.nn.modules.conv.Conv             [128, 128, 3, 2]              \n",
      " 20             [-1, 9]  1         0  ultralytics.nn.modules.conv.Concat           [1]                           \n",
      " 21                  -1  1    493056  ultralytics.nn.modules.block.C2f             [384, 256, 1]                 \n",
      " 22        [15, 18, 21]  1   1004275  ultralytics.nn.modules.head.Segment          [1, 32, 64, [64, 128, 256]]   \n",
      "YOLOv8n-seg summary: 151 layers, 3,263,811 parameters, 3,263,795 gradients, 12.1 GFLOPs\n",
      "\n",
      "Transferred 381/417 items from pretrained weights\n",
      "Freezing layer 'model.22.dfl.conv.weight'\n",
      "\u001b[34m\u001b[1mAMP: \u001b[0mrunning Automatic Mixed Precision (AMP) checks...\n",
      "\u001b[34m\u001b[1mAMP: \u001b[0mchecks passed ✅\n"
     ]
    },
    {
     "name": "stderr",
     "output_type": "stream",
     "text": [
      "\u001b[34m\u001b[1mtrain: \u001b[0mScanning /home/memorista01/tesis/datasets_yolo/Deepfish/labels/train.cache... 148 images, 161 backgrounds, 0 corrupt: 100%|██████████| 309/309 [00:00<?, ?it/s]\n",
      "\u001b[34m\u001b[1mval: \u001b[0mScanning /home/memorista01/tesis/datasets_yolo/Deepfish/labels/valid.cache... 66 images, 59 backgrounds, 0 corrupt: 100%|██████████| 125/125 [00:00<?, ?it/s]\n"
     ]
    },
    {
     "name": "stdout",
     "output_type": "stream",
     "text": [
      "Plotting labels to runs/segment/train/labels.jpg... \n",
      "\u001b[34m\u001b[1moptimizer:\u001b[0m SGD(lr=0.01, momentum=0.937) with parameter groups 66 weight(decay=0.0), 77 weight(decay=0.0005), 76 bias(decay=0.0)\n",
      "Image sizes 640 train, 640 val\n",
      "Using 8 dataloader workers\n",
      "Logging results to \u001b[1mruns/segment/train\u001b[0m\n",
      "Starting training for 20 epochs...\n",
      "\n",
      "      Epoch    GPU_mem   box_loss   seg_loss   cls_loss   dfl_loss  Instances       Size\n"
     ]
    },
    {
     "name": "stderr",
     "output_type": "stream",
     "text": [
      "       1/20      2.52G      1.316      2.446      4.447      1.295          8        640: 100%|██████████| 20/20 [00:03<00:00,  5.70it/s]\n",
      "                 Class     Images  Instances      Box(P          R      mAP50  mAP50-95)     Mask(P          R      mAP50  mAP50-95): 100%|██████████| 4/4 [00:00<00:00,  6.57it/s]\n",
      "  0%|          | 0/20 [00:00<?, ?it/s]"
     ]
    },
    {
     "name": "stdout",
     "output_type": "stream",
     "text": [
      "                   all        125         79    0.00192      0.911      0.161     0.0998    0.00189      0.899      0.141     0.0957\n",
      "\n",
      "      Epoch    GPU_mem   box_loss   seg_loss   cls_loss   dfl_loss  Instances       Size\n"
     ]
    },
    {
     "name": "stderr",
     "output_type": "stream",
     "text": [
      "       2/20      2.66G      1.229      2.143       3.73      1.173          7        640: 100%|██████████| 20/20 [00:02<00:00,  6.93it/s]\n",
      "                 Class     Images  Instances      Box(P          R      mAP50  mAP50-95)     Mask(P          R      mAP50  mAP50-95): 100%|██████████| 4/4 [00:00<00:00,  7.30it/s]\n"
     ]
    },
    {
     "name": "stdout",
     "output_type": "stream",
     "text": [
      "                   all        125         79    0.00173      0.823      0.113     0.0735    0.00155      0.734      0.111     0.0745\n",
      "\n",
      "      Epoch    GPU_mem   box_loss   seg_loss   cls_loss   dfl_loss  Instances       Size\n"
     ]
    },
    {
     "name": "stderr",
     "output_type": "stream",
     "text": [
      "       3/20      2.68G      1.332      2.204      3.264      1.195          6        640: 100%|██████████| 20/20 [00:02<00:00,  6.98it/s]\n",
      "                 Class     Images  Instances      Box(P          R      mAP50  mAP50-95)     Mask(P          R      mAP50  mAP50-95): 100%|██████████| 4/4 [00:00<00:00,  7.27it/s]\n"
     ]
    },
    {
     "name": "stdout",
     "output_type": "stream",
     "text": [
      "                   all        125         79      0.919      0.144      0.402      0.214      0.919      0.144      0.396      0.237\n",
      "\n",
      "      Epoch    GPU_mem   box_loss   seg_loss   cls_loss   dfl_loss  Instances       Size\n"
     ]
    },
    {
     "name": "stderr",
     "output_type": "stream",
     "text": [
      "       4/20       2.7G      1.246      2.136      2.787      1.118          3        640: 100%|██████████| 20/20 [00:02<00:00,  7.06it/s]\n",
      "                 Class     Images  Instances      Box(P          R      mAP50  mAP50-95)     Mask(P          R      mAP50  mAP50-95): 100%|██████████| 4/4 [00:00<00:00,  7.35it/s]\n",
      "  0%|          | 0/20 [00:00<?, ?it/s]"
     ]
    },
    {
     "name": "stdout",
     "output_type": "stream",
     "text": [
      "                   all        125         79      0.724      0.177      0.269      0.151      0.724      0.177      0.268      0.157\n",
      "\n",
      "      Epoch    GPU_mem   box_loss   seg_loss   cls_loss   dfl_loss  Instances       Size\n"
     ]
    },
    {
     "name": "stderr",
     "output_type": "stream",
     "text": [
      "       5/20      2.71G      1.158      1.797      2.083      1.073          6        640: 100%|██████████| 20/20 [00:02<00:00,  7.07it/s]\n",
      "                 Class     Images  Instances      Box(P          R      mAP50  mAP50-95)     Mask(P          R      mAP50  mAP50-95): 100%|██████████| 4/4 [00:00<00:00,  7.28it/s]\n"
     ]
    },
    {
     "name": "stdout",
     "output_type": "stream",
     "text": [
      "                   all        125         79      0.681      0.139      0.185      0.129       0.87      0.152      0.215      0.126\n",
      "\n",
      "      Epoch    GPU_mem   box_loss   seg_loss   cls_loss   dfl_loss  Instances       Size\n"
     ]
    },
    {
     "name": "stderr",
     "output_type": "stream",
     "text": [
      "       6/20      2.73G      1.253       2.07      2.324       1.14          5        640: 100%|██████████| 20/20 [00:02<00:00,  7.12it/s]\n",
      "                 Class     Images  Instances      Box(P          R      mAP50  mAP50-95)     Mask(P          R      mAP50  mAP50-95): 100%|██████████| 4/4 [00:00<00:00,  7.20it/s]\n",
      "  0%|          | 0/20 [00:00<?, ?it/s]"
     ]
    },
    {
     "name": "stdout",
     "output_type": "stream",
     "text": [
      "                   all        125         79      0.483      0.316      0.319      0.181      0.484       0.32      0.337      0.162\n",
      "\n",
      "      Epoch    GPU_mem   box_loss   seg_loss   cls_loss   dfl_loss  Instances       Size\n"
     ]
    },
    {
     "name": "stderr",
     "output_type": "stream",
     "text": [
      "       7/20      2.74G      1.253      1.738      1.936      1.136          6        640: 100%|██████████| 20/20 [00:02<00:00,  7.10it/s]\n",
      "                 Class     Images  Instances      Box(P          R      mAP50  mAP50-95)     Mask(P          R      mAP50  mAP50-95): 100%|██████████| 4/4 [00:00<00:00,  7.18it/s]\n"
     ]
    },
    {
     "name": "stdout",
     "output_type": "stream",
     "text": [
      "                   all        125         79      0.852      0.418      0.533      0.324      0.878       0.43      0.568      0.326\n",
      "\n",
      "      Epoch    GPU_mem   box_loss   seg_loss   cls_loss   dfl_loss  Instances       Size\n"
     ]
    },
    {
     "name": "stderr",
     "output_type": "stream",
     "text": [
      "       8/20      2.75G      1.236      1.985      2.006       1.14          5        640: 100%|██████████| 20/20 [00:02<00:00,  7.05it/s]\n",
      "                 Class     Images  Instances      Box(P          R      mAP50  mAP50-95)     Mask(P          R      mAP50  mAP50-95): 100%|██████████| 4/4 [00:00<00:00,  7.20it/s]\n"
     ]
    },
    {
     "name": "stdout",
     "output_type": "stream",
     "text": [
      "                   all        125         79      0.797      0.448      0.556      0.337       0.82      0.461      0.574      0.355\n",
      "\n",
      "      Epoch    GPU_mem   box_loss   seg_loss   cls_loss   dfl_loss  Instances       Size\n"
     ]
    },
    {
     "name": "stderr",
     "output_type": "stream",
     "text": [
      "       9/20      2.75G      1.204      1.852      1.704      1.119          6        640: 100%|██████████| 20/20 [00:02<00:00,  7.09it/s]\n",
      "                 Class     Images  Instances      Box(P          R      mAP50  mAP50-95)     Mask(P          R      mAP50  mAP50-95): 100%|██████████| 4/4 [00:00<00:00,  7.02it/s]\n",
      "  0%|          | 0/20 [00:00<?, ?it/s]"
     ]
    },
    {
     "name": "stdout",
     "output_type": "stream",
     "text": [
      "                   all        125         79      0.758      0.595       0.65      0.406      0.774      0.608      0.686      0.401\n",
      "\n",
      "      Epoch    GPU_mem   box_loss   seg_loss   cls_loss   dfl_loss  Instances       Size\n"
     ]
    },
    {
     "name": "stderr",
     "output_type": "stream",
     "text": [
      "      10/20      2.75G      1.181      1.655      1.634      1.102          3        640: 100%|██████████| 20/20 [00:02<00:00,  7.06it/s]\n",
      "                 Class     Images  Instances      Box(P          R      mAP50  mAP50-95)     Mask(P          R      mAP50  mAP50-95): 100%|██████████| 4/4 [00:00<00:00,  7.08it/s]\n"
     ]
    },
    {
     "name": "stdout",
     "output_type": "stream",
     "text": [
      "                   all        125         79      0.809      0.697      0.754      0.448      0.824      0.709      0.802      0.448\n",
      "Closing dataloader mosaic\n",
      "\n",
      "      Epoch    GPU_mem   box_loss   seg_loss   cls_loss   dfl_loss  Instances       Size\n"
     ]
    },
    {
     "name": "stderr",
     "output_type": "stream",
     "text": [
      "      11/20      2.75G      1.153       1.81      2.034      1.092          4        640: 100%|██████████| 20/20 [00:03<00:00,  6.06it/s]\n",
      "                 Class     Images  Instances      Box(P          R      mAP50  mAP50-95)     Mask(P          R      mAP50  mAP50-95): 100%|██████████| 4/4 [00:00<00:00,  7.28it/s]\n",
      "  0%|          | 0/20 [00:00<?, ?it/s]"
     ]
    },
    {
     "name": "stdout",
     "output_type": "stream",
     "text": [
      "                   all        125         79      0.767      0.494      0.557      0.303      0.783      0.506      0.603       0.34\n",
      "\n",
      "      Epoch    GPU_mem   box_loss   seg_loss   cls_loss   dfl_loss  Instances       Size\n"
     ]
    },
    {
     "name": "stderr",
     "output_type": "stream",
     "text": [
      "      12/20      2.75G      1.144      1.753      1.767      1.098          4        640: 100%|██████████| 20/20 [00:02<00:00,  7.17it/s]\n",
      "                 Class     Images  Instances      Box(P          R      mAP50  mAP50-95)     Mask(P          R      mAP50  mAP50-95): 100%|██████████| 4/4 [00:00<00:00,  7.50it/s]\n"
     ]
    },
    {
     "name": "stdout",
     "output_type": "stream",
     "text": [
      "                   all        125         79      0.878       0.38      0.535      0.329      0.878       0.38      0.543      0.308\n",
      "\n",
      "      Epoch    GPU_mem   box_loss   seg_loss   cls_loss   dfl_loss  Instances       Size\n"
     ]
    },
    {
     "name": "stderr",
     "output_type": "stream",
     "text": [
      "      13/20      2.75G        1.1      1.713      1.851      1.076          3        640: 100%|██████████| 20/20 [00:02<00:00,  7.18it/s]\n",
      "                 Class     Images  Instances      Box(P          R      mAP50  mAP50-95)     Mask(P          R      mAP50  mAP50-95): 100%|██████████| 4/4 [00:00<00:00,  7.49it/s]\n"
     ]
    },
    {
     "name": "stdout",
     "output_type": "stream",
     "text": [
      "                   all        125         79       0.87      0.759      0.842      0.534      0.882      0.797      0.866      0.555\n",
      "\n",
      "      Epoch    GPU_mem   box_loss   seg_loss   cls_loss   dfl_loss  Instances       Size\n"
     ]
    },
    {
     "name": "stderr",
     "output_type": "stream",
     "text": [
      "      14/20      2.75G      1.056      1.512      1.547      1.056          6        640: 100%|██████████| 20/20 [00:02<00:00,  7.16it/s]\n",
      "                 Class     Images  Instances      Box(P          R      mAP50  mAP50-95)     Mask(P          R      mAP50  mAP50-95): 100%|██████████| 4/4 [00:00<00:00,  7.55it/s]\n",
      "  0%|          | 0/20 [00:00<?, ?it/s]"
     ]
    },
    {
     "name": "stdout",
     "output_type": "stream",
     "text": [
      "                   all        125         79      0.914       0.81      0.849      0.505      0.928      0.823      0.886      0.575\n",
      "\n",
      "      Epoch    GPU_mem   box_loss   seg_loss   cls_loss   dfl_loss  Instances       Size\n"
     ]
    },
    {
     "name": "stderr",
     "output_type": "stream",
     "text": [
      "      15/20      2.75G      1.054      1.531      1.501       1.04          3        640: 100%|██████████| 20/20 [00:02<00:00,  7.16it/s]\n",
      "                 Class     Images  Instances      Box(P          R      mAP50  mAP50-95)     Mask(P          R      mAP50  mAP50-95): 100%|██████████| 4/4 [00:00<00:00,  7.45it/s]\n"
     ]
    },
    {
     "name": "stdout",
     "output_type": "stream",
     "text": [
      "                   all        125         79      0.916      0.684      0.806      0.544      0.952      0.709      0.848      0.583\n",
      "\n",
      "      Epoch    GPU_mem   box_loss   seg_loss   cls_loss   dfl_loss  Instances       Size\n"
     ]
    },
    {
     "name": "stderr",
     "output_type": "stream",
     "text": [
      "      16/20      2.76G       1.04      1.364      1.423      1.029          4        640: 100%|██████████| 20/20 [00:02<00:00,  7.13it/s]\n",
      "                 Class     Images  Instances      Box(P          R      mAP50  mAP50-95)     Mask(P          R      mAP50  mAP50-95): 100%|██████████| 4/4 [00:00<00:00,  7.44it/s]\n"
     ]
    },
    {
     "name": "stdout",
     "output_type": "stream",
     "text": [
      "                   all        125         79      0.943      0.845      0.899      0.637      0.972       0.87      0.941      0.656\n",
      "\n",
      "      Epoch    GPU_mem   box_loss   seg_loss   cls_loss   dfl_loss  Instances       Size\n"
     ]
    },
    {
     "name": "stderr",
     "output_type": "stream",
     "text": [
      "      17/20      2.77G     0.9936      1.362      1.354      1.019          1        640: 100%|██████████| 20/20 [00:02<00:00,  7.12it/s]\n",
      "                 Class     Images  Instances      Box(P          R      mAP50  mAP50-95)     Mask(P          R      mAP50  mAP50-95): 100%|██████████| 4/4 [00:00<00:00,  7.29it/s]\n"
     ]
    },
    {
     "name": "stdout",
     "output_type": "stream",
     "text": [
      "                   all        125         79       0.96      0.909      0.924      0.673      0.987      0.931      0.962      0.681\n",
      "\n",
      "      Epoch    GPU_mem   box_loss   seg_loss   cls_loss   dfl_loss  Instances       Size\n"
     ]
    },
    {
     "name": "stderr",
     "output_type": "stream",
     "text": [
      "      18/20      2.78G     0.9118      1.325      1.278     0.9917          3        640: 100%|██████████| 20/20 [00:02<00:00,  7.12it/s]\n",
      "                 Class     Images  Instances      Box(P          R      mAP50  mAP50-95)     Mask(P          R      mAP50  mAP50-95): 100%|██████████| 4/4 [00:00<00:00,  7.32it/s]\n"
     ]
    },
    {
     "name": "stdout",
     "output_type": "stream",
     "text": [
      "                   all        125         79      0.967      0.873      0.946      0.678      0.967      0.873      0.964      0.694\n",
      "\n",
      "      Epoch    GPU_mem   box_loss   seg_loss   cls_loss   dfl_loss  Instances       Size\n"
     ]
    },
    {
     "name": "stderr",
     "output_type": "stream",
     "text": [
      "      19/20      2.78G     0.8851      1.346       1.18     0.9507          1        640: 100%|██████████| 20/20 [00:02<00:00,  7.12it/s]\n",
      "                 Class     Images  Instances      Box(P          R      mAP50  mAP50-95)     Mask(P          R      mAP50  mAP50-95): 100%|██████████| 4/4 [00:00<00:00,  7.37it/s]\n"
     ]
    },
    {
     "name": "stdout",
     "output_type": "stream",
     "text": [
      "                   all        125         79      0.946      0.892      0.932      0.702      0.921      0.924      0.961      0.703\n",
      "\n",
      "      Epoch    GPU_mem   box_loss   seg_loss   cls_loss   dfl_loss  Instances       Size\n"
     ]
    },
    {
     "name": "stderr",
     "output_type": "stream",
     "text": [
      "      20/20      2.78G      0.839       1.19      1.148     0.9346          2        640: 100%|██████████| 20/20 [00:02<00:00,  7.12it/s]\n",
      "                 Class     Images  Instances      Box(P          R      mAP50  mAP50-95)     Mask(P          R      mAP50  mAP50-95): 100%|██████████| 4/4 [00:00<00:00,  7.35it/s]\n"
     ]
    },
    {
     "name": "stdout",
     "output_type": "stream",
     "text": [
      "                   all        125         79      0.972      0.872      0.942      0.721      0.935      0.911      0.968      0.712\n",
      "\n",
      "20 epochs completed in 0.020 hours.\n",
      "Optimizer stripped from runs/segment/train/weights/last.pt, 6.8MB\n",
      "Optimizer stripped from runs/segment/train/weights/best.pt, 6.8MB\n",
      "\n",
      "Validating runs/segment/train/weights/best.pt...\n",
      "Ultralytics 8.3.96 🚀 Python-3.10.16 torch-2.6.0+cu124 CUDA:0 (NVIDIA GeForce RTX 3060, 11912MiB)\n",
      "YOLOv8n-seg summary (fused): 85 layers, 3,258,259 parameters, 0 gradients, 12.0 GFLOPs\n",
      "WARNING ⚠️ Limiting validation plots to first 50 items per image for speed...\n",
      "WARNING ⚠️ Limiting validation plots to first 50 items per image for speed...\n",
      "WARNING ⚠️ Limiting validation plots to first 50 items per image for speed...\n"
     ]
    },
    {
     "name": "stderr",
     "output_type": "stream",
     "text": [
      "                 Class     Images  Instances      Box(P          R      mAP50  mAP50-95)     Mask(P          R      mAP50  mAP50-95):  25%|██▌       | 1/4 [00:00<00:00,  7.03it/s]"
     ]
    },
    {
     "name": "stdout",
     "output_type": "stream",
     "text": [
      "WARNING ⚠️ Limiting validation plots to first 50 items per image for speed...\n",
      "WARNING ⚠️ Limiting validation plots to first 50 items per image for speed...\n",
      "WARNING ⚠️ Limiting validation plots to first 50 items per image for speed...\n",
      "WARNING ⚠️ Limiting validation plots to first 50 items per image for speed...\n",
      "WARNING ⚠️ Limiting validation plots to first 50 items per image for speed...\n",
      "WARNING ⚠️ Limiting validation plots to first 50 items per image for speed...\n",
      "WARNING ⚠️ Limiting validation plots to first 50 items per image for speed...\n",
      "WARNING ⚠️ Limiting validation plots to first 50 items per image for speed...\n",
      "WARNING ⚠️ Limiting validation plots to first 50 items per image for speed...\n",
      "WARNING ⚠️ Limiting validation plots to first 50 items per image for speed...\n",
      "WARNING ⚠️ Limiting validation plots to first 50 items per image for speed...\n",
      "WARNING ⚠️ Limiting validation plots to first 50 items per image for speed...\n",
      "WARNING ⚠️ Limiting validation plots to first 50 items per image for speed...\n",
      "WARNING ⚠️ Limiting validation plots to first 50 items per image for speed...\n",
      "WARNING ⚠️ Limiting validation plots to first 50 items per image for speed...\n",
      "WARNING ⚠️ Limiting validation plots to first 50 items per image for speed...\n",
      "WARNING ⚠️ Limiting validation plots to first 50 items per image for speed...\n",
      "WARNING ⚠️ Limiting validation plots to first 50 items per image for speed...\n",
      "WARNING ⚠️ Limiting validation plots to first 50 items per image for speed...\n",
      "WARNING ⚠️ Limiting validation plots to first 50 items per image for speed...\n",
      "WARNING ⚠️ Limiting validation plots to first 50 items per image for speed...\n",
      "WARNING ⚠️ Limiting validation plots to first 50 items per image for speed...\n",
      "WARNING ⚠️ Limiting validation plots to first 50 items per image for speed...\n",
      "WARNING ⚠️ Limiting validation plots to first 50 items per image for speed...\n",
      "WARNING ⚠️ Limiting validation plots to first 50 items per image for speed...\n",
      "WARNING ⚠️ Limiting validation plots to first 50 items per image for speed...\n",
      "WARNING ⚠️ Limiting validation plots to first 50 items per image for speed...\n",
      "WARNING ⚠️ Limiting validation plots to first 50 items per image for speed...\n",
      "WARNING ⚠️ Limiting validation plots to first 50 items per image for speed...\n",
      "WARNING ⚠️ Limiting validation plots to first 50 items per image for speed...\n",
      "WARNING ⚠️ Limiting validation plots to first 50 items per image for speed...\n",
      "WARNING ⚠️ Limiting validation plots to first 50 items per image for speed...\n",
      "WARNING ⚠️ Limiting validation plots to first 50 items per image for speed...\n",
      "WARNING ⚠️ Limiting validation plots to first 50 items per image for speed...\n",
      "WARNING ⚠️ Limiting validation plots to first 50 items per image for speed...\n",
      "WARNING ⚠️ Limiting validation plots to first 50 items per image for speed...\n",
      "WARNING ⚠️ Limiting validation plots to first 50 items per image for speed...\n",
      "WARNING ⚠️ Limiting validation plots to first 50 items per image for speed...\n",
      "WARNING ⚠️ Limiting validation plots to first 50 items per image for speed...\n",
      "WARNING ⚠️ Limiting validation plots to first 50 items per image for speed...\n",
      "WARNING ⚠️ Limiting validation plots to first 50 items per image for speed...\n",
      "WARNING ⚠️ Limiting validation plots to first 50 items per image for speed...\n",
      "WARNING ⚠️ Limiting validation plots to first 50 items per image for speed...\n",
      "WARNING ⚠️ Limiting validation plots to first 50 items per image for speed...\n",
      "WARNING ⚠️ Limiting validation plots to first 50 items per image for speed...\n",
      "WARNING ⚠️ Limiting validation plots to first 50 items per image for speed...\n",
      "WARNING ⚠️ Limiting validation plots to first 50 items per image for speed...\n",
      "WARNING ⚠️ Limiting validation plots to first 50 items per image for speed...\n",
      "WARNING ⚠️ Limiting validation plots to first 50 items per image for speed...\n",
      "WARNING ⚠️ Limiting validation plots to first 50 items per image for speed...\n",
      "WARNING ⚠️ Limiting validation plots to first 50 items per image for speed...\n",
      "WARNING ⚠️ Limiting validation plots to first 50 items per image for speed...\n",
      "WARNING ⚠️ Limiting validation plots to first 50 items per image for speed...\n",
      "WARNING ⚠️ Limiting validation plots to first 50 items per image for speed...\n",
      "WARNING ⚠️ Limiting validation plots to first 50 items per image for speed...\n",
      "WARNING ⚠️ Limiting validation plots to first 50 items per image for speed...\n",
      "WARNING ⚠️ Limiting validation plots to first 50 items per image for speed...\n",
      "WARNING ⚠️ Limiting validation plots to first 50 items per image for speed...\n",
      "WARNING ⚠️ Limiting validation plots to first 50 items per image for speed...\n",
      "WARNING ⚠️ Limiting validation plots to first 50 items per image for speed...\n",
      "WARNING ⚠️ Limiting validation plots to first 50 items per image for speed...\n"
     ]
    },
    {
     "name": "stderr",
     "output_type": "stream",
     "text": [
      "                 Class     Images  Instances      Box(P          R      mAP50  mAP50-95)     Mask(P          R      mAP50  mAP50-95):  50%|█████     | 2/4 [00:00<00:00,  4.26it/s]"
     ]
    },
    {
     "name": "stdout",
     "output_type": "stream",
     "text": [
      "WARNING ⚠️ Limiting validation plots to first 50 items per image for speed...\n",
      "WARNING ⚠️ Limiting validation plots to first 50 items per image for speed...\n",
      "WARNING ⚠️ Limiting validation plots to first 50 items per image for speed...\n",
      "WARNING ⚠️ Limiting validation plots to first 50 items per image for speed...\n",
      "WARNING ⚠️ Limiting validation plots to first 50 items per image for speed...\n",
      "WARNING ⚠️ Limiting validation plots to first 50 items per image for speed...\n",
      "WARNING ⚠️ Limiting validation plots to first 50 items per image for speed...\n",
      "WARNING ⚠️ Limiting validation plots to first 50 items per image for speed...\n",
      "WARNING ⚠️ Limiting validation plots to first 50 items per image for speed...\n",
      "WARNING ⚠️ Limiting validation plots to first 50 items per image for speed...\n",
      "WARNING ⚠️ Limiting validation plots to first 50 items per image for speed...\n",
      "WARNING ⚠️ Limiting validation plots to first 50 items per image for speed...\n",
      "WARNING ⚠️ Limiting validation plots to first 50 items per image for speed...\n",
      "WARNING ⚠️ Limiting validation plots to first 50 items per image for speed...\n",
      "WARNING ⚠️ Limiting validation plots to first 50 items per image for speed...\n",
      "WARNING ⚠️ Limiting validation plots to first 50 items per image for speed...\n",
      "WARNING ⚠️ Limiting validation plots to first 50 items per image for speed...\n",
      "WARNING ⚠️ Limiting validation plots to first 50 items per image for speed...\n",
      "WARNING ⚠️ Limiting validation plots to first 50 items per image for speed...\n",
      "WARNING ⚠️ Limiting validation plots to first 50 items per image for speed...\n",
      "WARNING ⚠️ Limiting validation plots to first 50 items per image for speed...\n",
      "WARNING ⚠️ Limiting validation plots to first 50 items per image for speed...\n",
      "WARNING ⚠️ Limiting validation plots to first 50 items per image for speed...\n",
      "WARNING ⚠️ Limiting validation plots to first 50 items per image for speed...\n",
      "WARNING ⚠️ Limiting validation plots to first 50 items per image for speed...\n",
      "WARNING ⚠️ Limiting validation plots to first 50 items per image for speed...\n",
      "WARNING ⚠️ Limiting validation plots to first 50 items per image for speed...\n",
      "WARNING ⚠️ Limiting validation plots to first 50 items per image for speed...\n",
      "WARNING ⚠️ Limiting validation plots to first 50 items per image for speed...\n",
      "WARNING ⚠️ Limiting validation plots to first 50 items per image for speed...\n",
      "WARNING ⚠️ Limiting validation plots to first 50 items per image for speed...\n",
      "WARNING ⚠️ Limiting validation plots to first 50 items per image for speed...\n"
     ]
    },
    {
     "name": "stderr",
     "output_type": "stream",
     "text": [
      "                 Class     Images  Instances      Box(P          R      mAP50  mAP50-95)     Mask(P          R      mAP50  mAP50-95): 100%|██████████| 4/4 [00:00<00:00,  4.37it/s]\n"
     ]
    },
    {
     "name": "stdout",
     "output_type": "stream",
     "text": [
      "                   all        125         79      0.972      0.872      0.942      0.723      0.935      0.911      0.968      0.711\n",
      "Speed: 0.1ms preprocess, 1.4ms inference, 0.0ms loss, 0.5ms postprocess per image\n",
      "Results saved to \u001b[1mruns/segment/train\u001b[0m\n",
      "💡 Learn more at https://docs.ultralytics.com/modes/train\n",
      "Saved runs/segment/tune/tune_scatter_plots.png\n",
      "Saved runs/segment/tune/tune_fitness.png\n",
      "\n",
      "\u001b[34m\u001b[1mTuner: \u001b[0m1/5 iterations complete ✅ (89.90s)\n",
      "\u001b[34m\u001b[1mTuner: \u001b[0mResults saved to \u001b[1mruns/segment/tune\u001b[0m\n",
      "\u001b[34m\u001b[1mTuner: \u001b[0mBest fitness=1.48078 observed at iteration 1\n",
      "\u001b[34m\u001b[1mTuner: \u001b[0mBest fitness metrics are {'metrics/precision(B)': 0.97178, 'metrics/recall(B)': 0.87187, 'metrics/mAP50(B)': 0.94159, 'metrics/mAP50-95(B)': 0.72131, 'metrics/precision(M)': 0.93504, 'metrics/recall(M)': 0.91106, 'metrics/mAP50(M)': 0.96839, 'metrics/mAP50-95(M)': 0.71178, 'val/box_loss': 0.91529, 'val/seg_loss': 1.40431, 'val/cls_loss': 0.86012, 'val/dfl_loss': 0.9909, 'fitness': 1.48078}\n",
      "\u001b[34m\u001b[1mTuner: \u001b[0mBest fitness model is runs/segment/train\n",
      "\u001b[34m\u001b[1mTuner: \u001b[0mBest fitness hyperparameters are printed below.\n",
      "\n",
      "Printing '\u001b[1m\u001b[30mruns/segment/tune/best_hyperparameters.yaml\u001b[0m'\n",
      "\n",
      "lr0: 0.01\n",
      "lrf: 0.01\n",
      "momentum: 0.937\n",
      "weight_decay: 0.0005\n",
      "warmup_epochs: 3.0\n",
      "warmup_momentum: 0.8\n",
      "\n",
      "\u001b[34m\u001b[1mTuner: \u001b[0mStarting iteration 2/5 with hyperparameters: {'lr0': 0.00909, 'lrf': 0.01, 'momentum': 0.98, 'weight_decay': 0.00049, 'warmup_epochs': 3.57612, 'warmup_momentum': 0.8}\n",
      "New https://pypi.org/project/ultralytics/8.3.107 available 😃 Update with 'pip install -U ultralytics'\n",
      "Ultralytics 8.3.96 🚀 Python-3.10.16 torch-2.6.0+cu124 CUDA:0 (NVIDIA GeForce RTX 3060, 11912MiB)\n",
      "\u001b[34m\u001b[1mengine/trainer: \u001b[0mtask=segment, mode=train, model=models/backbone/yolov8n-seg.pt, data=/home/memorista01/tesis/datasets_yaml/Deepfish.yaml, epochs=20, time=None, patience=100, batch=16, imgsz=640, save=True, save_period=-1, cache=False, device=None, workers=8, project=None, name=train2, exist_ok=False, pretrained=True, optimizer=SGD, verbose=True, seed=0, deterministic=True, single_cls=False, rect=False, cos_lr=False, close_mosaic=10, resume=False, amp=True, fraction=1.0, profile=False, freeze=None, multi_scale=False, overlap_mask=True, mask_ratio=4, dropout=0.0, val=True, split=val, save_json=False, save_hybrid=False, conf=None, iou=0.7, max_det=300, half=False, dnn=False, plots=True, source=None, vid_stride=1, stream_buffer=False, visualize=False, augment=False, agnostic_nms=False, classes=None, retina_masks=False, embed=None, show=False, save_frames=False, save_txt=False, save_conf=False, save_crop=False, show_labels=True, show_conf=True, show_boxes=True, line_width=None, format=torchscript, keras=False, optimize=False, int8=False, dynamic=False, simplify=True, opset=None, workspace=None, nms=False, lr0=0.00909, lrf=0.01, momentum=0.98, weight_decay=0.00049, warmup_epochs=3.57612, warmup_momentum=0.8, warmup_bias_lr=0.1, box=7.5, cls=0.5, dfl=1.5, pose=12.0, kobj=1.0, nbs=64, hsv_h=0.015, hsv_s=0.7, hsv_v=0.4, degrees=0.0, translate=0.1, scale=0.5, shear=0.0, perspective=0.0, flipud=0.0, fliplr=0.5, bgr=0.0, mosaic=1.0, mixup=0.0, copy_paste=0.0, copy_paste_mode=flip, auto_augment=randaugment, erasing=0.4, crop_fraction=1.0, cfg=None, tracker=botsort.yaml, save_dir=runs/segment/train2\n",
      "Overriding model.yaml nc=80 with nc=1\n",
      "\n",
      "                   from  n    params  module                                       arguments                     \n",
      "  0                  -1  1       464  ultralytics.nn.modules.conv.Conv             [3, 16, 3, 2]                 \n",
      "  1                  -1  1      4672  ultralytics.nn.modules.conv.Conv             [16, 32, 3, 2]                \n",
      "  2                  -1  1      7360  ultralytics.nn.modules.block.C2f             [32, 32, 1, True]             \n",
      "  3                  -1  1     18560  ultralytics.nn.modules.conv.Conv             [32, 64, 3, 2]                \n",
      "  4                  -1  2     49664  ultralytics.nn.modules.block.C2f             [64, 64, 2, True]             \n",
      "  5                  -1  1     73984  ultralytics.nn.modules.conv.Conv             [64, 128, 3, 2]               \n",
      "  6                  -1  2    197632  ultralytics.nn.modules.block.C2f             [128, 128, 2, True]           \n",
      "  7                  -1  1    295424  ultralytics.nn.modules.conv.Conv             [128, 256, 3, 2]              \n",
      "  8                  -1  1    460288  ultralytics.nn.modules.block.C2f             [256, 256, 1, True]           \n",
      "  9                  -1  1    164608  ultralytics.nn.modules.block.SPPF            [256, 256, 5]                 \n",
      " 10                  -1  1         0  torch.nn.modules.upsampling.Upsample         [None, 2, 'nearest']          \n",
      " 11             [-1, 6]  1         0  ultralytics.nn.modules.conv.Concat           [1]                           \n",
      " 12                  -1  1    148224  ultralytics.nn.modules.block.C2f             [384, 128, 1]                 \n",
      " 13                  -1  1         0  torch.nn.modules.upsampling.Upsample         [None, 2, 'nearest']          \n",
      " 14             [-1, 4]  1         0  ultralytics.nn.modules.conv.Concat           [1]                           \n",
      " 15                  -1  1     37248  ultralytics.nn.modules.block.C2f             [192, 64, 1]                  \n",
      " 16                  -1  1     36992  ultralytics.nn.modules.conv.Conv             [64, 64, 3, 2]                \n",
      " 17            [-1, 12]  1         0  ultralytics.nn.modules.conv.Concat           [1]                           \n",
      " 18                  -1  1    123648  ultralytics.nn.modules.block.C2f             [192, 128, 1]                 \n",
      " 19                  -1  1    147712  ultralytics.nn.modules.conv.Conv             [128, 128, 3, 2]              \n",
      " 20             [-1, 9]  1         0  ultralytics.nn.modules.conv.Concat           [1]                           \n",
      " 21                  -1  1    493056  ultralytics.nn.modules.block.C2f             [384, 256, 1]                 \n",
      " 22        [15, 18, 21]  1   1004275  ultralytics.nn.modules.head.Segment          [1, 32, 64, [64, 128, 256]]   \n",
      "YOLOv8n-seg summary: 151 layers, 3,263,811 parameters, 3,263,795 gradients, 12.1 GFLOPs\n",
      "\n",
      "Transferred 381/417 items from pretrained weights\n",
      "Freezing layer 'model.22.dfl.conv.weight'\n",
      "\u001b[34m\u001b[1mAMP: \u001b[0mrunning Automatic Mixed Precision (AMP) checks...\n",
      "\u001b[34m\u001b[1mAMP: \u001b[0mchecks passed ✅\n"
     ]
    },
    {
     "name": "stderr",
     "output_type": "stream",
     "text": [
      "\u001b[34m\u001b[1mtrain: \u001b[0mScanning /home/memorista01/tesis/datasets_yolo/Deepfish/labels/train.cache... 148 images, 161 backgrounds, 0 corrupt: 100%|██████████| 309/309 [00:00<?, ?it/s]\n",
      "\u001b[34m\u001b[1mval: \u001b[0mScanning /home/memorista01/tesis/datasets_yolo/Deepfish/labels/valid.cache... 66 images, 59 backgrounds, 0 corrupt: 100%|██████████| 125/125 [00:00<?, ?it/s]\n"
     ]
    },
    {
     "name": "stdout",
     "output_type": "stream",
     "text": [
      "Plotting labels to runs/segment/train2/labels.jpg... \n",
      "\u001b[34m\u001b[1moptimizer:\u001b[0m SGD(lr=0.00909, momentum=0.98) with parameter groups 66 weight(decay=0.0), 77 weight(decay=0.00049), 76 bias(decay=0.0)\n",
      "Image sizes 640 train, 640 val\n",
      "Using 8 dataloader workers\n",
      "Logging results to \u001b[1mruns/segment/train2\u001b[0m\n",
      "Starting training for 20 epochs...\n",
      "\n",
      "      Epoch    GPU_mem   box_loss   seg_loss   cls_loss   dfl_loss  Instances       Size\n"
     ]
    },
    {
     "name": "stderr",
     "output_type": "stream",
     "text": [
      "       1/20      2.52G      1.323      2.448      4.444        1.3          8        640: 100%|██████████| 20/20 [00:03<00:00,  5.70it/s]\n",
      "                 Class     Images  Instances      Box(P          R      mAP50  mAP50-95)     Mask(P          R      mAP50  mAP50-95): 100%|██████████| 4/4 [00:00<00:00,  6.51it/s]\n",
      "  0%|          | 0/20 [00:00<?, ?it/s]"
     ]
    },
    {
     "name": "stdout",
     "output_type": "stream",
     "text": [
      "                   all        125         79    0.00189      0.899     0.0692     0.0421    0.00181      0.861     0.0657     0.0397\n",
      "\n",
      "      Epoch    GPU_mem   box_loss   seg_loss   cls_loss   dfl_loss  Instances       Size\n"
     ]
    },
    {
     "name": "stderr",
     "output_type": "stream",
     "text": [
      "       2/20      2.66G      1.248      2.234      3.789      1.188          7        640: 100%|██████████| 20/20 [00:02<00:00,  6.89it/s]\n",
      "                 Class     Images  Instances      Box(P          R      mAP50  mAP50-95)     Mask(P          R      mAP50  mAP50-95): 100%|██████████| 4/4 [00:00<00:00,  7.08it/s]\n"
     ]
    },
    {
     "name": "stdout",
     "output_type": "stream",
     "text": [
      "                   all        125         79    0.00187      0.886      0.345      0.242    0.00179      0.848      0.343      0.236\n",
      "\n",
      "      Epoch    GPU_mem   box_loss   seg_loss   cls_loss   dfl_loss  Instances       Size\n"
     ]
    },
    {
     "name": "stderr",
     "output_type": "stream",
     "text": [
      "       3/20      2.68G      1.299      2.083        3.1      1.184          6        640: 100%|██████████| 20/20 [00:02<00:00,  6.94it/s]\n",
      "                 Class     Images  Instances      Box(P          R      mAP50  mAP50-95)     Mask(P          R      mAP50  mAP50-95): 100%|██████████| 4/4 [00:00<00:00,  7.17it/s]\n"
     ]
    },
    {
     "name": "stdout",
     "output_type": "stream",
     "text": [
      "                   all        125         79      0.939      0.389      0.565      0.381      0.969      0.401      0.583      0.399\n",
      "\n",
      "      Epoch    GPU_mem   box_loss   seg_loss   cls_loss   dfl_loss  Instances       Size\n"
     ]
    },
    {
     "name": "stderr",
     "output_type": "stream",
     "text": [
      "       4/20      2.68G      1.179      1.954      2.449      1.078          3        640: 100%|██████████| 20/20 [00:02<00:00,  7.04it/s]\n",
      "                 Class     Images  Instances      Box(P          R      mAP50  mAP50-95)     Mask(P          R      mAP50  mAP50-95): 100%|██████████| 4/4 [00:00<00:00,  7.18it/s]\n",
      "  0%|          | 0/20 [00:00<?, ?it/s]"
     ]
    },
    {
     "name": "stdout",
     "output_type": "stream",
     "text": [
      "                   all        125         79      0.726     0.0886       0.17      0.108      0.723     0.0886      0.181      0.114\n",
      "\n",
      "      Epoch    GPU_mem   box_loss   seg_loss   cls_loss   dfl_loss  Instances       Size\n"
     ]
    },
    {
     "name": "stderr",
     "output_type": "stream",
     "text": [
      "       5/20       2.7G      1.252      1.986      2.072      1.146          6        640: 100%|██████████| 20/20 [00:02<00:00,  7.03it/s]\n",
      "                 Class     Images  Instances      Box(P          R      mAP50  mAP50-95)     Mask(P          R      mAP50  mAP50-95): 100%|██████████| 4/4 [00:00<00:00,  7.17it/s]\n"
     ]
    },
    {
     "name": "stdout",
     "output_type": "stream",
     "text": [
      "                   all        125         79      0.865      0.127      0.267       0.14      0.865      0.127      0.294      0.162\n",
      "\n",
      "      Epoch    GPU_mem   box_loss   seg_loss   cls_loss   dfl_loss  Instances       Size\n"
     ]
    },
    {
     "name": "stderr",
     "output_type": "stream",
     "text": [
      "       6/20      2.71G      1.296      2.103      2.179      1.185          5        640: 100%|██████████| 20/20 [00:02<00:00,  7.08it/s]\n",
      "                 Class     Images  Instances      Box(P          R      mAP50  mAP50-95)     Mask(P          R      mAP50  mAP50-95): 100%|██████████| 4/4 [00:00<00:00,  7.15it/s]\n",
      "  0%|          | 0/20 [00:00<?, ?it/s]"
     ]
    },
    {
     "name": "stdout",
     "output_type": "stream",
     "text": [
      "                   all        125         79      0.691      0.284       0.37       0.23      0.693      0.278      0.364      0.225\n",
      "\n",
      "      Epoch    GPU_mem   box_loss   seg_loss   cls_loss   dfl_loss  Instances       Size\n"
     ]
    },
    {
     "name": "stderr",
     "output_type": "stream",
     "text": [
      "       7/20      2.72G      1.278      1.774      1.887      1.163          6        640: 100%|██████████| 20/20 [00:02<00:00,  7.07it/s]\n",
      "                 Class     Images  Instances      Box(P          R      mAP50  mAP50-95)     Mask(P          R      mAP50  mAP50-95): 100%|██████████| 4/4 [00:00<00:00,  7.21it/s]\n"
     ]
    },
    {
     "name": "stdout",
     "output_type": "stream",
     "text": [
      "                   all        125         79      0.611      0.298      0.373      0.232      0.612        0.3      0.378      0.232\n",
      "\n",
      "      Epoch    GPU_mem   box_loss   seg_loss   cls_loss   dfl_loss  Instances       Size\n"
     ]
    },
    {
     "name": "stderr",
     "output_type": "stream",
     "text": [
      "       8/20      2.74G      1.275      2.021      1.873      1.151          5        640: 100%|██████████| 20/20 [00:02<00:00,  7.09it/s]\n",
      "                 Class     Images  Instances      Box(P          R      mAP50  mAP50-95)     Mask(P          R      mAP50  mAP50-95): 100%|██████████| 4/4 [00:00<00:00,  7.40it/s]\n",
      "  0%|          | 0/20 [00:00<?, ?it/s]"
     ]
    },
    {
     "name": "stdout",
     "output_type": "stream",
     "text": [
      "                   all        125         79      0.673      0.101      0.111     0.0645      0.673      0.101      0.109     0.0694\n",
      "\n",
      "      Epoch    GPU_mem   box_loss   seg_loss   cls_loss   dfl_loss  Instances       Size\n"
     ]
    },
    {
     "name": "stderr",
     "output_type": "stream",
     "text": [
      "       9/20      2.75G      1.259      1.952      1.669      1.146          6        640: 100%|██████████| 20/20 [00:02<00:00,  7.09it/s]\n",
      "                 Class     Images  Instances      Box(P          R      mAP50  mAP50-95)     Mask(P          R      mAP50  mAP50-95): 100%|██████████| 4/4 [00:00<00:00,  7.50it/s]\n"
     ]
    },
    {
     "name": "stdout",
     "output_type": "stream",
     "text": [
      "                   all        125         79      0.489       0.19      0.202     0.0992      0.637       0.19      0.192     0.0929\n",
      "\n",
      "      Epoch    GPU_mem   box_loss   seg_loss   cls_loss   dfl_loss  Instances       Size\n"
     ]
    },
    {
     "name": "stderr",
     "output_type": "stream",
     "text": [
      "      10/20      2.75G      1.245      1.828      1.615      1.115          3        640: 100%|██████████| 20/20 [00:02<00:00,  7.09it/s]\n",
      "                 Class     Images  Instances      Box(P          R      mAP50  mAP50-95)     Mask(P          R      mAP50  mAP50-95): 100%|██████████| 4/4 [00:00<00:00,  7.42it/s]\n"
     ]
    },
    {
     "name": "stdout",
     "output_type": "stream",
     "text": [
      "                   all        125         79      0.577      0.432      0.515      0.297      0.577      0.432      0.509      0.282\n",
      "Closing dataloader mosaic\n",
      "\n",
      "      Epoch    GPU_mem   box_loss   seg_loss   cls_loss   dfl_loss  Instances       Size\n"
     ]
    },
    {
     "name": "stderr",
     "output_type": "stream",
     "text": [
      "      11/20      2.75G      1.225      1.859      1.844      1.122          4        640: 100%|██████████| 20/20 [00:03<00:00,  6.01it/s]\n",
      "                 Class     Images  Instances      Box(P          R      mAP50  mAP50-95)     Mask(P          R      mAP50  mAP50-95): 100%|██████████| 4/4 [00:00<00:00,  7.57it/s]\n",
      "  0%|          | 0/20 [00:00<?, ?it/s]"
     ]
    },
    {
     "name": "stdout",
     "output_type": "stream",
     "text": [
      "                   all        125         79      0.495      0.392      0.383      0.211      0.463      0.367      0.351       0.19\n",
      "\n",
      "      Epoch    GPU_mem   box_loss   seg_loss   cls_loss   dfl_loss  Instances       Size\n"
     ]
    },
    {
     "name": "stderr",
     "output_type": "stream",
     "text": [
      "      12/20      2.75G      1.348      1.984      1.879      1.234          4        640: 100%|██████████| 20/20 [00:02<00:00,  7.12it/s]\n",
      "                 Class     Images  Instances      Box(P          R      mAP50  mAP50-95)     Mask(P          R      mAP50  mAP50-95): 100%|██████████| 4/4 [00:00<00:00,  7.52it/s]\n"
     ]
    },
    {
     "name": "stdout",
     "output_type": "stream",
     "text": [
      "                   all        125         79      0.336      0.203      0.152       0.08      0.336      0.203      0.148     0.0851\n",
      "\n",
      "      Epoch    GPU_mem   box_loss   seg_loss   cls_loss   dfl_loss  Instances       Size\n"
     ]
    },
    {
     "name": "stderr",
     "output_type": "stream",
     "text": [
      "      13/20      2.75G      1.245      1.901      1.731      1.148          3        640: 100%|██████████| 20/20 [00:02<00:00,  7.12it/s]\n",
      "                 Class     Images  Instances      Box(P          R      mAP50  mAP50-95)     Mask(P          R      mAP50  mAP50-95): 100%|██████████| 4/4 [00:00<00:00,  7.53it/s]\n",
      "  0%|          | 0/20 [00:00<?, ?it/s]"
     ]
    },
    {
     "name": "stdout",
     "output_type": "stream",
     "text": [
      "                   all        125         79      0.837      0.481      0.628      0.345      0.825      0.506      0.615      0.329\n",
      "\n",
      "      Epoch    GPU_mem   box_loss   seg_loss   cls_loss   dfl_loss  Instances       Size\n"
     ]
    },
    {
     "name": "stderr",
     "output_type": "stream",
     "text": [
      "      14/20      2.75G      1.252      1.764      1.611      1.173          6        640: 100%|██████████| 20/20 [00:02<00:00,  7.10it/s]\n",
      "                 Class     Images  Instances      Box(P          R      mAP50  mAP50-95)     Mask(P          R      mAP50  mAP50-95): 100%|██████████| 4/4 [00:00<00:00,  7.38it/s]\n"
     ]
    },
    {
     "name": "stdout",
     "output_type": "stream",
     "text": [
      "                   all        125         79      0.714      0.568      0.642       0.37      0.714      0.568      0.632      0.351\n",
      "\n",
      "      Epoch    GPU_mem   box_loss   seg_loss   cls_loss   dfl_loss  Instances       Size\n"
     ]
    },
    {
     "name": "stderr",
     "output_type": "stream",
     "text": [
      "      15/20      2.75G      1.206      1.696      1.518      1.134          3        640: 100%|██████████| 20/20 [00:02<00:00,  7.11it/s]\n",
      "                 Class     Images  Instances      Box(P          R      mAP50  mAP50-95)     Mask(P          R      mAP50  mAP50-95): 100%|██████████| 4/4 [00:00<00:00,  7.44it/s]\n"
     ]
    },
    {
     "name": "stdout",
     "output_type": "stream",
     "text": [
      "                   all        125         79      0.819      0.684      0.797      0.502      0.836      0.696      0.796      0.483\n"
     ]
    },
    {
     "name": "stderr",
     "output_type": "stream",
     "text": [
      "      16/20      2.75G      1.445      2.166      1.428       1.28         10        640:   5%|▌         | 1/20 [00:00<00:02,  7.09it/s]"
     ]
    },
    {
     "name": "stdout",
     "output_type": "stream",
     "text": [
      "\n",
      "      Epoch    GPU_mem   box_loss   seg_loss   cls_loss   dfl_loss  Instances       Size\n"
     ]
    },
    {
     "name": "stderr",
     "output_type": "stream",
     "text": [
      "      16/20      2.75G      1.235      1.814      1.405      1.147          4        640: 100%|██████████| 20/20 [00:02<00:00,  7.09it/s]\n",
      "                 Class     Images  Instances      Box(P          R      mAP50  mAP50-95)     Mask(P          R      mAP50  mAP50-95): 100%|██████████| 4/4 [00:00<00:00,  7.36it/s]\n",
      "  0%|          | 0/20 [00:00<?, ?it/s]"
     ]
    },
    {
     "name": "stdout",
     "output_type": "stream",
     "text": [
      "                   all        125         79       0.91      0.646      0.746      0.499       0.91      0.646      0.742      0.449\n",
      "\n",
      "      Epoch    GPU_mem   box_loss   seg_loss   cls_loss   dfl_loss  Instances       Size\n"
     ]
    },
    {
     "name": "stderr",
     "output_type": "stream",
     "text": [
      "      17/20      2.75G      1.148      1.643      1.343       1.12          1        640: 100%|██████████| 20/20 [00:02<00:00,  7.11it/s]\n",
      "                 Class     Images  Instances      Box(P          R      mAP50  mAP50-95)     Mask(P          R      mAP50  mAP50-95): 100%|██████████| 4/4 [00:00<00:00,  7.35it/s]\n"
     ]
    },
    {
     "name": "stdout",
     "output_type": "stream",
     "text": [
      "                   all        125         79      0.914      0.608      0.731      0.473      0.914      0.608      0.731      0.466\n",
      "\n",
      "      Epoch    GPU_mem   box_loss   seg_loss   cls_loss   dfl_loss  Instances       Size\n"
     ]
    },
    {
     "name": "stderr",
     "output_type": "stream",
     "text": [
      "      18/20      2.77G      1.057      1.585      1.257      1.079          3        640: 100%|██████████| 20/20 [00:02<00:00,  7.11it/s]\n",
      "                 Class     Images  Instances      Box(P          R      mAP50  mAP50-95)     Mask(P          R      mAP50  mAP50-95): 100%|██████████| 4/4 [00:00<00:00,  7.52it/s]\n"
     ]
    },
    {
     "name": "stdout",
     "output_type": "stream",
     "text": [
      "                   all        125         79       0.91      0.771       0.87      0.625       0.91      0.771      0.878      0.586\n",
      "\n",
      "      Epoch    GPU_mem   box_loss   seg_loss   cls_loss   dfl_loss  Instances       Size\n"
     ]
    },
    {
     "name": "stderr",
     "output_type": "stream",
     "text": [
      "      19/20      2.78G      1.047      1.492      1.209      1.053          1        640: 100%|██████████| 20/20 [00:02<00:00,  7.11it/s]\n",
      "                 Class     Images  Instances      Box(P          R      mAP50  mAP50-95)     Mask(P          R      mAP50  mAP50-95): 100%|██████████| 4/4 [00:00<00:00,  7.56it/s]\n"
     ]
    },
    {
     "name": "stdout",
     "output_type": "stream",
     "text": [
      "                   all        125         79      0.944      0.722      0.833      0.583      0.961      0.734      0.864      0.575\n",
      "\n",
      "      Epoch    GPU_mem   box_loss   seg_loss   cls_loss   dfl_loss  Instances       Size\n"
     ]
    },
    {
     "name": "stderr",
     "output_type": "stream",
     "text": [
      "      20/20      2.78G      1.026      1.428      1.124      1.027          2        640: 100%|██████████| 20/20 [00:02<00:00,  7.10it/s]\n",
      "                 Class     Images  Instances      Box(P          R      mAP50  mAP50-95)     Mask(P          R      mAP50  mAP50-95): 100%|██████████| 4/4 [00:00<00:00,  7.58it/s]\n"
     ]
    },
    {
     "name": "stdout",
     "output_type": "stream",
     "text": [
      "                   all        125         79       0.95      0.747      0.882      0.631      0.939      0.782      0.904      0.621\n",
      "\n",
      "20 epochs completed in 0.020 hours.\n",
      "Optimizer stripped from runs/segment/train2/weights/last.pt, 6.8MB\n",
      "Optimizer stripped from runs/segment/train2/weights/best.pt, 6.8MB\n",
      "\n",
      "Validating runs/segment/train2/weights/best.pt...\n",
      "Ultralytics 8.3.96 🚀 Python-3.10.16 torch-2.6.0+cu124 CUDA:0 (NVIDIA GeForce RTX 3060, 11912MiB)\n",
      "YOLOv8n-seg summary (fused): 85 layers, 3,258,259 parameters, 0 gradients, 12.0 GFLOPs\n",
      "WARNING ⚠️ Limiting validation plots to first 50 items per image for speed...\n",
      "WARNING ⚠️ Limiting validation plots to first 50 items per image for speed...\n",
      "WARNING ⚠️ Limiting validation plots to first 50 items per image for speed...\n",
      "WARNING ⚠️ Limiting validation plots to first 50 items per image for speed...\n",
      "WARNING ⚠️ Limiting validation plots to first 50 items per image for speed...\n",
      "WARNING ⚠️ Limiting validation plots to first 50 items per image for speed...\n",
      "WARNING ⚠️ Limiting validation plots to first 50 items per image for speed...\n",
      "WARNING ⚠️ Limiting validation plots to first 50 items per image for speed...\n",
      "WARNING ⚠️ Limiting validation plots to first 50 items per image for speed...\n",
      "WARNING ⚠️ Limiting validation plots to first 50 items per image for speed...\n",
      "WARNING ⚠️ Limiting validation plots to first 50 items per image for speed...\n",
      "WARNING ⚠️ Limiting validation plots to first 50 items per image for speed...\n",
      "WARNING ⚠️ Limiting validation plots to first 50 items per image for speed...\n",
      "WARNING ⚠️ Limiting validation plots to first 50 items per image for speed...\n",
      "WARNING ⚠️ Limiting validation plots to first 50 items per image for speed...\n",
      "WARNING ⚠️ Limiting validation plots to first 50 items per image for speed...\n",
      "WARNING ⚠️ Limiting validation plots to first 50 items per image for speed...\n",
      "WARNING ⚠️ Limiting validation plots to first 50 items per image for speed...\n",
      "WARNING ⚠️ Limiting validation plots to first 50 items per image for speed...\n",
      "WARNING ⚠️ Limiting validation plots to first 50 items per image for speed...\n",
      "WARNING ⚠️ Limiting validation plots to first 50 items per image for speed...\n",
      "WARNING ⚠️ Limiting validation plots to first 50 items per image for speed...\n",
      "WARNING ⚠️ Limiting validation plots to first 50 items per image for speed...\n",
      "WARNING ⚠️ Limiting validation plots to first 50 items per image for speed...\n",
      "WARNING ⚠️ Limiting validation plots to first 50 items per image for speed...\n",
      "WARNING ⚠️ Limiting validation plots to first 50 items per image for speed...\n",
      "WARNING ⚠️ Limiting validation plots to first 50 items per image for speed...\n",
      "WARNING ⚠️ Limiting validation plots to first 50 items per image for speed...\n",
      "WARNING ⚠️ Limiting validation plots to first 50 items per image for speed...\n"
     ]
    },
    {
     "name": "stderr",
     "output_type": "stream",
     "text": [
      "                 Class     Images  Instances      Box(P          R      mAP50  mAP50-95)     Mask(P          R      mAP50  mAP50-95):  25%|██▌       | 1/4 [00:00<00:00,  7.95it/s]"
     ]
    },
    {
     "name": "stdout",
     "output_type": "stream",
     "text": [
      "WARNING ⚠️ Limiting validation plots to first 50 items per image for speed...\n",
      "WARNING ⚠️ Limiting validation plots to first 50 items per image for speed...\n",
      "WARNING ⚠️ Limiting validation plots to first 50 items per image for speed...\n",
      "WARNING ⚠️ Limiting validation plots to first 50 items per image for speed...\n",
      "WARNING ⚠️ Limiting validation plots to first 50 items per image for speed...\n",
      "WARNING ⚠️ Limiting validation plots to first 50 items per image for speed...\n",
      "WARNING ⚠️ Limiting validation plots to first 50 items per image for speed...\n",
      "WARNING ⚠️ Limiting validation plots to first 50 items per image for speed...\n",
      "WARNING ⚠️ Limiting validation plots to first 50 items per image for speed...\n",
      "WARNING ⚠️ Limiting validation plots to first 50 items per image for speed...\n",
      "WARNING ⚠️ Limiting validation plots to first 50 items per image for speed...\n",
      "WARNING ⚠️ Limiting validation plots to first 50 items per image for speed...\n",
      "WARNING ⚠️ Limiting validation plots to first 50 items per image for speed...\n",
      "WARNING ⚠️ Limiting validation plots to first 50 items per image for speed...\n",
      "WARNING ⚠️ Limiting validation plots to first 50 items per image for speed...\n",
      "WARNING ⚠️ Limiting validation plots to first 50 items per image for speed...\n",
      "WARNING ⚠️ Limiting validation plots to first 50 items per image for speed...\n",
      "WARNING ⚠️ Limiting validation plots to first 50 items per image for speed...\n",
      "WARNING ⚠️ Limiting validation plots to first 50 items per image for speed...\n",
      "WARNING ⚠️ Limiting validation plots to first 50 items per image for speed...\n",
      "WARNING ⚠️ Limiting validation plots to first 50 items per image for speed...\n",
      "WARNING ⚠️ Limiting validation plots to first 50 items per image for speed...\n",
      "WARNING ⚠️ Limiting validation plots to first 50 items per image for speed...\n",
      "WARNING ⚠️ Limiting validation plots to first 50 items per image for speed...\n",
      "WARNING ⚠️ Limiting validation plots to first 50 items per image for speed...\n",
      "WARNING ⚠️ Limiting validation plots to first 50 items per image for speed...\n",
      "WARNING ⚠️ Limiting validation plots to first 50 items per image for speed...\n",
      "WARNING ⚠️ Limiting validation plots to first 50 items per image for speed...\n",
      "WARNING ⚠️ Limiting validation plots to first 50 items per image for speed...\n",
      "WARNING ⚠️ Limiting validation plots to first 50 items per image for speed...\n",
      "WARNING ⚠️ Limiting validation plots to first 50 items per image for speed...\n",
      "WARNING ⚠️ Limiting validation plots to first 50 items per image for speed...\n",
      "WARNING ⚠️ Limiting validation plots to first 50 items per image for speed...\n",
      "WARNING ⚠️ Limiting validation plots to first 50 items per image for speed...\n",
      "WARNING ⚠️ Limiting validation plots to first 50 items per image for speed...\n",
      "WARNING ⚠️ Limiting validation plots to first 50 items per image for speed...\n",
      "WARNING ⚠️ Limiting validation plots to first 50 items per image for speed...\n",
      "WARNING ⚠️ Limiting validation plots to first 50 items per image for speed...\n",
      "WARNING ⚠️ Limiting validation plots to first 50 items per image for speed...\n",
      "WARNING ⚠️ Limiting validation plots to first 50 items per image for speed...\n",
      "WARNING ⚠️ Limiting validation plots to first 50 items per image for speed...\n",
      "WARNING ⚠️ Limiting validation plots to first 50 items per image for speed...\n",
      "WARNING ⚠️ Limiting validation plots to first 50 items per image for speed...\n",
      "WARNING ⚠️ Limiting validation plots to first 50 items per image for speed...\n",
      "WARNING ⚠️ Limiting validation plots to first 50 items per image for speed...\n",
      "WARNING ⚠️ Limiting validation plots to first 50 items per image for speed...\n",
      "WARNING ⚠️ Limiting validation plots to first 50 items per image for speed...\n",
      "WARNING ⚠️ Limiting validation plots to first 50 items per image for speed...\n",
      "WARNING ⚠️ Limiting validation plots to first 50 items per image for speed...\n",
      "WARNING ⚠️ Limiting validation plots to first 50 items per image for speed...\n",
      "WARNING ⚠️ Limiting validation plots to first 50 items per image for speed...\n",
      "WARNING ⚠️ Limiting validation plots to first 50 items per image for speed...\n"
     ]
    },
    {
     "name": "stderr",
     "output_type": "stream",
     "text": [
      "                 Class     Images  Instances      Box(P          R      mAP50  mAP50-95)     Mask(P          R      mAP50  mAP50-95):  50%|█████     | 2/4 [00:00<00:00,  4.19it/s]"
     ]
    },
    {
     "name": "stdout",
     "output_type": "stream",
     "text": [
      "WARNING ⚠️ Limiting validation plots to first 50 items per image for speed...\n",
      "WARNING ⚠️ Limiting validation plots to first 50 items per image for speed...\n",
      "WARNING ⚠️ Limiting validation plots to first 50 items per image for speed...\n",
      "WARNING ⚠️ Limiting validation plots to first 50 items per image for speed...\n",
      "WARNING ⚠️ Limiting validation plots to first 50 items per image for speed...\n",
      "WARNING ⚠️ Limiting validation plots to first 50 items per image for speed...\n",
      "WARNING ⚠️ Limiting validation plots to first 50 items per image for speed...\n",
      "WARNING ⚠️ Limiting validation plots to first 50 items per image for speed...\n",
      "WARNING ⚠️ Limiting validation plots to first 50 items per image for speed...\n",
      "WARNING ⚠️ Limiting validation plots to first 50 items per image for speed...\n",
      "WARNING ⚠️ Limiting validation plots to first 50 items per image for speed...\n",
      "WARNING ⚠️ Limiting validation plots to first 50 items per image for speed...\n"
     ]
    },
    {
     "name": "stderr",
     "output_type": "stream",
     "text": [
      "                 Class     Images  Instances      Box(P          R      mAP50  mAP50-95)     Mask(P          R      mAP50  mAP50-95): 100%|██████████| 4/4 [00:00<00:00,  4.19it/s]\n"
     ]
    },
    {
     "name": "stdout",
     "output_type": "stream",
     "text": [
      "                   all        125         79       0.95      0.747      0.882      0.631      0.939      0.782      0.904      0.621\n",
      "Speed: 0.1ms preprocess, 1.4ms inference, 0.0ms loss, 0.7ms postprocess per image\n",
      "Results saved to \u001b[1mruns/segment/train2\u001b[0m\n",
      "💡 Learn more at https://docs.ultralytics.com/modes/train\n",
      "Saved runs/segment/tune/tune_scatter_plots.png\n",
      "Saved runs/segment/tune/tune_fitness.png\n",
      "\n",
      "\u001b[34m\u001b[1mTuner: \u001b[0m2/5 iterations complete ✅ (176.31s)\n",
      "\u001b[34m\u001b[1mTuner: \u001b[0mResults saved to \u001b[1mruns/segment/tune\u001b[0m\n",
      "\u001b[34m\u001b[1mTuner: \u001b[0mBest fitness=1.48078 observed at iteration 1\n",
      "\u001b[34m\u001b[1mTuner: \u001b[0mBest fitness metrics are {'metrics/precision(B)': 0.97178, 'metrics/recall(B)': 0.87187, 'metrics/mAP50(B)': 0.94159, 'metrics/mAP50-95(B)': 0.72131, 'metrics/precision(M)': 0.93504, 'metrics/recall(M)': 0.91106, 'metrics/mAP50(M)': 0.96839, 'metrics/mAP50-95(M)': 0.71178, 'val/box_loss': 0.91529, 'val/seg_loss': 1.40431, 'val/cls_loss': 0.86012, 'val/dfl_loss': 0.9909, 'fitness': 1.48078}\n",
      "\u001b[34m\u001b[1mTuner: \u001b[0mBest fitness model is runs/segment/train\n",
      "\u001b[34m\u001b[1mTuner: \u001b[0mBest fitness hyperparameters are printed below.\n",
      "\n",
      "Printing '\u001b[1m\u001b[30mruns/segment/tune/best_hyperparameters.yaml\u001b[0m'\n",
      "\n",
      "lr0: 0.01\n",
      "lrf: 0.01\n",
      "momentum: 0.937\n",
      "weight_decay: 0.0005\n",
      "warmup_epochs: 3.0\n",
      "warmup_momentum: 0.8\n",
      "\n",
      "\u001b[34m\u001b[1mTuner: \u001b[0mStarting iteration 3/5 with hyperparameters: {'lr0': 0.00963, 'lrf': 0.01, 'momentum': 0.92013, 'weight_decay': 0.00049, 'warmup_epochs': 3.04811, 'warmup_momentum': 0.8}\n",
      "New https://pypi.org/project/ultralytics/8.3.107 available 😃 Update with 'pip install -U ultralytics'\n",
      "Ultralytics 8.3.96 🚀 Python-3.10.16 torch-2.6.0+cu124 CUDA:0 (NVIDIA GeForce RTX 3060, 11912MiB)\n",
      "\u001b[34m\u001b[1mengine/trainer: \u001b[0mtask=segment, mode=train, model=models/backbone/yolov8n-seg.pt, data=/home/memorista01/tesis/datasets_yaml/Deepfish.yaml, epochs=20, time=None, patience=100, batch=16, imgsz=640, save=True, save_period=-1, cache=False, device=None, workers=8, project=None, name=train3, exist_ok=False, pretrained=True, optimizer=SGD, verbose=True, seed=0, deterministic=True, single_cls=False, rect=False, cos_lr=False, close_mosaic=10, resume=False, amp=True, fraction=1.0, profile=False, freeze=None, multi_scale=False, overlap_mask=True, mask_ratio=4, dropout=0.0, val=True, split=val, save_json=False, save_hybrid=False, conf=None, iou=0.7, max_det=300, half=False, dnn=False, plots=True, source=None, vid_stride=1, stream_buffer=False, visualize=False, augment=False, agnostic_nms=False, classes=None, retina_masks=False, embed=None, show=False, save_frames=False, save_txt=False, save_conf=False, save_crop=False, show_labels=True, show_conf=True, show_boxes=True, line_width=None, format=torchscript, keras=False, optimize=False, int8=False, dynamic=False, simplify=True, opset=None, workspace=None, nms=False, lr0=0.00963, lrf=0.01, momentum=0.92013, weight_decay=0.00049, warmup_epochs=3.04811, warmup_momentum=0.8, warmup_bias_lr=0.1, box=7.5, cls=0.5, dfl=1.5, pose=12.0, kobj=1.0, nbs=64, hsv_h=0.015, hsv_s=0.7, hsv_v=0.4, degrees=0.0, translate=0.1, scale=0.5, shear=0.0, perspective=0.0, flipud=0.0, fliplr=0.5, bgr=0.0, mosaic=1.0, mixup=0.0, copy_paste=0.0, copy_paste_mode=flip, auto_augment=randaugment, erasing=0.4, crop_fraction=1.0, cfg=None, tracker=botsort.yaml, save_dir=runs/segment/train3\n",
      "Overriding model.yaml nc=80 with nc=1\n",
      "\n",
      "                   from  n    params  module                                       arguments                     \n",
      "  0                  -1  1       464  ultralytics.nn.modules.conv.Conv             [3, 16, 3, 2]                 \n",
      "  1                  -1  1      4672  ultralytics.nn.modules.conv.Conv             [16, 32, 3, 2]                \n",
      "  2                  -1  1      7360  ultralytics.nn.modules.block.C2f             [32, 32, 1, True]             \n",
      "  3                  -1  1     18560  ultralytics.nn.modules.conv.Conv             [32, 64, 3, 2]                \n",
      "  4                  -1  2     49664  ultralytics.nn.modules.block.C2f             [64, 64, 2, True]             \n",
      "  5                  -1  1     73984  ultralytics.nn.modules.conv.Conv             [64, 128, 3, 2]               \n",
      "  6                  -1  2    197632  ultralytics.nn.modules.block.C2f             [128, 128, 2, True]           \n",
      "  7                  -1  1    295424  ultralytics.nn.modules.conv.Conv             [128, 256, 3, 2]              \n",
      "  8                  -1  1    460288  ultralytics.nn.modules.block.C2f             [256, 256, 1, True]           \n",
      "  9                  -1  1    164608  ultralytics.nn.modules.block.SPPF            [256, 256, 5]                 \n",
      " 10                  -1  1         0  torch.nn.modules.upsampling.Upsample         [None, 2, 'nearest']          \n",
      " 11             [-1, 6]  1         0  ultralytics.nn.modules.conv.Concat           [1]                           \n",
      " 12                  -1  1    148224  ultralytics.nn.modules.block.C2f             [384, 128, 1]                 \n",
      " 13                  -1  1         0  torch.nn.modules.upsampling.Upsample         [None, 2, 'nearest']          \n",
      " 14             [-1, 4]  1         0  ultralytics.nn.modules.conv.Concat           [1]                           \n",
      " 15                  -1  1     37248  ultralytics.nn.modules.block.C2f             [192, 64, 1]                  \n",
      " 16                  -1  1     36992  ultralytics.nn.modules.conv.Conv             [64, 64, 3, 2]                \n",
      " 17            [-1, 12]  1         0  ultralytics.nn.modules.conv.Concat           [1]                           \n",
      " 18                  -1  1    123648  ultralytics.nn.modules.block.C2f             [192, 128, 1]                 \n",
      " 19                  -1  1    147712  ultralytics.nn.modules.conv.Conv             [128, 128, 3, 2]              \n",
      " 20             [-1, 9]  1         0  ultralytics.nn.modules.conv.Concat           [1]                           \n",
      " 21                  -1  1    493056  ultralytics.nn.modules.block.C2f             [384, 256, 1]                 \n",
      " 22        [15, 18, 21]  1   1004275  ultralytics.nn.modules.head.Segment          [1, 32, 64, [64, 128, 256]]   \n",
      "YOLOv8n-seg summary: 151 layers, 3,263,811 parameters, 3,263,795 gradients, 12.1 GFLOPs\n",
      "\n",
      "Transferred 381/417 items from pretrained weights\n",
      "Freezing layer 'model.22.dfl.conv.weight'\n",
      "\u001b[34m\u001b[1mAMP: \u001b[0mrunning Automatic Mixed Precision (AMP) checks...\n",
      "\u001b[34m\u001b[1mAMP: \u001b[0mchecks passed ✅\n"
     ]
    },
    {
     "name": "stderr",
     "output_type": "stream",
     "text": [
      "\u001b[34m\u001b[1mtrain: \u001b[0mScanning /home/memorista01/tesis/datasets_yolo/Deepfish/labels/train.cache... 148 images, 161 backgrounds, 0 corrupt: 100%|██████████| 309/309 [00:00<?, ?it/s]\n",
      "\u001b[34m\u001b[1mval: \u001b[0mScanning /home/memorista01/tesis/datasets_yolo/Deepfish/labels/valid.cache... 66 images, 59 backgrounds, 0 corrupt: 100%|██████████| 125/125 [00:00<?, ?it/s]\n"
     ]
    },
    {
     "name": "stdout",
     "output_type": "stream",
     "text": [
      "Plotting labels to runs/segment/train3/labels.jpg... \n",
      "\u001b[34m\u001b[1moptimizer:\u001b[0m SGD(lr=0.00963, momentum=0.92013) with parameter groups 66 weight(decay=0.0), 77 weight(decay=0.00049), 76 bias(decay=0.0)\n",
      "Image sizes 640 train, 640 val\n",
      "Using 8 dataloader workers\n",
      "Logging results to \u001b[1mruns/segment/train3\u001b[0m\n",
      "Starting training for 20 epochs...\n",
      "\n",
      "      Epoch    GPU_mem   box_loss   seg_loss   cls_loss   dfl_loss  Instances       Size\n"
     ]
    },
    {
     "name": "stderr",
     "output_type": "stream",
     "text": [
      "       1/20      2.52G      1.329      2.467      4.472      1.306          8        640: 100%|██████████| 20/20 [00:03<00:00,  5.66it/s]\n",
      "                 Class     Images  Instances      Box(P          R      mAP50  mAP50-95)     Mask(P          R      mAP50  mAP50-95): 100%|██████████| 4/4 [00:00<00:00,  6.44it/s]\n"
     ]
    },
    {
     "name": "stdout",
     "output_type": "stream",
     "text": [
      "                   all        125         79    0.00165      0.785     0.0594     0.0421    0.00157      0.747     0.0609     0.0405\n",
      "\n",
      "      Epoch    GPU_mem   box_loss   seg_loss   cls_loss   dfl_loss  Instances       Size\n"
     ]
    },
    {
     "name": "stderr",
     "output_type": "stream",
     "text": [
      "       2/20      2.66G      1.241      2.233      3.823      1.171          7        640: 100%|██████████| 20/20 [00:02<00:00,  6.87it/s]\n",
      "                 Class     Images  Instances      Box(P          R      mAP50  mAP50-95)     Mask(P          R      mAP50  mAP50-95): 100%|██████████| 4/4 [00:00<00:00,  7.14it/s]\n"
     ]
    },
    {
     "name": "stdout",
     "output_type": "stream",
     "text": [
      "                   all        125         79    0.00179      0.848      0.191      0.116    0.00163      0.772      0.197      0.119\n",
      "\n",
      "      Epoch    GPU_mem   box_loss   seg_loss   cls_loss   dfl_loss  Instances       Size\n"
     ]
    },
    {
     "name": "stderr",
     "output_type": "stream",
     "text": [
      "       3/20      2.69G      1.309      2.142      3.191      1.172          6        640: 100%|██████████| 20/20 [00:02<00:00,  6.91it/s]\n",
      "                 Class     Images  Instances      Box(P          R      mAP50  mAP50-95)     Mask(P          R      mAP50  mAP50-95): 100%|██████████| 4/4 [00:00<00:00,  6.97it/s]\n"
     ]
    },
    {
     "name": "stdout",
     "output_type": "stream",
     "text": [
      "                   all        125         79          1      0.453      0.629      0.432          1      0.453      0.629      0.423\n",
      "\n",
      "      Epoch    GPU_mem   box_loss   seg_loss   cls_loss   dfl_loss  Instances       Size\n"
     ]
    },
    {
     "name": "stderr",
     "output_type": "stream",
     "text": [
      "       4/20       2.7G      1.209      1.997      2.498      1.076          3        640: 100%|██████████| 20/20 [00:02<00:00,  7.03it/s]\n",
      "                 Class     Images  Instances      Box(P          R      mAP50  mAP50-95)     Mask(P          R      mAP50  mAP50-95): 100%|██████████| 4/4 [00:00<00:00,  7.02it/s]\n",
      "  0%|          | 0/20 [00:00<?, ?it/s]"
     ]
    },
    {
     "name": "stdout",
     "output_type": "stream",
     "text": [
      "                   all        125         79      0.751      0.191      0.353      0.192      0.751      0.191      0.356      0.207\n",
      "\n",
      "      Epoch    GPU_mem   box_loss   seg_loss   cls_loss   dfl_loss  Instances       Size\n"
     ]
    },
    {
     "name": "stderr",
     "output_type": "stream",
     "text": [
      "       5/20      2.71G       1.17      1.861      2.102      1.109          6        640: 100%|██████████| 20/20 [00:02<00:00,  7.00it/s]\n",
      "                 Class     Images  Instances      Box(P          R      mAP50  mAP50-95)     Mask(P          R      mAP50  mAP50-95): 100%|██████████| 4/4 [00:00<00:00,  7.10it/s]\n"
     ]
    },
    {
     "name": "stdout",
     "output_type": "stream",
     "text": [
      "                   all        125         79      0.646      0.139      0.172      0.107      0.671      0.127        0.2      0.117\n",
      "\n",
      "      Epoch    GPU_mem   box_loss   seg_loss   cls_loss   dfl_loss  Instances       Size\n"
     ]
    },
    {
     "name": "stderr",
     "output_type": "stream",
     "text": [
      "       6/20      2.73G      1.159      1.978      2.149      1.081          5        640: 100%|██████████| 20/20 [00:02<00:00,  7.09it/s]\n",
      "                 Class     Images  Instances      Box(P          R      mAP50  mAP50-95)     Mask(P          R      mAP50  mAP50-95): 100%|██████████| 4/4 [00:00<00:00,  7.14it/s]\n",
      "  0%|          | 0/20 [00:00<?, ?it/s]"
     ]
    },
    {
     "name": "stdout",
     "output_type": "stream",
     "text": [
      "                   all        125         79      0.962      0.324      0.437      0.211      0.926      0.315      0.423      0.227\n",
      "\n",
      "      Epoch    GPU_mem   box_loss   seg_loss   cls_loss   dfl_loss  Instances       Size\n"
     ]
    },
    {
     "name": "stderr",
     "output_type": "stream",
     "text": [
      "       7/20      2.74G      1.182      1.709      1.808      1.079          6        640: 100%|██████████| 20/20 [00:02<00:00,  7.06it/s]\n",
      "                 Class     Images  Instances      Box(P          R      mAP50  mAP50-95)     Mask(P          R      mAP50  mAP50-95): 100%|██████████| 4/4 [00:00<00:00,  7.30it/s]\n"
     ]
    },
    {
     "name": "stdout",
     "output_type": "stream",
     "text": [
      "                   all        125         79      0.342     0.0253     0.0486     0.0281      0.342     0.0253     0.0493     0.0324\n",
      "\n",
      "      Epoch    GPU_mem   box_loss   seg_loss   cls_loss   dfl_loss  Instances       Size\n"
     ]
    },
    {
     "name": "stderr",
     "output_type": "stream",
     "text": [
      "       8/20      2.74G      1.161      1.886      1.882      1.081          5        640: 100%|██████████| 20/20 [00:02<00:00,  6.76it/s]\n",
      "                 Class     Images  Instances      Box(P          R      mAP50  mAP50-95)     Mask(P          R      mAP50  mAP50-95): 100%|██████████| 4/4 [00:00<00:00,  7.16it/s]\n",
      "  0%|          | 0/20 [00:00<?, ?it/s]"
     ]
    },
    {
     "name": "stdout",
     "output_type": "stream",
     "text": [
      "                   all        125         79      0.423      0.266      0.271      0.164      0.447      0.278      0.283      0.179\n",
      "\n",
      "      Epoch    GPU_mem   box_loss   seg_loss   cls_loss   dfl_loss  Instances       Size\n"
     ]
    },
    {
     "name": "stderr",
     "output_type": "stream",
     "text": [
      "       9/20      2.74G      1.145      1.699      1.637      1.077          6        640: 100%|██████████| 20/20 [00:02<00:00,  7.07it/s]\n",
      "                 Class     Images  Instances      Box(P          R      mAP50  mAP50-95)     Mask(P          R      mAP50  mAP50-95): 100%|██████████| 4/4 [00:00<00:00,  7.09it/s]\n"
     ]
    },
    {
     "name": "stdout",
     "output_type": "stream",
     "text": [
      "                   all        125         79      0.837      0.633      0.761      0.469      0.766      0.706      0.799      0.496\n",
      "\n",
      "      Epoch    GPU_mem   box_loss   seg_loss   cls_loss   dfl_loss  Instances       Size\n"
     ]
    },
    {
     "name": "stderr",
     "output_type": "stream",
     "text": [
      "      10/20      2.74G       1.14      1.561      1.565      1.067          3        640: 100%|██████████| 20/20 [00:02<00:00,  7.09it/s]\n",
      "                 Class     Images  Instances      Box(P          R      mAP50  mAP50-95)     Mask(P          R      mAP50  mAP50-95): 100%|██████████| 4/4 [00:00<00:00,  7.15it/s]\n"
     ]
    },
    {
     "name": "stdout",
     "output_type": "stream",
     "text": [
      "                   all        125         79      0.893      0.637      0.792      0.492      0.929      0.663      0.812      0.496\n",
      "Closing dataloader mosaic\n",
      "\n",
      "      Epoch    GPU_mem   box_loss   seg_loss   cls_loss   dfl_loss  Instances       Size\n"
     ]
    },
    {
     "name": "stderr",
     "output_type": "stream",
     "text": [
      "      11/20      2.74G      1.102      1.625      1.924      1.024          4        640: 100%|██████████| 20/20 [00:03<00:00,  6.04it/s]\n",
      "                 Class     Images  Instances      Box(P          R      mAP50  mAP50-95)     Mask(P          R      mAP50  mAP50-95): 100%|██████████| 4/4 [00:00<00:00,  7.09it/s]\n",
      "  0%|          | 0/20 [00:00<?, ?it/s]"
     ]
    },
    {
     "name": "stdout",
     "output_type": "stream",
     "text": [
      "                   all        125         79      0.898      0.557      0.673      0.421        0.9      0.557       0.68        0.4\n",
      "\n",
      "      Epoch    GPU_mem   box_loss   seg_loss   cls_loss   dfl_loss  Instances       Size\n"
     ]
    },
    {
     "name": "stderr",
     "output_type": "stream",
     "text": [
      "      12/20      2.74G       1.03      1.589      1.778      1.041          4        640: 100%|██████████| 20/20 [00:02<00:00,  7.11it/s]\n",
      "                 Class     Images  Instances      Box(P          R      mAP50  mAP50-95)     Mask(P          R      mAP50  mAP50-95): 100%|██████████| 4/4 [00:00<00:00,  7.05it/s]\n"
     ]
    },
    {
     "name": "stdout",
     "output_type": "stream",
     "text": [
      "                   all        125         79       0.86      0.777      0.832       0.53      0.874       0.79      0.851      0.547\n",
      "\n",
      "      Epoch    GPU_mem   box_loss   seg_loss   cls_loss   dfl_loss  Instances       Size\n"
     ]
    },
    {
     "name": "stderr",
     "output_type": "stream",
     "text": [
      "      13/20      2.74G      0.985      1.524      1.654      1.009          3        640: 100%|██████████| 20/20 [00:02<00:00,  7.11it/s]\n",
      "                 Class     Images  Instances      Box(P          R      mAP50  mAP50-95)     Mask(P          R      mAP50  mAP50-95): 100%|██████████| 4/4 [00:00<00:00,  7.25it/s]\n",
      "  0%|          | 0/20 [00:00<?, ?it/s]"
     ]
    },
    {
     "name": "stdout",
     "output_type": "stream",
     "text": [
      "                   all        125         79      0.899      0.675      0.757      0.464      0.916      0.688      0.773      0.479\n",
      "\n",
      "      Epoch    GPU_mem   box_loss   seg_loss   cls_loss   dfl_loss  Instances       Size\n"
     ]
    },
    {
     "name": "stderr",
     "output_type": "stream",
     "text": [
      "      14/20      2.74G      1.033      1.501      1.545      1.031          6        640: 100%|██████████| 20/20 [00:02<00:00,  7.12it/s]\n",
      "                 Class     Images  Instances      Box(P          R      mAP50  mAP50-95)     Mask(P          R      mAP50  mAP50-95): 100%|██████████| 4/4 [00:00<00:00,  7.31it/s]\n"
     ]
    },
    {
     "name": "stdout",
     "output_type": "stream",
     "text": [
      "                   all        125         79      0.903      0.696      0.808      0.498      0.928      0.722      0.846      0.525\n",
      "\n",
      "      Epoch    GPU_mem   box_loss   seg_loss   cls_loss   dfl_loss  Instances       Size\n"
     ]
    },
    {
     "name": "stderr",
     "output_type": "stream",
     "text": [
      "      15/20      2.74G      1.012       1.49      1.593       1.01          3        640: 100%|██████████| 20/20 [00:02<00:00,  7.11it/s]\n",
      "                 Class     Images  Instances      Box(P          R      mAP50  mAP50-95)     Mask(P          R      mAP50  mAP50-95): 100%|██████████| 4/4 [00:00<00:00,  7.53it/s]\n"
     ]
    },
    {
     "name": "stdout",
     "output_type": "stream",
     "text": [
      "                   all        125         79      0.916       0.81      0.874      0.628      0.931      0.823      0.918      0.633\n",
      "\n",
      "      Epoch    GPU_mem   box_loss   seg_loss   cls_loss   dfl_loss  Instances       Size\n"
     ]
    },
    {
     "name": "stderr",
     "output_type": "stream",
     "text": [
      "      16/20      2.74G      0.928      1.391      1.403          1          4        640: 100%|██████████| 20/20 [00:02<00:00,  7.14it/s]\n",
      "                 Class     Images  Instances      Box(P          R      mAP50  mAP50-95)     Mask(P          R      mAP50  mAP50-95): 100%|██████████| 4/4 [00:00<00:00,  7.40it/s]\n"
     ]
    },
    {
     "name": "stdout",
     "output_type": "stream",
     "text": [
      "                   all        125         79      0.931      0.849      0.933      0.691      0.944      0.861       0.95      0.666\n",
      "\n",
      "      Epoch    GPU_mem   box_loss   seg_loss   cls_loss   dfl_loss  Instances       Size\n"
     ]
    },
    {
     "name": "stderr",
     "output_type": "stream",
     "text": [
      "      17/20      2.74G     0.9231      1.352      1.386     0.9755          1        640: 100%|██████████| 20/20 [00:02<00:00,  7.14it/s]\n",
      "                 Class     Images  Instances      Box(P          R      mAP50  mAP50-95)     Mask(P          R      mAP50  mAP50-95): 100%|██████████| 4/4 [00:00<00:00,  7.50it/s]\n",
      "  0%|          | 0/20 [00:00<?, ?it/s]"
     ]
    },
    {
     "name": "stdout",
     "output_type": "stream",
     "text": [
      "                   all        125         79      0.876      0.808      0.863      0.594      0.929      0.823       0.89      0.586\n",
      "\n",
      "      Epoch    GPU_mem   box_loss   seg_loss   cls_loss   dfl_loss  Instances       Size\n"
     ]
    },
    {
     "name": "stderr",
     "output_type": "stream",
     "text": [
      "      18/20      2.75G     0.8435      1.262       1.33     0.9478          3        640: 100%|██████████| 20/20 [00:02<00:00,  7.16it/s]\n",
      "                 Class     Images  Instances      Box(P          R      mAP50  mAP50-95)     Mask(P          R      mAP50  mAP50-95): 100%|██████████| 4/4 [00:00<00:00,  7.72it/s]\n"
     ]
    },
    {
     "name": "stdout",
     "output_type": "stream",
     "text": [
      "                   all        125         79       0.83      0.558      0.651      0.449      0.869      0.585      0.712      0.451\n",
      "\n",
      "      Epoch    GPU_mem   box_loss   seg_loss   cls_loss   dfl_loss  Instances       Size\n"
     ]
    },
    {
     "name": "stderr",
     "output_type": "stream",
     "text": [
      "      19/20      2.75G      0.841      1.273      1.229     0.9449          1        640: 100%|██████████| 20/20 [00:02<00:00,  7.18it/s]\n",
      "                 Class     Images  Instances      Box(P          R      mAP50  mAP50-95)     Mask(P          R      mAP50  mAP50-95): 100%|██████████| 4/4 [00:00<00:00,  7.69it/s]\n"
     ]
    },
    {
     "name": "stdout",
     "output_type": "stream",
     "text": [
      "                   all        125         79      0.971      0.859      0.934      0.712      0.986      0.872      0.961      0.706\n",
      "\n",
      "      Epoch    GPU_mem   box_loss   seg_loss   cls_loss   dfl_loss  Instances       Size\n"
     ]
    },
    {
     "name": "stderr",
     "output_type": "stream",
     "text": [
      "      20/20      2.75G      0.861      1.215      1.179     0.9589          2        640: 100%|██████████| 20/20 [00:02<00:00,  7.17it/s]\n",
      "                 Class     Images  Instances      Box(P          R      mAP50  mAP50-95)     Mask(P          R      mAP50  mAP50-95): 100%|██████████| 4/4 [00:00<00:00,  7.73it/s]\n"
     ]
    },
    {
     "name": "stdout",
     "output_type": "stream",
     "text": [
      "                   all        125         79      0.928      0.835       0.93      0.708      0.957      0.861      0.966      0.707\n",
      "\n",
      "20 epochs completed in 0.020 hours.\n",
      "Optimizer stripped from runs/segment/train3/weights/last.pt, 6.8MB\n",
      "Optimizer stripped from runs/segment/train3/weights/best.pt, 6.8MB\n",
      "\n",
      "Validating runs/segment/train3/weights/best.pt...\n",
      "Ultralytics 8.3.96 🚀 Python-3.10.16 torch-2.6.0+cu124 CUDA:0 (NVIDIA GeForce RTX 3060, 11912MiB)\n",
      "YOLOv8n-seg summary (fused): 85 layers, 3,258,259 parameters, 0 gradients, 12.0 GFLOPs\n"
     ]
    },
    {
     "name": "stderr",
     "output_type": "stream",
     "text": [
      "                 Class     Images  Instances      Box(P          R      mAP50  mAP50-95)     Mask(P          R      mAP50  mAP50-95):  25%|██▌       | 1/4 [00:00<00:00,  8.12it/s]"
     ]
    },
    {
     "name": "stdout",
     "output_type": "stream",
     "text": [
      "WARNING ⚠️ Limiting validation plots to first 50 items per image for speed...\n",
      "WARNING ⚠️ Limiting validation plots to first 50 items per image for speed...\n",
      "WARNING ⚠️ Limiting validation plots to first 50 items per image for speed...\n",
      "WARNING ⚠️ Limiting validation plots to first 50 items per image for speed...\n",
      "WARNING ⚠️ Limiting validation plots to first 50 items per image for speed...\n",
      "WARNING ⚠️ Limiting validation plots to first 50 items per image for speed...\n",
      "WARNING ⚠️ Limiting validation plots to first 50 items per image for speed...\n",
      "WARNING ⚠️ Limiting validation plots to first 50 items per image for speed...\n",
      "WARNING ⚠️ Limiting validation plots to first 50 items per image for speed...\n",
      "WARNING ⚠️ Limiting validation plots to first 50 items per image for speed...\n",
      "WARNING ⚠️ Limiting validation plots to first 50 items per image for speed...\n",
      "WARNING ⚠️ Limiting validation plots to first 50 items per image for speed...\n",
      "WARNING ⚠️ Limiting validation plots to first 50 items per image for speed...\n",
      "WARNING ⚠️ Limiting validation plots to first 50 items per image for speed...\n",
      "WARNING ⚠️ Limiting validation plots to first 50 items per image for speed...\n",
      "WARNING ⚠️ Limiting validation plots to first 50 items per image for speed...\n",
      "WARNING ⚠️ Limiting validation plots to first 50 items per image for speed...\n",
      "WARNING ⚠️ Limiting validation plots to first 50 items per image for speed...\n",
      "WARNING ⚠️ Limiting validation plots to first 50 items per image for speed...\n",
      "WARNING ⚠️ Limiting validation plots to first 50 items per image for speed...\n",
      "WARNING ⚠️ Limiting validation plots to first 50 items per image for speed...\n",
      "WARNING ⚠️ Limiting validation plots to first 50 items per image for speed...\n",
      "WARNING ⚠️ Limiting validation plots to first 50 items per image for speed...\n",
      "WARNING ⚠️ Limiting validation plots to first 50 items per image for speed...\n",
      "WARNING ⚠️ Limiting validation plots to first 50 items per image for speed...\n",
      "WARNING ⚠️ Limiting validation plots to first 50 items per image for speed...\n",
      "WARNING ⚠️ Limiting validation plots to first 50 items per image for speed...\n",
      "WARNING ⚠️ Limiting validation plots to first 50 items per image for speed...\n",
      "WARNING ⚠️ Limiting validation plots to first 50 items per image for speed...\n",
      "WARNING ⚠️ Limiting validation plots to first 50 items per image for speed...\n",
      "WARNING ⚠️ Limiting validation plots to first 50 items per image for speed...\n",
      "WARNING ⚠️ Limiting validation plots to first 50 items per image for speed...\n",
      "WARNING ⚠️ Limiting validation plots to first 50 items per image for speed...\n",
      "WARNING ⚠️ Limiting validation plots to first 50 items per image for speed...\n",
      "WARNING ⚠️ Limiting validation plots to first 50 items per image for speed...\n",
      "WARNING ⚠️ Limiting validation plots to first 50 items per image for speed...\n",
      "WARNING ⚠️ Limiting validation plots to first 50 items per image for speed...\n",
      "WARNING ⚠️ Limiting validation plots to first 50 items per image for speed...\n",
      "WARNING ⚠️ Limiting validation plots to first 50 items per image for speed...\n",
      "WARNING ⚠️ Limiting validation plots to first 50 items per image for speed...\n",
      "WARNING ⚠️ Limiting validation plots to first 50 items per image for speed...\n",
      "WARNING ⚠️ Limiting validation plots to first 50 items per image for speed...\n",
      "WARNING ⚠️ Limiting validation plots to first 50 items per image for speed...\n",
      "WARNING ⚠️ Limiting validation plots to first 50 items per image for speed...\n",
      "WARNING ⚠️ Limiting validation plots to first 50 items per image for speed...\n",
      "WARNING ⚠️ Limiting validation plots to first 50 items per image for speed...\n",
      "WARNING ⚠️ Limiting validation plots to first 50 items per image for speed...\n",
      "WARNING ⚠️ Limiting validation plots to first 50 items per image for speed...\n",
      "WARNING ⚠️ Limiting validation plots to first 50 items per image for speed...\n",
      "WARNING ⚠️ Limiting validation plots to first 50 items per image for speed...\n",
      "WARNING ⚠️ Limiting validation plots to first 50 items per image for speed...\n",
      "WARNING ⚠️ Limiting validation plots to first 50 items per image for speed...\n",
      "WARNING ⚠️ Limiting validation plots to first 50 items per image for speed...\n",
      "WARNING ⚠️ Limiting validation plots to first 50 items per image for speed...\n",
      "WARNING ⚠️ Limiting validation plots to first 50 items per image for speed...\n",
      "WARNING ⚠️ Limiting validation plots to first 50 items per image for speed...\n",
      "WARNING ⚠️ Limiting validation plots to first 50 items per image for speed...\n",
      "WARNING ⚠️ Limiting validation plots to first 50 items per image for speed...\n",
      "WARNING ⚠️ Limiting validation plots to first 50 items per image for speed...\n",
      "WARNING ⚠️ Limiting validation plots to first 50 items per image for speed...\n",
      "WARNING ⚠️ Limiting validation plots to first 50 items per image for speed...\n",
      "WARNING ⚠️ Limiting validation plots to first 50 items per image for speed...\n",
      "WARNING ⚠️ Limiting validation plots to first 50 items per image for speed...\n",
      "WARNING ⚠️ Limiting validation plots to first 50 items per image for speed...\n"
     ]
    },
    {
     "name": "stderr",
     "output_type": "stream",
     "text": [
      "                 Class     Images  Instances      Box(P          R      mAP50  mAP50-95)     Mask(P          R      mAP50  mAP50-95):  50%|█████     | 2/4 [00:00<00:00,  4.41it/s]"
     ]
    },
    {
     "name": "stdout",
     "output_type": "stream",
     "text": [
      "WARNING ⚠️ Limiting validation plots to first 50 items per image for speed...\n",
      "WARNING ⚠️ Limiting validation plots to first 50 items per image for speed...\n",
      "WARNING ⚠️ Limiting validation plots to first 50 items per image for speed...\n",
      "WARNING ⚠️ Limiting validation plots to first 50 items per image for speed...\n",
      "WARNING ⚠️ Limiting validation plots to first 50 items per image for speed...\n",
      "WARNING ⚠️ Limiting validation plots to first 50 items per image for speed...\n",
      "WARNING ⚠️ Limiting validation plots to first 50 items per image for speed...\n",
      "WARNING ⚠️ Limiting validation plots to first 50 items per image for speed...\n",
      "WARNING ⚠️ Limiting validation plots to first 50 items per image for speed...\n",
      "WARNING ⚠️ Limiting validation plots to first 50 items per image for speed...\n",
      "WARNING ⚠️ Limiting validation plots to first 50 items per image for speed...\n",
      "WARNING ⚠️ Limiting validation plots to first 50 items per image for speed...\n",
      "WARNING ⚠️ Limiting validation plots to first 50 items per image for speed...\n",
      "WARNING ⚠️ Limiting validation plots to first 50 items per image for speed...\n",
      "WARNING ⚠️ Limiting validation plots to first 50 items per image for speed...\n",
      "WARNING ⚠️ Limiting validation plots to first 50 items per image for speed...\n",
      "WARNING ⚠️ Limiting validation plots to first 50 items per image for speed...\n",
      "WARNING ⚠️ Limiting validation plots to first 50 items per image for speed...\n",
      "WARNING ⚠️ Limiting validation plots to first 50 items per image for speed...\n",
      "WARNING ⚠️ Limiting validation plots to first 50 items per image for speed...\n",
      "WARNING ⚠️ Limiting validation plots to first 50 items per image for speed...\n",
      "WARNING ⚠️ Limiting validation plots to first 50 items per image for speed...\n",
      "WARNING ⚠️ Limiting validation plots to first 50 items per image for speed...\n",
      "WARNING ⚠️ Limiting validation plots to first 50 items per image for speed...\n",
      "WARNING ⚠️ Limiting validation plots to first 50 items per image for speed...\n",
      "WARNING ⚠️ Limiting validation plots to first 50 items per image for speed...\n",
      "WARNING ⚠️ Limiting validation plots to first 50 items per image for speed...\n",
      "WARNING ⚠️ Limiting validation plots to first 50 items per image for speed...\n",
      "WARNING ⚠️ Limiting validation plots to first 50 items per image for speed...\n",
      "WARNING ⚠️ Limiting validation plots to first 50 items per image for speed...\n",
      "WARNING ⚠️ Limiting validation plots to first 50 items per image for speed...\n",
      "WARNING ⚠️ Limiting validation plots to first 50 items per image for speed...\n"
     ]
    },
    {
     "name": "stderr",
     "output_type": "stream",
     "text": [
      "                 Class     Images  Instances      Box(P          R      mAP50  mAP50-95)     Mask(P          R      mAP50  mAP50-95): 100%|██████████| 4/4 [00:00<00:00,  4.52it/s]\n"
     ]
    },
    {
     "name": "stdout",
     "output_type": "stream",
     "text": [
      "                   all        125         79      0.971       0.86      0.934      0.712      0.986      0.872      0.961      0.706\n",
      "Speed: 0.2ms preprocess, 1.4ms inference, 0.0ms loss, 0.5ms postprocess per image\n",
      "Results saved to \u001b[1mruns/segment/train3\u001b[0m\n",
      "💡 Learn more at https://docs.ultralytics.com/modes/train\n",
      "Saved runs/segment/tune/tune_scatter_plots.png\n",
      "Saved runs/segment/tune/tune_fitness.png\n",
      "\n",
      "\u001b[34m\u001b[1mTuner: \u001b[0m3/5 iterations complete ✅ (263.10s)\n",
      "\u001b[34m\u001b[1mTuner: \u001b[0mResults saved to \u001b[1mruns/segment/tune\u001b[0m\n",
      "\u001b[34m\u001b[1mTuner: \u001b[0mBest fitness=1.48078 observed at iteration 1\n",
      "\u001b[34m\u001b[1mTuner: \u001b[0mBest fitness metrics are {'metrics/precision(B)': 0.97178, 'metrics/recall(B)': 0.87187, 'metrics/mAP50(B)': 0.94159, 'metrics/mAP50-95(B)': 0.72131, 'metrics/precision(M)': 0.93504, 'metrics/recall(M)': 0.91106, 'metrics/mAP50(M)': 0.96839, 'metrics/mAP50-95(M)': 0.71178, 'val/box_loss': 0.91529, 'val/seg_loss': 1.40431, 'val/cls_loss': 0.86012, 'val/dfl_loss': 0.9909, 'fitness': 1.48078}\n",
      "\u001b[34m\u001b[1mTuner: \u001b[0mBest fitness model is runs/segment/train\n",
      "\u001b[34m\u001b[1mTuner: \u001b[0mBest fitness hyperparameters are printed below.\n",
      "\n",
      "Printing '\u001b[1m\u001b[30mruns/segment/tune/best_hyperparameters.yaml\u001b[0m'\n",
      "\n",
      "lr0: 0.01\n",
      "lrf: 0.01\n",
      "momentum: 0.937\n",
      "weight_decay: 0.0005\n",
      "warmup_epochs: 3.0\n",
      "warmup_momentum: 0.8\n",
      "\n",
      "\u001b[34m\u001b[1mTuner: \u001b[0mStarting iteration 4/5 with hyperparameters: {'lr0': 0.01086, 'lrf': 0.01035, 'momentum': 0.91836, 'weight_decay': 0.00048, 'warmup_epochs': 2.85338, 'warmup_momentum': 0.82684}\n",
      "New https://pypi.org/project/ultralytics/8.3.107 available 😃 Update with 'pip install -U ultralytics'\n",
      "Ultralytics 8.3.96 🚀 Python-3.10.16 torch-2.6.0+cu124 CUDA:0 (NVIDIA GeForce RTX 3060, 11912MiB)\n",
      "\u001b[34m\u001b[1mengine/trainer: \u001b[0mtask=segment, mode=train, model=models/backbone/yolov8n-seg.pt, data=/home/memorista01/tesis/datasets_yaml/Deepfish.yaml, epochs=20, time=None, patience=100, batch=16, imgsz=640, save=True, save_period=-1, cache=False, device=None, workers=8, project=None, name=train4, exist_ok=False, pretrained=True, optimizer=SGD, verbose=True, seed=0, deterministic=True, single_cls=False, rect=False, cos_lr=False, close_mosaic=10, resume=False, amp=True, fraction=1.0, profile=False, freeze=None, multi_scale=False, overlap_mask=True, mask_ratio=4, dropout=0.0, val=True, split=val, save_json=False, save_hybrid=False, conf=None, iou=0.7, max_det=300, half=False, dnn=False, plots=True, source=None, vid_stride=1, stream_buffer=False, visualize=False, augment=False, agnostic_nms=False, classes=None, retina_masks=False, embed=None, show=False, save_frames=False, save_txt=False, save_conf=False, save_crop=False, show_labels=True, show_conf=True, show_boxes=True, line_width=None, format=torchscript, keras=False, optimize=False, int8=False, dynamic=False, simplify=True, opset=None, workspace=None, nms=False, lr0=0.01086, lrf=0.01035, momentum=0.91836, weight_decay=0.00048, warmup_epochs=2.85338, warmup_momentum=0.82684, warmup_bias_lr=0.1, box=7.5, cls=0.5, dfl=1.5, pose=12.0, kobj=1.0, nbs=64, hsv_h=0.015, hsv_s=0.7, hsv_v=0.4, degrees=0.0, translate=0.1, scale=0.5, shear=0.0, perspective=0.0, flipud=0.0, fliplr=0.5, bgr=0.0, mosaic=1.0, mixup=0.0, copy_paste=0.0, copy_paste_mode=flip, auto_augment=randaugment, erasing=0.4, crop_fraction=1.0, cfg=None, tracker=botsort.yaml, save_dir=runs/segment/train4\n",
      "Overriding model.yaml nc=80 with nc=1\n",
      "\n",
      "                   from  n    params  module                                       arguments                     \n",
      "  0                  -1  1       464  ultralytics.nn.modules.conv.Conv             [3, 16, 3, 2]                 \n",
      "  1                  -1  1      4672  ultralytics.nn.modules.conv.Conv             [16, 32, 3, 2]                \n",
      "  2                  -1  1      7360  ultralytics.nn.modules.block.C2f             [32, 32, 1, True]             \n",
      "  3                  -1  1     18560  ultralytics.nn.modules.conv.Conv             [32, 64, 3, 2]                \n",
      "  4                  -1  2     49664  ultralytics.nn.modules.block.C2f             [64, 64, 2, True]             \n",
      "  5                  -1  1     73984  ultralytics.nn.modules.conv.Conv             [64, 128, 3, 2]               \n",
      "  6                  -1  2    197632  ultralytics.nn.modules.block.C2f             [128, 128, 2, True]           \n",
      "  7                  -1  1    295424  ultralytics.nn.modules.conv.Conv             [128, 256, 3, 2]              \n",
      "  8                  -1  1    460288  ultralytics.nn.modules.block.C2f             [256, 256, 1, True]           \n",
      "  9                  -1  1    164608  ultralytics.nn.modules.block.SPPF            [256, 256, 5]                 \n",
      " 10                  -1  1         0  torch.nn.modules.upsampling.Upsample         [None, 2, 'nearest']          \n",
      " 11             [-1, 6]  1         0  ultralytics.nn.modules.conv.Concat           [1]                           \n",
      " 12                  -1  1    148224  ultralytics.nn.modules.block.C2f             [384, 128, 1]                 \n",
      " 13                  -1  1         0  torch.nn.modules.upsampling.Upsample         [None, 2, 'nearest']          \n",
      " 14             [-1, 4]  1         0  ultralytics.nn.modules.conv.Concat           [1]                           \n",
      " 15                  -1  1     37248  ultralytics.nn.modules.block.C2f             [192, 64, 1]                  \n",
      " 16                  -1  1     36992  ultralytics.nn.modules.conv.Conv             [64, 64, 3, 2]                \n",
      " 17            [-1, 12]  1         0  ultralytics.nn.modules.conv.Concat           [1]                           \n",
      " 18                  -1  1    123648  ultralytics.nn.modules.block.C2f             [192, 128, 1]                 \n",
      " 19                  -1  1    147712  ultralytics.nn.modules.conv.Conv             [128, 128, 3, 2]              \n",
      " 20             [-1, 9]  1         0  ultralytics.nn.modules.conv.Concat           [1]                           \n",
      " 21                  -1  1    493056  ultralytics.nn.modules.block.C2f             [384, 256, 1]                 \n",
      " 22        [15, 18, 21]  1   1004275  ultralytics.nn.modules.head.Segment          [1, 32, 64, [64, 128, 256]]   \n",
      "YOLOv8n-seg summary: 151 layers, 3,263,811 parameters, 3,263,795 gradients, 12.1 GFLOPs\n",
      "\n",
      "Transferred 381/417 items from pretrained weights\n",
      "Freezing layer 'model.22.dfl.conv.weight'\n",
      "\u001b[34m\u001b[1mAMP: \u001b[0mrunning Automatic Mixed Precision (AMP) checks...\n",
      "\u001b[34m\u001b[1mAMP: \u001b[0mchecks passed ✅\n"
     ]
    },
    {
     "name": "stderr",
     "output_type": "stream",
     "text": [
      "\u001b[34m\u001b[1mtrain: \u001b[0mScanning /home/memorista01/tesis/datasets_yolo/Deepfish/labels/train.cache... 148 images, 161 backgrounds, 0 corrupt: 100%|██████████| 309/309 [00:00<?, ?it/s]\n",
      "\u001b[34m\u001b[1mval: \u001b[0mScanning /home/memorista01/tesis/datasets_yolo/Deepfish/labels/valid.cache... 66 images, 59 backgrounds, 0 corrupt: 100%|██████████| 125/125 [00:00<?, ?it/s]\n"
     ]
    },
    {
     "name": "stdout",
     "output_type": "stream",
     "text": [
      "Plotting labels to runs/segment/train4/labels.jpg... \n",
      "\u001b[34m\u001b[1moptimizer:\u001b[0m SGD(lr=0.01086, momentum=0.91836) with parameter groups 66 weight(decay=0.0), 77 weight(decay=0.00048), 76 bias(decay=0.0)\n",
      "Image sizes 640 train, 640 val\n",
      "Using 8 dataloader workers\n",
      "Logging results to \u001b[1mruns/segment/train4\u001b[0m\n",
      "Starting training for 20 epochs...\n",
      "\n",
      "      Epoch    GPU_mem   box_loss   seg_loss   cls_loss   dfl_loss  Instances       Size\n"
     ]
    },
    {
     "name": "stderr",
     "output_type": "stream",
     "text": [
      "       1/20      2.52G      1.313      2.432      4.446      1.289          8        640: 100%|██████████| 20/20 [00:03<00:00,  5.71it/s]\n",
      "                 Class     Images  Instances      Box(P          R      mAP50  mAP50-95)     Mask(P          R      mAP50  mAP50-95): 100%|██████████| 4/4 [00:00<00:00,  6.38it/s]\n",
      "  0%|          | 0/20 [00:00<?, ?it/s]"
     ]
    },
    {
     "name": "stdout",
     "output_type": "stream",
     "text": [
      "                   all        125         79    0.00181      0.861      0.114     0.0693    0.00171       0.81      0.114     0.0755\n",
      "\n",
      "      Epoch    GPU_mem   box_loss   seg_loss   cls_loss   dfl_loss  Instances       Size\n"
     ]
    },
    {
     "name": "stderr",
     "output_type": "stream",
     "text": [
      "       2/20      2.66G      1.242      2.257      3.711      1.182          7        640: 100%|██████████| 20/20 [00:02<00:00,  6.85it/s]\n",
      "                 Class     Images  Instances      Box(P          R      mAP50  mAP50-95)     Mask(P          R      mAP50  mAP50-95): 100%|██████████| 4/4 [00:00<00:00,  7.13it/s]\n"
     ]
    },
    {
     "name": "stdout",
     "output_type": "stream",
     "text": [
      "                   all        125         79    0.00197      0.937      0.149      0.086    0.00152      0.722      0.139     0.0876\n",
      "\n",
      "      Epoch    GPU_mem   box_loss   seg_loss   cls_loss   dfl_loss  Instances       Size\n"
     ]
    },
    {
     "name": "stderr",
     "output_type": "stream",
     "text": [
      "       3/20      2.68G      1.321      2.168      2.993      1.179          6        640: 100%|██████████| 20/20 [00:02<00:00,  6.93it/s]\n",
      "                 Class     Images  Instances      Box(P          R      mAP50  mAP50-95)     Mask(P          R      mAP50  mAP50-95): 100%|██████████| 4/4 [00:00<00:00,  7.14it/s]\n"
     ]
    },
    {
     "name": "stdout",
     "output_type": "stream",
     "text": [
      "                   all        125         79          1     0.0918      0.346      0.192          1     0.0918      0.311      0.186\n",
      "\n",
      "      Epoch    GPU_mem   box_loss   seg_loss   cls_loss   dfl_loss  Instances       Size\n"
     ]
    },
    {
     "name": "stderr",
     "output_type": "stream",
     "text": [
      "       4/20       2.7G      1.266       1.96      2.482      1.115          3        640: 100%|██████████| 20/20 [00:02<00:00,  7.04it/s]\n",
      "                 Class     Images  Instances      Box(P          R      mAP50  mAP50-95)     Mask(P          R      mAP50  mAP50-95): 100%|██████████| 4/4 [00:00<00:00,  7.06it/s]\n"
     ]
    },
    {
     "name": "stdout",
     "output_type": "stream",
     "text": [
      "                   all        125         79      0.929       0.19      0.363      0.228      0.929       0.19      0.332      0.217\n",
      "\n",
      "      Epoch    GPU_mem   box_loss   seg_loss   cls_loss   dfl_loss  Instances       Size\n"
     ]
    },
    {
     "name": "stderr",
     "output_type": "stream",
     "text": [
      "       5/20      2.71G      1.204      1.843      2.104      1.116          6        640: 100%|██████████| 20/20 [00:02<00:00,  7.02it/s]\n",
      "                 Class     Images  Instances      Box(P          R      mAP50  mAP50-95)     Mask(P          R      mAP50  mAP50-95): 100%|██████████| 4/4 [00:00<00:00,  7.13it/s]\n",
      "  0%|          | 0/20 [00:00<?, ?it/s]"
     ]
    },
    {
     "name": "stdout",
     "output_type": "stream",
     "text": [
      "                   all        125         79          1      0.262      0.394       0.25          1      0.262      0.393      0.241\n",
      "\n",
      "      Epoch    GPU_mem   box_loss   seg_loss   cls_loss   dfl_loss  Instances       Size\n"
     ]
    },
    {
     "name": "stderr",
     "output_type": "stream",
     "text": [
      "       6/20      2.73G       1.18       1.97      2.092      1.141          5        640: 100%|██████████| 20/20 [00:02<00:00,  7.07it/s]\n",
      "                 Class     Images  Instances      Box(P          R      mAP50  mAP50-95)     Mask(P          R      mAP50  mAP50-95): 100%|██████████| 4/4 [00:00<00:00,  7.08it/s]\n"
     ]
    },
    {
     "name": "stdout",
     "output_type": "stream",
     "text": [
      "                   all        125         79      0.897      0.331      0.461      0.295      0.897      0.331      0.461      0.287\n",
      "\n",
      "      Epoch    GPU_mem   box_loss   seg_loss   cls_loss   dfl_loss  Instances       Size\n"
     ]
    },
    {
     "name": "stderr",
     "output_type": "stream",
     "text": [
      "       7/20      2.74G      1.209      1.684      1.839      1.126          6        640: 100%|██████████| 20/20 [00:02<00:00,  7.01it/s]\n",
      "                 Class     Images  Instances      Box(P          R      mAP50  mAP50-95)     Mask(P          R      mAP50  mAP50-95): 100%|██████████| 4/4 [00:00<00:00,  7.10it/s]\n",
      "  0%|          | 0/20 [00:00<?, ?it/s]"
     ]
    },
    {
     "name": "stdout",
     "output_type": "stream",
     "text": [
      "                   all        125         79       0.79      0.286      0.419      0.245      0.824      0.297       0.44      0.248\n",
      "\n",
      "      Epoch    GPU_mem   box_loss   seg_loss   cls_loss   dfl_loss  Instances       Size\n"
     ]
    },
    {
     "name": "stderr",
     "output_type": "stream",
     "text": [
      "       8/20      2.75G      1.181      1.832      1.825      1.096          5        640: 100%|██████████| 20/20 [00:02<00:00,  7.04it/s]\n",
      "                 Class     Images  Instances      Box(P          R      mAP50  mAP50-95)     Mask(P          R      mAP50  mAP50-95): 100%|██████████| 4/4 [00:00<00:00,  7.28it/s]\n"
     ]
    },
    {
     "name": "stdout",
     "output_type": "stream",
     "text": [
      "                   all        125         79        0.6      0.114      0.166      0.109      0.667      0.127      0.185     0.0985\n",
      "\n",
      "      Epoch    GPU_mem   box_loss   seg_loss   cls_loss   dfl_loss  Instances       Size\n"
     ]
    },
    {
     "name": "stderr",
     "output_type": "stream",
     "text": [
      "       9/20      2.75G      1.155      1.666      1.555       1.09          6        640: 100%|██████████| 20/20 [00:02<00:00,  7.03it/s]\n",
      "                 Class     Images  Instances      Box(P          R      mAP50  mAP50-95)     Mask(P          R      mAP50  mAP50-95): 100%|██████████| 4/4 [00:00<00:00,  7.35it/s]\n",
      "  0%|          | 0/20 [00:00<?, ?it/s]"
     ]
    },
    {
     "name": "stdout",
     "output_type": "stream",
     "text": [
      "                   all        125         79      0.633      0.304      0.311      0.219      0.713      0.342      0.366      0.224\n",
      "\n",
      "      Epoch    GPU_mem   box_loss   seg_loss   cls_loss   dfl_loss  Instances       Size\n"
     ]
    },
    {
     "name": "stderr",
     "output_type": "stream",
     "text": [
      "      10/20      2.75G       1.14      1.598      1.496      1.073          3        640: 100%|██████████| 20/20 [00:02<00:00,  7.03it/s]\n",
      "                 Class     Images  Instances      Box(P          R      mAP50  mAP50-95)     Mask(P          R      mAP50  mAP50-95): 100%|██████████| 4/4 [00:00<00:00,  7.22it/s]\n"
     ]
    },
    {
     "name": "stdout",
     "output_type": "stream",
     "text": [
      "                   all        125         79      0.732      0.518      0.555      0.329       0.84      0.531      0.608      0.339\n",
      "Closing dataloader mosaic\n",
      "\n",
      "      Epoch    GPU_mem   box_loss   seg_loss   cls_loss   dfl_loss  Instances       Size\n"
     ]
    },
    {
     "name": "stderr",
     "output_type": "stream",
     "text": [
      "      11/20      2.75G      1.081      1.555      1.788      1.045          4        640: 100%|██████████| 20/20 [00:03<00:00,  6.00it/s]\n",
      "                 Class     Images  Instances      Box(P          R      mAP50  mAP50-95)     Mask(P          R      mAP50  mAP50-95): 100%|██████████| 4/4 [00:00<00:00,  7.25it/s]\n"
     ]
    },
    {
     "name": "stdout",
     "output_type": "stream",
     "text": [
      "                   all        125         79      0.757      0.789      0.783      0.479      0.781      0.813      0.839      0.492\n",
      "\n",
      "      Epoch    GPU_mem   box_loss   seg_loss   cls_loss   dfl_loss  Instances       Size\n"
     ]
    },
    {
     "name": "stderr",
     "output_type": "stream",
     "text": [
      "      12/20      2.75G       1.13      1.598      1.709      1.086          4        640: 100%|██████████| 20/20 [00:02<00:00,  7.17it/s]\n",
      "                 Class     Images  Instances      Box(P          R      mAP50  mAP50-95)     Mask(P          R      mAP50  mAP50-95): 100%|██████████| 4/4 [00:00<00:00,  7.31it/s]\n",
      "  0%|          | 0/20 [00:00<?, ?it/s]"
     ]
    },
    {
     "name": "stdout",
     "output_type": "stream",
     "text": [
      "                   all        125         79      0.631      0.671      0.639      0.379      0.772      0.558      0.664      0.389\n",
      "\n",
      "      Epoch    GPU_mem   box_loss   seg_loss   cls_loss   dfl_loss  Instances       Size\n"
     ]
    },
    {
     "name": "stderr",
     "output_type": "stream",
     "text": [
      "      13/20      2.75G      1.026      1.575      1.703      1.024          3        640: 100%|██████████| 20/20 [00:02<00:00,  7.18it/s]\n",
      "                 Class     Images  Instances      Box(P          R      mAP50  mAP50-95)     Mask(P          R      mAP50  mAP50-95): 100%|██████████| 4/4 [00:00<00:00,  7.40it/s]\n"
     ]
    },
    {
     "name": "stdout",
     "output_type": "stream",
     "text": [
      "                   all        125         79      0.835      0.709      0.764       0.49      0.847      0.722      0.801      0.512\n",
      "\n",
      "      Epoch    GPU_mem   box_loss   seg_loss   cls_loss   dfl_loss  Instances       Size\n"
     ]
    },
    {
     "name": "stderr",
     "output_type": "stream",
     "text": [
      "      14/20      2.75G      1.058      1.478      1.448      1.067          6        640: 100%|██████████| 20/20 [00:02<00:00,  7.17it/s]\n",
      "                 Class     Images  Instances      Box(P          R      mAP50  mAP50-95)     Mask(P          R      mAP50  mAP50-95): 100%|██████████| 4/4 [00:00<00:00,  7.53it/s]\n"
     ]
    },
    {
     "name": "stdout",
     "output_type": "stream",
     "text": [
      "                   all        125         79      0.874      0.702      0.784      0.546      0.799      0.797      0.819      0.529\n",
      "\n",
      "      Epoch    GPU_mem   box_loss   seg_loss   cls_loss   dfl_loss  Instances       Size\n"
     ]
    },
    {
     "name": "stderr",
     "output_type": "stream",
     "text": [
      "      15/20      2.75G      1.037      1.486       1.48      1.038          3        640: 100%|██████████| 20/20 [00:02<00:00,  7.16it/s]\n",
      "                 Class     Images  Instances      Box(P          R      mAP50  mAP50-95)     Mask(P          R      mAP50  mAP50-95): 100%|██████████| 4/4 [00:00<00:00,  7.61it/s]\n"
     ]
    },
    {
     "name": "stdout",
     "output_type": "stream",
     "text": [
      "                   all        125         79      0.943      0.842      0.903      0.651      0.972      0.867      0.932      0.643\n",
      "\n",
      "      Epoch    GPU_mem   box_loss   seg_loss   cls_loss   dfl_loss  Instances       Size\n"
     ]
    },
    {
     "name": "stderr",
     "output_type": "stream",
     "text": [
      "      16/20      2.76G     0.9234      1.323      1.256      0.994          4        640: 100%|██████████| 20/20 [00:02<00:00,  7.16it/s]\n",
      "                 Class     Images  Instances      Box(P          R      mAP50  mAP50-95)     Mask(P          R      mAP50  mAP50-95): 100%|██████████| 4/4 [00:00<00:00,  7.62it/s]\n",
      "  0%|          | 0/20 [00:00<?, ?it/s]"
     ]
    },
    {
     "name": "stdout",
     "output_type": "stream",
     "text": [
      "                   all        125         79      0.895      0.861      0.889      0.629      0.971      0.848      0.936      0.648\n",
      "\n",
      "      Epoch    GPU_mem   box_loss   seg_loss   cls_loss   dfl_loss  Instances       Size\n"
     ]
    },
    {
     "name": "stderr",
     "output_type": "stream",
     "text": [
      "      17/20      2.77G     0.9237        1.3      1.299     0.9698          1        640: 100%|██████████| 20/20 [00:02<00:00,  7.17it/s]\n",
      "                 Class     Images  Instances      Box(P          R      mAP50  mAP50-95)     Mask(P          R      mAP50  mAP50-95): 100%|██████████| 4/4 [00:00<00:00,  7.63it/s]\n",
      "  0%|          | 0/20 [00:00<?, ?it/s]"
     ]
    },
    {
     "name": "stdout",
     "output_type": "stream",
     "text": [
      "                   all        125         79       0.92      0.869      0.898      0.634      0.933      0.881      0.928      0.638\n",
      "\n",
      "      Epoch    GPU_mem   box_loss   seg_loss   cls_loss   dfl_loss  Instances       Size\n"
     ]
    },
    {
     "name": "stderr",
     "output_type": "stream",
     "text": [
      "      18/20      2.78G     0.8219      1.253      1.213     0.9481          3        640: 100%|██████████| 20/20 [00:02<00:00,  6.85it/s]\n",
      "                 Class     Images  Instances      Box(P          R      mAP50  mAP50-95)     Mask(P          R      mAP50  mAP50-95): 100%|██████████| 4/4 [00:00<00:00,  7.83it/s]\n",
      "  0%|          | 0/20 [00:00<?, ?it/s]"
     ]
    },
    {
     "name": "stdout",
     "output_type": "stream",
     "text": [
      "                   all        125         79      0.913      0.835      0.889      0.606      0.913      0.835       0.89      0.623\n",
      "\n",
      "      Epoch    GPU_mem   box_loss   seg_loss   cls_loss   dfl_loss  Instances       Size\n"
     ]
    },
    {
     "name": "stderr",
     "output_type": "stream",
     "text": [
      "      19/20      2.78G     0.8519      1.248      1.198     0.9587          1        640: 100%|██████████| 20/20 [00:02<00:00,  7.19it/s]\n",
      "                 Class     Images  Instances      Box(P          R      mAP50  mAP50-95)     Mask(P          R      mAP50  mAP50-95): 100%|██████████| 4/4 [00:00<00:00,  7.74it/s]\n",
      "  0%|          | 0/20 [00:00<?, ?it/s]"
     ]
    },
    {
     "name": "stdout",
     "output_type": "stream",
     "text": [
      "                   all        125         79       0.97       0.83      0.942      0.673       0.97       0.83      0.942      0.675\n",
      "\n",
      "      Epoch    GPU_mem   box_loss   seg_loss   cls_loss   dfl_loss  Instances       Size\n"
     ]
    },
    {
     "name": "stderr",
     "output_type": "stream",
     "text": [
      "      20/20      2.78G      0.855      1.141      1.135     0.9568          2        640: 100%|██████████| 20/20 [00:02<00:00,  7.19it/s]\n",
      "                 Class     Images  Instances      Box(P          R      mAP50  mAP50-95)     Mask(P          R      mAP50  mAP50-95): 100%|██████████| 4/4 [00:00<00:00,  7.69it/s]\n"
     ]
    },
    {
     "name": "stdout",
     "output_type": "stream",
     "text": [
      "                   all        125         79      0.898      0.886       0.92      0.698      0.911      0.899      0.947      0.689\n",
      "\n",
      "20 epochs completed in 0.020 hours.\n",
      "Optimizer stripped from runs/segment/train4/weights/last.pt, 6.8MB\n",
      "Optimizer stripped from runs/segment/train4/weights/best.pt, 6.8MB\n",
      "\n",
      "Validating runs/segment/train4/weights/best.pt...\n",
      "Ultralytics 8.3.96 🚀 Python-3.10.16 torch-2.6.0+cu124 CUDA:0 (NVIDIA GeForce RTX 3060, 11912MiB)\n",
      "YOLOv8n-seg summary (fused): 85 layers, 3,258,259 parameters, 0 gradients, 12.0 GFLOPs\n",
      "WARNING ⚠️ Limiting validation plots to first 50 items per image for speed...\n",
      "WARNING ⚠️ Limiting validation plots to first 50 items per image for speed...\n",
      "WARNING ⚠️ Limiting validation plots to first 50 items per image for speed...\n",
      "WARNING ⚠️ Limiting validation plots to first 50 items per image for speed...\n",
      "WARNING ⚠️ Limiting validation plots to first 50 items per image for speed...\n",
      "WARNING ⚠️ Limiting validation plots to first 50 items per image for speed...\n",
      "WARNING ⚠️ Limiting validation plots to first 50 items per image for speed...\n",
      "WARNING ⚠️ Limiting validation plots to first 50 items per image for speed...\n",
      "WARNING ⚠️ Limiting validation plots to first 50 items per image for speed...\n",
      "WARNING ⚠️ Limiting validation plots to first 50 items per image for speed...\n",
      "WARNING ⚠️ Limiting validation plots to first 50 items per image for speed...\n",
      "WARNING ⚠️ Limiting validation plots to first 50 items per image for speed...\n",
      "WARNING ⚠️ Limiting validation plots to first 50 items per image for speed...\n",
      "WARNING ⚠️ Limiting validation plots to first 50 items per image for speed...\n",
      "WARNING ⚠️ Limiting validation plots to first 50 items per image for speed...\n",
      "WARNING ⚠️ Limiting validation plots to first 50 items per image for speed...\n",
      "WARNING ⚠️ Limiting validation plots to first 50 items per image for speed...\n",
      "WARNING ⚠️ Limiting validation plots to first 50 items per image for speed...\n",
      "WARNING ⚠️ Limiting validation plots to first 50 items per image for speed...\n",
      "WARNING ⚠️ Limiting validation plots to first 50 items per image for speed...\n",
      "WARNING ⚠️ Limiting validation plots to first 50 items per image for speed...\n",
      "WARNING ⚠️ Limiting validation plots to first 50 items per image for speed...\n",
      "WARNING ⚠️ Limiting validation plots to first 50 items per image for speed...\n",
      "WARNING ⚠️ Limiting validation plots to first 50 items per image for speed...\n",
      "WARNING ⚠️ Limiting validation plots to first 50 items per image for speed...\n",
      "WARNING ⚠️ Limiting validation plots to first 50 items per image for speed...\n",
      "WARNING ⚠️ Limiting validation plots to first 50 items per image for speed...\n",
      "WARNING ⚠️ Limiting validation plots to first 50 items per image for speed...\n",
      "WARNING ⚠️ Limiting validation plots to first 50 items per image for speed...\n",
      "WARNING ⚠️ Limiting validation plots to first 50 items per image for speed...\n",
      "WARNING ⚠️ Limiting validation plots to first 50 items per image for speed...\n",
      "WARNING ⚠️ Limiting validation plots to first 50 items per image for speed...\n"
     ]
    },
    {
     "name": "stderr",
     "output_type": "stream",
     "text": [
      "                 Class     Images  Instances      Box(P          R      mAP50  mAP50-95)     Mask(P          R      mAP50  mAP50-95):  25%|██▌       | 1/4 [00:00<00:00,  7.76it/s]"
     ]
    },
    {
     "name": "stdout",
     "output_type": "stream",
     "text": [
      "WARNING ⚠️ Limiting validation plots to first 50 items per image for speed...\n",
      "WARNING ⚠️ Limiting validation plots to first 50 items per image for speed...\n",
      "WARNING ⚠️ Limiting validation plots to first 50 items per image for speed...\n",
      "WARNING ⚠️ Limiting validation plots to first 50 items per image for speed...\n",
      "WARNING ⚠️ Limiting validation plots to first 50 items per image for speed...\n",
      "WARNING ⚠️ Limiting validation plots to first 50 items per image for speed...\n",
      "WARNING ⚠️ Limiting validation plots to first 50 items per image for speed...\n",
      "WARNING ⚠️ Limiting validation plots to first 50 items per image for speed...\n",
      "WARNING ⚠️ Limiting validation plots to first 50 items per image for speed...\n",
      "WARNING ⚠️ Limiting validation plots to first 50 items per image for speed...\n",
      "WARNING ⚠️ Limiting validation plots to first 50 items per image for speed...\n",
      "WARNING ⚠️ Limiting validation plots to first 50 items per image for speed...\n",
      "WARNING ⚠️ Limiting validation plots to first 50 items per image for speed...\n",
      "WARNING ⚠️ Limiting validation plots to first 50 items per image for speed...\n",
      "WARNING ⚠️ Limiting validation plots to first 50 items per image for speed...\n",
      "WARNING ⚠️ Limiting validation plots to first 50 items per image for speed...\n",
      "WARNING ⚠️ Limiting validation plots to first 50 items per image for speed...\n",
      "WARNING ⚠️ Limiting validation plots to first 50 items per image for speed...\n",
      "WARNING ⚠️ Limiting validation plots to first 50 items per image for speed...\n",
      "WARNING ⚠️ Limiting validation plots to first 50 items per image for speed...\n",
      "WARNING ⚠️ Limiting validation plots to first 50 items per image for speed...\n",
      "WARNING ⚠️ Limiting validation plots to first 50 items per image for speed...\n",
      "WARNING ⚠️ Limiting validation plots to first 50 items per image for speed...\n",
      "WARNING ⚠️ Limiting validation plots to first 50 items per image for speed...\n",
      "WARNING ⚠️ Limiting validation plots to first 50 items per image for speed...\n",
      "WARNING ⚠️ Limiting validation plots to first 50 items per image for speed...\n",
      "WARNING ⚠️ Limiting validation plots to first 50 items per image for speed...\n",
      "WARNING ⚠️ Limiting validation plots to first 50 items per image for speed...\n",
      "WARNING ⚠️ Limiting validation plots to first 50 items per image for speed...\n",
      "WARNING ⚠️ Limiting validation plots to first 50 items per image for speed...\n",
      "WARNING ⚠️ Limiting validation plots to first 50 items per image for speed...\n",
      "WARNING ⚠️ Limiting validation plots to first 50 items per image for speed...\n",
      "WARNING ⚠️ Limiting validation plots to first 50 items per image for speed...\n",
      "WARNING ⚠️ Limiting validation plots to first 50 items per image for speed...\n",
      "WARNING ⚠️ Limiting validation plots to first 50 items per image for speed...\n",
      "WARNING ⚠️ Limiting validation plots to first 50 items per image for speed...\n",
      "WARNING ⚠️ Limiting validation plots to first 50 items per image for speed...\n",
      "WARNING ⚠️ Limiting validation plots to first 50 items per image for speed...\n",
      "WARNING ⚠️ Limiting validation plots to first 50 items per image for speed...\n",
      "WARNING ⚠️ Limiting validation plots to first 50 items per image for speed...\n",
      "WARNING ⚠️ Limiting validation plots to first 50 items per image for speed...\n",
      "WARNING ⚠️ Limiting validation plots to first 50 items per image for speed...\n",
      "WARNING ⚠️ Limiting validation plots to first 50 items per image for speed...\n",
      "WARNING ⚠️ Limiting validation plots to first 50 items per image for speed...\n",
      "WARNING ⚠️ Limiting validation plots to first 50 items per image for speed...\n",
      "WARNING ⚠️ Limiting validation plots to first 50 items per image for speed...\n",
      "WARNING ⚠️ Limiting validation plots to first 50 items per image for speed...\n",
      "WARNING ⚠️ Limiting validation plots to first 50 items per image for speed...\n",
      "WARNING ⚠️ Limiting validation plots to first 50 items per image for speed...\n",
      "WARNING ⚠️ Limiting validation plots to first 50 items per image for speed...\n",
      "WARNING ⚠️ Limiting validation plots to first 50 items per image for speed...\n"
     ]
    },
    {
     "name": "stderr",
     "output_type": "stream",
     "text": [
      "                 Class     Images  Instances      Box(P          R      mAP50  mAP50-95)     Mask(P          R      mAP50  mAP50-95):  50%|█████     | 2/4 [00:00<00:00,  4.19it/s]"
     ]
    },
    {
     "name": "stdout",
     "output_type": "stream",
     "text": [
      "WARNING ⚠️ Limiting validation plots to first 50 items per image for speed...\n",
      "WARNING ⚠️ Limiting validation plots to first 50 items per image for speed...\n",
      "WARNING ⚠️ Limiting validation plots to first 50 items per image for speed...\n",
      "WARNING ⚠️ Limiting validation plots to first 50 items per image for speed...\n",
      "WARNING ⚠️ Limiting validation plots to first 50 items per image for speed...\n",
      "WARNING ⚠️ Limiting validation plots to first 50 items per image for speed...\n",
      "WARNING ⚠️ Limiting validation plots to first 50 items per image for speed...\n",
      "WARNING ⚠️ Limiting validation plots to first 50 items per image for speed...\n",
      "WARNING ⚠️ Limiting validation plots to first 50 items per image for speed...\n",
      "WARNING ⚠️ Limiting validation plots to first 50 items per image for speed...\n",
      "WARNING ⚠️ Limiting validation plots to first 50 items per image for speed...\n",
      "WARNING ⚠️ Limiting validation plots to first 50 items per image for speed...\n",
      "WARNING ⚠️ Limiting validation plots to first 50 items per image for speed...\n"
     ]
    },
    {
     "name": "stderr",
     "output_type": "stream",
     "text": [
      "                 Class     Images  Instances      Box(P          R      mAP50  mAP50-95)     Mask(P          R      mAP50  mAP50-95): 100%|██████████| 4/4 [00:00<00:00,  4.43it/s]\n"
     ]
    },
    {
     "name": "stdout",
     "output_type": "stream",
     "text": [
      "                   all        125         79      0.898      0.886       0.92      0.696      0.912      0.899      0.947      0.691\n",
      "Speed: 0.2ms preprocess, 1.4ms inference, 0.0ms loss, 0.5ms postprocess per image\n",
      "Results saved to \u001b[1mruns/segment/train4\u001b[0m\n",
      "💡 Learn more at https://docs.ultralytics.com/modes/train\n",
      "Saved runs/segment/tune/tune_scatter_plots.png\n",
      "Saved runs/segment/tune/tune_fitness.png\n",
      "\n",
      "\u001b[34m\u001b[1mTuner: \u001b[0m4/5 iterations complete ✅ (350.22s)\n",
      "\u001b[34m\u001b[1mTuner: \u001b[0mResults saved to \u001b[1mruns/segment/tune\u001b[0m\n",
      "\u001b[34m\u001b[1mTuner: \u001b[0mBest fitness=1.48078 observed at iteration 1\n",
      "\u001b[34m\u001b[1mTuner: \u001b[0mBest fitness metrics are {'metrics/precision(B)': 0.97178, 'metrics/recall(B)': 0.87187, 'metrics/mAP50(B)': 0.94159, 'metrics/mAP50-95(B)': 0.72131, 'metrics/precision(M)': 0.93504, 'metrics/recall(M)': 0.91106, 'metrics/mAP50(M)': 0.96839, 'metrics/mAP50-95(M)': 0.71178, 'val/box_loss': 0.91529, 'val/seg_loss': 1.40431, 'val/cls_loss': 0.86012, 'val/dfl_loss': 0.9909, 'fitness': 1.48078}\n",
      "\u001b[34m\u001b[1mTuner: \u001b[0mBest fitness model is runs/segment/train\n",
      "\u001b[34m\u001b[1mTuner: \u001b[0mBest fitness hyperparameters are printed below.\n",
      "\n",
      "Printing '\u001b[1m\u001b[30mruns/segment/tune/best_hyperparameters.yaml\u001b[0m'\n",
      "\n",
      "lr0: 0.01\n",
      "lrf: 0.01\n",
      "momentum: 0.937\n",
      "weight_decay: 0.0005\n",
      "warmup_epochs: 3.0\n",
      "warmup_momentum: 0.8\n",
      "\n",
      "\u001b[34m\u001b[1mTuner: \u001b[0mStarting iteration 5/5 with hyperparameters: {'lr0': 0.01105, 'lrf': 0.01093, 'momentum': 0.87465, 'weight_decay': 0.00032, 'warmup_epochs': 3.53207, 'warmup_momentum': 0.49857}\n",
      "New https://pypi.org/project/ultralytics/8.3.107 available 😃 Update with 'pip install -U ultralytics'\n",
      "Ultralytics 8.3.96 🚀 Python-3.10.16 torch-2.6.0+cu124 CUDA:0 (NVIDIA GeForce RTX 3060, 11912MiB)\n",
      "\u001b[34m\u001b[1mengine/trainer: \u001b[0mtask=segment, mode=train, model=models/backbone/yolov8n-seg.pt, data=/home/memorista01/tesis/datasets_yaml/Deepfish.yaml, epochs=20, time=None, patience=100, batch=16, imgsz=640, save=True, save_period=-1, cache=False, device=None, workers=8, project=None, name=train5, exist_ok=False, pretrained=True, optimizer=SGD, verbose=True, seed=0, deterministic=True, single_cls=False, rect=False, cos_lr=False, close_mosaic=10, resume=False, amp=True, fraction=1.0, profile=False, freeze=None, multi_scale=False, overlap_mask=True, mask_ratio=4, dropout=0.0, val=True, split=val, save_json=False, save_hybrid=False, conf=None, iou=0.7, max_det=300, half=False, dnn=False, plots=True, source=None, vid_stride=1, stream_buffer=False, visualize=False, augment=False, agnostic_nms=False, classes=None, retina_masks=False, embed=None, show=False, save_frames=False, save_txt=False, save_conf=False, save_crop=False, show_labels=True, show_conf=True, show_boxes=True, line_width=None, format=torchscript, keras=False, optimize=False, int8=False, dynamic=False, simplify=True, opset=None, workspace=None, nms=False, lr0=0.01105, lrf=0.01093, momentum=0.87465, weight_decay=0.00032, warmup_epochs=3.53207, warmup_momentum=0.49857, warmup_bias_lr=0.1, box=7.5, cls=0.5, dfl=1.5, pose=12.0, kobj=1.0, nbs=64, hsv_h=0.015, hsv_s=0.7, hsv_v=0.4, degrees=0.0, translate=0.1, scale=0.5, shear=0.0, perspective=0.0, flipud=0.0, fliplr=0.5, bgr=0.0, mosaic=1.0, mixup=0.0, copy_paste=0.0, copy_paste_mode=flip, auto_augment=randaugment, erasing=0.4, crop_fraction=1.0, cfg=None, tracker=botsort.yaml, save_dir=runs/segment/train5\n",
      "Overriding model.yaml nc=80 with nc=1\n",
      "\n",
      "                   from  n    params  module                                       arguments                     \n",
      "  0                  -1  1       464  ultralytics.nn.modules.conv.Conv             [3, 16, 3, 2]                 \n",
      "  1                  -1  1      4672  ultralytics.nn.modules.conv.Conv             [16, 32, 3, 2]                \n",
      "  2                  -1  1      7360  ultralytics.nn.modules.block.C2f             [32, 32, 1, True]             \n",
      "  3                  -1  1     18560  ultralytics.nn.modules.conv.Conv             [32, 64, 3, 2]                \n",
      "  4                  -1  2     49664  ultralytics.nn.modules.block.C2f             [64, 64, 2, True]             \n",
      "  5                  -1  1     73984  ultralytics.nn.modules.conv.Conv             [64, 128, 3, 2]               \n",
      "  6                  -1  2    197632  ultralytics.nn.modules.block.C2f             [128, 128, 2, True]           \n",
      "  7                  -1  1    295424  ultralytics.nn.modules.conv.Conv             [128, 256, 3, 2]              \n",
      "  8                  -1  1    460288  ultralytics.nn.modules.block.C2f             [256, 256, 1, True]           \n",
      "  9                  -1  1    164608  ultralytics.nn.modules.block.SPPF            [256, 256, 5]                 \n",
      " 10                  -1  1         0  torch.nn.modules.upsampling.Upsample         [None, 2, 'nearest']          \n",
      " 11             [-1, 6]  1         0  ultralytics.nn.modules.conv.Concat           [1]                           \n",
      " 12                  -1  1    148224  ultralytics.nn.modules.block.C2f             [384, 128, 1]                 \n",
      " 13                  -1  1         0  torch.nn.modules.upsampling.Upsample         [None, 2, 'nearest']          \n",
      " 14             [-1, 4]  1         0  ultralytics.nn.modules.conv.Concat           [1]                           \n",
      " 15                  -1  1     37248  ultralytics.nn.modules.block.C2f             [192, 64, 1]                  \n",
      " 16                  -1  1     36992  ultralytics.nn.modules.conv.Conv             [64, 64, 3, 2]                \n",
      " 17            [-1, 12]  1         0  ultralytics.nn.modules.conv.Concat           [1]                           \n",
      " 18                  -1  1    123648  ultralytics.nn.modules.block.C2f             [192, 128, 1]                 \n",
      " 19                  -1  1    147712  ultralytics.nn.modules.conv.Conv             [128, 128, 3, 2]              \n",
      " 20             [-1, 9]  1         0  ultralytics.nn.modules.conv.Concat           [1]                           \n",
      " 21                  -1  1    493056  ultralytics.nn.modules.block.C2f             [384, 256, 1]                 \n",
      " 22        [15, 18, 21]  1   1004275  ultralytics.nn.modules.head.Segment          [1, 32, 64, [64, 128, 256]]   \n",
      "YOLOv8n-seg summary: 151 layers, 3,263,811 parameters, 3,263,795 gradients, 12.1 GFLOPs\n",
      "\n",
      "Transferred 381/417 items from pretrained weights\n",
      "Freezing layer 'model.22.dfl.conv.weight'\n",
      "\u001b[34m\u001b[1mAMP: \u001b[0mrunning Automatic Mixed Precision (AMP) checks...\n",
      "\u001b[34m\u001b[1mAMP: \u001b[0mchecks passed ✅\n"
     ]
    },
    {
     "name": "stderr",
     "output_type": "stream",
     "text": [
      "\u001b[34m\u001b[1mtrain: \u001b[0mScanning /home/memorista01/tesis/datasets_yolo/Deepfish/labels/train.cache... 148 images, 161 backgrounds, 0 corrupt: 100%|██████████| 309/309 [00:00<?, ?it/s]\n",
      "\u001b[34m\u001b[1mval: \u001b[0mScanning /home/memorista01/tesis/datasets_yolo/Deepfish/labels/valid.cache... 66 images, 59 backgrounds, 0 corrupt: 100%|██████████| 125/125 [00:00<?, ?it/s]\n"
     ]
    },
    {
     "name": "stdout",
     "output_type": "stream",
     "text": [
      "Plotting labels to runs/segment/train5/labels.jpg... \n",
      "\u001b[34m\u001b[1moptimizer:\u001b[0m SGD(lr=0.01105, momentum=0.87465) with parameter groups 66 weight(decay=0.0), 77 weight(decay=0.00032), 76 bias(decay=0.0)\n",
      "Image sizes 640 train, 640 val\n",
      "Using 8 dataloader workers\n",
      "Logging results to \u001b[1mruns/segment/train5\u001b[0m\n",
      "Starting training for 20 epochs...\n",
      "\n",
      "      Epoch    GPU_mem   box_loss   seg_loss   cls_loss   dfl_loss  Instances       Size\n"
     ]
    },
    {
     "name": "stderr",
     "output_type": "stream",
     "text": [
      "       1/20      2.52G       1.32      2.451      4.472        1.3          8        640: 100%|██████████| 20/20 [00:03<00:00,  5.74it/s]\n",
      "                 Class     Images  Instances      Box(P          R      mAP50  mAP50-95)     Mask(P          R      mAP50  mAP50-95): 100%|██████████| 4/4 [00:00<00:00,  6.23it/s]\n"
     ]
    },
    {
     "name": "stdout",
     "output_type": "stream",
     "text": [
      "                   all        125         79    0.00184      0.873     0.0295     0.0189    0.00171       0.81     0.0291     0.0158\n",
      "\n",
      "      Epoch    GPU_mem   box_loss   seg_loss   cls_loss   dfl_loss  Instances       Size\n"
     ]
    },
    {
     "name": "stderr",
     "output_type": "stream",
     "text": [
      "       2/20      2.66G      1.213      2.236      3.939      1.184          7        640: 100%|██████████| 20/20 [00:02<00:00,  6.89it/s]\n",
      "                 Class     Images  Instances      Box(P          R      mAP50  mAP50-95)     Mask(P          R      mAP50  mAP50-95): 100%|██████████| 4/4 [00:00<00:00,  7.19it/s]\n"
     ]
    },
    {
     "name": "stdout",
     "output_type": "stream",
     "text": [
      "                   all        125         79    0.00173      0.823      0.211      0.141    0.00179      0.848      0.219      0.148\n",
      "\n",
      "      Epoch    GPU_mem   box_loss   seg_loss   cls_loss   dfl_loss  Instances       Size\n"
     ]
    },
    {
     "name": "stderr",
     "output_type": "stream",
     "text": [
      "       3/20      2.68G      1.268      2.033      3.517      1.171          6        640: 100%|██████████| 20/20 [00:02<00:00,  6.95it/s]\n",
      "                 Class     Images  Instances      Box(P          R      mAP50  mAP50-95)     Mask(P          R      mAP50  mAP50-95): 100%|██████████| 4/4 [00:00<00:00,  7.19it/s]\n"
     ]
    },
    {
     "name": "stdout",
     "output_type": "stream",
     "text": [
      "                   all        125         79          1      0.133      0.393      0.283          1      0.133      0.397      0.267\n",
      "\n",
      "      Epoch    GPU_mem   box_loss   seg_loss   cls_loss   dfl_loss  Instances       Size\n"
     ]
    },
    {
     "name": "stderr",
     "output_type": "stream",
     "text": [
      "       4/20       2.7G      1.209      1.983      2.874      1.082          3        640: 100%|██████████| 20/20 [00:02<00:00,  7.04it/s]\n",
      "                 Class     Images  Instances      Box(P          R      mAP50  mAP50-95)     Mask(P          R      mAP50  mAP50-95): 100%|██████████| 4/4 [00:00<00:00,  7.14it/s]\n",
      "  0%|          | 0/20 [00:00<?, ?it/s]"
     ]
    },
    {
     "name": "stdout",
     "output_type": "stream",
     "text": [
      "                   all        125         79      0.481      0.177      0.316      0.169      0.481      0.177      0.292      0.184\n",
      "\n",
      "      Epoch    GPU_mem   box_loss   seg_loss   cls_loss   dfl_loss  Instances       Size\n"
     ]
    },
    {
     "name": "stderr",
     "output_type": "stream",
     "text": [
      "       5/20      2.71G      1.164      1.885      2.391      1.106          6        640: 100%|██████████| 20/20 [00:02<00:00,  7.05it/s]\n",
      "                 Class     Images  Instances      Box(P          R      mAP50  mAP50-95)     Mask(P          R      mAP50  mAP50-95): 100%|██████████| 4/4 [00:00<00:00,  7.17it/s]\n"
     ]
    },
    {
     "name": "stdout",
     "output_type": "stream",
     "text": [
      "                   all        125         79      0.828       0.43      0.589      0.377      0.828       0.43      0.597      0.401\n",
      "\n",
      "      Epoch    GPU_mem   box_loss   seg_loss   cls_loss   dfl_loss  Instances       Size\n"
     ]
    },
    {
     "name": "stderr",
     "output_type": "stream",
     "text": [
      "       6/20      2.73G      1.141      1.904      2.351       1.08          5        640: 100%|██████████| 20/20 [00:02<00:00,  7.10it/s]\n",
      "                 Class     Images  Instances      Box(P          R      mAP50  mAP50-95)     Mask(P          R      mAP50  mAP50-95): 100%|██████████| 4/4 [00:00<00:00,  7.20it/s]\n",
      "  0%|          | 0/20 [00:00<?, ?it/s]"
     ]
    },
    {
     "name": "stdout",
     "output_type": "stream",
     "text": [
      "                   all        125         79      0.931      0.171      0.266      0.161          1      0.183       0.29      0.164\n",
      "\n",
      "      Epoch    GPU_mem   box_loss   seg_loss   cls_loss   dfl_loss  Instances       Size\n"
     ]
    },
    {
     "name": "stderr",
     "output_type": "stream",
     "text": [
      "       7/20      2.74G      1.198      1.752      2.074      1.116          6        640: 100%|██████████| 20/20 [00:02<00:00,  7.08it/s]\n",
      "                 Class     Images  Instances      Box(P          R      mAP50  mAP50-95)     Mask(P          R      mAP50  mAP50-95): 100%|██████████| 4/4 [00:00<00:00,  7.11it/s]\n"
     ]
    },
    {
     "name": "stdout",
     "output_type": "stream",
     "text": [
      "                   all        125         79      0.841      0.519      0.653      0.386      0.882      0.582      0.703      0.427\n",
      "\n",
      "      Epoch    GPU_mem   box_loss   seg_loss   cls_loss   dfl_loss  Instances       Size\n"
     ]
    },
    {
     "name": "stderr",
     "output_type": "stream",
     "text": [
      "       8/20      2.74G      1.153      1.836      2.067      1.083          5        640: 100%|██████████| 20/20 [00:02<00:00,  7.08it/s]\n",
      "                 Class     Images  Instances      Box(P          R      mAP50  mAP50-95)     Mask(P          R      mAP50  mAP50-95): 100%|██████████| 4/4 [00:00<00:00,  7.05it/s]\n"
     ]
    },
    {
     "name": "stdout",
     "output_type": "stream",
     "text": [
      "                   all        125         79      0.826      0.539      0.682       0.46      0.863      0.559      0.704      0.447\n",
      "\n",
      "      Epoch    GPU_mem   box_loss   seg_loss   cls_loss   dfl_loss  Instances       Size\n"
     ]
    },
    {
     "name": "stderr",
     "output_type": "stream",
     "text": [
      "       9/20      2.74G      1.107      1.658      1.828       1.08          6        640: 100%|██████████| 20/20 [00:02<00:00,  7.10it/s]\n",
      "                 Class     Images  Instances      Box(P          R      mAP50  mAP50-95)     Mask(P          R      mAP50  mAP50-95): 100%|██████████| 4/4 [00:00<00:00,  7.18it/s]\n"
     ]
    },
    {
     "name": "stdout",
     "output_type": "stream",
     "text": [
      "                   all        125         79      0.964      0.683       0.76      0.521      0.981      0.709      0.786      0.531\n",
      "\n",
      "      Epoch    GPU_mem   box_loss   seg_loss   cls_loss   dfl_loss  Instances       Size\n"
     ]
    },
    {
     "name": "stderr",
     "output_type": "stream",
     "text": [
      "      10/20      2.74G       1.06       1.62      1.684      1.047          3        640: 100%|██████████| 20/20 [00:02<00:00,  7.09it/s]\n",
      "                 Class     Images  Instances      Box(P          R      mAP50  mAP50-95)     Mask(P          R      mAP50  mAP50-95): 100%|██████████| 4/4 [00:00<00:00,  7.20it/s]\n"
     ]
    },
    {
     "name": "stdout",
     "output_type": "stream",
     "text": [
      "                   all        125         79      0.841      0.633      0.707      0.441      0.841      0.633      0.727      0.415\n",
      "Closing dataloader mosaic\n",
      "\n",
      "      Epoch    GPU_mem   box_loss   seg_loss   cls_loss   dfl_loss  Instances       Size\n"
     ]
    },
    {
     "name": "stderr",
     "output_type": "stream",
     "text": [
      "      11/20      2.74G       1.07      1.668      2.273      1.041          4        640: 100%|██████████| 20/20 [00:03<00:00,  6.12it/s]\n",
      "                 Class     Images  Instances      Box(P          R      mAP50  mAP50-95)     Mask(P          R      mAP50  mAP50-95): 100%|██████████| 4/4 [00:00<00:00,  7.15it/s]\n",
      "  0%|          | 0/20 [00:00<?, ?it/s]"
     ]
    },
    {
     "name": "stdout",
     "output_type": "stream",
     "text": [
      "                   all        125         79      0.789      0.722       0.77      0.502      0.803      0.734      0.773      0.506\n",
      "\n",
      "      Epoch    GPU_mem   box_loss   seg_loss   cls_loss   dfl_loss  Instances       Size\n"
     ]
    },
    {
     "name": "stderr",
     "output_type": "stream",
     "text": [
      "      12/20      2.74G      1.097       1.58      2.076      1.083          4        640: 100%|██████████| 20/20 [00:02<00:00,  7.13it/s]\n",
      "                 Class     Images  Instances      Box(P          R      mAP50  mAP50-95)     Mask(P          R      mAP50  mAP50-95): 100%|██████████| 4/4 [00:00<00:00,  7.00it/s]\n"
     ]
    },
    {
     "name": "stdout",
     "output_type": "stream",
     "text": [
      "                   all        125         79      0.922      0.748      0.839      0.614      0.938       0.76      0.864      0.609\n",
      "\n",
      "      Epoch    GPU_mem   box_loss   seg_loss   cls_loss   dfl_loss  Instances       Size\n"
     ]
    },
    {
     "name": "stderr",
     "output_type": "stream",
     "text": [
      "      13/20      2.74G     0.9582      1.553      2.003      1.002          3        640: 100%|██████████| 20/20 [00:02<00:00,  7.11it/s]\n",
      "                 Class     Images  Instances      Box(P          R      mAP50  mAP50-95)     Mask(P          R      mAP50  mAP50-95): 100%|██████████| 4/4 [00:00<00:00,  7.00it/s]\n",
      "  0%|          | 0/20 [00:00<?, ?it/s]"
     ]
    },
    {
     "name": "stdout",
     "output_type": "stream",
     "text": [
      "                   all        125         79      0.751      0.582      0.639      0.443      0.752      0.608      0.648      0.439\n",
      "\n",
      "      Epoch    GPU_mem   box_loss   seg_loss   cls_loss   dfl_loss  Instances       Size\n"
     ]
    },
    {
     "name": "stderr",
     "output_type": "stream",
     "text": [
      "      14/20      2.75G     0.9549      1.499      1.756      1.005          6        640: 100%|██████████| 20/20 [00:02<00:00,  7.10it/s]\n",
      "                 Class     Images  Instances      Box(P          R      mAP50  mAP50-95)     Mask(P          R      mAP50  mAP50-95): 100%|██████████| 4/4 [00:00<00:00,  7.04it/s]\n"
     ]
    },
    {
     "name": "stdout",
     "output_type": "stream",
     "text": [
      "                   all        125         79      0.949      0.709      0.826      0.548      0.966      0.719      0.847      0.537\n",
      "\n",
      "      Epoch    GPU_mem   box_loss   seg_loss   cls_loss   dfl_loss  Instances       Size\n"
     ]
    },
    {
     "name": "stderr",
     "output_type": "stream",
     "text": [
      "      15/20      2.76G     0.9458      1.456      1.708     0.9785          3        640: 100%|██████████| 20/20 [00:02<00:00,  7.10it/s]\n",
      "                 Class     Images  Instances      Box(P          R      mAP50  mAP50-95)     Mask(P          R      mAP50  mAP50-95): 100%|██████████| 4/4 [00:00<00:00,  7.24it/s]\n",
      "  0%|          | 0/20 [00:00<?, ?it/s]"
     ]
    },
    {
     "name": "stdout",
     "output_type": "stream",
     "text": [
      "                   all        125         79       0.93      0.734      0.863      0.592      0.953      0.768      0.895      0.612\n",
      "\n",
      "      Epoch    GPU_mem   box_loss   seg_loss   cls_loss   dfl_loss  Instances       Size\n"
     ]
    },
    {
     "name": "stderr",
     "output_type": "stream",
     "text": [
      "      16/20      2.76G     0.8996      1.362      1.581     0.9622          4        640: 100%|██████████| 20/20 [00:02<00:00,  7.16it/s]\n",
      "                 Class     Images  Instances      Box(P          R      mAP50  mAP50-95)     Mask(P          R      mAP50  mAP50-95): 100%|██████████| 4/4 [00:00<00:00,  6.96it/s]\n"
     ]
    },
    {
     "name": "stdout",
     "output_type": "stream",
     "text": [
      "                   all        125         79      0.907      0.886      0.904      0.644      0.936      0.919       0.95      0.668\n",
      "\n",
      "      Epoch    GPU_mem   box_loss   seg_loss   cls_loss   dfl_loss  Instances       Size\n"
     ]
    },
    {
     "name": "stderr",
     "output_type": "stream",
     "text": [
      "      17/20      2.77G      0.854      1.286      1.511     0.9436          1        640: 100%|██████████| 20/20 [00:02<00:00,  7.13it/s]\n",
      "                 Class     Images  Instances      Box(P          R      mAP50  mAP50-95)     Mask(P          R      mAP50  mAP50-95): 100%|██████████| 4/4 [00:00<00:00,  6.92it/s]\n"
     ]
    },
    {
     "name": "stdout",
     "output_type": "stream",
     "text": [
      "                   all        125         79      0.956      0.759      0.881      0.659      0.906       0.85      0.918       0.66\n",
      "\n",
      "      Epoch    GPU_mem   box_loss   seg_loss   cls_loss   dfl_loss  Instances       Size\n"
     ]
    },
    {
     "name": "stderr",
     "output_type": "stream",
     "text": [
      "      18/20      2.78G     0.8588      1.319      1.509     0.9613          3        640: 100%|██████████| 20/20 [00:02<00:00,  6.79it/s]\n",
      "                 Class     Images  Instances      Box(P          R      mAP50  mAP50-95)     Mask(P          R      mAP50  mAP50-95): 100%|██████████| 4/4 [00:00<00:00,  7.08it/s]\n"
     ]
    },
    {
     "name": "stdout",
     "output_type": "stream",
     "text": [
      "                   all        125         79      0.958      0.862      0.915      0.723      0.986      0.887      0.942      0.714\n",
      "\n",
      "      Epoch    GPU_mem   box_loss   seg_loss   cls_loss   dfl_loss  Instances       Size\n"
     ]
    },
    {
     "name": "stderr",
     "output_type": "stream",
     "text": [
      "      19/20      2.78G     0.7727      1.158      1.407     0.9089          1        640: 100%|██████████| 20/20 [00:02<00:00,  7.10it/s]\n",
      "                 Class     Images  Instances      Box(P          R      mAP50  mAP50-95)     Mask(P          R      mAP50  mAP50-95): 100%|██████████| 4/4 [00:00<00:00,  7.13it/s]\n",
      "  0%|          | 0/20 [00:00<?, ?it/s]"
     ]
    },
    {
     "name": "stdout",
     "output_type": "stream",
     "text": [
      "                   all        125         79       0.96       0.92      0.943      0.714      0.974      0.932      0.957      0.713\n",
      "\n",
      "      Epoch    GPU_mem   box_loss   seg_loss   cls_loss   dfl_loss  Instances       Size\n"
     ]
    },
    {
     "name": "stderr",
     "output_type": "stream",
     "text": [
      "      20/20      2.78G     0.7658      1.158      1.324     0.9158          2        640: 100%|██████████| 20/20 [00:02<00:00,  7.13it/s]\n",
      "                 Class     Images  Instances      Box(P          R      mAP50  mAP50-95)     Mask(P          R      mAP50  mAP50-95): 100%|██████████| 4/4 [00:00<00:00,  7.19it/s]\n"
     ]
    },
    {
     "name": "stdout",
     "output_type": "stream",
     "text": [
      "                   all        125         79      0.985      0.899      0.936      0.738      0.997      0.924       0.96      0.726\n",
      "\n",
      "20 epochs completed in 0.020 hours.\n",
      "Optimizer stripped from runs/segment/train5/weights/last.pt, 6.8MB\n",
      "Optimizer stripped from runs/segment/train5/weights/best.pt, 6.8MB\n",
      "\n",
      "Validating runs/segment/train5/weights/best.pt...\n",
      "Ultralytics 8.3.96 🚀 Python-3.10.16 torch-2.6.0+cu124 CUDA:0 (NVIDIA GeForce RTX 3060, 11912MiB)\n",
      "YOLOv8n-seg summary (fused): 85 layers, 3,258,259 parameters, 0 gradients, 12.0 GFLOPs\n",
      "WARNING ⚠️ Limiting validation plots to first 50 items per image for speed...\n",
      "WARNING ⚠️ Limiting validation plots to first 50 items per image for speed...\n",
      "WARNING ⚠️ Limiting validation plots to first 50 items per image for speed...\n",
      "WARNING ⚠️ Limiting validation plots to first 50 items per image for speed...\n",
      "WARNING ⚠️ Limiting validation plots to first 50 items per image for speed...\n",
      "WARNING ⚠️ Limiting validation plots to first 50 items per image for speed...\n",
      "WARNING ⚠️ Limiting validation plots to first 50 items per image for speed...\n",
      "WARNING ⚠️ Limiting validation plots to first 50 items per image for speed...\n",
      "WARNING ⚠️ Limiting validation plots to first 50 items per image for speed...\n",
      "WARNING ⚠️ Limiting validation plots to first 50 items per image for speed...\n",
      "WARNING ⚠️ Limiting validation plots to first 50 items per image for speed...\n",
      "WARNING ⚠️ Limiting validation plots to first 50 items per image for speed...\n",
      "WARNING ⚠️ Limiting validation plots to first 50 items per image for speed...\n",
      "WARNING ⚠️ Limiting validation plots to first 50 items per image for speed...\n",
      "WARNING ⚠️ Limiting validation plots to first 50 items per image for speed...\n",
      "WARNING ⚠️ Limiting validation plots to first 50 items per image for speed...\n",
      "WARNING ⚠️ Limiting validation plots to first 50 items per image for speed...\n",
      "WARNING ⚠️ Limiting validation plots to first 50 items per image for speed...\n",
      "WARNING ⚠️ Limiting validation plots to first 50 items per image for speed...\n",
      "WARNING ⚠️ Limiting validation plots to first 50 items per image for speed...\n",
      "WARNING ⚠️ Limiting validation plots to first 50 items per image for speed...\n",
      "WARNING ⚠️ Limiting validation plots to first 50 items per image for speed...\n",
      "WARNING ⚠️ Limiting validation plots to first 50 items per image for speed...\n",
      "WARNING ⚠️ Limiting validation plots to first 50 items per image for speed...\n",
      "WARNING ⚠️ Limiting validation plots to first 50 items per image for speed...\n",
      "WARNING ⚠️ Limiting validation plots to first 50 items per image for speed...\n",
      "WARNING ⚠️ Limiting validation plots to first 50 items per image for speed...\n",
      "WARNING ⚠️ Limiting validation plots to first 50 items per image for speed...\n",
      "WARNING ⚠️ Limiting validation plots to first 50 items per image for speed...\n",
      "WARNING ⚠️ Limiting validation plots to first 50 items per image for speed...\n",
      "WARNING ⚠️ Limiting validation plots to first 50 items per image for speed...\n",
      "WARNING ⚠️ Limiting validation plots to first 50 items per image for speed...\n"
     ]
    },
    {
     "name": "stderr",
     "output_type": "stream",
     "text": [
      "                 Class     Images  Instances      Box(P          R      mAP50  mAP50-95)     Mask(P          R      mAP50  mAP50-95):  25%|██▌       | 1/4 [00:00<00:00,  7.68it/s]"
     ]
    },
    {
     "name": "stdout",
     "output_type": "stream",
     "text": [
      "WARNING ⚠️ Limiting validation plots to first 50 items per image for speed...\n",
      "WARNING ⚠️ Limiting validation plots to first 50 items per image for speed...\n",
      "WARNING ⚠️ Limiting validation plots to first 50 items per image for speed...\n",
      "WARNING ⚠️ Limiting validation plots to first 50 items per image for speed...\n",
      "WARNING ⚠️ Limiting validation plots to first 50 items per image for speed...\n",
      "WARNING ⚠️ Limiting validation plots to first 50 items per image for speed...\n",
      "WARNING ⚠️ Limiting validation plots to first 50 items per image for speed...\n",
      "WARNING ⚠️ Limiting validation plots to first 50 items per image for speed...\n",
      "WARNING ⚠️ Limiting validation plots to first 50 items per image for speed...\n",
      "WARNING ⚠️ Limiting validation plots to first 50 items per image for speed...\n",
      "WARNING ⚠️ Limiting validation plots to first 50 items per image for speed...\n",
      "WARNING ⚠️ Limiting validation plots to first 50 items per image for speed...\n",
      "WARNING ⚠️ Limiting validation plots to first 50 items per image for speed...\n",
      "WARNING ⚠️ Limiting validation plots to first 50 items per image for speed...\n",
      "WARNING ⚠️ Limiting validation plots to first 50 items per image for speed...\n",
      "WARNING ⚠️ Limiting validation plots to first 50 items per image for speed...\n",
      "WARNING ⚠️ Limiting validation plots to first 50 items per image for speed...\n",
      "WARNING ⚠️ Limiting validation plots to first 50 items per image for speed...\n",
      "WARNING ⚠️ Limiting validation plots to first 50 items per image for speed...\n",
      "WARNING ⚠️ Limiting validation plots to first 50 items per image for speed...\n",
      "WARNING ⚠️ Limiting validation plots to first 50 items per image for speed...\n",
      "WARNING ⚠️ Limiting validation plots to first 50 items per image for speed...\n",
      "WARNING ⚠️ Limiting validation plots to first 50 items per image for speed...\n",
      "WARNING ⚠️ Limiting validation plots to first 50 items per image for speed...\n",
      "WARNING ⚠️ Limiting validation plots to first 50 items per image for speed...\n",
      "WARNING ⚠️ Limiting validation plots to first 50 items per image for speed...\n",
      "WARNING ⚠️ Limiting validation plots to first 50 items per image for speed...\n",
      "WARNING ⚠️ Limiting validation plots to first 50 items per image for speed...\n",
      "WARNING ⚠️ Limiting validation plots to first 50 items per image for speed...\n",
      "WARNING ⚠️ Limiting validation plots to first 50 items per image for speed...\n",
      "WARNING ⚠️ Limiting validation plots to first 50 items per image for speed...\n",
      "WARNING ⚠️ Limiting validation plots to first 50 items per image for speed...\n",
      "WARNING ⚠️ Limiting validation plots to first 50 items per image for speed...\n",
      "WARNING ⚠️ Limiting validation plots to first 50 items per image for speed...\n",
      "WARNING ⚠️ Limiting validation plots to first 50 items per image for speed...\n",
      "WARNING ⚠️ Limiting validation plots to first 50 items per image for speed...\n",
      "WARNING ⚠️ Limiting validation plots to first 50 items per image for speed...\n",
      "WARNING ⚠️ Limiting validation plots to first 50 items per image for speed...\n",
      "WARNING ⚠️ Limiting validation plots to first 50 items per image for speed...\n",
      "WARNING ⚠️ Limiting validation plots to first 50 items per image for speed...\n",
      "WARNING ⚠️ Limiting validation plots to first 50 items per image for speed...\n",
      "WARNING ⚠️ Limiting validation plots to first 50 items per image for speed...\n",
      "WARNING ⚠️ Limiting validation plots to first 50 items per image for speed...\n",
      "WARNING ⚠️ Limiting validation plots to first 50 items per image for speed...\n",
      "WARNING ⚠️ Limiting validation plots to first 50 items per image for speed...\n",
      "WARNING ⚠️ Limiting validation plots to first 50 items per image for speed...\n",
      "WARNING ⚠️ Limiting validation plots to first 50 items per image for speed...\n",
      "WARNING ⚠️ Limiting validation plots to first 50 items per image for speed...\n",
      "WARNING ⚠️ Limiting validation plots to first 50 items per image for speed...\n",
      "WARNING ⚠️ Limiting validation plots to first 50 items per image for speed...\n"
     ]
    },
    {
     "name": "stderr",
     "output_type": "stream",
     "text": [
      "                 Class     Images  Instances      Box(P          R      mAP50  mAP50-95)     Mask(P          R      mAP50  mAP50-95):  50%|█████     | 2/4 [00:00<00:00,  4.18it/s]"
     ]
    },
    {
     "name": "stdout",
     "output_type": "stream",
     "text": [
      "WARNING ⚠️ Limiting validation plots to first 50 items per image for speed...\n",
      "WARNING ⚠️ Limiting validation plots to first 50 items per image for speed...\n",
      "WARNING ⚠️ Limiting validation plots to first 50 items per image for speed...\n",
      "WARNING ⚠️ Limiting validation plots to first 50 items per image for speed...\n",
      "WARNING ⚠️ Limiting validation plots to first 50 items per image for speed...\n",
      "WARNING ⚠️ Limiting validation plots to first 50 items per image for speed...\n",
      "WARNING ⚠️ Limiting validation plots to first 50 items per image for speed...\n",
      "WARNING ⚠️ Limiting validation plots to first 50 items per image for speed...\n",
      "WARNING ⚠️ Limiting validation plots to first 50 items per image for speed...\n",
      "WARNING ⚠️ Limiting validation plots to first 50 items per image for speed...\n",
      "WARNING ⚠️ Limiting validation plots to first 50 items per image for speed...\n",
      "WARNING ⚠️ Limiting validation plots to first 50 items per image for speed...\n",
      "WARNING ⚠️ Limiting validation plots to first 50 items per image for speed...\n",
      "WARNING ⚠️ Limiting validation plots to first 50 items per image for speed...\n"
     ]
    },
    {
     "name": "stderr",
     "output_type": "stream",
     "text": [
      "                 Class     Images  Instances      Box(P          R      mAP50  mAP50-95)     Mask(P          R      mAP50  mAP50-95): 100%|██████████| 4/4 [00:00<00:00,  4.32it/s]\n"
     ]
    },
    {
     "name": "stdout",
     "output_type": "stream",
     "text": [
      "                   all        125         79      0.986      0.898      0.936      0.739      0.997      0.924       0.96      0.724\n",
      "Speed: 0.1ms preprocess, 1.4ms inference, 0.0ms loss, 0.6ms postprocess per image\n",
      "Results saved to \u001b[1mruns/segment/train5\u001b[0m\n",
      "💡 Learn more at https://docs.ultralytics.com/modes/train\n",
      "Saved runs/segment/tune/tune_scatter_plots.png\n",
      "Saved runs/segment/tune/tune_fitness.png\n",
      "\n",
      "\u001b[34m\u001b[1mTuner: \u001b[0m5/5 iterations complete ✅ (437.92s)\n",
      "\u001b[34m\u001b[1mTuner: \u001b[0mResults saved to \u001b[1mruns/segment/tune\u001b[0m\n",
      "\u001b[34m\u001b[1mTuner: \u001b[0mBest fitness=1.50726 observed at iteration 5\n",
      "\u001b[34m\u001b[1mTuner: \u001b[0mBest fitness metrics are {'metrics/precision(B)': 0.98548, 'metrics/recall(B)': 0.89873, 'metrics/mAP50(B)': 0.93567, 'metrics/mAP50-95(B)': 0.73794, 'metrics/precision(M)': 0.99655, 'metrics/recall(M)': 0.92405, 'metrics/mAP50(M)': 0.95966, 'metrics/mAP50-95(M)': 0.7262, 'val/box_loss': 0.80435, 'val/seg_loss': 1.36283, 'val/cls_loss': 0.96369, 'val/dfl_loss': 0.93132, 'fitness': 1.50726}\n",
      "\u001b[34m\u001b[1mTuner: \u001b[0mBest fitness model is runs/segment/train5\n",
      "\u001b[34m\u001b[1mTuner: \u001b[0mBest fitness hyperparameters are printed below.\n",
      "\n",
      "Printing '\u001b[1m\u001b[30mruns/segment/tune/best_hyperparameters.yaml\u001b[0m'\n",
      "\n",
      "lr0: 0.01105\n",
      "lrf: 0.01093\n",
      "momentum: 0.87465\n",
      "weight_decay: 0.00032\n",
      "warmup_epochs: 3.53207\n",
      "warmup_momentum: 0.49857\n",
      "\n"
     ]
    }
   ],
   "source": [
    "run_tuning_file(tuning_config_deepfish_1, 20, 5)"
   ]
  },
  {
   "cell_type": "code",
   "execution_count": 33,
   "metadata": {},
   "outputs": [
    {
     "data": {
      "text/html": [
       "<div class=\"tuneStatus\">\n",
       "  <div style=\"display: flex;flex-direction: row\">\n",
       "    <div style=\"display: flex;flex-direction: column;\">\n",
       "      <h3>Tune Status</h3>\n",
       "      <table>\n",
       "<tbody>\n",
       "<tr><td>Current time:</td><td>2025-04-10 23:48:51</td></tr>\n",
       "<tr><td>Running for: </td><td>00:06:40.16        </td></tr>\n",
       "<tr><td>Memory:      </td><td>12.7/31.2 GiB      </td></tr>\n",
       "</tbody>\n",
       "</table>\n",
       "    </div>\n",
       "    <div class=\"vDivider\"></div>\n",
       "    <div class=\"systemInfo\">\n",
       "      <h3>System Info</h3>\n",
       "      Using AsyncHyperBand: num_stopped=5<br>Bracket: Iter 10.000: 0.19998666666666667<br>Logical resource usage: 8.0/20 CPUs, 1.0/1 GPUs (0.0/1.0 accelerator_type:G)\n",
       "    </div>\n",
       "    \n",
       "  </div>\n",
       "  <div class=\"hDivider\"></div>\n",
       "  <div class=\"trialStatus\">\n",
       "    <h3>Trial Status</h3>\n",
       "    <table>\n",
       "<thead>\n",
       "<tr><th>Trial name       </th><th>status    </th><th>loc              </th><th style=\"text-align: right;\">      lr0</th><th style=\"text-align: right;\">     lrf</th><th style=\"text-align: right;\">  momentum</th><th style=\"text-align: right;\">  warmup_epochs</th><th style=\"text-align: right;\">  warmup_momentum</th><th style=\"text-align: right;\">  weight_decay</th><th style=\"text-align: right;\">  iter</th><th style=\"text-align: right;\">  total time (s)</th><th style=\"text-align: right;\">  metrics/precision(B)</th><th style=\"text-align: right;\">  metrics/recall(B)</th><th style=\"text-align: right;\">  metrics/mAP50(B)</th></tr>\n",
       "</thead>\n",
       "<tbody>\n",
       "<tr><td>_tune_f36d4_00000</td><td>TERMINATED</td><td>10.2.50.50:136939</td><td style=\"text-align: right;\">0.0922051</td><td style=\"text-align: right;\">0.113924</td><td style=\"text-align: right;\">  0.882257</td><td style=\"text-align: right;\">        1.05764</td><td style=\"text-align: right;\">         0.372407</td><td style=\"text-align: right;\">   0.000776614</td><td style=\"text-align: right;\">    20</td><td style=\"text-align: right;\">         99.1583</td><td style=\"text-align: right;\">               0.00079</td><td style=\"text-align: right;\">            0.36709</td><td style=\"text-align: right;\">           0.00112</td></tr>\n",
       "<tr><td>_tune_f36d4_00001</td><td>TERMINATED</td><td>10.2.50.50:137578</td><td style=\"text-align: right;\">0.0295575</td><td style=\"text-align: right;\">0.154557</td><td style=\"text-align: right;\">  0.870639</td><td style=\"text-align: right;\">        1.94065</td><td style=\"text-align: right;\">         0.725476</td><td style=\"text-align: right;\">   0.000139819</td><td style=\"text-align: right;\">    20</td><td style=\"text-align: right;\">         82.4762</td><td style=\"text-align: right;\">               0.96196</td><td style=\"text-align: right;\">            0.83544</td><td style=\"text-align: right;\">           0.92338</td></tr>\n",
       "<tr><td>_tune_f36d4_00002</td><td>TERMINATED</td><td>10.2.50.50:138055</td><td style=\"text-align: right;\">0.0298914</td><td style=\"text-align: right;\">0.164924</td><td style=\"text-align: right;\">  0.9778  </td><td style=\"text-align: right;\">        2.39364</td><td style=\"text-align: right;\">         0.607783</td><td style=\"text-align: right;\">   0.000864581</td><td style=\"text-align: right;\">    10</td><td style=\"text-align: right;\">         45.975 </td><td style=\"text-align: right;\">               0.03674</td><td style=\"text-align: right;\">            0.08861</td><td style=\"text-align: right;\">           0.0139 </td></tr>\n",
       "<tr><td>_tune_f36d4_00003</td><td>TERMINATED</td><td>10.2.50.50:138387</td><td style=\"text-align: right;\">0.0458994</td><td style=\"text-align: right;\">0.463837</td><td style=\"text-align: right;\">  0.797078</td><td style=\"text-align: right;\">        1.25348</td><td style=\"text-align: right;\">         0.380714</td><td style=\"text-align: right;\">   2.82955e-05</td><td style=\"text-align: right;\">    20</td><td style=\"text-align: right;\">         82.1106</td><td style=\"text-align: right;\">               0.84604</td><td style=\"text-align: right;\">            0.62611</td><td style=\"text-align: right;\">           0.71105</td></tr>\n",
       "<tr><td>_tune_f36d4_00004</td><td>TERMINATED</td><td>10.2.50.50:138894</td><td style=\"text-align: right;\">0.0262542</td><td style=\"text-align: right;\">0.463061</td><td style=\"text-align: right;\">  0.628051</td><td style=\"text-align: right;\">        3.03042</td><td style=\"text-align: right;\">         0.292795</td><td style=\"text-align: right;\">   0.000607626</td><td style=\"text-align: right;\">    20</td><td style=\"text-align: right;\">         83.3311</td><td style=\"text-align: right;\">               0.98561</td><td style=\"text-align: right;\">            0.86679</td><td style=\"text-align: right;\">           0.93611</td></tr>\n",
       "</tbody>\n",
       "</table>\n",
       "  </div>\n",
       "</div>\n",
       "<style>\n",
       ".tuneStatus {\n",
       "  color: var(--jp-ui-font-color1);\n",
       "}\n",
       ".tuneStatus .systemInfo {\n",
       "  display: flex;\n",
       "  flex-direction: column;\n",
       "}\n",
       ".tuneStatus td {\n",
       "  white-space: nowrap;\n",
       "}\n",
       ".tuneStatus .trialStatus {\n",
       "  display: flex;\n",
       "  flex-direction: column;\n",
       "}\n",
       ".tuneStatus h3 {\n",
       "  font-weight: bold;\n",
       "}\n",
       ".tuneStatus .hDivider {\n",
       "  border-bottom-width: var(--jp-border-width);\n",
       "  border-bottom-color: var(--jp-border-color0);\n",
       "  border-bottom-style: solid;\n",
       "}\n",
       ".tuneStatus .vDivider {\n",
       "  border-left-width: var(--jp-border-width);\n",
       "  border-left-color: var(--jp-border-color0);\n",
       "  border-left-style: solid;\n",
       "  margin: 0.5em 1em 0.5em 1em;\n",
       "}\n",
       "</style>\n"
      ],
      "text/plain": [
       "<IPython.core.display.HTML object>"
      ]
     },
     "metadata": {},
     "output_type": "display_data"
    },
    {
     "name": "stdout",
     "output_type": "stream",
     "text": [
      "\u001b[36m(_tune pid=136939)\u001b[0m New https://pypi.org/project/ultralytics/8.3.107 available 😃 Update with 'pip install -U ultralytics'\n",
      "\u001b[36m(_tune pid=136939)\u001b[0m Ultralytics 8.3.96 🚀 Python-3.10.16 torch-2.6.0+cu124 CUDA:0 (NVIDIA GeForce RTX 3060, 11912MiB)\n",
      "\u001b[36m(_tune pid=136939)\u001b[0m \u001b[34m\u001b[1mengine/trainer: \u001b[0mtask=segment, mode=train, model=models/backbone/yolov8n-seg.pt, data=/home/memorista01/tesis/datasets_yaml/Deepfish.yaml, epochs=20, time=None, patience=100, batch=16, imgsz=640, save=True, save_period=-1, cache=False, device=None, workers=8, project=None, name=train, exist_ok=False, pretrained=True, optimizer=SGD, verbose=True, seed=0, deterministic=True, single_cls=False, rect=False, cos_lr=False, close_mosaic=10, resume=False, amp=True, fraction=1.0, profile=False, freeze=None, multi_scale=False, overlap_mask=True, mask_ratio=4, dropout=0.0, val=True, split=val, save_json=False, save_hybrid=False, conf=None, iou=0.7, max_det=300, half=False, dnn=False, plots=True, source=None, vid_stride=1, stream_buffer=False, visualize=False, augment=False, agnostic_nms=False, classes=None, retina_masks=False, embed=None, show=False, save_frames=False, save_txt=False, save_conf=False, save_crop=False, show_labels=True, show_conf=True, show_boxes=True, line_width=None, format=torchscript, keras=False, optimize=False, int8=False, dynamic=False, simplify=True, opset=None, workspace=None, nms=False, lr0=0.09220505845150082, lrf=0.11392404700377452, momentum=0.8822568681044903, weight_decay=0.0007766144966996587, warmup_epochs=1.0576446433911502, warmup_momentum=0.37240730974446634, warmup_bias_lr=0.1, box=7.5, cls=0.5, dfl=1.5, pose=12.0, kobj=1.0, nbs=64, hsv_h=0.015, hsv_s=0.7, hsv_v=0.4, degrees=0.0, translate=0.1, scale=0.5, shear=0.0, perspective=0.0, flipud=0.0, fliplr=0.5, bgr=0.0, mosaic=1.0, mixup=0.0, copy_paste=0.0, copy_paste_mode=flip, auto_augment=randaugment, erasing=0.4, crop_fraction=1.0, cfg=None, tracker=botsort.yaml, save_dir=runs/segment/train\n",
      "\u001b[36m(_tune pid=136939)\u001b[0m Overriding model.yaml nc=80 with nc=1\n",
      "\u001b[36m(_tune pid=136939)\u001b[0m \n",
      "\u001b[36m(_tune pid=136939)\u001b[0m                    from  n    params  module                                       arguments                     \n",
      "\u001b[36m(_tune pid=136939)\u001b[0m   0                  -1  1       464  ultralytics.nn.modules.conv.Conv             [3, 16, 3, 2]                 \n",
      "\u001b[36m(_tune pid=136939)\u001b[0m   1                  -1  1      4672  ultralytics.nn.modules.conv.Conv             [16, 32, 3, 2]                \n",
      "\u001b[36m(_tune pid=136939)\u001b[0m   2                  -1  1      7360  ultralytics.nn.modules.block.C2f             [32, 32, 1, True]             \n",
      "\u001b[36m(_tune pid=136939)\u001b[0m   3                  -1  1     18560  ultralytics.nn.modules.conv.Conv             [32, 64, 3, 2]                \n",
      "\u001b[36m(_tune pid=136939)\u001b[0m   4                  -1  2     49664  ultralytics.nn.modules.block.C2f             [64, 64, 2, True]             \n",
      "\u001b[36m(_tune pid=136939)\u001b[0m   5                  -1  1     73984  ultralytics.nn.modules.conv.Conv             [64, 128, 3, 2]               \n",
      "\u001b[36m(_tune pid=136939)\u001b[0m   6                  -1  2    197632  ultralytics.nn.modules.block.C2f             [128, 128, 2, True]           \n",
      "\u001b[36m(_tune pid=136939)\u001b[0m   7                  -1  1    295424  ultralytics.nn.modules.conv.Conv             [128, 256, 3, 2]              \n",
      "\u001b[36m(_tune pid=136939)\u001b[0m   8                  -1  1    460288  ultralytics.nn.modules.block.C2f             [256, 256, 1, True]           \n",
      "\u001b[36m(_tune pid=136939)\u001b[0m   9                  -1  1    164608  ultralytics.nn.modules.block.SPPF            [256, 256, 5]                 \n",
      "\u001b[36m(_tune pid=136939)\u001b[0m  10                  -1  1         0  torch.nn.modules.upsampling.Upsample         [None, 2, 'nearest']          \n",
      "\u001b[36m(_tune pid=136939)\u001b[0m  11             [-1, 6]  1         0  ultralytics.nn.modules.conv.Concat           [1]                           \n",
      "\u001b[36m(_tune pid=136939)\u001b[0m  12                  -1  1    148224  ultralytics.nn.modules.block.C2f             [384, 128, 1]                 \n",
      "\u001b[36m(_tune pid=136939)\u001b[0m  13                  -1  1         0  torch.nn.modules.upsampling.Upsample         [None, 2, 'nearest']          \n",
      "\u001b[36m(_tune pid=136939)\u001b[0m  14             [-1, 4]  1         0  ultralytics.nn.modules.conv.Concat           [1]                           \n",
      "\u001b[36m(_tune pid=136939)\u001b[0m  15                  -1  1     37248  ultralytics.nn.modules.block.C2f             [192, 64, 1]                  \n",
      "\u001b[36m(_tune pid=136939)\u001b[0m  16                  -1  1     36992  ultralytics.nn.modules.conv.Conv             [64, 64, 3, 2]                \n",
      "\u001b[36m(_tune pid=136939)\u001b[0m  17            [-1, 12]  1         0  ultralytics.nn.modules.conv.Concat           [1]                           \n",
      "\u001b[36m(_tune pid=136939)\u001b[0m  18                  -1  1    123648  ultralytics.nn.modules.block.C2f             [192, 128, 1]                 \n",
      "\u001b[36m(_tune pid=136939)\u001b[0m  19                  -1  1    147712  ultralytics.nn.modules.conv.Conv             [128, 128, 3, 2]              \n",
      "\u001b[36m(_tune pid=136939)\u001b[0m  20             [-1, 9]  1         0  ultralytics.nn.modules.conv.Concat           [1]                           \n",
      "\u001b[36m(_tune pid=136939)\u001b[0m  21                  -1  1    493056  ultralytics.nn.modules.block.C2f             [384, 256, 1]                 \n",
      "\u001b[36m(_tune pid=136939)\u001b[0m  22        [15, 18, 21]  1   1004275  ultralytics.nn.modules.head.Segment          [1, 32, 64, [64, 128, 256]]   \n",
      "\u001b[36m(_tune pid=136939)\u001b[0m YOLOv8n-seg summary: 151 layers, 3,263,811 parameters, 3,263,795 gradients, 12.1 GFLOPs\n",
      "\u001b[36m(_tune pid=136939)\u001b[0m \n",
      "\u001b[36m(_tune pid=136939)\u001b[0m Transferred 381/417 items from pretrained weights\n",
      "\u001b[36m(_tune pid=136939)\u001b[0m Freezing layer 'model.22.dfl.conv.weight'\n",
      "\u001b[36m(_tune pid=136939)\u001b[0m \u001b[34m\u001b[1mAMP: \u001b[0mrunning Automatic Mixed Precision (AMP) checks...\n",
      "\u001b[36m(_tune pid=136939)\u001b[0m Downloading https://github.com/ultralytics/assets/releases/download/v8.3.0/yolo11n.pt to 'yolo11n.pt'...\n"
     ]
    },
    {
     "name": "stderr",
     "output_type": "stream",
     "text": [
      "  0%|          | 0.00/5.35M [00:00<?, ?B/s]\n",
      " 19%|█▊        | 1.00M/5.35M [00:00<00:00, 10.1MB/s]\n",
      " 44%|████▍     | 2.38M/5.35M [00:00<00:00, 11.9MB/s]\n",
      " 68%|██████▊   | 3.62M/5.35M [00:00<00:00, 11.8MB/s]\n",
      "100%|██████████| 5.35M/5.35M [00:00<00:00, 11.7MB/s]\n"
     ]
    },
    {
     "name": "stdout",
     "output_type": "stream",
     "text": [
      "\u001b[36m(_tune pid=136939)\u001b[0m \u001b[34m\u001b[1mAMP: \u001b[0mchecks passed ✅\n"
     ]
    },
    {
     "name": "stderr",
     "output_type": "stream",
     "text": [
      "\u001b[34m\u001b[1mtrain: \u001b[0mScanning /home/memorista01/tesis/datasets_yolo/Deepfish/labels/train.cache... 148 images, 161 backgrounds, 0 corrupt: 100%|██████████| 309/309 [00:00<?, ?it/s]\n",
      "\u001b[34m\u001b[1mval: \u001b[0mScanning /home/memorista01/tesis/datasets_yolo/Deepfish/labels/valid.cache... 66 images, 59 backgrounds, 0 corrupt: 100%|██████████| 125/125 [00:00<?, ?it/s]\n"
     ]
    },
    {
     "name": "stdout",
     "output_type": "stream",
     "text": [
      "\u001b[36m(_tune pid=136939)\u001b[0m Plotting labels to runs/segment/train/labels.jpg... \n",
      "\u001b[36m(_tune pid=136939)\u001b[0m \u001b[34m\u001b[1moptimizer:\u001b[0m SGD(lr=0.09220505845150082, momentum=0.8822568681044903) with parameter groups 66 weight(decay=0.0), 77 weight(decay=0.0007766144966996587), 76 bias(decay=0.0)\n",
      "\u001b[36m(_tune pid=136939)\u001b[0m Image sizes 640 train, 640 val\n",
      "\u001b[36m(_tune pid=136939)\u001b[0m Using 8 dataloader workers\n",
      "\u001b[36m(_tune pid=136939)\u001b[0m Logging results to \u001b[1mruns/segment/train\u001b[0m\n",
      "\u001b[36m(_tune pid=136939)\u001b[0m Starting training for 20 epochs...\n",
      "\u001b[36m(_tune pid=136939)\u001b[0m \n",
      "\u001b[36m(_tune pid=136939)\u001b[0m       Epoch    GPU_mem   box_loss   seg_loss   cls_loss   dfl_loss  Instances       Size\n"
     ]
    },
    {
     "name": "stderr",
     "output_type": "stream",
     "text": [
      "  0%|          | 0/20 [00:00<?, ?it/s]\n",
      "       1/20      2.46G      1.305      1.261      6.773      1.394          5        640:   5%|▌         | 1/20 [00:09<03:08,  9.95s/it]\n",
      "       1/20      2.46G      1.168      1.673      5.465      1.301         18        640:  10%|█         | 2/20 [00:10<01:19,  4.40s/it]\n",
      "       1/20      2.46G      1.427      2.284      4.992      1.438         28        640:  15%|█▌        | 3/20 [00:10<00:42,  2.50s/it]\n",
      "       1/20      2.46G      1.267      2.221      4.748      1.345         19        640:  20%|██        | 4/20 [00:10<00:25,  1.58s/it]\n",
      "       1/20      2.46G      1.295       2.26      4.738      1.329         17        640:  25%|██▌       | 5/20 [00:11<00:16,  1.08s/it]\n",
      "       1/20      2.46G      1.343      2.435      4.947      1.346         10        640:  30%|███       | 6/20 [00:11<00:10,  1.31it/s]\n",
      "       1/20      2.46G      1.322      2.458      4.872      1.333         18        640:  35%|███▌      | 7/20 [00:11<00:07,  1.77it/s]\n",
      "       1/20      2.46G      1.301      2.444      4.725      1.311         27        640:  40%|████      | 8/20 [00:11<00:05,  2.18it/s]\n",
      "       1/20      2.47G      1.329      2.507      4.638      1.336         24        640:  45%|████▌     | 9/20 [00:11<00:04,  2.74it/s]\n",
      "       1/20      2.47G      1.313      2.509      4.603      1.322         18        640:  50%|█████     | 10/20 [00:11<00:03,  3.24it/s]\n",
      "       1/20      2.48G      1.342      2.576      4.583      1.354         19        640:  55%|█████▌    | 11/20 [00:12<00:02,  3.80it/s]\n",
      "       1/20      2.48G      1.371      2.661      4.613       1.37         16        640:  60%|██████    | 12/20 [00:12<00:01,  4.33it/s]\n",
      "       1/20      2.48G      1.379      2.613      4.619      1.364         17        640:  65%|██████▌   | 13/20 [00:12<00:01,  4.79it/s]\n",
      "       1/20      2.48G      1.413      2.675      4.633      1.375         22        640:  70%|███████   | 14/20 [00:12<00:01,  5.16it/s]\n",
      "       1/20      2.48G      1.414      2.707       4.61      1.372         20        640:  75%|███████▌  | 15/20 [00:12<00:00,  5.47it/s]\n",
      "       1/20      2.48G      1.411      2.697       4.55      1.362         28        640:  80%|████████  | 16/20 [00:12<00:00,  5.69it/s]\n",
      "       1/20      2.48G      1.402      2.683      4.557      1.353         11        640:  85%|████████▌ | 17/20 [00:13<00:00,  5.88it/s]\n",
      "       1/20      2.48G      1.391       2.64      4.495       1.34         26        640:  90%|█████████ | 18/20 [00:13<00:00,  6.17it/s]\n",
      "       1/20      2.48G      1.394      2.606      4.467      1.336         15        640:  95%|█████████▌| 19/20 [00:13<00:00,  6.22it/s]\n",
      "       1/20      2.52G      1.414      2.668      4.454      1.338          8        640: 100%|██████████| 20/20 [00:13<00:00,  1.46it/s]\n",
      "                 Class     Images  Instances      Box(P          R      mAP50  mAP50-95)     Mask(P          R      mAP50  mAP50-95):   0%|          | 0/4 [00:00<?, ?it/s]\n",
      "                 Class     Images  Instances      Box(P          R      mAP50  mAP50-95)     Mask(P          R      mAP50  mAP50-95):  25%|██▌       | 1/4 [00:00<00:00,  3.87it/s]\n",
      "                 Class     Images  Instances      Box(P          R      mAP50  mAP50-95)     Mask(P          R      mAP50  mAP50-95):  50%|█████     | 2/4 [00:00<00:00,  4.97it/s]\n",
      "                 Class     Images  Instances      Box(P          R      mAP50  mAP50-95)     Mask(P          R      mAP50  mAP50-95):  75%|███████▌  | 3/4 [00:00<00:00,  5.68it/s]\n"
     ]
    },
    {
     "name": "stdout",
     "output_type": "stream",
     "text": [
      "\u001b[36m(_tune pid=136939)\u001b[0m                    all        125         79    0.00117      0.557     0.0021   0.000625   0.000667      0.316   0.000702   0.000179\n",
      "\u001b[36m(_tune pid=136939)\u001b[0m \n",
      "\u001b[36m(_tune pid=136939)\u001b[0m       Epoch    GPU_mem   box_loss   seg_loss   cls_loss   dfl_loss  Instances       Size\n"
     ]
    },
    {
     "name": "stderr",
     "output_type": "stream",
     "text": [
      "                 Class     Images  Instances      Box(P          R      mAP50  mAP50-95)     Mask(P          R      mAP50  mAP50-95): 100%|██████████| 4/4 [00:00<00:00,  5.53it/s]\n",
      "  0%|          | 0/20 [00:00<?, ?it/s]\n",
      "       2/20      2.64G      1.322      2.537      3.922      1.126         19        640:   5%|▌         | 1/20 [00:00<00:02,  6.37it/s]\n",
      "       2/20      2.64G      1.437      2.692      4.103      1.235         21        640:  10%|█         | 2/20 [00:00<00:02,  6.76it/s]\n",
      "       2/20      2.64G      1.526      2.897      4.033      1.311         29        640:  15%|█▌        | 3/20 [00:00<00:02,  6.53it/s]\n",
      "       2/20      2.64G      1.573      2.956       3.96      1.346         19        640:  20%|██        | 4/20 [00:00<00:02,  6.70it/s]\n",
      "       2/20      2.64G      1.554      2.904       3.98      1.323         15        640:  25%|██▌       | 5/20 [00:00<00:02,  6.60it/s]\n",
      "       2/20      2.64G      1.523      2.788      3.858      1.296         30        640:  30%|███       | 6/20 [00:00<00:02,  6.72it/s]\n",
      "       2/20      2.64G      1.529      2.793      3.829      1.309         24        640:  35%|███▌      | 7/20 [00:01<00:01,  6.58it/s]\n",
      "       2/20      2.64G      1.543      2.779      3.778      1.314         25        640:  40%|████      | 8/20 [00:01<00:01,  6.72it/s]\n",
      "       2/20      2.64G      1.547      2.748      3.754      1.319         17        640:  45%|████▌     | 9/20 [00:01<00:01,  6.59it/s]\n",
      "       2/20      2.64G      1.534      2.765      3.775      1.319         15        640:  50%|█████     | 10/20 [00:01<00:01,  6.72it/s]\n",
      "       2/20      2.64G      1.513      2.734      3.741      1.314         24        640:  55%|█████▌    | 11/20 [00:01<00:01,  6.58it/s]\n",
      "       2/20      2.64G      1.555      2.756      3.723      1.348         24        640:  60%|██████    | 12/20 [00:01<00:01,  6.69it/s]\n",
      "       2/20      2.64G      1.558       2.76      3.721       1.36         18        640:  65%|██████▌   | 13/20 [00:01<00:01,  6.58it/s]\n",
      "       2/20      2.64G      1.564      2.769      3.671      1.358         31        640:  70%|███████   | 14/20 [00:02<00:00,  6.63it/s]\n",
      "       2/20      2.64G       1.57       2.79      3.666      1.366         23        640:  75%|███████▌  | 15/20 [00:02<00:00,  6.55it/s]\n",
      "       2/20      2.64G      1.584      2.798      3.712      1.367         14        640:  80%|████████  | 16/20 [00:02<00:00,  6.69it/s]\n",
      "       2/20      2.64G      1.598      2.795      3.775      1.379         12        640:  85%|████████▌ | 17/20 [00:02<00:00,  6.58it/s]\n",
      "       2/20      2.64G      1.603      2.804      3.775       1.38         20        640:  90%|█████████ | 18/20 [00:02<00:00,  6.72it/s]\n",
      "       2/20      2.66G      1.636      2.831      3.753      1.394          7        640: 100%|██████████| 20/20 [00:02<00:00,  6.83it/s]\n",
      "                 Class     Images  Instances      Box(P          R      mAP50  mAP50-95)     Mask(P          R      mAP50  mAP50-95):   0%|          | 0/4 [00:00<?, ?it/s]\n",
      "                 Class     Images  Instances      Box(P          R      mAP50  mAP50-95)     Mask(P          R      mAP50  mAP50-95):  25%|██▌       | 1/4 [00:00<00:00,  7.56it/s]\n",
      "                 Class     Images  Instances      Box(P          R      mAP50  mAP50-95)     Mask(P          R      mAP50  mAP50-95):  50%|█████     | 2/4 [00:00<00:00,  6.97it/s]\n",
      "                 Class     Images  Instances      Box(P          R      mAP50  mAP50-95)     Mask(P          R      mAP50  mAP50-95):  75%|███████▌  | 3/4 [00:00<00:00,  7.01it/s]\n"
     ]
    },
    {
     "name": "stdout",
     "output_type": "stream",
     "text": [
      "\u001b[36m(_tune pid=136939)\u001b[0m                    all        125         79    0.00101      0.481    0.00323    0.00116   0.000613      0.291    0.00198   0.000623\n"
     ]
    },
    {
     "name": "stderr",
     "output_type": "stream",
     "text": [
      "                 Class     Images  Instances      Box(P          R      mAP50  mAP50-95)     Mask(P          R      mAP50  mAP50-95): 100%|██████████| 4/4 [00:00<00:00,  7.21it/s]\n"
     ]
    },
    {
     "name": "stdout",
     "output_type": "stream",
     "text": [
      "\u001b[36m(_tune pid=136939)\u001b[0m \n",
      "\u001b[36m(_tune pid=136939)\u001b[0m       Epoch    GPU_mem   box_loss   seg_loss   cls_loss   dfl_loss  Instances       Size\n"
     ]
    },
    {
     "name": "stderr",
     "output_type": "stream",
     "text": [
      "  0%|          | 0/20 [00:00<?, ?it/s]\n",
      "       3/20      2.66G      1.351      2.713      3.468      1.216         16        640:   5%|▌         | 1/20 [00:00<00:03,  6.30it/s]\n",
      "       3/20      2.66G       1.73      3.106      3.863       1.49         18        640:  10%|█         | 2/20 [00:00<00:02,  6.60it/s]\n",
      "       3/20      2.66G      1.692      3.125      3.829      1.433         20        640:  15%|█▌        | 3/20 [00:00<00:02,  6.44it/s]\n",
      "       3/20      2.66G       1.73      3.251      3.833      1.466         16        640:  20%|██        | 4/20 [00:00<00:02,  6.65it/s]\n",
      "       3/20      2.66G      1.798      3.257       3.82      1.509         22        640:  25%|██▌       | 5/20 [00:00<00:02,  6.53it/s]\n",
      "       3/20      2.66G      1.825      3.287      3.785      1.522         22        640:  30%|███       | 6/20 [00:00<00:02,  6.68it/s]\n",
      "       3/20      2.66G      1.852      3.326      3.798      1.524         26        640:  35%|███▌      | 7/20 [00:01<00:01,  6.55it/s]\n",
      "       3/20      2.66G      1.859       3.45      3.819      1.539         15        640:  40%|████      | 8/20 [00:01<00:01,  6.70it/s]\n",
      "       3/20      2.66G      1.852      3.506      3.764      1.534         28        640:  45%|████▌     | 9/20 [00:01<00:01,  6.59it/s]\n",
      "       3/20      2.66G      1.837      3.508      3.768      1.533         19        640:  50%|█████     | 10/20 [00:01<00:01,  6.72it/s]\n",
      "       3/20      2.66G      1.822      3.533      3.805      1.534         14        640:  55%|█████▌    | 11/20 [00:01<00:01,  6.63it/s]\n",
      "       3/20      2.66G      1.852      3.551      3.861      1.555         15        640:  60%|██████    | 12/20 [00:01<00:01,  6.75it/s]\n",
      "       3/20      2.66G       1.87      3.537      3.839      1.565         27        640:  65%|██████▌   | 13/20 [00:01<00:01,  6.81it/s]\n",
      "       3/20      2.66G      1.858      3.552      3.808      1.565         22        640:  70%|███████   | 14/20 [00:02<00:00,  6.66it/s]\n",
      "       3/20      2.66G      1.869      3.538      3.799      1.567         13        640:  75%|███████▌  | 15/20 [00:02<00:00,  6.77it/s]\n",
      "       3/20      2.66G      1.885      3.565      3.794      1.581         21        640:  80%|████████  | 16/20 [00:02<00:00,  6.83it/s]\n",
      "       3/20      2.66G      1.896      3.592      3.815      1.584         19        640:  85%|████████▌ | 17/20 [00:02<00:00,  6.67it/s]\n",
      "       3/20      2.66G      1.897      3.619       3.86      1.579         12        640:  90%|█████████ | 18/20 [00:02<00:00,  6.79it/s]\n",
      "       3/20      2.67G      1.935      3.725      3.866      1.606          6        640: 100%|██████████| 20/20 [00:02<00:00,  6.87it/s]\n",
      "                 Class     Images  Instances      Box(P          R      mAP50  mAP50-95)     Mask(P          R      mAP50  mAP50-95):   0%|          | 0/4 [00:00<?, ?it/s]\n",
      "                 Class     Images  Instances      Box(P          R      mAP50  mAP50-95)     Mask(P          R      mAP50  mAP50-95):  25%|██▌       | 1/4 [00:00<00:00,  7.58it/s]\n",
      "                 Class     Images  Instances      Box(P          R      mAP50  mAP50-95)     Mask(P          R      mAP50  mAP50-95):  50%|█████     | 2/4 [00:00<00:00,  6.99it/s]\n",
      "                 Class     Images  Instances      Box(P          R      mAP50  mAP50-95)     Mask(P          R      mAP50  mAP50-95):  75%|███████▌  | 3/4 [00:00<00:00,  7.03it/s]\n",
      "                 Class     Images  Instances      Box(P          R      mAP50  mAP50-95)     Mask(P          R      mAP50  mAP50-95): 100%|██████████| 4/4 [00:00<00:00,  7.24it/s]\n"
     ]
    },
    {
     "name": "stdout",
     "output_type": "stream",
     "text": [
      "\u001b[36m(_tune pid=136939)\u001b[0m                    all        125         79     0.0012       0.57     0.0675     0.0304   0.000373      0.177      0.065     0.0222\n",
      "\u001b[36m(_tune pid=136939)\u001b[0m \n",
      "\u001b[36m(_tune pid=136939)\u001b[0m       Epoch    GPU_mem   box_loss   seg_loss   cls_loss   dfl_loss  Instances       Size\n"
     ]
    },
    {
     "name": "stderr",
     "output_type": "stream",
     "text": [
      "  0%|          | 0/20 [00:00<?, ?it/s]\n",
      "       4/20      2.67G       2.28      4.077      3.606      1.866         26        640:   5%|▌         | 1/20 [00:00<00:02,  6.99it/s]\n",
      "       4/20      2.67G      2.117      4.114      3.933       1.72         17        640:  10%|█         | 2/20 [00:00<00:02,  6.98it/s]\n",
      "       4/20      2.67G      2.106      4.088      4.182      1.693         12        640:  15%|█▌        | 3/20 [00:00<00:02,  6.67it/s]\n",
      "       4/20      2.67G      2.107      4.033      4.042        1.7         23        640:  20%|██        | 4/20 [00:00<00:02,  6.78it/s]\n",
      "       4/20      2.67G      2.086      4.027      3.923      1.666         21        640:  25%|██▌       | 5/20 [00:00<00:02,  6.85it/s]\n",
      "       4/20      2.67G      2.038      4.005      3.851      1.622         19        640:  30%|███       | 6/20 [00:00<00:02,  6.67it/s]\n",
      "       4/20      2.67G      2.057      4.033      3.843       1.66         16        640:  35%|███▌      | 7/20 [00:01<00:01,  6.79it/s]\n",
      "       4/20      2.67G      2.081       4.06      4.207      1.711          7        640:  40%|████      | 8/20 [00:01<00:01,  6.89it/s]\n",
      "       4/20      2.67G      2.104      4.003      4.084      1.709         27        640:  45%|████▌     | 9/20 [00:01<00:01,  6.70it/s]\n",
      "       4/20      2.67G      2.105      4.055      4.156      1.711         11        640:  50%|█████     | 10/20 [00:01<00:01,  6.81it/s]\n",
      "       4/20      2.67G      2.113      4.047      4.159      1.705         14        640:  55%|█████▌    | 11/20 [00:01<00:01,  6.88it/s]\n",
      "       4/20      2.67G      2.133       4.04      4.127      1.723         21        640:  60%|██████    | 12/20 [00:01<00:01,  6.67it/s]\n",
      "       4/20      2.67G      2.163      4.084      4.128      1.749         25        640:  65%|██████▌   | 13/20 [00:01<00:01,  6.75it/s]\n",
      "       4/20      2.67G      2.243      4.162      4.159      1.792         27        640:  70%|███████   | 14/20 [00:02<00:00,  6.81it/s]\n",
      "       4/20      2.67G      2.251      4.265      4.164      1.824         17        640:  75%|███████▌  | 15/20 [00:02<00:00,  6.67it/s]\n",
      "       4/20      2.67G      2.235      4.337      4.139      1.827         20        640:  80%|████████  | 16/20 [00:02<00:00,  6.78it/s]\n",
      "       4/20      2.67G      2.241      4.342      4.139      1.838         16        640:  85%|████████▌ | 17/20 [00:02<00:00,  6.85it/s]\n",
      "       4/20      2.67G      2.233      4.385      4.159       1.84         12        640:  90%|█████████ | 18/20 [00:02<00:00,  6.70it/s]\n",
      "       4/20      2.67G      2.238      4.386      4.165      1.847         19        640:  95%|█████████▌| 19/20 [00:02<00:00,  6.79it/s]\n",
      "       4/20      2.68G      2.257      4.313      4.149      1.862          3        640: 100%|██████████| 20/20 [00:02<00:00,  6.99it/s]\n",
      "                 Class     Images  Instances      Box(P          R      mAP50  mAP50-95)     Mask(P          R      mAP50  mAP50-95):   0%|          | 0/4 [00:00<?, ?it/s]\n",
      "                 Class     Images  Instances      Box(P          R      mAP50  mAP50-95)     Mask(P          R      mAP50  mAP50-95):  25%|██▌       | 1/4 [00:00<00:00,  7.44it/s]\n",
      "                 Class     Images  Instances      Box(P          R      mAP50  mAP50-95)     Mask(P          R      mAP50  mAP50-95):  50%|█████     | 2/4 [00:00<00:00,  6.97it/s]\n",
      "                 Class     Images  Instances      Box(P          R      mAP50  mAP50-95)     Mask(P          R      mAP50  mAP50-95):  75%|███████▌  | 3/4 [00:00<00:00,  7.01it/s]\n",
      "                 Class     Images  Instances      Box(P          R      mAP50  mAP50-95)     Mask(P          R      mAP50  mAP50-95): 100%|██████████| 4/4 [00:00<00:00,  7.22it/s]\n"
     ]
    },
    {
     "name": "stdout",
     "output_type": "stream",
     "text": [
      "\u001b[36m(_tune pid=136939)\u001b[0m                    all        125         79    0.00064      0.304    0.00127   0.000339   0.000107     0.0506   7.46e-05   8.81e-06\n",
      "\u001b[36m(_tune pid=136939)\u001b[0m \n",
      "\u001b[36m(_tune pid=136939)\u001b[0m       Epoch    GPU_mem   box_loss   seg_loss   cls_loss   dfl_loss  Instances       Size\n"
     ]
    },
    {
     "name": "stderr",
     "output_type": "stream",
     "text": [
      "  0%|          | 0/20 [00:00<?, ?it/s]\n",
      "       5/20      2.68G      2.174      3.825      3.907      1.792         14        640:   5%|▌         | 1/20 [00:00<00:02,  6.41it/s]\n",
      "       5/20      2.68G      2.578      4.475        4.1      2.294         20        640:  10%|█         | 2/20 [00:00<00:02,  6.75it/s]\n",
      "       5/20      2.68G      2.655      4.543      4.338      2.241         16        640:  15%|█▌        | 3/20 [00:00<00:02,  6.85it/s]\n",
      "       5/20      2.68G      2.662      4.651      4.389      2.427         10        640:  20%|██        | 4/20 [00:00<00:02,  6.66it/s]\n",
      "       5/20      2.68G      2.647      4.647      4.321      2.365         25        640:  25%|██▌       | 5/20 [00:00<00:02,  6.77it/s]\n",
      "       5/20      2.68G      2.643       4.63      4.296      2.334         26        640:  30%|███       | 6/20 [00:00<00:02,  6.83it/s]\n",
      "       5/20      2.68G      2.636      4.679      4.325      2.321         17        640:  35%|███▌      | 7/20 [00:01<00:01,  6.89it/s]\n",
      "       5/20      2.68G      2.668      4.699      4.367      2.333         21        640:  40%|████      | 8/20 [00:01<00:01,  6.68it/s]\n",
      "       5/20      2.68G      2.696      4.723      4.336      2.341         17        640:  45%|████▌     | 9/20 [00:01<00:01,  6.79it/s]\n",
      "       5/20      2.68G      2.682      4.667      4.313      2.324         17        640:  50%|█████     | 10/20 [00:01<00:01,  6.85it/s]\n",
      "       5/20      2.68G      2.696      4.674      4.337      2.322         13        640:  55%|█████▌    | 11/20 [00:01<00:01,  6.91it/s]\n",
      "       5/20      2.68G       2.68      4.678      4.316      2.319         25        640:  60%|██████    | 12/20 [00:01<00:01,  6.72it/s]\n",
      "       5/20      2.68G      2.682      4.791        4.3      2.324         33        640:  65%|██████▌   | 13/20 [00:01<00:01,  6.78it/s]\n",
      "       5/20      2.68G      2.669      4.822      4.309      2.317         15        640:  70%|███████   | 14/20 [00:02<00:00,  6.85it/s]\n",
      "       5/20      2.68G      2.679       4.86      4.303      2.316         23        640:  75%|███████▌  | 15/20 [00:02<00:00,  6.87it/s]\n",
      "       5/20      2.68G      2.673       4.87      4.293      2.308         29        640:  80%|████████  | 16/20 [00:02<00:00,  6.68it/s]\n",
      "       5/20      2.68G      2.688      4.902      4.294      2.318         19        640:  85%|████████▌ | 17/20 [00:02<00:00,  6.78it/s]\n",
      "       5/20      2.68G      2.685      4.978      4.296       2.32         18        640:  90%|█████████ | 18/20 [00:02<00:00,  6.84it/s]\n",
      "       5/20      2.68G      2.705      4.948       4.32       2.33         11        640:  95%|█████████▌| 19/20 [00:02<00:00,  6.89it/s]\n",
      "       5/20       2.7G      2.683      4.957      4.305       2.33          6        640: 100%|██████████| 20/20 [00:02<00:00,  6.98it/s]\n",
      "                 Class     Images  Instances      Box(P          R      mAP50  mAP50-95)     Mask(P          R      mAP50  mAP50-95):   0%|          | 0/4 [00:00<?, ?it/s]\n",
      "                 Class     Images  Instances      Box(P          R      mAP50  mAP50-95)     Mask(P          R      mAP50  mAP50-95):  25%|██▌       | 1/4 [00:00<00:00,  7.65it/s]\n",
      "                 Class     Images  Instances      Box(P          R      mAP50  mAP50-95)     Mask(P          R      mAP50  mAP50-95):  50%|█████     | 2/4 [00:00<00:00,  7.07it/s]\n",
      "                 Class     Images  Instances      Box(P          R      mAP50  mAP50-95)     Mask(P          R      mAP50  mAP50-95):  75%|███████▌  | 3/4 [00:00<00:00,  7.11it/s]\n"
     ]
    },
    {
     "name": "stdout",
     "output_type": "stream",
     "text": [
      "\u001b[36m(_tune pid=136939)\u001b[0m                    all        125         79    0.00047      0.215    0.00181   0.000382    8.3e-05      0.038   9.94e-05   2.27e-05\n"
     ]
    },
    {
     "name": "stderr",
     "output_type": "stream",
     "text": [
      "                 Class     Images  Instances      Box(P          R      mAP50  mAP50-95)     Mask(P          R      mAP50  mAP50-95): 100%|██████████| 4/4 [00:00<00:00,  7.35it/s]\n"
     ]
    },
    {
     "name": "stdout",
     "output_type": "stream",
     "text": [
      "\u001b[36m(_tune pid=136939)\u001b[0m \n",
      "\u001b[36m(_tune pid=136939)\u001b[0m       Epoch    GPU_mem   box_loss   seg_loss   cls_loss   dfl_loss  Instances       Size\n"
     ]
    },
    {
     "name": "stderr",
     "output_type": "stream",
     "text": [
      "  0%|          | 0/20 [00:00<?, ?it/s]\n",
      "       6/20       2.7G      2.506      4.593       3.91       2.35         22        640:   5%|▌         | 1/20 [00:00<00:02,  7.01it/s]\n",
      "       6/20       2.7G      2.596      4.788      4.134      2.327         10        640:  10%|█         | 2/20 [00:00<00:02,  7.04it/s]\n",
      "       6/20       2.7G      2.502      4.758      4.172      2.266         14        640:  15%|█▌        | 3/20 [00:00<00:02,  7.05it/s]\n",
      "       6/20       2.7G      2.463      4.712      4.112      2.227         19        640:  20%|██        | 4/20 [00:00<00:02,  6.76it/s]\n",
      "       6/20       2.7G      2.523      4.809      4.158      2.239         29        640:  25%|██▌       | 5/20 [00:00<00:02,  6.83it/s]\n",
      "       6/20       2.7G      2.578      4.853      4.255      2.279         18        640:  30%|███       | 6/20 [00:00<00:02,  6.87it/s]\n",
      "       6/20       2.7G       2.63      5.535      4.286      2.339         17        640:  35%|███▌      | 7/20 [00:01<00:01,  6.91it/s]\n",
      "       6/20       2.7G      2.656      5.478      4.289      2.354         23        640:  40%|████      | 8/20 [00:01<00:01,  6.74it/s]\n",
      "       6/20       2.7G      2.691      5.377      4.249      2.374         27        640:  45%|████▌     | 9/20 [00:01<00:01,  6.80it/s]\n",
      "       6/20       2.7G      2.691      5.574      4.265      2.401         14        640:  50%|█████     | 10/20 [00:01<00:01,  6.87it/s]\n",
      "       6/20       2.7G      2.658      5.483      4.303      2.381         11        640:  55%|█████▌    | 11/20 [00:01<00:01,  6.93it/s]\n",
      "       6/20       2.7G      2.672      5.516      4.297       2.38         19        640:  60%|██████    | 12/20 [00:01<00:01,  6.74it/s]\n",
      "       6/20       2.7G      2.683      5.574      4.331      2.397         15        640:  65%|██████▌   | 13/20 [00:01<00:01,  6.83it/s]\n",
      "       6/20       2.7G      2.724      5.524      4.378      2.418         11        640:  70%|███████   | 14/20 [00:02<00:00,  6.90it/s]\n",
      "       6/20       2.7G      2.716      5.512      4.371      2.407         17        640:  75%|███████▌  | 15/20 [00:02<00:00,  6.92it/s]\n",
      "       6/20       2.7G      2.741      5.579      4.381       2.42         20        640:  80%|████████  | 16/20 [00:02<00:00,  6.74it/s]\n",
      "       6/20       2.7G      2.776      5.697      4.396      2.433         18        640:  85%|████████▌ | 17/20 [00:02<00:00,  6.82it/s]\n",
      "       6/20       2.7G      2.804      5.734      4.403      2.444         16        640:  90%|█████████ | 18/20 [00:02<00:00,  6.87it/s]\n",
      "       6/20       2.7G      2.798       5.73      4.397      2.436         17        640:  95%|█████████▌| 19/20 [00:02<00:00,  6.91it/s]\n",
      "       6/20       2.7G      2.779      5.759      4.381      2.425          5        640: 100%|██████████| 20/20 [00:02<00:00,  7.04it/s]\n",
      "                 Class     Images  Instances      Box(P          R      mAP50  mAP50-95)     Mask(P          R      mAP50  mAP50-95):   0%|          | 0/4 [00:00<?, ?it/s]\n",
      "                 Class     Images  Instances      Box(P          R      mAP50  mAP50-95)     Mask(P          R      mAP50  mAP50-95):  50%|█████     | 2/4 [00:00<00:00, 11.90it/s]\n",
      "                 Class     Images  Instances      Box(P          R      mAP50  mAP50-95)     Mask(P          R      mAP50  mAP50-95): 100%|██████████| 4/4 [00:00<00:00, 12.07it/s]\n"
     ]
    },
    {
     "name": "stdout",
     "output_type": "stream",
     "text": [
      "\u001b[36m(_tune pid=136939)\u001b[0m                    all        125         79          0          0          0          0          0          0          0          0\n",
      "\u001b[36m(_tune pid=136939)\u001b[0m \n",
      "\u001b[36m(_tune pid=136939)\u001b[0m       Epoch    GPU_mem   box_loss   seg_loss   cls_loss   dfl_loss  Instances       Size\n"
     ]
    },
    {
     "name": "stderr",
     "output_type": "stream",
     "text": [
      "  0%|          | 0/20 [00:00<?, ?it/s]\n",
      "       7/20       2.7G      3.291       14.9       4.26       2.57         24        640:   5%|▌         | 1/20 [00:00<00:02,  6.96it/s]\n",
      "       7/20       2.7G      3.438      10.91      4.575      2.679         13        640:  10%|█         | 2/20 [00:00<00:02,  7.01it/s]\n",
      "       7/20       2.7G      3.358      9.499      4.476      2.655         23        640:  15%|█▌        | 3/20 [00:00<00:02,  6.96it/s]\n",
      "       7/20       2.7G      3.331      8.922      4.414       2.63         24        640:  20%|██        | 4/20 [00:00<00:02,  6.72it/s]\n",
      "       7/20       2.7G       3.29      8.595      4.451      2.657         15        640:  25%|██▌       | 5/20 [00:00<00:02,  6.85it/s]\n",
      "       7/20       2.7G      3.304      8.328      4.445       2.67         21        640:  30%|███       | 6/20 [00:00<00:02,  6.89it/s]\n",
      "       7/20       2.7G       3.26      8.083      4.414      2.638         26        640:  35%|███▌      | 7/20 [00:01<00:01,  6.92it/s]\n",
      "       7/20       2.7G       3.28      9.909      4.404      2.653         21        640:  40%|████      | 8/20 [00:01<00:01,  6.78it/s]\n",
      "       7/20       2.7G      3.239      9.553      4.391      2.629         19        640:  45%|████▌     | 9/20 [00:01<00:01,  6.85it/s]\n",
      "       7/20       2.7G      3.229      9.471      4.389      2.629         24        640:  50%|█████     | 10/20 [00:01<00:01,  6.88it/s]\n",
      "       7/20       2.7G      3.197      9.214      4.386      2.612         18        640:  55%|█████▌    | 11/20 [00:01<00:01,  6.93it/s]\n",
      "       7/20       2.7G      3.231      10.44      4.406      2.634         20        640:  60%|██████    | 12/20 [00:01<00:01,  6.72it/s]\n",
      "       7/20       2.7G      3.223      10.31      4.404      2.631         23        640:  65%|██████▌   | 13/20 [00:01<00:01,  6.80it/s]\n",
      "       7/20       2.7G      3.212         10      4.475      2.638          8        640:  70%|███████   | 14/20 [00:02<00:00,  6.88it/s]\n",
      "       7/20       2.7G      3.221      9.895      4.465       2.64         23        640:  75%|███████▌  | 15/20 [00:02<00:00,  6.90it/s]\n",
      "       7/20       2.7G      3.202      9.696      4.456      2.628         19        640:  80%|████████  | 16/20 [00:02<00:00,  6.71it/s]\n",
      "       7/20       2.7G      3.218      9.521       4.45      2.638         33        640:  85%|████████▌ | 17/20 [00:02<00:00,  6.77it/s]\n",
      "       7/20       2.7G      3.218      9.278      4.452      2.635         18        640:  90%|█████████ | 18/20 [00:02<00:00,  6.83it/s]\n",
      "       7/20       2.7G      3.209      10.24      4.453      2.635         17        640:  95%|█████████▌| 19/20 [00:02<00:00,  6.88it/s]\n",
      "       7/20      2.71G      3.179      9.994      4.438      2.611          6        640: 100%|██████████| 20/20 [00:02<00:00,  7.02it/s]\n",
      "                 Class     Images  Instances      Box(P          R      mAP50  mAP50-95)     Mask(P          R      mAP50  mAP50-95):   0%|          | 0/4 [00:00<?, ?it/s]\n",
      "                 Class     Images  Instances      Box(P          R      mAP50  mAP50-95)     Mask(P          R      mAP50  mAP50-95):  25%|██▌       | 1/4 [00:00<00:00,  8.33it/s]\n",
      "                 Class     Images  Instances      Box(P          R      mAP50  mAP50-95)     Mask(P          R      mAP50  mAP50-95):  50%|█████     | 2/4 [00:00<00:00,  3.55it/s]\n",
      "                 Class     Images  Instances      Box(P          R      mAP50  mAP50-95)     Mask(P          R      mAP50  mAP50-95):  75%|███████▌  | 3/4 [00:00<00:00,  4.71it/s]\n"
     ]
    },
    {
     "name": "stdout",
     "output_type": "stream",
     "text": [
      "\u001b[36m(_tune pid=136939)\u001b[0m                    all        125         79    0.00202      0.304    0.00199   0.000659    0.00084      0.127   0.000517   0.000111\n"
     ]
    },
    {
     "name": "stderr",
     "output_type": "stream",
     "text": [
      "                 Class     Images  Instances      Box(P          R      mAP50  mAP50-95)     Mask(P          R      mAP50  mAP50-95): 100%|██████████| 4/4 [00:00<00:00,  5.23it/s]\n"
     ]
    },
    {
     "name": "stdout",
     "output_type": "stream",
     "text": [
      "\u001b[36m(_tune pid=136939)\u001b[0m \n",
      "\u001b[36m(_tune pid=136939)\u001b[0m       Epoch    GPU_mem   box_loss   seg_loss   cls_loss   dfl_loss  Instances       Size\n"
     ]
    },
    {
     "name": "stderr",
     "output_type": "stream",
     "text": [
      "  0%|          | 0/20 [00:00<?, ?it/s]\n",
      "       8/20      2.71G      3.047       4.99      4.361      2.526         16        640:   5%|▌         | 1/20 [00:00<00:02,  7.08it/s]\n",
      "       8/20      2.71G      3.117      4.905      4.738       2.66          9        640:  10%|█         | 2/20 [00:00<00:02,  7.07it/s]\n",
      "       8/20      2.71G      3.053       5.17      4.615      2.615         21        640:  15%|█▌        | 3/20 [00:00<00:02,  7.02it/s]\n",
      "       8/20      2.71G      3.052      5.241        4.6      2.551         14        640:  20%|██        | 4/20 [00:00<00:02,  6.77it/s]\n",
      "       8/20      2.71G      3.082      5.509      4.576      2.582         18        640:  25%|██▌       | 5/20 [00:00<00:02,  6.82it/s]\n",
      "       8/20      2.71G      3.111      5.584      4.549      2.578         17        640:  30%|███       | 6/20 [00:00<00:02,  6.85it/s]\n",
      "       8/20      2.71G       3.16      5.704      4.543      2.611         16        640:  35%|███▌      | 7/20 [00:01<00:01,  6.90it/s]\n",
      "       8/20      2.71G      3.167      5.785      4.547      2.616         15        640:  40%|████      | 8/20 [00:01<00:01,  6.72it/s]\n",
      "       8/20      2.71G      3.185      5.738      4.523      2.634         21        640:  45%|████▌     | 9/20 [00:01<00:01,  6.81it/s]\n",
      "       8/20      2.71G      3.196        5.7       4.49      2.634         25        640:  50%|█████     | 10/20 [00:01<00:01,  6.86it/s]\n",
      "       8/20      2.71G      3.172      5.668      4.485      2.614         16        640:  55%|█████▌    | 11/20 [00:01<00:01,  6.91it/s]\n",
      "       8/20      2.71G      3.187      5.637      4.492      2.622         15        640:  60%|██████    | 12/20 [00:01<00:01,  6.75it/s]\n",
      "       8/20      2.71G      3.207      5.736       4.49       2.64         16        640:  65%|██████▌   | 13/20 [00:01<00:01,  6.83it/s]\n",
      "       8/20      2.71G      3.242      5.903      4.502      2.655         16        640:  70%|███████   | 14/20 [00:02<00:00,  6.87it/s]\n",
      "       8/20      2.71G      3.267      6.017       4.51       2.66         17        640:  75%|███████▌  | 15/20 [00:02<00:00,  6.92it/s]\n",
      "       8/20      2.71G      3.259      6.132      4.496      2.666         23        640:  80%|████████  | 16/20 [00:02<00:00,  6.74it/s]\n",
      "       8/20      2.71G      3.245       8.21      4.478      2.673         24        640:  85%|████████▌ | 17/20 [00:02<00:00,  6.80it/s]\n",
      "       8/20      2.71G      3.255      8.045      4.465      2.675         23        640:  90%|█████████ | 18/20 [00:02<00:00,  6.86it/s]\n",
      "       8/20      2.71G       3.25      9.465      4.465      2.669         17        640:  95%|█████████▌| 19/20 [00:02<00:00,  6.87it/s]\n",
      "       8/20      2.71G      3.245      9.234      4.451      2.683          5        640: 100%|██████████| 20/20 [00:02<00:00,  7.03it/s]\n",
      "                 Class     Images  Instances      Box(P          R      mAP50  mAP50-95)     Mask(P          R      mAP50  mAP50-95):   0%|          | 0/4 [00:00<?, ?it/s]\n",
      "                 Class     Images  Instances      Box(P          R      mAP50  mAP50-95)     Mask(P          R      mAP50  mAP50-95):  25%|██▌       | 1/4 [00:00<00:00,  8.27it/s]\n",
      "                 Class     Images  Instances      Box(P          R      mAP50  mAP50-95)     Mask(P          R      mAP50  mAP50-95):  50%|█████     | 2/4 [00:00<00:00,  7.64it/s]\n",
      "                 Class     Images  Instances      Box(P          R      mAP50  mAP50-95)     Mask(P          R      mAP50  mAP50-95):  75%|███████▌  | 3/4 [00:00<00:00,  7.66it/s]\n",
      "                 Class     Images  Instances      Box(P          R      mAP50  mAP50-95)     Mask(P          R      mAP50  mAP50-95): 100%|██████████| 4/4 [00:00<00:00,  7.90it/s]\n"
     ]
    },
    {
     "name": "stdout",
     "output_type": "stream",
     "text": [
      "\u001b[36m(_tune pid=136939)\u001b[0m                    all        125         79   0.000572     0.0633   0.000374   0.000103   0.000458     0.0506   0.000261    4.4e-05\n",
      "\u001b[36m(_tune pid=136939)\u001b[0m \n",
      "\u001b[36m(_tune pid=136939)\u001b[0m       Epoch    GPU_mem   box_loss   seg_loss   cls_loss   dfl_loss  Instances       Size\n"
     ]
    },
    {
     "name": "stderr",
     "output_type": "stream",
     "text": [
      "  0%|          | 0/20 [00:00<?, ?it/s]\n",
      "       9/20      2.71G        3.1      36.86      4.378      2.617         23        640:   5%|▌         | 1/20 [00:00<00:02,  7.02it/s]\n",
      "       9/20      2.71G      3.144      26.16      4.454      2.629         17        640:  10%|█         | 2/20 [00:00<00:02,  6.99it/s]\n",
      "       9/20      2.71G      3.053      19.16      4.556      2.661          9        640:  15%|█▌        | 3/20 [00:00<00:02,  7.04it/s]\n",
      "       9/20      2.71G      3.068      19.96      4.533      2.651         17        640:  20%|██        | 4/20 [00:00<00:02,  6.78it/s]\n",
      "       9/20      2.71G      3.146      43.61      4.507      2.675         18        640:  25%|██▌       | 5/20 [00:00<00:02,  6.86it/s]\n",
      "       9/20      2.71G      3.187      37.16      4.445      2.686         27        640:  30%|███       | 6/20 [00:00<00:02,  6.90it/s]\n",
      "       9/20      2.71G      3.197      32.56      4.426      2.677         17        640:  35%|███▌      | 7/20 [00:01<00:01,  6.92it/s]\n",
      "       9/20      2.71G      3.176      29.12      4.414      2.676         15        640:  40%|████      | 8/20 [00:01<00:01,  6.73it/s]\n",
      "       9/20      2.71G      3.195      26.95      4.438      2.695         23        640:  45%|████▌     | 9/20 [00:01<00:01,  6.80it/s]\n",
      "       9/20      2.71G      3.215       25.3      4.474      2.724         16        640:  50%|█████     | 10/20 [00:01<00:01,  6.88it/s]\n",
      "       9/20      2.71G      3.206      23.49      4.461       2.72         19        640:  55%|█████▌    | 11/20 [00:01<00:01,  6.92it/s]\n",
      "       9/20      2.71G      3.225      22.14      4.463      2.731         22        640:  60%|██████    | 12/20 [00:01<00:01,  6.72it/s]\n",
      "       9/20      2.71G      3.235      20.87      4.463      2.726         17        640:  65%|██████▌   | 13/20 [00:01<00:01,  6.83it/s]\n",
      "       9/20      2.71G      3.251      19.87      4.453      2.741         26        640:  70%|███████   | 14/20 [00:02<00:00,  6.85it/s]\n",
      "       9/20      2.71G      3.241      19.01      4.453      2.733         22        640:  75%|███████▌  | 15/20 [00:02<00:00,  6.90it/s]\n",
      "       9/20      2.71G      3.234      18.17      4.452      2.725         16        640:  80%|████████  | 16/20 [00:02<00:00,  6.73it/s]\n",
      "       9/20      2.71G      3.228      17.41      4.444      2.718         16        640:  85%|████████▌ | 17/20 [00:02<00:00,  6.82it/s]\n",
      "       9/20      2.71G      3.234      16.72      4.458      2.723         15        640:  90%|█████████ | 18/20 [00:02<00:00,  6.90it/s]\n",
      "       9/20      2.71G      3.213      15.68      4.449      2.717          6        640: 100%|██████████| 20/20 [00:02<00:00,  7.03it/s]\n",
      "                 Class     Images  Instances      Box(P          R      mAP50  mAP50-95)     Mask(P          R      mAP50  mAP50-95):   0%|          | 0/4 [00:00<?, ?it/s]\n",
      "                 Class     Images  Instances      Box(P          R      mAP50  mAP50-95)     Mask(P          R      mAP50  mAP50-95):  50%|█████     | 2/4 [00:00<00:00, 12.80it/s]\n"
     ]
    },
    {
     "name": "stdout",
     "output_type": "stream",
     "text": [
      "\u001b[36m(_tune pid=136939)\u001b[0m                    all        125         79          0          0          0          0          0          0          0          0\n",
      "\u001b[36m(_tune pid=136939)\u001b[0m \n",
      "\u001b[36m(_tune pid=136939)\u001b[0m       Epoch    GPU_mem   box_loss   seg_loss   cls_loss   dfl_loss  Instances       Size\n"
     ]
    },
    {
     "name": "stderr",
     "output_type": "stream",
     "text": [
      "                 Class     Images  Instances      Box(P          R      mAP50  mAP50-95)     Mask(P          R      mAP50  mAP50-95): 100%|██████████| 4/4 [00:00<00:00, 13.02it/s]\n",
      "  0%|          | 0/20 [00:00<?, ?it/s]\n",
      "      10/20      2.71G      3.095      26.79      4.334      2.646         17        640:   5%|▌         | 1/20 [00:00<00:02,  6.74it/s]\n",
      "      10/20      2.71G      3.105      15.98      4.402      2.626         16        640:  10%|█         | 2/20 [00:00<00:02,  6.81it/s]\n",
      "      10/20      2.71G      3.155      12.34      4.357      2.681         27        640:  15%|█▌        | 3/20 [00:00<00:02,  6.79it/s]\n",
      "      10/20      2.71G      3.172      10.93      4.398      2.714         15        640:  20%|██        | 4/20 [00:00<00:02,  6.64it/s]\n",
      "      10/20      2.71G      3.219      9.917      4.428      2.717         17        640:  25%|██▌       | 5/20 [00:00<00:02,  6.79it/s]\n",
      "      10/20      2.71G      3.239      9.187      4.411      2.744         21        640:  30%|███       | 6/20 [00:00<00:02,  6.85it/s]\n",
      "      10/20      2.71G      3.236      8.601      4.396      2.742         17        640:  35%|███▌      | 7/20 [00:01<00:01,  6.91it/s]\n",
      "      10/20      2.71G      3.221      8.169      4.369      2.724         30        640:  40%|████      | 8/20 [00:01<00:01,  6.71it/s]\n",
      "      10/20      2.71G      3.195      7.876      4.373      2.705         17        640:  45%|████▌     | 9/20 [00:01<00:01,  6.82it/s]\n",
      "      10/20      2.71G      3.183      12.18      4.375      2.697         17        640:  50%|█████     | 10/20 [00:01<00:01,  6.88it/s]\n",
      "      10/20      2.71G      3.194      11.72      4.372      2.707         24        640:  55%|█████▌    | 11/20 [00:01<00:01,  6.85it/s]\n",
      "      10/20      2.71G      3.242      11.14      4.404      2.711         11        640:  60%|██████    | 12/20 [00:01<00:01,  6.72it/s]\n",
      "      10/20      2.71G      3.255      11.34      4.397      2.725         18        640:  65%|██████▌   | 13/20 [00:01<00:01,  6.81it/s]\n",
      "      10/20      2.71G      3.249      10.89      4.404      2.723         17        640:  70%|███████   | 14/20 [00:02<00:00,  6.87it/s]\n",
      "      10/20      2.71G       3.26       10.5      4.419      2.725         15        640:  75%|███████▌  | 15/20 [00:02<00:00,  6.86it/s]\n",
      "      10/20      2.71G      3.259      11.94       4.41       2.73         27        640:  80%|████████  | 16/20 [00:02<00:00,  6.69it/s]\n",
      "      10/20      2.71G      3.265      11.61      4.422      2.732         14        640:  85%|████████▌ | 17/20 [00:02<00:00,  6.80it/s]\n",
      "      10/20      2.71G      3.265      11.23      4.427      2.723         22        640:  90%|█████████ | 18/20 [00:02<00:00,  6.84it/s]\n",
      "      10/20      2.71G      3.276      11.19      4.429      2.722         16        640:  95%|█████████▌| 19/20 [00:02<00:00,  6.90it/s]\n",
      "      10/20      2.71G      3.325      10.85       4.46      2.771          3        640: 100%|██████████| 20/20 [00:02<00:00,  6.99it/s]\n",
      "                 Class     Images  Instances      Box(P          R      mAP50  mAP50-95)     Mask(P          R      mAP50  mAP50-95):   0%|          | 0/4 [00:00<?, ?it/s]\n",
      "                 Class     Images  Instances      Box(P          R      mAP50  mAP50-95)     Mask(P          R      mAP50  mAP50-95):  50%|█████     | 2/4 [00:00<00:00, 12.34it/s]\n"
     ]
    },
    {
     "name": "stdout",
     "output_type": "stream",
     "text": [
      "\u001b[36m(_tune pid=136939)\u001b[0m                    all        125         79          0          0          0          0          0          0          0          0\n"
     ]
    },
    {
     "name": "stderr",
     "output_type": "stream",
     "text": [
      "                 Class     Images  Instances      Box(P          R      mAP50  mAP50-95)     Mask(P          R      mAP50  mAP50-95): 100%|██████████| 4/4 [00:00<00:00, 12.49it/s]\n"
     ]
    },
    {
     "name": "stdout",
     "output_type": "stream",
     "text": [
      "\u001b[36m(_tune pid=136939)\u001b[0m Closing dataloader mosaic\n",
      "\u001b[36m(_tune pid=136939)\u001b[0m \n",
      "\u001b[36m(_tune pid=136939)\u001b[0m       Epoch    GPU_mem   box_loss   seg_loss   cls_loss   dfl_loss  Instances       Size\n"
     ]
    },
    {
     "name": "stderr",
     "output_type": "stream",
     "text": [
      "  0%|          | 0/20 [00:00<?, ?it/s]\n",
      "      11/20      2.71G      3.385        4.9      4.512      2.882         14        640:   5%|▌         | 1/20 [00:00<00:09,  2.10it/s]\n",
      "      11/20      2.71G      3.573       4.92      4.452      2.932         15        640:  10%|█         | 2/20 [00:00<00:05,  3.21it/s]\n",
      "      11/20      2.71G      3.368      4.963      4.414      2.836         12        640:  15%|█▌        | 3/20 [00:00<00:04,  3.84it/s]\n",
      "      11/20      2.71G      3.283      5.009      4.516      2.814          7        640:  20%|██        | 4/20 [00:01<00:03,  4.13it/s]\n",
      "      11/20      2.71G      3.282      5.019      4.543      2.802         11        640:  25%|██▌       | 5/20 [00:01<00:03,  4.81it/s]\n",
      "      11/20      2.71G      3.376      5.034      4.598      2.799          8        640:  30%|███       | 6/20 [00:01<00:02,  5.39it/s]\n",
      "      11/20      2.71G      3.374      5.067      4.541      2.841         10        640:  35%|███▌      | 7/20 [00:01<00:02,  5.84it/s]\n",
      "      11/20      2.71G      3.376      5.052      4.483      2.864         13        640:  40%|████      | 8/20 [00:01<00:02,  5.93it/s]\n",
      "      11/20      2.71G      3.393      7.346      4.498      2.871         10        640:  45%|████▌     | 9/20 [00:01<00:01,  6.19it/s]\n",
      "      11/20      2.71G      3.448      7.082      4.581      2.879          5        640:  50%|█████     | 10/20 [00:01<00:01,  6.44it/s]\n",
      "      11/20      2.71G      3.458      6.893      4.645      2.865          6        640:  55%|█████▌    | 11/20 [00:02<00:01,  6.63it/s]\n",
      "      11/20      2.71G      3.446      6.769      4.737       2.86          4        640:  60%|██████    | 12/20 [00:02<00:01,  6.53it/s]\n",
      "      11/20      2.71G      3.431      6.652      4.737      2.845         11        640:  65%|██████▌   | 13/20 [00:02<00:01,  6.69it/s]\n",
      "      11/20      2.71G       3.41      6.605      4.802      2.856          4        640:  70%|███████   | 14/20 [00:02<00:00,  6.79it/s]\n",
      "      11/20      2.71G      3.377      6.488        4.8      2.841          7        640:  75%|███████▌  | 15/20 [00:02<00:00,  6.88it/s]\n",
      "      11/20      2.71G      3.385      6.579      4.793      2.839         12        640:  80%|████████  | 16/20 [00:02<00:00,  6.72it/s]\n",
      "      11/20      2.71G       3.41      6.491      4.765       2.86         10        640:  85%|████████▌ | 17/20 [00:02<00:00,  6.79it/s]\n",
      "      11/20      2.71G      3.418      8.524      4.791      2.869          8        640:  90%|█████████ | 18/20 [00:03<00:00,  6.85it/s]\n",
      "      11/20      2.71G      3.426      8.521      4.814      2.877          4        640: 100%|██████████| 20/20 [00:03<00:00,  5.97it/s]\n",
      "                 Class     Images  Instances      Box(P          R      mAP50  mAP50-95)     Mask(P          R      mAP50  mAP50-95):   0%|          | 0/4 [00:00<?, ?it/s]\n",
      "                 Class     Images  Instances      Box(P          R      mAP50  mAP50-95)     Mask(P          R      mAP50  mAP50-95):  50%|█████     | 2/4 [00:00<00:00, 11.75it/s]\n"
     ]
    },
    {
     "name": "stdout",
     "output_type": "stream",
     "text": [
      "\u001b[36m(_tune pid=136939)\u001b[0m                    all        125         79          0          0          0          0          0          0          0          0\n",
      "\u001b[36m(_tune pid=136939)\u001b[0m \n",
      "\u001b[36m(_tune pid=136939)\u001b[0m       Epoch    GPU_mem   box_loss   seg_loss   cls_loss   dfl_loss  Instances       Size\n"
     ]
    },
    {
     "name": "stderr",
     "output_type": "stream",
     "text": [
      "                 Class     Images  Instances      Box(P          R      mAP50  mAP50-95)     Mask(P          R      mAP50  mAP50-95): 100%|██████████| 4/4 [00:00<00:00, 11.79it/s]\n",
      "  0%|          | 0/20 [00:00<?, ?it/s]\n",
      "      12/20      2.71G      3.734      35.96       6.42      2.669          4        640:   5%|▌         | 1/20 [00:00<00:02,  7.15it/s]\n",
      "      12/20      2.71G      3.483      20.59      5.578      2.817          9        640:  10%|█         | 2/20 [00:00<00:02,  7.13it/s]\n",
      "      12/20      2.71G      3.358      15.41      5.171      2.732         11        640:  15%|█▌        | 3/20 [00:00<00:02,  7.07it/s]\n",
      "      12/20      2.71G      3.286      12.78      5.049      2.713          7        640:  20%|██        | 4/20 [00:00<00:02,  6.79it/s]\n",
      "      12/20      2.71G      3.219      11.24      4.949      2.687         11        640:  25%|██▌       | 5/20 [00:00<00:02,  6.83it/s]\n",
      "      12/20      2.71G      3.303      10.22      4.865       2.73          8        640:  30%|███       | 6/20 [00:00<00:02,  6.91it/s]\n",
      "      12/20      2.71G      3.269      9.484      4.855      2.722          6        640:  35%|███▌      | 7/20 [00:01<00:01,  6.97it/s]\n",
      "      12/20      2.71G      3.289      9.125      4.894      2.716         10        640:  40%|████      | 8/20 [00:01<00:01,  6.78it/s]\n",
      "      12/20      2.71G      3.287       8.66      4.881      2.712          9        640:  45%|████▌     | 9/20 [00:01<00:01,  6.88it/s]\n",
      "      12/20      2.71G      3.283      8.308      4.881       2.71          8        640:  50%|█████     | 10/20 [00:01<00:01,  6.93it/s]\n",
      "      12/20      2.71G      3.324      8.023      4.843      2.721         12        640:  55%|█████▌    | 11/20 [00:01<00:01,  6.95it/s]\n",
      "      12/20      2.71G      3.325      7.815      4.818      2.742         11        640:  60%|██████    | 12/20 [00:01<00:01,  6.77it/s]\n",
      "      12/20      2.71G      3.358      9.461      4.816      2.775         14        640:  65%|██████▌   | 13/20 [00:01<00:01,  6.79it/s]\n",
      "      12/20      2.71G      3.357      9.342      4.811       2.78          9        640:  70%|███████   | 14/20 [00:02<00:00,  6.86it/s]\n",
      "      12/20      2.71G      3.361      9.046      4.774      2.786          9        640:  75%|███████▌  | 15/20 [00:02<00:00,  6.93it/s]\n",
      "      12/20      2.71G      3.342       8.79      4.768      2.774         13        640:  80%|████████  | 16/20 [00:02<00:00,  6.75it/s]\n",
      "      12/20      2.71G      3.339      14.08      4.787      2.776          6        640:  85%|████████▌ | 17/20 [00:02<00:00,  6.86it/s]\n",
      "      12/20      2.71G      3.339      13.57      4.772      2.793          6        640:  90%|█████████ | 18/20 [00:02<00:00,  6.93it/s]\n",
      "      12/20      2.71G      3.344       13.2      4.757      2.795         14        640:  95%|█████████▌| 19/20 [00:02<00:00,  6.96it/s]\n",
      "      12/20      2.72G      3.358       12.8      4.741      2.817          4        640: 100%|██████████| 20/20 [00:02<00:00,  7.07it/s]\n",
      "                 Class     Images  Instances      Box(P          R      mAP50  mAP50-95)     Mask(P          R      mAP50  mAP50-95):   0%|          | 0/4 [00:00<?, ?it/s]\n",
      "                 Class     Images  Instances      Box(P          R      mAP50  mAP50-95)     Mask(P          R      mAP50  mAP50-95):  50%|█████     | 2/4 [00:00<00:00, 10.49it/s]\n"
     ]
    },
    {
     "name": "stdout",
     "output_type": "stream",
     "text": [
      "\u001b[36m(_tune pid=136939)\u001b[0m                    all        125         79          0          0          0          0          0          0          0          0\n",
      "\u001b[36m(_tune pid=136939)\u001b[0m \n",
      "\u001b[36m(_tune pid=136939)\u001b[0m       Epoch    GPU_mem   box_loss   seg_loss   cls_loss   dfl_loss  Instances       Size\n"
     ]
    },
    {
     "name": "stderr",
     "output_type": "stream",
     "text": [
      "                 Class     Images  Instances      Box(P          R      mAP50  mAP50-95)     Mask(P          R      mAP50  mAP50-95): 100%|██████████| 4/4 [00:00<00:00, 11.78it/s]\n",
      "  0%|          | 0/20 [00:00<?, ?it/s]\n",
      "      13/20      2.72G      3.046      5.215       4.24       2.69          9        640:   5%|▌         | 1/20 [00:00<00:02,  6.98it/s]\n",
      "      13/20      2.72G      2.924      5.108      4.478      2.618          9        640:  10%|█         | 2/20 [00:00<00:02,  7.02it/s]\n",
      "      13/20      2.72G      3.082      5.126      4.615      2.688          8        640:  15%|█▌        | 3/20 [00:00<00:02,  7.04it/s]\n",
      "      13/20      2.72G      3.266       5.06      4.573      2.811          8        640:  20%|██        | 4/20 [00:00<00:02,  6.80it/s]\n",
      "      13/20      2.72G      3.252      5.022      4.658      2.861          6        640:  25%|██▌       | 5/20 [00:00<00:02,  6.92it/s]\n",
      "      13/20      2.72G       3.26       4.98      4.636      2.841         11        640:  30%|███       | 6/20 [00:00<00:02,  6.96it/s]\n",
      "      13/20      2.72G      3.305      4.982      4.685      2.853          7        640:  35%|███▌      | 7/20 [00:01<00:01,  7.00it/s]\n",
      "      13/20      2.72G      3.245      4.973      4.916      2.798          3        640:  40%|████      | 8/20 [00:01<00:01,  6.80it/s]\n",
      "      13/20      2.72G      3.235      4.968      4.842      2.784         12        640:  45%|████▌     | 9/20 [00:01<00:01,  6.82it/s]\n",
      "      13/20      2.72G      3.229      4.976      4.828      2.771         14        640:  50%|█████     | 10/20 [00:01<00:01,  6.88it/s]\n",
      "      13/20      2.72G      3.266      5.043      4.864      2.788          7        640:  55%|█████▌    | 11/20 [00:01<00:01,  6.93it/s]\n",
      "      13/20      2.72G      3.243       6.76      4.833       2.77         15        640:  60%|██████    | 12/20 [00:01<00:01,  6.74it/s]\n",
      "      13/20      2.72G      3.263      7.077      4.807      2.795         11        640:  65%|██████▌   | 13/20 [00:01<00:01,  6.82it/s]\n",
      "      13/20      2.72G      3.306       8.16      4.809      2.871          8        640:  70%|███████   | 14/20 [00:02<00:00,  6.88it/s]\n",
      "      13/20      2.72G      3.288      9.591      4.793      2.875         13        640:  75%|███████▌  | 15/20 [00:02<00:00,  6.91it/s]\n",
      "      13/20      2.72G      3.308      9.373      4.884       2.91          3        640:  80%|████████  | 16/20 [00:02<00:00,  6.78it/s]\n",
      "      13/20      2.72G      3.352      9.108      4.882      2.975          6        640:  85%|████████▌ | 17/20 [00:02<00:00,  6.88it/s]\n",
      "      13/20      2.72G       3.38      8.871      4.871      3.008         15        640:  90%|█████████ | 18/20 [00:02<00:00,  6.93it/s]\n",
      "      13/20      2.72G      3.355      8.661      4.873      3.007         11        640:  95%|█████████▌| 19/20 [00:02<00:00,  6.97it/s]\n",
      "      13/20      2.73G       3.33      8.484      4.833       2.99          3        640: 100%|██████████| 20/20 [00:02<00:00,  7.07it/s]\n",
      "                 Class     Images  Instances      Box(P          R      mAP50  mAP50-95)     Mask(P          R      mAP50  mAP50-95):   0%|          | 0/4 [00:00<?, ?it/s]\n",
      "                 Class     Images  Instances      Box(P          R      mAP50  mAP50-95)     Mask(P          R      mAP50  mAP50-95):  50%|█████     | 2/4 [00:00<00:00, 11.96it/s]\n",
      "                 Class     Images  Instances      Box(P          R      mAP50  mAP50-95)     Mask(P          R      mAP50  mAP50-95): 100%|██████████| 4/4 [00:00<00:00, 12.90it/s]\n"
     ]
    },
    {
     "name": "stdout",
     "output_type": "stream",
     "text": [
      "\u001b[36m(_tune pid=136939)\u001b[0m                    all        125         79          0          0          0          0          0          0          0          0\n",
      "\u001b[36m(_tune pid=136939)\u001b[0m \n",
      "\u001b[36m(_tune pid=136939)\u001b[0m       Epoch    GPU_mem   box_loss   seg_loss   cls_loss   dfl_loss  Instances       Size\n"
     ]
    },
    {
     "name": "stderr",
     "output_type": "stream",
     "text": [
      "  0%|          | 0/20 [00:00<?, ?it/s]\n",
      "      14/20      2.73G      2.828      4.955      4.502      2.603         11        640:   5%|▌         | 1/20 [00:00<00:02,  7.09it/s]\n",
      "      14/20      2.73G      3.144      5.276      4.551      2.727          9        640:  10%|█         | 2/20 [00:00<00:02,  7.02it/s]\n",
      "      14/20      2.73G      3.263      5.196      4.579      2.782          8        640:  15%|█▌        | 3/20 [00:00<00:02,  7.05it/s]\n",
      "      14/20      2.73G      3.357      5.159      4.556      2.817         10        640:  20%|██        | 4/20 [00:00<00:02,  6.76it/s]\n",
      "      14/20      2.73G      3.386       5.12      4.504       2.82         15        640:  25%|██▌       | 5/20 [00:00<00:02,  6.86it/s]\n",
      "      14/20      2.73G      3.392       5.11      4.514      2.806         11        640:  30%|███       | 6/20 [00:00<00:02,  6.91it/s]\n",
      "      14/20      2.73G      3.391      5.143      4.518      2.797         11        640:  35%|███▌      | 7/20 [00:01<00:01,  6.96it/s]\n",
      "      14/20      2.73G      3.415       6.33      4.548      2.816         12        640:  40%|████      | 8/20 [00:01<00:01,  6.78it/s]\n",
      "      14/20      2.73G      3.399      6.205      4.572      2.808          9        640:  45%|████▌     | 9/20 [00:01<00:01,  6.87it/s]\n",
      "      14/20      2.73G      3.387      7.004      4.548      2.818         10        640:  50%|█████     | 10/20 [00:01<00:01,  6.89it/s]\n",
      "      14/20      2.73G      3.446      7.205      4.662      2.891          6        640:  55%|█████▌    | 11/20 [00:01<00:01,  6.95it/s]\n",
      "      14/20      2.73G      3.437      7.032      4.666      2.885         10        640:  60%|██████    | 12/20 [00:01<00:01,  6.78it/s]\n",
      "      14/20      2.73G      3.479        6.9      4.688      2.899          6        640:  65%|██████▌   | 13/20 [00:01<00:01,  6.88it/s]\n",
      "      14/20      2.73G      3.473      6.767      4.663      2.905          7        640:  70%|███████   | 14/20 [00:02<00:00,  6.94it/s]\n",
      "      14/20      2.73G      3.472      6.648      4.673      2.908          7        640:  75%|███████▌  | 15/20 [00:02<00:00,  6.99it/s]\n",
      "      14/20      2.73G      3.478      6.547       4.67      2.905          7        640:  80%|████████  | 16/20 [00:02<00:00,  6.82it/s]\n",
      "      14/20      2.73G      3.459      6.461      4.654      2.887          6        640:  85%|████████▌ | 17/20 [00:02<00:00,  6.91it/s]\n",
      "      14/20      2.73G      3.459      6.374       4.64      2.876          7        640:  90%|█████████ | 18/20 [00:02<00:00,  6.93it/s]\n",
      "      14/20      2.74G      3.438      6.243      4.614      2.867          6        640: 100%|██████████| 20/20 [00:02<00:00,  7.08it/s]\n",
      "                 Class     Images  Instances      Box(P          R      mAP50  mAP50-95)     Mask(P          R      mAP50  mAP50-95):   0%|          | 0/4 [00:00<?, ?it/s]\n",
      "                 Class     Images  Instances      Box(P          R      mAP50  mAP50-95)     Mask(P          R      mAP50  mAP50-95):  25%|██▌       | 1/4 [00:00<00:00,  9.69it/s]\n",
      "                 Class     Images  Instances      Box(P          R      mAP50  mAP50-95)     Mask(P          R      mAP50  mAP50-95):  75%|███████▌  | 3/4 [00:00<00:00, 10.15it/s]\n"
     ]
    },
    {
     "name": "stdout",
     "output_type": "stream",
     "text": [
      "\u001b[36m(_tune pid=136939)\u001b[0m                    all        125         79    0.00315     0.0253      0.002   0.000579    0.00315     0.0253    0.00169   0.000338\n"
     ]
    },
    {
     "name": "stderr",
     "output_type": "stream",
     "text": [
      "                 Class     Images  Instances      Box(P          R      mAP50  mAP50-95)     Mask(P          R      mAP50  mAP50-95): 100%|██████████| 4/4 [00:00<00:00,  9.94it/s]\n"
     ]
    },
    {
     "name": "stdout",
     "output_type": "stream",
     "text": [
      "\u001b[36m(_tune pid=136939)\u001b[0m \n",
      "\u001b[36m(_tune pid=136939)\u001b[0m       Epoch    GPU_mem   box_loss   seg_loss   cls_loss   dfl_loss  Instances       Size\n"
     ]
    },
    {
     "name": "stderr",
     "output_type": "stream",
     "text": [
      "  0%|          | 0/20 [00:00<?, ?it/s]\n",
      "      15/20      2.74G      3.467      4.965      4.592      2.895         12        640:   5%|▌         | 1/20 [00:00<00:02,  7.09it/s]\n",
      "      15/20      2.74G      3.482      5.049      4.531      2.946          9        640:  10%|█         | 2/20 [00:00<00:02,  7.07it/s]\n",
      "      15/20      2.74G      3.387      5.063      4.439      2.878         11        640:  15%|█▌        | 3/20 [00:00<00:02,  7.06it/s]\n",
      "      15/20      2.74G      3.401      5.085      4.563       2.91          6        640:  20%|██        | 4/20 [00:00<00:02,  6.74it/s]\n",
      "      15/20      2.74G      3.422      5.078      4.566      2.902          8        640:  25%|██▌       | 5/20 [00:00<00:02,  6.87it/s]\n",
      "      15/20      2.74G      3.389      5.103      4.526      2.875          7        640:  30%|███       | 6/20 [00:00<00:02,  6.91it/s]\n",
      "      15/20      2.74G       3.37      5.093       4.53      2.878         11        640:  35%|███▌      | 7/20 [00:01<00:01,  6.95it/s]\n",
      "      15/20      2.74G      3.325      5.086      4.534      2.851         12        640:  40%|████      | 8/20 [00:01<00:01,  6.77it/s]\n",
      "      15/20      2.74G      3.315      5.086      4.582      2.846          6        640:  45%|████▌     | 9/20 [00:01<00:01,  6.88it/s]\n",
      "      15/20      2.74G      3.287      5.087      4.558      2.824          7        640:  50%|█████     | 10/20 [00:01<00:01,  6.93it/s]\n",
      "      15/20      2.74G      3.289      7.839      4.529      2.806         12        640:  55%|█████▌    | 11/20 [00:01<00:01,  6.97it/s]\n",
      "      15/20      2.74G      3.294      7.606       4.54      2.813          5        640:  60%|██████    | 12/20 [00:01<00:01,  6.80it/s]\n",
      "      15/20      2.74G      3.269      7.386      4.566      2.811          6        640:  65%|██████▌   | 13/20 [00:01<00:01,  6.90it/s]\n",
      "      15/20      2.74G      3.312      7.718      4.563      2.847         12        640:  70%|███████   | 14/20 [00:02<00:00,  6.89it/s]\n",
      "      15/20      2.74G      3.287      7.517      4.584      2.839          5        640:  75%|███████▌  | 15/20 [00:02<00:00,  6.92it/s]\n",
      "      15/20      2.74G      3.301      7.358      4.598      2.853         12        640:  80%|████████  | 16/20 [00:02<00:00,  6.76it/s]\n",
      "      15/20      2.74G      3.328      7.225      4.582      2.876         10        640:  85%|████████▌ | 17/20 [00:02<00:00,  6.85it/s]\n",
      "      15/20      2.74G      3.313      7.114      4.582      2.874         11        640:  90%|█████████ | 18/20 [00:02<00:00,  6.91it/s]\n",
      "      15/20      2.74G      3.325      7.005      4.577      2.881         14        640:  95%|█████████▌| 19/20 [00:02<00:00,  6.95it/s]\n",
      "      15/20      2.74G      3.358      6.893       4.58      2.904          3        640: 100%|██████████| 20/20 [00:02<00:00,  7.07it/s]\n",
      "                 Class     Images  Instances      Box(P          R      mAP50  mAP50-95)     Mask(P          R      mAP50  mAP50-95):   0%|          | 0/4 [00:00<?, ?it/s]\n",
      "                 Class     Images  Instances      Box(P          R      mAP50  mAP50-95)     Mask(P          R      mAP50  mAP50-95):  25%|██▌       | 1/4 [00:00<00:00,  8.28it/s]\n",
      "                 Class     Images  Instances      Box(P          R      mAP50  mAP50-95)     Mask(P          R      mAP50  mAP50-95):  50%|█████     | 2/4 [00:00<00:00,  7.60it/s]\n",
      "                 Class     Images  Instances      Box(P          R      mAP50  mAP50-95)     Mask(P          R      mAP50  mAP50-95):  75%|███████▌  | 3/4 [00:00<00:00,  7.61it/s]\n",
      "                 Class     Images  Instances      Box(P          R      mAP50  mAP50-95)     Mask(P          R      mAP50  mAP50-95): 100%|██████████| 4/4 [00:00<00:00,  7.84it/s]\n"
     ]
    },
    {
     "name": "stdout",
     "output_type": "stream",
     "text": [
      "\u001b[36m(_tune pid=136939)\u001b[0m                    all        125         79    0.00163      0.291    0.00282    0.00076   0.000283     0.0506   0.000169   2.82e-05\n",
      "\u001b[36m(_tune pid=136939)\u001b[0m \n",
      "\u001b[36m(_tune pid=136939)\u001b[0m       Epoch    GPU_mem   box_loss   seg_loss   cls_loss   dfl_loss  Instances       Size\n"
     ]
    },
    {
     "name": "stderr",
     "output_type": "stream",
     "text": [
      "  0%|          | 0/20 [00:00<?, ?it/s]\n",
      "      16/20      2.74G      3.196      5.002       4.65      2.872         10        640:   5%|▌         | 1/20 [00:00<00:02,  7.11it/s]\n",
      "      16/20      2.74G      2.968       4.92      4.606      2.703          9        640:  10%|█         | 2/20 [00:00<00:02,  7.01it/s]\n",
      "      16/20      2.74G      3.044      4.938      4.591      2.703          9        640:  15%|█▌        | 3/20 [00:00<00:02,  7.06it/s]\n",
      "      16/20      2.74G      3.082      5.405      4.649      2.761          7        640:  20%|██        | 4/20 [00:00<00:02,  6.81it/s]\n",
      "      16/20      2.74G      3.199      5.328       4.63      2.816          7        640:  25%|██▌       | 5/20 [00:00<00:02,  6.93it/s]\n",
      "      16/20      2.74G      3.187      5.248      4.589      2.799         11        640:  30%|███       | 6/20 [00:00<00:02,  6.98it/s]\n",
      "      16/20      2.74G       3.19      5.734      4.666      2.832          7        640:  35%|███▌      | 7/20 [00:01<00:01,  6.99it/s]\n",
      "      16/20      2.74G      3.185      5.645      4.699      2.842          7        640:  40%|████      | 8/20 [00:01<00:01,  6.82it/s]\n",
      "      16/20      2.74G      3.212      5.593      4.653      2.878          9        640:  45%|████▌     | 9/20 [00:01<00:01,  6.89it/s]\n",
      "      16/20      2.74G      3.189      5.531      4.647      2.854          9        640:  50%|█████     | 10/20 [00:01<00:01,  6.91it/s]\n",
      "      16/20      2.74G      3.218      5.474      4.631      2.875         17        640:  55%|█████▌    | 11/20 [00:01<00:01,  6.94it/s]\n",
      "      16/20      2.74G      3.196      5.437      4.649      2.853          6        640:  60%|██████    | 12/20 [00:01<00:01,  6.78it/s]\n",
      "      16/20      2.74G      3.259      5.409       4.66      2.885          8        640:  65%|██████▌   | 13/20 [00:01<00:01,  6.88it/s]\n",
      "      16/20      2.74G      3.257      5.385       4.65       2.88          9        640:  70%|███████   | 14/20 [00:02<00:00,  6.92it/s]\n",
      "      16/20      2.74G      3.272      5.416       4.65      2.889         12        640:  75%|███████▌  | 15/20 [00:02<00:00,  6.95it/s]\n",
      "      16/20      2.74G      3.289        5.4      4.642      2.905         12        640:  80%|████████  | 16/20 [00:02<00:00,  6.78it/s]\n",
      "      16/20      2.74G      3.279      7.879      4.635      2.899         13        640:  85%|████████▌ | 17/20 [00:02<00:00,  6.85it/s]\n",
      "      16/20      2.74G      3.306      7.726      4.632       2.91         10        640:  90%|█████████ | 18/20 [00:02<00:00,  6.89it/s]\n",
      "      16/20      2.75G      3.303      12.01      4.642      2.907          4        640: 100%|██████████| 20/20 [00:02<00:00,  7.08it/s]\n",
      "                 Class     Images  Instances      Box(P          R      mAP50  mAP50-95)     Mask(P          R      mAP50  mAP50-95):   0%|          | 0/4 [00:00<?, ?it/s]\n",
      "                 Class     Images  Instances      Box(P          R      mAP50  mAP50-95)     Mask(P          R      mAP50  mAP50-95):  25%|██▌       | 1/4 [00:00<00:00,  8.29it/s]\n",
      "                 Class     Images  Instances      Box(P          R      mAP50  mAP50-95)     Mask(P          R      mAP50  mAP50-95):  50%|█████     | 2/4 [00:00<00:00,  7.60it/s]\n",
      "                 Class     Images  Instances      Box(P          R      mAP50  mAP50-95)     Mask(P          R      mAP50  mAP50-95):  75%|███████▌  | 3/4 [00:00<00:00,  7.59it/s]\n",
      "                 Class     Images  Instances      Box(P          R      mAP50  mAP50-95)     Mask(P          R      mAP50  mAP50-95): 100%|██████████| 4/4 [00:00<00:00,  7.84it/s]\n"
     ]
    },
    {
     "name": "stdout",
     "output_type": "stream",
     "text": [
      "\u001b[36m(_tune pid=136939)\u001b[0m                    all        125         79    0.00295      0.329    0.00251   0.000762    0.00034      0.038   0.000195   4.34e-05\n",
      "\u001b[36m(_tune pid=136939)\u001b[0m \n",
      "\u001b[36m(_tune pid=136939)\u001b[0m       Epoch    GPU_mem   box_loss   seg_loss   cls_loss   dfl_loss  Instances       Size\n"
     ]
    },
    {
     "name": "stderr",
     "output_type": "stream",
     "text": [
      "  0%|          | 0/20 [00:00<?, ?it/s]\n",
      "      17/20      2.75G      3.802      4.879      4.492      3.134          8        640:   5%|▌         | 1/20 [00:00<00:02,  7.08it/s]\n",
      "      17/20      2.75G        3.2      4.923      4.826      2.961          4        640:  10%|█         | 2/20 [00:00<00:02,  7.09it/s]\n",
      "      17/20      2.75G      3.303      4.885      4.724      2.921          9        640:  15%|█▌        | 3/20 [00:00<00:02,  7.07it/s]\n",
      "      17/20      2.75G      3.365      4.875      4.699      2.949         13        640:  20%|██        | 4/20 [00:00<00:02,  6.67it/s]\n",
      "      17/20      2.75G      3.257      4.844      4.724      2.872          7        640:  25%|██▌       | 5/20 [00:00<00:02,  6.83it/s]\n",
      "      17/20      2.75G      3.272      4.879      4.668      2.858         14        640:  30%|███       | 6/20 [00:00<00:02,  6.82it/s]\n",
      "      17/20      2.75G      3.275      4.893      4.632      2.846         11        640:  35%|███▌      | 7/20 [00:01<00:01,  6.89it/s]\n",
      "      17/20      2.75G      3.309      4.914      4.673       2.84          7        640:  40%|████      | 8/20 [00:01<00:01,  6.73it/s]\n",
      "      17/20      2.75G      3.295      4.918      4.625      2.817         15        640:  45%|████▌     | 9/20 [00:01<00:01,  6.83it/s]\n",
      "      17/20      2.75G      3.306      4.934      4.609      2.838         13        640:  50%|█████     | 10/20 [00:01<00:01,  6.87it/s]\n",
      "      17/20      2.75G      3.362      4.951      4.602      2.848          9        640:  55%|█████▌    | 11/20 [00:01<00:01,  6.95it/s]\n",
      "      17/20      2.75G      3.394      4.962      4.613      2.856         10        640:  60%|██████    | 12/20 [00:01<00:01,  6.78it/s]\n",
      "      17/20      2.75G      3.407      4.955        4.6      2.873          7        640:  65%|██████▌   | 13/20 [00:01<00:01,  6.88it/s]\n",
      "      17/20      2.75G      3.429      6.015      4.586      2.882          7        640:  70%|███████   | 14/20 [00:02<00:00,  6.91it/s]\n",
      "      17/20      2.75G      3.417      5.946      4.575      2.874         12        640:  75%|███████▌  | 15/20 [00:02<00:00,  6.94it/s]\n",
      "      17/20      2.75G      3.411      5.887      4.558       2.87         12        640:  80%|████████  | 16/20 [00:02<00:00,  6.77it/s]\n",
      "      17/20      2.75G      3.404       5.82       4.56      2.857          9        640:  85%|████████▌ | 17/20 [00:02<00:00,  6.85it/s]\n",
      "      17/20      2.75G      3.407      5.778      4.564      2.866          6        640:  90%|█████████ | 18/20 [00:02<00:00,  6.92it/s]\n",
      "      17/20      2.75G      3.427      5.737       4.58      2.855          5        640:  95%|█████████▌| 19/20 [00:02<00:00,  6.97it/s]\n",
      "      17/20      2.76G      3.375      5.704      4.659      2.816          1        640: 100%|██████████| 20/20 [00:02<00:00,  7.06it/s]\n",
      "                 Class     Images  Instances      Box(P          R      mAP50  mAP50-95)     Mask(P          R      mAP50  mAP50-95):   0%|          | 0/4 [00:00<?, ?it/s]\n",
      "                 Class     Images  Instances      Box(P          R      mAP50  mAP50-95)     Mask(P          R      mAP50  mAP50-95):  25%|██▌       | 1/4 [00:00<00:00,  8.32it/s]\n",
      "                 Class     Images  Instances      Box(P          R      mAP50  mAP50-95)     Mask(P          R      mAP50  mAP50-95):  50%|█████     | 2/4 [00:00<00:00,  7.65it/s]\n",
      "                 Class     Images  Instances      Box(P          R      mAP50  mAP50-95)     Mask(P          R      mAP50  mAP50-95):  75%|███████▌  | 3/4 [00:00<00:00,  7.62it/s]\n"
     ]
    },
    {
     "name": "stdout",
     "output_type": "stream",
     "text": [
      "\u001b[36m(_tune pid=136939)\u001b[0m                    all        125         79    0.00282      0.291    0.00258   0.000692   0.000367      0.038   0.000197   3.24e-05\n"
     ]
    },
    {
     "name": "stderr",
     "output_type": "stream",
     "text": [
      "                 Class     Images  Instances      Box(P          R      mAP50  mAP50-95)     Mask(P          R      mAP50  mAP50-95): 100%|██████████| 4/4 [00:00<00:00,  7.80it/s]\n"
     ]
    },
    {
     "name": "stdout",
     "output_type": "stream",
     "text": [
      "\u001b[36m(_tune pid=136939)\u001b[0m \n",
      "\u001b[36m(_tune pid=136939)\u001b[0m       Epoch    GPU_mem   box_loss   seg_loss   cls_loss   dfl_loss  Instances       Size\n"
     ]
    },
    {
     "name": "stderr",
     "output_type": "stream",
     "text": [
      "  0%|          | 0/20 [00:00<?, ?it/s]\n",
      "      18/20      2.76G      3.751      5.256      4.495      2.965          8        640:   5%|▌         | 1/20 [00:00<00:02,  7.10it/s]\n",
      "      18/20      2.76G      3.665      5.129      4.449       2.92         11        640:  10%|█         | 2/20 [00:00<00:02,  7.07it/s]\n",
      "      18/20      2.76G      3.537      5.007      4.511      2.906         10        640:  15%|█▌        | 3/20 [00:00<00:02,  7.08it/s]\n",
      "      18/20      2.76G      3.385      5.036      4.496      2.832          8        640:  20%|██        | 4/20 [00:00<00:02,  6.82it/s]\n",
      "      18/20      2.76G        3.4      4.993      4.506      2.811         10        640:  25%|██▌       | 5/20 [00:00<00:02,  6.92it/s]\n",
      "      18/20      2.76G      3.451      5.001      4.521      2.826          5        640:  30%|███       | 6/20 [00:00<00:02,  6.99it/s]\n",
      "      18/20      2.76G      3.449      4.986      4.481      2.837         11        640:  35%|███▌      | 7/20 [00:01<00:01,  6.99it/s]\n",
      "      18/20      2.76G      3.423      4.958      4.487      2.822         10        640:  40%|████      | 8/20 [00:01<00:01,  6.77it/s]\n",
      "      18/20      2.76G      3.368      4.972      4.506      2.794         10        640:  45%|████▌     | 9/20 [00:01<00:01,  6.84it/s]\n",
      "      18/20      2.76G      3.392       4.98      4.548      2.787          6        640:  50%|█████     | 10/20 [00:01<00:01,  6.93it/s]\n",
      "      18/20      2.76G      3.366      5.006      4.539      2.766         13        640:  55%|█████▌    | 11/20 [00:01<00:01,  6.94it/s]\n",
      "      18/20      2.76G      3.415      4.985      4.566      2.785          6        640:  60%|██████    | 12/20 [00:01<00:01,  6.79it/s]\n",
      "      18/20      2.76G      3.438       4.98      4.554      2.784         15        640:  65%|██████▌   | 13/20 [00:01<00:01,  6.86it/s]\n",
      "      18/20      2.76G      3.371      4.971      4.604      2.754          3        640:  70%|███████   | 14/20 [00:02<00:00,  6.94it/s]\n",
      "      18/20      2.76G      3.335      4.967      4.595      2.735         13        640:  75%|███████▌  | 15/20 [00:02<00:00,  6.97it/s]\n",
      "      18/20      2.76G      3.326      4.958       4.61      2.724          6        640:  80%|████████  | 16/20 [00:02<00:00,  6.81it/s]\n",
      "      18/20      2.76G      3.314      4.964      4.595      2.721          8        640:  85%|████████▌ | 17/20 [00:02<00:00,  6.89it/s]\n",
      "      18/20      2.76G      3.291      4.961      4.581      2.709         10        640:  90%|█████████ | 18/20 [00:02<00:00,  6.92it/s]\n",
      "      18/20      2.77G      3.305      4.962      4.544      2.721          3        640: 100%|██████████| 20/20 [00:02<00:00,  7.10it/s]\n",
      "                 Class     Images  Instances      Box(P          R      mAP50  mAP50-95)     Mask(P          R      mAP50  mAP50-95):   0%|          | 0/4 [00:00<?, ?it/s]\n",
      "                 Class     Images  Instances      Box(P          R      mAP50  mAP50-95)     Mask(P          R      mAP50  mAP50-95):  25%|██▌       | 1/4 [00:00<00:00,  8.27it/s]\n",
      "                 Class     Images  Instances      Box(P          R      mAP50  mAP50-95)     Mask(P          R      mAP50  mAP50-95):  50%|█████     | 2/4 [00:00<00:00,  7.62it/s]\n",
      "                 Class     Images  Instances      Box(P          R      mAP50  mAP50-95)     Mask(P          R      mAP50  mAP50-95):  75%|███████▌  | 3/4 [00:00<00:00,  7.62it/s]\n",
      "                 Class     Images  Instances      Box(P          R      mAP50  mAP50-95)     Mask(P          R      mAP50  mAP50-95): 100%|██████████| 4/4 [00:00<00:00,  7.82it/s]\n"
     ]
    },
    {
     "name": "stdout",
     "output_type": "stream",
     "text": [
      "\u001b[36m(_tune pid=136939)\u001b[0m                    all        125         79    0.00313      0.316    0.00266   0.000844   0.000626     0.0633    0.00034   5.32e-05\n",
      "\u001b[36m(_tune pid=136939)\u001b[0m \n",
      "\u001b[36m(_tune pid=136939)\u001b[0m       Epoch    GPU_mem   box_loss   seg_loss   cls_loss   dfl_loss  Instances       Size\n"
     ]
    },
    {
     "name": "stderr",
     "output_type": "stream",
     "text": [
      "  0%|          | 0/20 [00:00<?, ?it/s]\n",
      "      19/20      2.77G      3.166      5.075      4.475      2.513         10        640:   5%|▌         | 1/20 [00:00<00:02,  6.89it/s]\n",
      "      19/20      2.77G      3.376      4.828      4.551      2.716          7        640:  10%|█         | 2/20 [00:00<00:02,  6.99it/s]\n",
      "      19/20      2.77G       3.24      4.926      4.503      2.711          9        640:  15%|█▌        | 3/20 [00:00<00:02,  7.02it/s]\n",
      "      19/20      2.77G      3.318      4.964      4.511       2.73          7        640:  20%|██        | 4/20 [00:00<00:02,  6.78it/s]\n",
      "      19/20      2.77G      3.335      5.029      4.475      2.726         15        640:  25%|██▌       | 5/20 [00:00<00:02,  6.88it/s]\n",
      "      19/20      2.77G      3.282      4.981      4.444      2.711         13        640:  30%|███       | 6/20 [00:00<00:02,  6.93it/s]\n",
      "      19/20      2.77G      3.282      5.003      4.445       2.71          9        640:  35%|███▌      | 7/20 [00:01<00:01,  6.98it/s]\n",
      "      19/20      2.77G      3.272      5.031      4.509      2.714          7        640:  40%|████      | 8/20 [00:01<00:01,  6.78it/s]\n",
      "      19/20      2.77G      3.316      5.002      4.505      2.719         15        640:  45%|████▌     | 9/20 [00:01<00:01,  6.86it/s]\n",
      "      19/20      2.77G        3.3      5.001      4.494      2.714         15        640:  50%|█████     | 10/20 [00:01<00:01,  6.89it/s]\n",
      "      19/20      2.77G      3.292      4.985      4.497      2.729          8        640:  55%|█████▌    | 11/20 [00:01<00:01,  6.94it/s]\n",
      "      19/20      2.77G      3.274      4.964      4.533      2.712          8        640:  60%|██████    | 12/20 [00:01<00:01,  6.76it/s]\n",
      "      19/20      2.77G      3.267      4.969      4.522      2.713          9        640:  65%|██████▌   | 13/20 [00:01<00:01,  6.85it/s]\n",
      "      19/20      2.77G      3.246      4.957      4.535      2.702          8        640:  70%|███████   | 14/20 [00:02<00:00,  6.91it/s]\n",
      "      19/20      2.77G      3.222      4.968      4.582      2.693          4        640:  75%|███████▌  | 15/20 [00:02<00:00,  6.95it/s]\n",
      "      19/20      2.77G      3.218       4.96      4.576      2.685         12        640:  80%|████████  | 16/20 [00:02<00:00,  6.75it/s]\n",
      "      19/20      2.77G       3.21      4.949      4.577      2.686          5        640:  85%|████████▌ | 17/20 [00:02<00:00,  6.85it/s]\n",
      "      19/20      2.77G      3.222       4.96      4.593      2.699         10        640:  90%|█████████ | 18/20 [00:02<00:00,  6.90it/s]\n",
      "      19/20      2.77G      3.244      4.959      4.591      2.717          9        640:  95%|█████████▌| 19/20 [00:02<00:00,  6.93it/s]\n",
      "      19/20      2.78G      3.207      4.981      4.638      2.699          1        640: 100%|██████████| 20/20 [00:02<00:00,  7.06it/s]\n",
      "                 Class     Images  Instances      Box(P          R      mAP50  mAP50-95)     Mask(P          R      mAP50  mAP50-95):   0%|          | 0/4 [00:00<?, ?it/s]\n",
      "                 Class     Images  Instances      Box(P          R      mAP50  mAP50-95)     Mask(P          R      mAP50  mAP50-95):  50%|█████     | 2/4 [00:00<00:00, 11.70it/s]\n",
      "                 Class     Images  Instances      Box(P          R      mAP50  mAP50-95)     Mask(P          R      mAP50  mAP50-95): 100%|██████████| 4/4 [00:00<00:00, 11.81it/s]\n"
     ]
    },
    {
     "name": "stdout",
     "output_type": "stream",
     "text": [
      "\u001b[36m(_tune pid=136939)\u001b[0m                    all        125         79          0          0          0          0          0          0          0          0\n",
      "\u001b[36m(_tune pid=136939)\u001b[0m \n",
      "\u001b[36m(_tune pid=136939)\u001b[0m       Epoch    GPU_mem   box_loss   seg_loss   cls_loss   dfl_loss  Instances       Size\n"
     ]
    },
    {
     "name": "stderr",
     "output_type": "stream",
     "text": [
      "  0%|          | 0/20 [00:00<?, ?it/s]\n",
      "      20/20      2.78G      3.475        4.7      4.403      2.706          8        640:   5%|▌         | 1/20 [00:00<00:02,  7.12it/s]\n",
      "      20/20      2.78G      3.254      4.809      4.536      2.717          6        640:  10%|█         | 2/20 [00:00<00:02,  7.08it/s]\n",
      "      20/20      2.78G      3.385      4.815      4.513      2.779          9        640:  15%|█▌        | 3/20 [00:00<00:02,  7.06it/s]\n",
      "      20/20      2.78G      3.378      4.899      4.426      2.769         12        640:  20%|██        | 4/20 [00:00<00:02,  6.75it/s]\n",
      "      20/20      2.78G      3.411       4.96      4.393      2.771          9        640:  25%|██▌       | 5/20 [00:00<00:02,  6.85it/s]\n",
      "      20/20      2.78G       3.27      4.962      4.424      2.674         11        640:  30%|███       | 6/20 [00:00<00:02,  6.90it/s]\n",
      "      20/20      2.78G       3.29      4.944      4.411       2.69         15        640:  35%|███▌      | 7/20 [00:01<00:01,  6.90it/s]\n",
      "      20/20      2.78G      3.267      4.928       4.41      2.674          8        640:  40%|████      | 8/20 [00:01<00:01,  6.71it/s]\n",
      "      20/20      2.78G      3.258      4.946      4.387      2.663         12        640:  45%|████▌     | 9/20 [00:01<00:01,  6.79it/s]\n",
      "      20/20      2.78G      3.269      4.935      4.379      2.675         13        640:  50%|█████     | 10/20 [00:01<00:01,  6.84it/s]\n",
      "      20/20      2.78G      3.287      4.932      4.374       2.68         11        640:  55%|█████▌    | 11/20 [00:01<00:01,  6.89it/s]\n",
      "      20/20      2.78G      3.282      4.979      4.412      2.669          5        640:  60%|██████    | 12/20 [00:01<00:01,  6.74it/s]\n",
      "      20/20      2.78G      3.317      4.986      4.412      2.697         11        640:  65%|██████▌   | 13/20 [00:01<00:01,  6.81it/s]\n",
      "      20/20      2.78G      3.256      4.979      4.434      2.673          6        640:  70%|███████   | 14/20 [00:02<00:00,  6.88it/s]\n",
      "      20/20      2.78G      3.327      4.942      4.523      2.701          5        640:  75%|███████▌  | 15/20 [00:02<00:00,  6.94it/s]\n",
      "      20/20      2.78G      3.334      4.956      4.503      2.707         10        640:  80%|████████  | 16/20 [00:02<00:00,  6.76it/s]\n",
      "      20/20      2.78G      3.356      4.963      4.496      2.716         10        640:  85%|████████▌ | 17/20 [00:02<00:00,  6.85it/s]\n",
      "      20/20      2.78G       3.35      4.962      4.495      2.713          8        640:  90%|█████████ | 18/20 [00:02<00:00,  6.88it/s]\n",
      "      20/20      2.78G       3.34      4.966      4.503      2.714          8        640:  95%|█████████▌| 19/20 [00:02<00:00,  6.92it/s]\n",
      "      20/20      2.78G      3.332      4.956      4.499      2.714          2        640: 100%|██████████| 20/20 [00:02<00:00,  7.04it/s]\n",
      "                 Class     Images  Instances      Box(P          R      mAP50  mAP50-95)     Mask(P          R      mAP50  mAP50-95):   0%|          | 0/4 [00:00<?, ?it/s]\n",
      "                 Class     Images  Instances      Box(P          R      mAP50  mAP50-95)     Mask(P          R      mAP50  mAP50-95):  25%|██▌       | 1/4 [00:00<00:00,  7.54it/s]\n",
      "                 Class     Images  Instances      Box(P          R      mAP50  mAP50-95)     Mask(P          R      mAP50  mAP50-95):  50%|█████     | 2/4 [00:00<00:00,  7.01it/s]\n",
      "                 Class     Images  Instances      Box(P          R      mAP50  mAP50-95)     Mask(P          R      mAP50  mAP50-95):  75%|███████▌  | 3/4 [00:00<00:00,  6.98it/s]\n"
     ]
    },
    {
     "name": "stdout",
     "output_type": "stream",
     "text": [
      "\u001b[36m(_tune pid=136939)\u001b[0m                    all        125         79   0.000794      0.367    0.00112   0.000349   0.000466      0.215   0.000419    0.00011\n"
     ]
    },
    {
     "name": "stderr",
     "output_type": "stream",
     "text": [
      "                 Class     Images  Instances      Box(P          R      mAP50  mAP50-95)     Mask(P          R      mAP50  mAP50-95): 100%|██████████| 4/4 [00:00<00:00,  7.19it/s]\n"
     ]
    },
    {
     "name": "stdout",
     "output_type": "stream",
     "text": [
      "\u001b[36m(_tune pid=137578)\u001b[0m New https://pypi.org/project/ultralytics/8.3.107 available 😃 Update with 'pip install -U ultralytics'\n",
      "\u001b[36m(_tune pid=137578)\u001b[0m Ultralytics 8.3.96 🚀 Python-3.10.16 torch-2.6.0+cu124 CUDA:0 (NVIDIA GeForce RTX 3060, 11912MiB)\n",
      "\u001b[36m(_tune pid=137578)\u001b[0m \u001b[34m\u001b[1mengine/trainer: \u001b[0mtask=segment, mode=train, model=models/backbone/yolov8n-seg.pt, data=/home/memorista01/tesis/datasets_yaml/Deepfish.yaml, epochs=20, time=None, patience=100, batch=16, imgsz=640, save=True, save_period=-1, cache=False, device=None, workers=8, project=None, name=train, exist_ok=False, pretrained=True, optimizer=SGD, verbose=True, seed=0, deterministic=True, single_cls=False, rect=False, cos_lr=False, close_mosaic=10, resume=False, amp=True, fraction=1.0, profile=False, freeze=None, multi_scale=False, overlap_mask=True, mask_ratio=4, dropout=0.0, val=True, split=val, save_json=False, save_hybrid=False, conf=None, iou=0.7, max_det=300, half=False, dnn=False, plots=True, source=None, vid_stride=1, stream_buffer=False, visualize=False, augment=False, agnostic_nms=False, classes=None, retina_masks=False, embed=None, show=False, save_frames=False, save_txt=False, save_conf=False, save_crop=False, show_labels=True, show_conf=True, show_boxes=True, line_width=None, format=torchscript, keras=False, optimize=False, int8=False, dynamic=False, simplify=True, opset=None, workspace=None, nms=False, lr0=0.029557516200067982, lrf=0.1545565333940312, momentum=0.8706388442743695, weight_decay=0.00013981910284603693, warmup_epochs=1.9406513274461668, warmup_momentum=0.7254759723024723, warmup_bias_lr=0.1, box=7.5, cls=0.5, dfl=1.5, pose=12.0, kobj=1.0, nbs=64, hsv_h=0.015, hsv_s=0.7, hsv_v=0.4, degrees=0.0, translate=0.1, scale=0.5, shear=0.0, perspective=0.0, flipud=0.0, fliplr=0.5, bgr=0.0, mosaic=1.0, mixup=0.0, copy_paste=0.0, copy_paste_mode=flip, auto_augment=randaugment, erasing=0.4, crop_fraction=1.0, cfg=None, tracker=botsort.yaml, save_dir=runs/segment/train\n",
      "\u001b[36m(_tune pid=137578)\u001b[0m Overriding model.yaml nc=80 with nc=1\n",
      "\u001b[36m(_tune pid=137578)\u001b[0m \n",
      "\u001b[36m(_tune pid=137578)\u001b[0m                    from  n    params  module                                       arguments                     \n",
      "\u001b[36m(_tune pid=137578)\u001b[0m   0                  -1  1       464  ultralytics.nn.modules.conv.Conv             [3, 16, 3, 2]                 \n",
      "\u001b[36m(_tune pid=137578)\u001b[0m   1                  -1  1      4672  ultralytics.nn.modules.conv.Conv             [16, 32, 3, 2]                \n",
      "\u001b[36m(_tune pid=137578)\u001b[0m   2                  -1  1      7360  ultralytics.nn.modules.block.C2f             [32, 32, 1, True]             \n",
      "\u001b[36m(_tune pid=137578)\u001b[0m   3                  -1  1     18560  ultralytics.nn.modules.conv.Conv             [32, 64, 3, 2]                \n",
      "\u001b[36m(_tune pid=137578)\u001b[0m   4                  -1  2     49664  ultralytics.nn.modules.block.C2f             [64, 64, 2, True]             \n",
      "\u001b[36m(_tune pid=137578)\u001b[0m   5                  -1  1     73984  ultralytics.nn.modules.conv.Conv             [64, 128, 3, 2]               \n",
      "\u001b[36m(_tune pid=137578)\u001b[0m   6                  -1  2    197632  ultralytics.nn.modules.block.C2f             [128, 128, 2, True]           \n",
      "\u001b[36m(_tune pid=137578)\u001b[0m   7                  -1  1    295424  ultralytics.nn.modules.conv.Conv             [128, 256, 3, 2]              \n",
      "\u001b[36m(_tune pid=137578)\u001b[0m   8                  -1  1    460288  ultralytics.nn.modules.block.C2f             [256, 256, 1, True]           \n",
      "\u001b[36m(_tune pid=137578)\u001b[0m   9                  -1  1    164608  ultralytics.nn.modules.block.SPPF            [256, 256, 5]                 \n",
      "\u001b[36m(_tune pid=137578)\u001b[0m  10                  -1  1         0  torch.nn.modules.upsampling.Upsample         [None, 2, 'nearest']          \n",
      "\u001b[36m(_tune pid=137578)\u001b[0m  11             [-1, 6]  1         0  ultralytics.nn.modules.conv.Concat           [1]                           \n",
      "\u001b[36m(_tune pid=137578)\u001b[0m  12                  -1  1    148224  ultralytics.nn.modules.block.C2f             [384, 128, 1]                 \n",
      "\u001b[36m(_tune pid=137578)\u001b[0m  13                  -1  1         0  torch.nn.modules.upsampling.Upsample         [None, 2, 'nearest']          \n",
      "\u001b[36m(_tune pid=137578)\u001b[0m  14             [-1, 4]  1         0  ultralytics.nn.modules.conv.Concat           [1]                           \n",
      "\u001b[36m(_tune pid=137578)\u001b[0m  15                  -1  1     37248  ultralytics.nn.modules.block.C2f             [192, 64, 1]                  \n",
      "\u001b[36m(_tune pid=137578)\u001b[0m  16                  -1  1     36992  ultralytics.nn.modules.conv.Conv             [64, 64, 3, 2]                \n",
      "\u001b[36m(_tune pid=137578)\u001b[0m  17            [-1, 12]  1         0  ultralytics.nn.modules.conv.Concat           [1]                           \n",
      "\u001b[36m(_tune pid=137578)\u001b[0m  18                  -1  1    123648  ultralytics.nn.modules.block.C2f             [192, 128, 1]                 \n",
      "\u001b[36m(_tune pid=137578)\u001b[0m  19                  -1  1    147712  ultralytics.nn.modules.conv.Conv             [128, 128, 3, 2]              \n",
      "\u001b[36m(_tune pid=137578)\u001b[0m  20             [-1, 9]  1         0  ultralytics.nn.modules.conv.Concat           [1]                           \n",
      "\u001b[36m(_tune pid=137578)\u001b[0m  21                  -1  1    493056  ultralytics.nn.modules.block.C2f             [384, 256, 1]                 \n",
      "\u001b[36m(_tune pid=137578)\u001b[0m  22        [15, 18, 21]  1   1004275  ultralytics.nn.modules.head.Segment          [1, 32, 64, [64, 128, 256]]   \n",
      "\u001b[36m(_tune pid=137578)\u001b[0m YOLOv8n-seg summary: 151 layers, 3,263,811 parameters, 3,263,795 gradients, 12.1 GFLOPs\n",
      "\u001b[36m(_tune pid=137578)\u001b[0m \n",
      "\u001b[36m(_tune pid=137578)\u001b[0m Transferred 381/417 items from pretrained weights\n",
      "\u001b[36m(_tune pid=137578)\u001b[0m Freezing layer 'model.22.dfl.conv.weight'\n",
      "\u001b[36m(_tune pid=137578)\u001b[0m \u001b[34m\u001b[1mAMP: \u001b[0mrunning Automatic Mixed Precision (AMP) checks...\n",
      "\u001b[36m(_tune pid=137578)\u001b[0m Downloading https://github.com/ultralytics/assets/releases/download/v8.3.0/yolo11n.pt to 'yolo11n.pt'...\n"
     ]
    },
    {
     "name": "stderr",
     "output_type": "stream",
     "text": [
      "  0%|          | 0.00/5.35M [00:00<?, ?B/s]\n",
      " 21%|██        | 1.12M/5.35M [00:00<00:00, 11.4MB/s]\n",
      " 42%|████▏     | 2.25M/5.35M [00:00<00:00, 11.6MB/s]\n",
      " 63%|██████▎   | 3.38M/5.35M [00:00<00:00, 11.6MB/s]\n",
      " 84%|████████▍ | 4.50M/5.35M [00:00<00:00, 11.5MB/s]\n",
      "100%|██████████| 5.35M/5.35M [00:00<00:00, 11.4MB/s]\n"
     ]
    },
    {
     "name": "stdout",
     "output_type": "stream",
     "text": [
      "\u001b[36m(_tune pid=137578)\u001b[0m \u001b[34m\u001b[1mAMP: \u001b[0mchecks passed ✅\n"
     ]
    },
    {
     "name": "stderr",
     "output_type": "stream",
     "text": [
      "\u001b[34m\u001b[1mtrain: \u001b[0mScanning /home/memorista01/tesis/datasets_yolo/Deepfish/labels/train.cache... 148 images, 161 backgrounds, 0 corrupt: 100%|██████████| 309/309 [00:00<?, ?it/s]\n",
      "\u001b[34m\u001b[1mval: \u001b[0mScanning /home/memorista01/tesis/datasets_yolo/Deepfish/labels/valid.cache... 66 images, 59 backgrounds, 0 corrupt: 100%|██████████| 125/125 [00:00<?, ?it/s]\n"
     ]
    },
    {
     "name": "stdout",
     "output_type": "stream",
     "text": [
      "\u001b[36m(_tune pid=137578)\u001b[0m Plotting labels to runs/segment/train/labels.jpg... \n",
      "\u001b[36m(_tune pid=137578)\u001b[0m \u001b[34m\u001b[1moptimizer:\u001b[0m SGD(lr=0.029557516200067982, momentum=0.8706388442743695) with parameter groups 66 weight(decay=0.0), 77 weight(decay=0.00013981910284603693), 76 bias(decay=0.0)\n",
      "\u001b[36m(_tune pid=137578)\u001b[0m Image sizes 640 train, 640 val\n",
      "\u001b[36m(_tune pid=137578)\u001b[0m Using 8 dataloader workers\n",
      "\u001b[36m(_tune pid=137578)\u001b[0m Logging results to \u001b[1mruns/segment/train\u001b[0m\n",
      "\u001b[36m(_tune pid=137578)\u001b[0m Starting training for 20 epochs...\n",
      "\u001b[36m(_tune pid=137578)\u001b[0m \n",
      "\u001b[36m(_tune pid=137578)\u001b[0m       Epoch    GPU_mem   box_loss   seg_loss   cls_loss   dfl_loss  Instances       Size\n"
     ]
    },
    {
     "name": "stderr",
     "output_type": "stream",
     "text": [
      "  0%|          | 0/20 [00:00<?, ?it/s]\n",
      "       1/20      2.46G      1.305      1.261      6.773      1.394          5        640:   5%|▌         | 1/20 [00:00<00:08,  2.35it/s]\n",
      "       1/20      2.46G      1.168      1.673      5.465      1.301         18        640:  10%|█         | 2/20 [00:00<00:05,  3.52it/s]\n",
      "       1/20      2.46G      1.427      2.284      4.992      1.438         28        640:  15%|█▌        | 3/20 [00:00<00:04,  3.94it/s]\n",
      "       1/20      2.46G      1.267      2.221      4.748      1.345         19        640:  20%|██        | 4/20 [00:01<00:03,  4.35it/s]\n",
      "       1/20      2.46G      1.295       2.26      4.738      1.329         17        640:  25%|██▌       | 5/20 [00:01<00:03,  4.87it/s]\n",
      "       1/20      2.46G      1.343      2.435      4.947      1.346         10        640:  30%|███       | 6/20 [00:01<00:02,  5.32it/s]\n",
      "       1/20      2.46G      1.322      2.458      4.872      1.333         18        640:  35%|███▌      | 7/20 [00:01<00:02,  5.64it/s]\n",
      "       1/20      2.46G      1.301      2.444      4.725      1.311         27        640:  40%|████      | 8/20 [00:01<00:02,  5.72it/s]\n",
      "       1/20      2.47G      1.318       2.49      4.639      1.327         24        640:  45%|████▌     | 9/20 [00:01<00:01,  5.86it/s]\n",
      "       1/20      2.47G      1.319      2.525      4.618      1.323         18        640:  50%|█████     | 10/20 [00:01<00:01,  5.97it/s]\n",
      "       1/20      2.48G      1.341      2.562      4.593      1.344         19        640:  55%|█████▌    | 11/20 [00:02<00:01,  6.07it/s]\n",
      "       1/20      2.48G      1.349      2.574      4.627      1.348         16        640:  60%|██████    | 12/20 [00:02<00:01,  6.18it/s]\n",
      "       1/20      2.48G       1.35      2.522      4.612      1.335         17        640:  65%|██████▌   | 13/20 [00:02<00:01,  6.23it/s]\n",
      "       1/20      2.48G      1.377      2.588      4.605      1.338         22        640:  70%|███████   | 14/20 [00:02<00:00,  6.26it/s]\n",
      "       1/20      2.48G      1.373      2.598      4.569      1.332         20        640:  75%|███████▌  | 15/20 [00:02<00:00,  6.30it/s]\n",
      "       1/20      2.48G       1.37      2.579      4.509      1.324         28        640:  80%|████████  | 16/20 [00:02<00:00,  6.30it/s]\n",
      "       1/20      2.48G      1.361      2.552      4.523      1.323         11        640:  85%|████████▌ | 17/20 [00:03<00:00,  6.32it/s]\n",
      "       1/20      2.48G      1.346      2.507      4.466      1.312         26        640:  90%|█████████ | 18/20 [00:03<00:00,  6.46it/s]\n",
      "       1/20      2.48G      1.346      2.471      4.437      1.307         15        640:  95%|█████████▌| 19/20 [00:03<00:00,  6.39it/s]\n",
      "       1/20      2.52G      1.348      2.457      4.413        1.3          8        640: 100%|██████████| 20/20 [00:03<00:00,  5.59it/s]\n",
      "                 Class     Images  Instances      Box(P          R      mAP50  mAP50-95)     Mask(P          R      mAP50  mAP50-95):   0%|          | 0/4 [00:00<?, ?it/s]\n",
      "                 Class     Images  Instances      Box(P          R      mAP50  mAP50-95)     Mask(P          R      mAP50  mAP50-95):  25%|██▌       | 1/4 [00:00<00:00,  5.91it/s]\n",
      "                 Class     Images  Instances      Box(P          R      mAP50  mAP50-95)     Mask(P          R      mAP50  mAP50-95):  50%|█████     | 2/4 [00:00<00:00,  6.23it/s]\n",
      "                 Class     Images  Instances      Box(P          R      mAP50  mAP50-95)     Mask(P          R      mAP50  mAP50-95):  75%|███████▌  | 3/4 [00:00<00:00,  6.41it/s]\n"
     ]
    },
    {
     "name": "stdout",
     "output_type": "stream",
     "text": [
      "\u001b[36m(_tune pid=137578)\u001b[0m                    all        125         79    0.00181      0.861      0.088     0.0442    0.00144      0.684     0.0759     0.0425\n"
     ]
    },
    {
     "name": "stderr",
     "output_type": "stream",
     "text": [
      "                 Class     Images  Instances      Box(P          R      mAP50  mAP50-95)     Mask(P          R      mAP50  mAP50-95): 100%|██████████| 4/4 [00:00<00:00,  6.31it/s]\n"
     ]
    },
    {
     "name": "stdout",
     "output_type": "stream",
     "text": [
      "\u001b[36m(_tune pid=137578)\u001b[0m \n",
      "\u001b[36m(_tune pid=137578)\u001b[0m       Epoch    GPU_mem   box_loss   seg_loss   cls_loss   dfl_loss  Instances       Size\n"
     ]
    },
    {
     "name": "stderr",
     "output_type": "stream",
     "text": [
      "  0%|          | 0/20 [00:00<?, ?it/s]\n",
      "       2/20      2.64G      1.341      1.622      3.647      1.121         19        640:   5%|▌         | 1/20 [00:00<00:03,  6.31it/s]\n",
      "       2/20      2.64G      1.257      2.294      3.716      1.114         21        640:  10%|█         | 2/20 [00:00<00:02,  6.65it/s]\n",
      "       2/20      2.64G      1.279      2.443      3.727      1.158         29        640:  15%|█▌        | 3/20 [00:00<00:02,  6.48it/s]\n",
      "       2/20      2.64G      1.299      2.471      3.736       1.17         19        640:  20%|██        | 4/20 [00:00<00:02,  6.67it/s]\n",
      "       2/20      2.64G       1.24       2.34       3.78      1.146         15        640:  25%|██▌       | 5/20 [00:00<00:02,  6.55it/s]\n",
      "       2/20      2.64G      1.234      2.273       3.66      1.132         30        640:  30%|███       | 6/20 [00:00<00:02,  6.67it/s]\n",
      "       2/20      2.64G      1.255      2.262      3.602       1.15         24        640:  35%|███▌      | 7/20 [00:01<00:01,  6.55it/s]\n",
      "       2/20      2.64G      1.275      2.257      3.555       1.16         25        640:  40%|████      | 8/20 [00:01<00:01,  6.67it/s]\n",
      "       2/20      2.64G       1.29      2.212      3.535      1.162         17        640:  45%|████▌     | 9/20 [00:01<00:01,  6.55it/s]\n",
      "       2/20      2.64G      1.284      2.329      3.541       1.16         15        640:  50%|█████     | 10/20 [00:01<00:01,  6.62it/s]\n",
      "       2/20      2.64G      1.299      2.299      3.503      1.171         24        640:  55%|█████▌    | 11/20 [00:01<00:01,  6.51it/s]\n",
      "       2/20      2.64G      1.289      2.265      3.451      1.169         24        640:  60%|██████    | 12/20 [00:01<00:01,  6.62it/s]\n",
      "       2/20      2.64G       1.29      2.237      3.402      1.169         18        640:  65%|██████▌   | 13/20 [00:01<00:01,  6.52it/s]\n",
      "       2/20      2.64G      1.304      2.248      3.353      1.167         31        640:  70%|███████   | 14/20 [00:02<00:00,  6.63it/s]\n",
      "       2/20      2.64G      1.323      2.252      3.322      1.176         23        640:  75%|███████▌  | 15/20 [00:02<00:00,  6.53it/s]\n",
      "       2/20      2.64G      1.328      2.245      3.358      1.175         14        640:  80%|████████  | 16/20 [00:02<00:00,  6.66it/s]\n",
      "       2/20      2.64G      1.343       2.23      3.387      1.179         12        640:  85%|████████▌ | 17/20 [00:02<00:00,  6.57it/s]\n",
      "       2/20      2.64G      1.347      2.241      3.377       1.18         20        640:  90%|█████████ | 18/20 [00:02<00:00,  6.64it/s]\n",
      "       2/20      2.64G      1.348      2.262      3.385      1.177         17        640:  95%|█████████▌| 19/20 [00:02<00:00,  6.53it/s]\n",
      "       2/20      2.66G      1.366      2.283      3.375      1.181          7        640: 100%|██████████| 20/20 [00:02<00:00,  6.78it/s]\n",
      "                 Class     Images  Instances      Box(P          R      mAP50  mAP50-95)     Mask(P          R      mAP50  mAP50-95):   0%|          | 0/4 [00:00<?, ?it/s]\n",
      "                 Class     Images  Instances      Box(P          R      mAP50  mAP50-95)     Mask(P          R      mAP50  mAP50-95):  25%|██▌       | 1/4 [00:00<00:00,  7.42it/s]\n",
      "                 Class     Images  Instances      Box(P          R      mAP50  mAP50-95)     Mask(P          R      mAP50  mAP50-95):  50%|█████     | 2/4 [00:00<00:00,  6.74it/s]\n",
      "                 Class     Images  Instances      Box(P          R      mAP50  mAP50-95)     Mask(P          R      mAP50  mAP50-95):  75%|███████▌  | 3/4 [00:00<00:00,  6.70it/s]\n",
      "                 Class     Images  Instances      Box(P          R      mAP50  mAP50-95)     Mask(P          R      mAP50  mAP50-95): 100%|██████████| 4/4 [00:00<00:00,  6.85it/s]\n"
     ]
    },
    {
     "name": "stdout",
     "output_type": "stream",
     "text": [
      "\u001b[36m(_tune pid=137578)\u001b[0m                    all        125         79     0.0016      0.759      0.231      0.109    0.00141      0.671      0.213      0.114\n",
      "\u001b[36m(_tune pid=137578)\u001b[0m \n",
      "\u001b[36m(_tune pid=137578)\u001b[0m       Epoch    GPU_mem   box_loss   seg_loss   cls_loss   dfl_loss  Instances       Size\n"
     ]
    },
    {
     "name": "stderr",
     "output_type": "stream",
     "text": [
      "  0%|          | 0/20 [00:00<?, ?it/s]\n",
      "       3/20      2.66G     0.9478      1.742      2.588      1.024         16        640:   5%|▌         | 1/20 [00:00<00:02,  6.34it/s]\n",
      "       3/20      2.66G      1.335      1.969      2.971      1.153         18        640:  10%|█         | 2/20 [00:00<00:02,  6.71it/s]\n",
      "       3/20      2.66G      1.344      2.109       2.97      1.177         20        640:  15%|█▌        | 3/20 [00:00<00:02,  6.51it/s]\n",
      "       3/20      2.66G       1.36      2.097      2.883      1.167         16        640:  20%|██        | 4/20 [00:00<00:02,  6.67it/s]\n",
      "       3/20      2.66G      1.406      2.149      2.901      1.173         22        640:  25%|██▌       | 5/20 [00:00<00:02,  6.55it/s]\n",
      "       3/20      2.66G      1.392      2.151      2.883      1.175         22        640:  30%|███       | 6/20 [00:00<00:02,  6.61it/s]\n",
      "       3/20      2.66G      1.453      2.295      2.956      1.203         26        640:  35%|███▌      | 7/20 [00:01<00:02,  6.49it/s]\n",
      "       3/20      2.66G      1.399      2.277      2.907      1.178         15        640:  40%|████      | 8/20 [00:01<00:01,  6.65it/s]\n",
      "       3/20      2.66G      1.414      2.268      2.869      1.186         28        640:  45%|████▌     | 9/20 [00:01<00:01,  6.54it/s]\n",
      "       3/20      2.66G      1.428      2.325      2.889      1.202         19        640:  50%|█████     | 10/20 [00:01<00:01,  6.66it/s]\n",
      "       3/20      2.66G      1.435      2.372      2.959      1.214         14        640:  55%|█████▌    | 11/20 [00:01<00:01,  6.58it/s]\n",
      "       3/20      2.66G      1.453      2.378      3.022      1.225         15        640:  60%|██████    | 12/20 [00:01<00:01,  6.71it/s]\n",
      "       3/20      2.66G      1.474      2.387      3.009      1.236         27        640:  65%|██████▌   | 13/20 [00:01<00:01,  6.75it/s]\n",
      "       3/20      2.66G      1.459      2.367      2.989      1.238         22        640:  70%|███████   | 14/20 [00:02<00:00,  6.57it/s]\n",
      "       3/20      2.66G      1.457      2.337      2.986      1.234         13        640:  75%|███████▌  | 15/20 [00:02<00:00,  6.70it/s]\n",
      "       3/20      2.66G      1.458      2.379      2.986      1.235         21        640:  80%|████████  | 16/20 [00:02<00:00,  6.77it/s]\n",
      "       3/20      2.66G      1.467      2.409      2.994      1.235         19        640:  85%|████████▌ | 17/20 [00:02<00:00,  6.62it/s]\n",
      "       3/20      2.66G      1.459      2.407      2.998       1.23         12        640:  90%|█████████ | 18/20 [00:02<00:00,  6.75it/s]\n",
      "       3/20      2.68G       1.48      2.462      2.994      1.254          6        640: 100%|██████████| 20/20 [00:02<00:00,  6.83it/s]\n",
      "                 Class     Images  Instances      Box(P          R      mAP50  mAP50-95)     Mask(P          R      mAP50  mAP50-95):   0%|          | 0/4 [00:00<?, ?it/s]\n",
      "                 Class     Images  Instances      Box(P          R      mAP50  mAP50-95)     Mask(P          R      mAP50  mAP50-95):  25%|██▌       | 1/4 [00:00<00:00,  7.49it/s]\n",
      "                 Class     Images  Instances      Box(P          R      mAP50  mAP50-95)     Mask(P          R      mAP50  mAP50-95):  50%|█████     | 2/4 [00:00<00:00,  6.91it/s]\n",
      "                 Class     Images  Instances      Box(P          R      mAP50  mAP50-95)     Mask(P          R      mAP50  mAP50-95):  75%|███████▌  | 3/4 [00:00<00:00,  6.94it/s]\n",
      "                 Class     Images  Instances      Box(P          R      mAP50  mAP50-95)     Mask(P          R      mAP50  mAP50-95): 100%|██████████| 4/4 [00:00<00:00,  7.06it/s]\n"
     ]
    },
    {
     "name": "stdout",
     "output_type": "stream",
     "text": [
      "\u001b[36m(_tune pid=137578)\u001b[0m                    all        125         79    0.00096      0.456      0.107     0.0609   0.000453      0.215     0.0952     0.0458\n",
      "\u001b[36m(_tune pid=137578)\u001b[0m \n",
      "\u001b[36m(_tune pid=137578)\u001b[0m       Epoch    GPU_mem   box_loss   seg_loss   cls_loss   dfl_loss  Instances       Size\n"
     ]
    },
    {
     "name": "stderr",
     "output_type": "stream",
     "text": [
      "  0%|          | 0/20 [00:00<?, ?it/s]\n",
      "       4/20      2.68G      1.499      2.597      2.467       1.28         26        640:   5%|▌         | 1/20 [00:00<00:02,  7.00it/s]\n",
      "       4/20      2.68G      1.445      2.899      2.915      1.205         17        640:  10%|█         | 2/20 [00:00<00:02,  6.83it/s]\n",
      "       4/20      2.68G       1.39      2.818      3.083      1.183         12        640:  15%|█▌        | 3/20 [00:00<00:02,  6.56it/s]\n",
      "       4/20      2.68G       1.45      2.812      3.035      1.212         23        640:  20%|██        | 4/20 [00:00<00:02,  6.69it/s]\n",
      "       4/20      2.68G      1.445      2.773      2.958      1.209         21        640:  25%|██▌       | 5/20 [00:00<00:02,  6.78it/s]\n",
      "       4/20      2.68G      1.407      2.688      2.881       1.19         19        640:  30%|███       | 6/20 [00:00<00:02,  6.62it/s]\n",
      "       4/20      2.68G      1.429      2.736      2.876      1.204         16        640:  35%|███▌      | 7/20 [00:01<00:01,  6.74it/s]\n",
      "       4/20      2.68G      1.404      2.857      3.057      1.214          7        640:  40%|████      | 8/20 [00:01<00:01,  6.85it/s]\n",
      "       4/20      2.68G       1.42      2.775      2.972      1.217         27        640:  45%|████▌     | 9/20 [00:01<00:01,  6.66it/s]\n",
      "       4/20      2.68G       1.41      2.691      2.939      1.204         11        640:  50%|█████     | 10/20 [00:01<00:01,  6.74it/s]\n",
      "       4/20      2.68G      1.417       2.65      2.918      1.209         14        640:  55%|█████▌    | 11/20 [00:01<00:01,  6.78it/s]\n",
      "       4/20      2.68G      1.422      2.623      2.882      1.213         21        640:  60%|██████    | 12/20 [00:01<00:01,  6.54it/s]\n",
      "       4/20      2.68G      1.414      2.633      2.833      1.208         25        640:  65%|██████▌   | 13/20 [00:01<00:01,  6.66it/s]\n",
      "       4/20      2.68G      1.436       2.66      2.814      1.221         27        640:  70%|███████   | 14/20 [00:02<00:00,  6.74it/s]\n",
      "       4/20      2.68G      1.448      2.708      2.812      1.234         17        640:  75%|███████▌  | 15/20 [00:02<00:00,  6.62it/s]\n",
      "       4/20      2.68G      1.442      2.697      2.775      1.231         20        640:  80%|████████  | 16/20 [00:02<00:00,  6.73it/s]\n",
      "       4/20      2.68G      1.431      2.688      2.746      1.224         16        640:  85%|████████▌ | 17/20 [00:02<00:00,  6.81it/s]\n",
      "       4/20      2.68G      1.436       2.72      2.781      1.229         12        640:  90%|█████████ | 18/20 [00:02<00:00,  6.63it/s]\n",
      "       4/20       2.7G       1.46       2.76      2.827      1.244          3        640: 100%|██████████| 20/20 [00:02<00:00,  6.92it/s]\n",
      "                 Class     Images  Instances      Box(P          R      mAP50  mAP50-95)     Mask(P          R      mAP50  mAP50-95):   0%|          | 0/4 [00:00<?, ?it/s]\n",
      "                 Class     Images  Instances      Box(P          R      mAP50  mAP50-95)     Mask(P          R      mAP50  mAP50-95):  25%|██▌       | 1/4 [00:00<00:00,  7.54it/s]\n",
      "                 Class     Images  Instances      Box(P          R      mAP50  mAP50-95)     Mask(P          R      mAP50  mAP50-95):  50%|█████     | 2/4 [00:00<00:00,  6.90it/s]\n",
      "                 Class     Images  Instances      Box(P          R      mAP50  mAP50-95)     Mask(P          R      mAP50  mAP50-95):  75%|███████▌  | 3/4 [00:00<00:00,  6.94it/s]\n",
      "                 Class     Images  Instances      Box(P          R      mAP50  mAP50-95)     Mask(P          R      mAP50  mAP50-95): 100%|██████████| 4/4 [00:00<00:00,  7.17it/s]\n"
     ]
    },
    {
     "name": "stdout",
     "output_type": "stream",
     "text": [
      "\u001b[36m(_tune pid=137578)\u001b[0m                    all        125         79          1     0.0989      0.128     0.0825          1     0.0989      0.125     0.0811\n",
      "\u001b[36m(_tune pid=137578)\u001b[0m \n",
      "\u001b[36m(_tune pid=137578)\u001b[0m       Epoch    GPU_mem   box_loss   seg_loss   cls_loss   dfl_loss  Instances       Size\n"
     ]
    },
    {
     "name": "stderr",
     "output_type": "stream",
     "text": [
      "  0%|          | 0/20 [00:00<?, ?it/s]\n",
      "       5/20       2.7G      1.301      2.369      2.394      1.124         14        640:   5%|▌         | 1/20 [00:00<00:02,  6.38it/s]\n",
      "       5/20       2.7G      1.564      2.649      2.683      1.299         20        640:  10%|█         | 2/20 [00:00<00:02,  6.73it/s]\n",
      "       5/20       2.7G      1.525      2.599      2.823      1.265         16        640:  15%|█▌        | 3/20 [00:00<00:02,  6.83it/s]\n",
      "       5/20       2.7G      1.388      2.579      2.853      1.226         10        640:  20%|██        | 4/20 [00:00<00:02,  6.64it/s]\n",
      "       5/20       2.7G      1.471      2.796      2.833       1.29         25        640:  25%|██▌       | 5/20 [00:00<00:02,  6.76it/s]\n",
      "       5/20       2.7G      1.497      2.883      2.812      1.325         26        640:  30%|███       | 6/20 [00:00<00:02,  6.83it/s]\n",
      "       5/20       2.7G      1.516      2.901      2.867       1.34         17        640:  35%|███▌      | 7/20 [00:01<00:01,  6.87it/s]\n",
      "       5/20       2.7G      1.556      2.931      2.868      1.365         21        640:  40%|████      | 8/20 [00:01<00:01,  6.67it/s]\n",
      "       5/20       2.7G      1.557      2.894      2.817      1.359         17        640:  45%|████▌     | 9/20 [00:01<00:01,  6.78it/s]\n",
      "       5/20       2.7G      1.555      2.827      2.768      1.348         17        640:  50%|█████     | 10/20 [00:01<00:01,  6.84it/s]\n",
      "       5/20       2.7G      1.568      2.835      2.788      1.365         13        640:  55%|█████▌    | 11/20 [00:01<00:01,  6.90it/s]\n",
      "       5/20       2.7G       1.56      2.825       2.74      1.356         25        640:  60%|██████    | 12/20 [00:01<00:01,  6.71it/s]\n",
      "       5/20       2.7G      1.585      2.857      2.728       1.37         33        640:  65%|██████▌   | 13/20 [00:01<00:01,  6.77it/s]\n",
      "       5/20       2.7G      1.581      2.863       2.74      1.364         15        640:  70%|███████   | 14/20 [00:02<00:00,  6.85it/s]\n",
      "       5/20       2.7G      1.602       2.91      2.755      1.374         23        640:  75%|███████▌  | 15/20 [00:02<00:00,  6.86it/s]\n",
      "       5/20       2.7G      1.614      2.934      2.761      1.378         29        640:  80%|████████  | 16/20 [00:02<00:00,  6.67it/s]\n",
      "       5/20       2.7G      1.608      2.908      2.748      1.376         19        640:  85%|████████▌ | 17/20 [00:02<00:00,  6.78it/s]\n",
      "       5/20       2.7G      1.602      2.892      2.739      1.372         18        640:  90%|█████████ | 18/20 [00:02<00:00,  6.84it/s]\n",
      "       5/20       2.7G      1.585      2.892      2.759      1.363         11        640:  95%|█████████▌| 19/20 [00:02<00:00,  6.88it/s]\n",
      "       5/20       2.7G      1.578      2.863      2.725      1.353          6        640: 100%|██████████| 20/20 [00:02<00:00,  6.97it/s]\n",
      "                 Class     Images  Instances      Box(P          R      mAP50  mAP50-95)     Mask(P          R      mAP50  mAP50-95):   0%|          | 0/4 [00:00<?, ?it/s]\n",
      "                 Class     Images  Instances      Box(P          R      mAP50  mAP50-95)     Mask(P          R      mAP50  mAP50-95):  25%|██▌       | 1/4 [00:00<00:00,  7.47it/s]\n",
      "                 Class     Images  Instances      Box(P          R      mAP50  mAP50-95)     Mask(P          R      mAP50  mAP50-95):  50%|█████     | 2/4 [00:00<00:00,  6.84it/s]\n",
      "                 Class     Images  Instances      Box(P          R      mAP50  mAP50-95)     Mask(P          R      mAP50  mAP50-95):  75%|███████▌  | 3/4 [00:00<00:00,  6.88it/s]\n"
     ]
    },
    {
     "name": "stdout",
     "output_type": "stream",
     "text": [
      "\u001b[36m(_tune pid=137578)\u001b[0m                    all        125         79      0.193     0.0759     0.0547     0.0314      0.146     0.0633     0.0373    0.00862\n"
     ]
    },
    {
     "name": "stderr",
     "output_type": "stream",
     "text": [
      "                 Class     Images  Instances      Box(P          R      mAP50  mAP50-95)     Mask(P          R      mAP50  mAP50-95): 100%|██████████| 4/4 [00:00<00:00,  7.12it/s]\n"
     ]
    },
    {
     "name": "stdout",
     "output_type": "stream",
     "text": [
      "\u001b[36m(_tune pid=137578)\u001b[0m \n",
      "\u001b[36m(_tune pid=137578)\u001b[0m       Epoch    GPU_mem   box_loss   seg_loss   cls_loss   dfl_loss  Instances       Size\n"
     ]
    },
    {
     "name": "stderr",
     "output_type": "stream",
     "text": [
      "  0%|          | 0/20 [00:00<?, ?it/s]\n",
      "       6/20       2.7G      1.739      2.743      2.455      1.539         22        640:   5%|▌         | 1/20 [00:00<00:02,  7.01it/s]\n",
      "       6/20       2.7G      1.686      3.027      2.974      1.492         10        640:  10%|█         | 2/20 [00:00<00:02,  7.05it/s]\n",
      "       6/20       2.7G      1.652      2.984      2.995      1.464         14        640:  15%|█▌        | 3/20 [00:00<00:02,  7.05it/s]\n",
      "       6/20       2.7G      1.643      2.779      2.807      1.452         19        640:  20%|██        | 4/20 [00:00<00:02,  6.76it/s]\n",
      "       6/20       2.7G       1.59       2.67      2.708      1.399         29        640:  25%|██▌       | 5/20 [00:00<00:02,  6.84it/s]\n",
      "       6/20       2.7G      1.588      2.689      2.733      1.407         18        640:  30%|███       | 6/20 [00:00<00:02,  6.90it/s]\n",
      "       6/20       2.7G      1.611      2.744      2.768      1.415         17        640:  35%|███▌      | 7/20 [00:01<00:01,  6.92it/s]\n",
      "       6/20       2.7G      1.603      2.677      2.713      1.413         23        640:  40%|████      | 8/20 [00:01<00:01,  6.75it/s]\n",
      "       6/20       2.7G      1.609      2.701      2.673       1.42         27        640:  45%|████▌     | 9/20 [00:01<00:01,  6.81it/s]\n",
      "       6/20       2.7G      1.591      2.694      2.673      1.408         14        640:  50%|█████     | 10/20 [00:01<00:01,  6.87it/s]\n",
      "       6/20       2.7G      1.561      2.644      2.693      1.389         11        640:  55%|█████▌    | 11/20 [00:01<00:01,  6.91it/s]\n",
      "       6/20       2.7G      1.539      2.647      2.676      1.373         19        640:  60%|██████    | 12/20 [00:01<00:01,  6.74it/s]\n",
      "       6/20       2.7G      1.515      2.648      2.671      1.355         15        640:  65%|██████▌   | 13/20 [00:01<00:01,  6.82it/s]\n",
      "       6/20       2.7G      1.562      2.675      2.723       1.37         11        640:  70%|███████   | 14/20 [00:02<00:00,  6.90it/s]\n",
      "       6/20       2.7G      1.569      2.697      2.721      1.388         17        640:  75%|███████▌  | 15/20 [00:02<00:00,  6.92it/s]\n",
      "       6/20       2.7G      1.588      2.695       2.72      1.391         20        640:  80%|████████  | 16/20 [00:02<00:00,  6.74it/s]\n",
      "       6/20       2.7G      1.598      2.714      2.718      1.394         18        640:  85%|████████▌ | 17/20 [00:02<00:00,  6.82it/s]\n",
      "       6/20       2.7G      1.612      2.727      2.722        1.4         16        640:  90%|█████████ | 18/20 [00:02<00:00,  6.86it/s]\n",
      "       6/20       2.7G      1.615      2.756      2.731      1.396         17        640:  95%|█████████▌| 19/20 [00:02<00:00,  6.91it/s]\n",
      "       6/20      2.71G      1.603      2.748      2.708      1.386          5        640: 100%|██████████| 20/20 [00:02<00:00,  7.04it/s]\n",
      "                 Class     Images  Instances      Box(P          R      mAP50  mAP50-95)     Mask(P          R      mAP50  mAP50-95):   0%|          | 0/4 [00:00<?, ?it/s]\n",
      "                 Class     Images  Instances      Box(P          R      mAP50  mAP50-95)     Mask(P          R      mAP50  mAP50-95):  25%|██▌       | 1/4 [00:00<00:00,  7.53it/s]\n",
      "                 Class     Images  Instances      Box(P          R      mAP50  mAP50-95)     Mask(P          R      mAP50  mAP50-95):  50%|█████     | 2/4 [00:00<00:00,  6.93it/s]\n",
      "                 Class     Images  Instances      Box(P          R      mAP50  mAP50-95)     Mask(P          R      mAP50  mAP50-95):  75%|███████▌  | 3/4 [00:00<00:00,  6.96it/s]\n",
      "                 Class     Images  Instances      Box(P          R      mAP50  mAP50-95)     Mask(P          R      mAP50  mAP50-95): 100%|██████████| 4/4 [00:00<00:00,  7.19it/s]\n"
     ]
    },
    {
     "name": "stdout",
     "output_type": "stream",
     "text": [
      "\u001b[36m(_tune pid=137578)\u001b[0m                    all        125         79      0.951     0.0886      0.105     0.0556      0.951     0.0886      0.106     0.0601\n",
      "\u001b[36m(_tune pid=137578)\u001b[0m \n",
      "\u001b[36m(_tune pid=137578)\u001b[0m       Epoch    GPU_mem   box_loss   seg_loss   cls_loss   dfl_loss  Instances       Size\n"
     ]
    },
    {
     "name": "stderr",
     "output_type": "stream",
     "text": [
      "  0%|          | 0/20 [00:00<?, ?it/s]\n",
      "       7/20      2.71G      1.306      2.988      2.203      1.181         24        640:   5%|▌         | 1/20 [00:00<00:02,  6.93it/s]\n",
      "       7/20      2.71G      1.632      2.933      2.724      1.341         13        640:  10%|█         | 2/20 [00:00<00:02,  6.99it/s]\n",
      "       7/20      2.71G      1.584      2.705      2.496      1.288         23        640:  15%|█▌        | 3/20 [00:00<00:02,  6.99it/s]\n",
      "       7/20      2.71G      1.588      2.666      2.421      1.334         24        640:  20%|██        | 4/20 [00:00<00:02,  6.72it/s]\n",
      "       7/20      2.71G      1.585      2.706      2.504      1.369         15        640:  25%|██▌       | 5/20 [00:00<00:02,  6.85it/s]\n",
      "       7/20      2.71G      1.565      2.616      2.417      1.364         21        640:  30%|███       | 6/20 [00:00<00:02,  6.89it/s]\n",
      "       7/20      2.71G      1.581      2.613       2.35      1.388         26        640:  35%|███▌      | 7/20 [00:01<00:01,  6.90it/s]\n",
      "       7/20      2.71G      1.569      2.596      2.312      1.394         21        640:  40%|████      | 8/20 [00:01<00:01,  6.73it/s]\n",
      "       7/20      2.71G      1.567      2.611      2.308      1.385         19        640:  45%|████▌     | 9/20 [00:01<00:01,  6.81it/s]\n",
      "       7/20      2.71G      1.578      2.613      2.301      1.373         24        640:  50%|█████     | 10/20 [00:01<00:01,  6.86it/s]\n",
      "       7/20      2.71G      1.593      2.633      2.322      1.378         18        640:  55%|█████▌    | 11/20 [00:01<00:01,  6.91it/s]\n",
      "       7/20      2.71G      1.611      2.674      2.345      1.381         20        640:  60%|██████    | 12/20 [00:01<00:01,  6.72it/s]\n",
      "       7/20      2.71G      1.619      2.635      2.336      1.373         23        640:  65%|██████▌   | 13/20 [00:01<00:01,  6.79it/s]\n",
      "       7/20      2.71G      1.662      2.614      2.409      1.382          8        640:  70%|███████   | 14/20 [00:02<00:00,  6.87it/s]\n",
      "       7/20      2.71G      1.682      2.631      2.397       1.39         23        640:  75%|███████▌  | 15/20 [00:02<00:00,  6.88it/s]\n",
      "       7/20      2.71G      1.669      2.591       2.38      1.381         19        640:  80%|████████  | 16/20 [00:02<00:00,  5.45it/s]\n",
      "       7/20      2.71G      1.688      2.622      2.384      1.393         33        640:  85%|████████▌ | 17/20 [00:02<00:00,  5.83it/s]\n",
      "       7/20      2.71G      1.677      2.613      2.385      1.388         18        640:  90%|█████████ | 18/20 [00:02<00:00,  6.14it/s]\n",
      "       7/20      2.71G      1.667      2.616      2.375      1.383         17        640:  95%|█████████▌| 19/20 [00:02<00:00,  6.36it/s]\n",
      "       7/20      2.71G      1.674      2.571      2.346      1.386          6        640: 100%|██████████| 20/20 [00:02<00:00,  6.74it/s]\n",
      "                 Class     Images  Instances      Box(P          R      mAP50  mAP50-95)     Mask(P          R      mAP50  mAP50-95):   0%|          | 0/4 [00:00<?, ?it/s]\n",
      "                 Class     Images  Instances      Box(P          R      mAP50  mAP50-95)     Mask(P          R      mAP50  mAP50-95):  25%|██▌       | 1/4 [00:00<00:00,  7.50it/s]\n",
      "                 Class     Images  Instances      Box(P          R      mAP50  mAP50-95)     Mask(P          R      mAP50  mAP50-95):  50%|█████     | 2/4 [00:00<00:00,  6.84it/s]\n",
      "                 Class     Images  Instances      Box(P          R      mAP50  mAP50-95)     Mask(P          R      mAP50  mAP50-95):  75%|███████▌  | 3/4 [00:00<00:00,  6.84it/s]\n"
     ]
    },
    {
     "name": "stdout",
     "output_type": "stream",
     "text": [
      "\u001b[36m(_tune pid=137578)\u001b[0m                    all        125         79      0.539      0.367      0.384      0.169      0.558       0.38        0.4      0.182\n"
     ]
    },
    {
     "name": "stderr",
     "output_type": "stream",
     "text": [
      "                 Class     Images  Instances      Box(P          R      mAP50  mAP50-95)     Mask(P          R      mAP50  mAP50-95): 100%|██████████| 4/4 [00:00<00:00,  7.09it/s]\n"
     ]
    },
    {
     "name": "stdout",
     "output_type": "stream",
     "text": [
      "\u001b[36m(_tune pid=137578)\u001b[0m \n",
      "\u001b[36m(_tune pid=137578)\u001b[0m       Epoch    GPU_mem   box_loss   seg_loss   cls_loss   dfl_loss  Instances       Size\n"
     ]
    },
    {
     "name": "stderr",
     "output_type": "stream",
     "text": [
      "  0%|          | 0/20 [00:00<?, ?it/s]\n",
      "       8/20      2.71G      1.494      2.929      2.462      1.236         16        640:   5%|▌         | 1/20 [00:00<00:02,  7.06it/s]\n",
      "       8/20      2.71G      1.582      2.982      3.023      1.292          9        640:  10%|█         | 2/20 [00:00<00:02,  7.06it/s]\n",
      "       8/20      2.71G      1.638      2.985      2.779      1.329         21        640:  15%|█▌        | 3/20 [00:00<00:02,  7.00it/s]\n",
      "       8/20      2.71G      1.633      2.908      2.824      1.328         14        640:  20%|██        | 4/20 [00:00<00:02,  6.76it/s]\n",
      "       8/20      2.71G      1.632      2.817       2.71      1.341         18        640:  25%|██▌       | 5/20 [00:00<00:02,  6.84it/s]\n",
      "       8/20      2.71G      1.607      2.766      2.621      1.329         17        640:  30%|███       | 6/20 [00:00<00:02,  6.88it/s]\n",
      "       8/20      2.71G      1.596      2.736      2.607      1.331         16        640:  35%|███▌      | 7/20 [00:01<00:01,  6.92it/s]\n",
      "       8/20      2.71G      1.586      2.809      2.636      1.324         15        640:  40%|████      | 8/20 [00:01<00:01,  6.71it/s]\n",
      "       8/20      2.71G       1.56      2.735       2.56      1.309         21        640:  45%|████▌     | 9/20 [00:01<00:01,  6.81it/s]\n",
      "       8/20      2.71G      1.555      2.753      2.533      1.312         25        640:  50%|█████     | 10/20 [00:01<00:01,  6.85it/s]\n",
      "       8/20      2.71G      1.586      2.753      2.515      1.331         16        640:  55%|█████▌    | 11/20 [00:01<00:01,  6.91it/s]\n",
      "       8/20      2.71G      1.596      2.782      2.523      1.329         15        640:  60%|██████    | 12/20 [00:01<00:01,  6.76it/s]\n",
      "       8/20      2.71G      1.598      2.767      2.533      1.333         16        640:  65%|██████▌   | 13/20 [00:01<00:01,  6.84it/s]\n",
      "       8/20      2.71G        1.6      2.712      2.513      1.335         16        640:  70%|███████   | 14/20 [00:02<00:00,  6.89it/s]\n",
      "       8/20      2.71G      1.613      2.702       2.51      1.336         17        640:  75%|███████▌  | 15/20 [00:02<00:00,  6.92it/s]\n",
      "       8/20      2.71G      1.598      2.702      2.474      1.325         23        640:  80%|████████  | 16/20 [00:02<00:00,  6.72it/s]\n",
      "       8/20      2.71G      1.584       2.67      2.418      1.323         24        640:  85%|████████▌ | 17/20 [00:02<00:00,  6.79it/s]\n",
      "       8/20      2.71G      1.581      2.658      2.389      1.327         23        640:  90%|█████████ | 18/20 [00:02<00:00,  6.84it/s]\n",
      "       8/20      2.71G      1.585      2.649       2.38       1.33         17        640:  95%|█████████▌| 19/20 [00:02<00:00,  6.88it/s]\n",
      "       8/20      2.71G      1.578      2.628       2.35       1.33          5        640: 100%|██████████| 20/20 [00:02<00:00,  7.03it/s]\n",
      "                 Class     Images  Instances      Box(P          R      mAP50  mAP50-95)     Mask(P          R      mAP50  mAP50-95):   0%|          | 0/4 [00:00<?, ?it/s]\n",
      "                 Class     Images  Instances      Box(P          R      mAP50  mAP50-95)     Mask(P          R      mAP50  mAP50-95):  25%|██▌       | 1/4 [00:00<00:00,  7.37it/s]\n",
      "                 Class     Images  Instances      Box(P          R      mAP50  mAP50-95)     Mask(P          R      mAP50  mAP50-95):  50%|█████     | 2/4 [00:00<00:00,  6.77it/s]\n",
      "                 Class     Images  Instances      Box(P          R      mAP50  mAP50-95)     Mask(P          R      mAP50  mAP50-95):  75%|███████▌  | 3/4 [00:00<00:00,  6.79it/s]\n"
     ]
    },
    {
     "name": "stdout",
     "output_type": "stream",
     "text": [
      "\u001b[36m(_tune pid=137578)\u001b[0m                    all        125         79      0.481      0.434      0.471      0.241        0.7      0.385      0.488      0.261\n"
     ]
    },
    {
     "name": "stderr",
     "output_type": "stream",
     "text": [
      "                 Class     Images  Instances      Box(P          R      mAP50  mAP50-95)     Mask(P          R      mAP50  mAP50-95): 100%|██████████| 4/4 [00:00<00:00,  7.05it/s]\n"
     ]
    },
    {
     "name": "stdout",
     "output_type": "stream",
     "text": [
      "\u001b[36m(_tune pid=137578)\u001b[0m \n",
      "\u001b[36m(_tune pid=137578)\u001b[0m       Epoch    GPU_mem   box_loss   seg_loss   cls_loss   dfl_loss  Instances       Size\n"
     ]
    },
    {
     "name": "stderr",
     "output_type": "stream",
     "text": [
      "  0%|          | 0/20 [00:00<?, ?it/s]\n",
      "       9/20      2.71G      1.805      2.692      1.913      1.515         23        640:   5%|▌         | 1/20 [00:00<00:02,  6.98it/s]\n",
      "       9/20      2.71G      1.772      2.389      2.027      1.451         17        640:  10%|█         | 2/20 [00:00<00:02,  6.97it/s]\n",
      "       9/20      2.71G      1.594      2.194      2.077      1.346          9        640:  15%|█▌        | 3/20 [00:00<00:02,  7.01it/s]\n",
      "       9/20      2.71G      1.589      2.125      1.994      1.344         17        640:  20%|██        | 4/20 [00:00<00:02,  6.75it/s]\n",
      "       9/20      2.71G      1.576      2.262      2.025      1.333         18        640:  25%|██▌       | 5/20 [00:00<00:02,  6.83it/s]\n",
      "       9/20      2.71G      1.551      2.242      1.975      1.328         27        640:  30%|███       | 6/20 [00:00<00:02,  6.86it/s]\n",
      "       9/20      2.71G       1.53      2.266      1.993      1.318         17        640:  35%|███▌      | 7/20 [00:01<00:01,  6.90it/s]\n",
      "       9/20      2.71G       1.54      2.305      2.077      1.335         15        640:  40%|████      | 8/20 [00:01<00:01,  6.72it/s]\n",
      "       9/20      2.71G      1.583      2.415      2.162      1.362         23        640:  45%|████▌     | 9/20 [00:01<00:01,  6.80it/s]\n",
      "       9/20      2.71G      1.588      2.432      2.206      1.349         16        640:  50%|█████     | 10/20 [00:01<00:01,  6.88it/s]\n",
      "       9/20      2.71G      1.567      2.408        2.2      1.343         19        640:  55%|█████▌    | 11/20 [00:01<00:01,  6.92it/s]\n",
      "       9/20      2.71G       1.56       2.37      2.186      1.336         22        640:  60%|██████    | 12/20 [00:01<00:01,  6.72it/s]\n",
      "       9/20      2.71G      1.556      2.347      2.184      1.329         17        640:  65%|██████▌   | 13/20 [00:01<00:01,  6.83it/s]\n",
      "       9/20      2.71G      1.563      2.385      2.177      1.337         26        640:  70%|███████   | 14/20 [00:02<00:00,  6.86it/s]\n",
      "       9/20      2.71G      1.551      2.378      2.161      1.327         22        640:  75%|███████▌  | 15/20 [00:02<00:00,  6.90it/s]\n",
      "       9/20      2.71G      1.538       2.36      2.158      1.325         16        640:  80%|████████  | 16/20 [00:02<00:00,  6.73it/s]\n",
      "       9/20      2.71G      1.533      2.357      2.166      1.329         16        640:  85%|████████▌ | 17/20 [00:02<00:00,  6.81it/s]\n",
      "       9/20      2.71G       1.54      2.347      2.185      1.333         15        640:  90%|█████████ | 18/20 [00:02<00:00,  6.89it/s]\n",
      "       9/20      2.71G      1.527      2.327      2.175      1.327         17        640:  95%|█████████▌| 19/20 [00:02<00:00,  6.93it/s]\n",
      "       9/20      2.71G      1.538      2.362      2.182      1.343          6        640: 100%|██████████| 20/20 [00:02<00:00,  7.02it/s]\n",
      "                 Class     Images  Instances      Box(P          R      mAP50  mAP50-95)     Mask(P          R      mAP50  mAP50-95):   0%|          | 0/4 [00:00<?, ?it/s]\n",
      "                 Class     Images  Instances      Box(P          R      mAP50  mAP50-95)     Mask(P          R      mAP50  mAP50-95):  25%|██▌       | 1/4 [00:00<00:00,  7.81it/s]\n",
      "                 Class     Images  Instances      Box(P          R      mAP50  mAP50-95)     Mask(P          R      mAP50  mAP50-95):  50%|█████     | 2/4 [00:00<00:00,  7.14it/s]\n",
      "                 Class     Images  Instances      Box(P          R      mAP50  mAP50-95)     Mask(P          R      mAP50  mAP50-95):  75%|███████▌  | 3/4 [00:00<00:00,  7.23it/s]\n"
     ]
    },
    {
     "name": "stdout",
     "output_type": "stream",
     "text": [
      "\u001b[36m(_tune pid=137578)\u001b[0m                    all        125         79      0.372      0.177      0.172     0.0876      0.437      0.152      0.147     0.0877\n"
     ]
    },
    {
     "name": "stderr",
     "output_type": "stream",
     "text": [
      "                 Class     Images  Instances      Box(P          R      mAP50  mAP50-95)     Mask(P          R      mAP50  mAP50-95): 100%|██████████| 4/4 [00:00<00:00,  7.45it/s]\n"
     ]
    },
    {
     "name": "stdout",
     "output_type": "stream",
     "text": [
      "\u001b[36m(_tune pid=137578)\u001b[0m \n",
      "\u001b[36m(_tune pid=137578)\u001b[0m       Epoch    GPU_mem   box_loss   seg_loss   cls_loss   dfl_loss  Instances       Size\n"
     ]
    },
    {
     "name": "stderr",
     "output_type": "stream",
     "text": [
      "  0%|          | 0/20 [00:00<?, ?it/s]\n",
      "      10/20      2.71G      1.524      2.509      1.996      1.399         17        640:   5%|▌         | 1/20 [00:00<00:02,  7.05it/s]\n",
      "      10/20      2.71G      1.592      2.641      2.131       1.41         16        640:  10%|█         | 2/20 [00:00<00:02,  7.04it/s]\n",
      "      10/20      2.71G      1.545      2.525       2.06      1.362         27        640:  15%|█▌        | 3/20 [00:00<00:02,  6.97it/s]\n",
      "      10/20      2.71G      1.436      2.382      1.983      1.296         15        640:  20%|██        | 4/20 [00:00<00:02,  6.73it/s]\n",
      "      10/20      2.71G      1.465      2.343      1.956      1.307         17        640:  25%|██▌       | 5/20 [00:00<00:02,  6.85it/s]\n",
      "      10/20      2.71G      1.469      2.435      1.993      1.304         21        640:  30%|███       | 6/20 [00:00<00:02,  6.90it/s]\n",
      "      10/20      2.71G      1.454      2.386       1.98      1.292         17        640:  35%|███▌      | 7/20 [00:01<00:01,  6.94it/s]\n",
      "      10/20      2.71G      1.445      2.387      1.938      1.291         30        640:  40%|████      | 8/20 [00:01<00:01,  6.72it/s]\n",
      "      10/20      2.71G      1.431      2.384      1.897      1.279         17        640:  45%|████▌     | 9/20 [00:01<00:01,  6.82it/s]\n",
      "      10/20      2.71G      1.427       2.35      1.867       1.28         17        640:  50%|█████     | 10/20 [00:01<00:01,  6.86it/s]\n",
      "      10/20      2.71G      1.421      2.306       1.83       1.27         24        640:  55%|█████▌    | 11/20 [00:01<00:01,  6.88it/s]\n",
      "      10/20      2.71G      1.413      2.273      1.843      1.267         11        640:  60%|██████    | 12/20 [00:01<00:01,  6.74it/s]\n",
      "      10/20      2.71G      1.412      2.275      1.872      1.271         18        640:  65%|██████▌   | 13/20 [00:01<00:01,  6.82it/s]\n",
      "      10/20      2.71G      1.409      2.275      1.889      1.264         17        640:  70%|███████   | 14/20 [00:02<00:00,  6.88it/s]\n",
      "      10/20      2.71G      1.421       2.28      1.923      1.265         15        640:  75%|███████▌  | 15/20 [00:02<00:00,  6.92it/s]\n",
      "      10/20      2.71G      1.426      2.278      1.924      1.269         27        640:  80%|████████  | 16/20 [00:02<00:00,  6.73it/s]\n",
      "      10/20      2.71G      1.431      2.246      1.916      1.273         14        640:  85%|████████▌ | 17/20 [00:02<00:00,  6.82it/s]\n",
      "      10/20      2.71G      1.421      2.239      1.902      1.262         22        640:  90%|█████████ | 18/20 [00:02<00:00,  6.86it/s]\n",
      "      10/20      2.71G      1.411      2.224      1.887      1.256         16        640:  95%|█████████▌| 19/20 [00:02<00:00,  6.90it/s]\n",
      "      10/20      2.71G      1.425      2.205      1.905      1.274          3        640: 100%|██████████| 20/20 [00:02<00:00,  7.03it/s]\n",
      "                 Class     Images  Instances      Box(P          R      mAP50  mAP50-95)     Mask(P          R      mAP50  mAP50-95):   0%|          | 0/4 [00:00<?, ?it/s]\n",
      "                 Class     Images  Instances      Box(P          R      mAP50  mAP50-95)     Mask(P          R      mAP50  mAP50-95):  25%|██▌       | 1/4 [00:00<00:00,  7.86it/s]\n",
      "                 Class     Images  Instances      Box(P          R      mAP50  mAP50-95)     Mask(P          R      mAP50  mAP50-95):  50%|█████     | 2/4 [00:00<00:00,  7.11it/s]\n",
      "                 Class     Images  Instances      Box(P          R      mAP50  mAP50-95)     Mask(P          R      mAP50  mAP50-95):  75%|███████▌  | 3/4 [00:00<00:00,  7.21it/s]\n"
     ]
    },
    {
     "name": "stdout",
     "output_type": "stream",
     "text": [
      "\u001b[36m(_tune pid=137578)\u001b[0m                    all        125         79       0.41      0.369      0.348      0.197      0.666      0.329      0.357      0.179\n"
     ]
    },
    {
     "name": "stderr",
     "output_type": "stream",
     "text": [
      "                 Class     Images  Instances      Box(P          R      mAP50  mAP50-95)     Mask(P          R      mAP50  mAP50-95): 100%|██████████| 4/4 [00:00<00:00,  7.47it/s]\n"
     ]
    },
    {
     "name": "stdout",
     "output_type": "stream",
     "text": [
      "\u001b[36m(_tune pid=137578)\u001b[0m Closing dataloader mosaic\n",
      "\u001b[36m(_tune pid=137578)\u001b[0m \n",
      "\u001b[36m(_tune pid=137578)\u001b[0m       Epoch    GPU_mem   box_loss   seg_loss   cls_loss   dfl_loss  Instances       Size\n"
     ]
    },
    {
     "name": "stderr",
     "output_type": "stream",
     "text": [
      "  0%|          | 0/20 [00:00<?, ?it/s]\n",
      "      11/20      2.71G      1.764      2.754      1.968      1.517         14        640:   5%|▌         | 1/20 [00:00<00:08,  2.36it/s]\n",
      "      11/20      2.71G      1.565      2.532      1.996      1.373         15        640:  10%|█         | 2/20 [00:00<00:05,  3.53it/s]\n",
      "      11/20      2.71G      1.532      2.566      1.976      1.348         12        640:  15%|█▌        | 3/20 [00:00<00:04,  4.13it/s]\n",
      "      11/20      2.71G      1.561      2.469      2.229      1.376          7        640:  20%|██        | 4/20 [00:01<00:03,  4.05it/s]\n",
      "      11/20      2.71G      1.523      2.418      2.201      1.392         11        640:  25%|██▌       | 5/20 [00:01<00:03,  4.70it/s]\n",
      "      11/20      2.71G      1.523      2.351      2.176      1.414          8        640:  30%|███       | 6/20 [00:01<00:02,  5.25it/s]\n",
      "      11/20      2.71G      1.525      2.397      2.143      1.427         10        640:  35%|███▌      | 7/20 [00:01<00:02,  5.68it/s]\n",
      "      11/20      2.71G       1.53       2.34      2.116      1.438         13        640:  40%|████      | 8/20 [00:01<00:02,  5.88it/s]\n",
      "      11/20      2.71G       1.47       2.32      2.086      1.395         10        640:  45%|████▌     | 9/20 [00:01<00:01,  6.18it/s]\n",
      "      11/20      2.71G      1.514      2.307      2.202      1.408          5        640:  50%|█████     | 10/20 [00:01<00:01,  6.42it/s]\n",
      "      11/20      2.71G      1.503      2.339      2.259      1.385          6        640:  55%|█████▌    | 11/20 [00:02<00:01,  6.59it/s]\n",
      "      11/20      2.71G      1.482      2.304      2.281      1.378          4        640:  60%|██████    | 12/20 [00:02<00:01,  6.53it/s]\n",
      "      11/20      2.71G      1.468      2.294      2.254      1.381         11        640:  65%|██████▌   | 13/20 [00:02<00:01,  6.67it/s]\n",
      "      11/20      2.71G      1.475      2.328      2.325      1.383          4        640:  70%|███████   | 14/20 [00:02<00:00,  6.78it/s]\n",
      "      11/20      2.71G      1.463      2.305      2.312      1.378          7        640:  75%|███████▌  | 15/20 [00:02<00:00,  6.83it/s]\n",
      "      11/20      2.71G      1.448      2.306      2.306      1.366         12        640:  80%|████████  | 16/20 [00:02<00:00,  6.68it/s]\n",
      "      11/20      2.71G      1.445      2.303      2.275      1.366         10        640:  85%|████████▌ | 17/20 [00:02<00:00,  6.77it/s]\n",
      "      11/20      2.71G      1.429      2.292      2.273      1.357          8        640:  90%|█████████ | 18/20 [00:03<00:00,  6.85it/s]\n",
      "      11/20      2.71G      1.427       2.32      2.277      1.356          8        640:  95%|█████████▌| 19/20 [00:03<00:00,  6.89it/s]\n",
      "      11/20      2.71G       1.43      2.351      2.271      1.348          4        640: 100%|██████████| 20/20 [00:03<00:00,  6.00it/s]\n",
      "                 Class     Images  Instances      Box(P          R      mAP50  mAP50-95)     Mask(P          R      mAP50  mAP50-95):   0%|          | 0/4 [00:00<?, ?it/s]\n",
      "                 Class     Images  Instances      Box(P          R      mAP50  mAP50-95)     Mask(P          R      mAP50  mAP50-95):  25%|██▌       | 1/4 [00:00<00:00,  7.71it/s]\n",
      "                 Class     Images  Instances      Box(P          R      mAP50  mAP50-95)     Mask(P          R      mAP50  mAP50-95):  50%|█████     | 2/4 [00:00<00:00,  7.00it/s]\n",
      "                 Class     Images  Instances      Box(P          R      mAP50  mAP50-95)     Mask(P          R      mAP50  mAP50-95):  75%|███████▌  | 3/4 [00:00<00:00,  6.99it/s]\n"
     ]
    },
    {
     "name": "stdout",
     "output_type": "stream",
     "text": [
      "\u001b[36m(_tune pid=137578)\u001b[0m                    all        125         79      0.674      0.405      0.446      0.252      0.652      0.427      0.468      0.255\n"
     ]
    },
    {
     "name": "stderr",
     "output_type": "stream",
     "text": [
      "                 Class     Images  Instances      Box(P          R      mAP50  mAP50-95)     Mask(P          R      mAP50  mAP50-95): 100%|██████████| 4/4 [00:00<00:00,  7.23it/s]\n"
     ]
    },
    {
     "name": "stdout",
     "output_type": "stream",
     "text": [
      "\u001b[36m(_tune pid=137578)\u001b[0m \n",
      "\u001b[36m(_tune pid=137578)\u001b[0m       Epoch    GPU_mem   box_loss   seg_loss   cls_loss   dfl_loss  Instances       Size\n"
     ]
    },
    {
     "name": "stderr",
     "output_type": "stream",
     "text": [
      "  0%|          | 0/20 [00:00<?, ?it/s]\n",
      "      12/20      2.71G      2.737      3.692      4.259      2.332          4        640:   5%|▌         | 1/20 [00:00<00:02,  7.12it/s]\n",
      "      12/20      2.71G      2.247      3.435      3.456      1.943          9        640:  10%|█         | 2/20 [00:00<00:02,  7.09it/s]\n",
      "      12/20      2.71G      1.966      3.169      2.937      1.739         11        640:  15%|█▌        | 3/20 [00:00<00:02,  7.00it/s]\n",
      "      12/20      2.71G      1.835      2.986      2.806      1.677          7        640:  20%|██        | 4/20 [00:00<00:02,  6.71it/s]\n",
      "      12/20      2.71G      1.721      2.762      2.646      1.592         11        640:  25%|██▌       | 5/20 [00:00<00:02,  6.83it/s]\n",
      "      12/20      2.71G      1.713      2.661      2.586      1.578          8        640:  30%|███       | 6/20 [00:00<00:02,  6.89it/s]\n",
      "      12/20      2.71G      1.675      2.682      2.576      1.539          6        640:  35%|███▌      | 7/20 [00:01<00:01,  6.93it/s]\n",
      "      12/20      2.71G      1.658      2.642      2.572      1.501         10        640:  40%|████      | 8/20 [00:01<00:01,  6.74it/s]\n",
      "      12/20      2.71G      1.647      2.628      2.499      1.486          9        640:  45%|████▌     | 9/20 [00:01<00:01,  6.84it/s]\n",
      "      12/20      2.71G      1.635      2.596      2.442      1.473          8        640:  50%|█████     | 10/20 [00:01<00:01,  6.90it/s]\n",
      "      12/20      2.71G      1.619      2.565      2.369      1.458         12        640:  55%|█████▌    | 11/20 [00:01<00:01,  6.87it/s]\n",
      "      12/20      2.71G      1.624      2.523      2.316      1.449         11        640:  60%|██████    | 12/20 [00:01<00:01,  6.71it/s]\n",
      "      12/20      2.71G      1.596      2.517      2.272      1.431         14        640:  65%|██████▌   | 13/20 [00:01<00:01,  6.77it/s]\n",
      "      12/20      2.71G      1.587      2.492      2.277      1.431          9        640:  70%|███████   | 14/20 [00:02<00:00,  6.82it/s]\n",
      "      12/20      2.71G      1.582       2.47      2.244      1.435          9        640:  75%|███████▌  | 15/20 [00:02<00:00,  6.89it/s]\n",
      "      12/20      2.71G      1.576      2.478      2.222      1.428         13        640:  80%|████████  | 16/20 [00:02<00:00,  6.70it/s]\n",
      "      12/20      2.71G      1.568      2.428      2.239      1.413          6        640:  85%|████████▌ | 17/20 [00:02<00:00,  6.81it/s]\n",
      "      12/20      2.71G      1.554      2.393      2.215      1.409          6        640:  90%|█████████ | 18/20 [00:02<00:00,  6.89it/s]\n",
      "      12/20      2.71G      1.544      2.359      2.175        1.4         14        640:  95%|█████████▌| 19/20 [00:02<00:00,  6.86it/s]\n",
      "      12/20      2.71G      1.546      2.322      2.145      1.401          4        640: 100%|██████████| 20/20 [00:02<00:00,  7.01it/s]\n",
      "                 Class     Images  Instances      Box(P          R      mAP50  mAP50-95)     Mask(P          R      mAP50  mAP50-95):   0%|          | 0/4 [00:00<?, ?it/s]\n",
      "                 Class     Images  Instances      Box(P          R      mAP50  mAP50-95)     Mask(P          R      mAP50  mAP50-95):  25%|██▌       | 1/4 [00:00<00:00,  7.60it/s]\n",
      "                 Class     Images  Instances      Box(P          R      mAP50  mAP50-95)     Mask(P          R      mAP50  mAP50-95):  50%|█████     | 2/4 [00:00<00:00,  6.93it/s]\n",
      "                 Class     Images  Instances      Box(P          R      mAP50  mAP50-95)     Mask(P          R      mAP50  mAP50-95):  75%|███████▌  | 3/4 [00:00<00:00,  6.95it/s]\n"
     ]
    },
    {
     "name": "stdout",
     "output_type": "stream",
     "text": [
      "\u001b[36m(_tune pid=137578)\u001b[0m                    all        125         79      0.768      0.376      0.498      0.283      0.816      0.393      0.515      0.275\n"
     ]
    },
    {
     "name": "stderr",
     "output_type": "stream",
     "text": [
      "                 Class     Images  Instances      Box(P          R      mAP50  mAP50-95)     Mask(P          R      mAP50  mAP50-95): 100%|██████████| 4/4 [00:00<00:00,  7.19it/s]\n"
     ]
    },
    {
     "name": "stdout",
     "output_type": "stream",
     "text": [
      "\u001b[36m(_tune pid=137578)\u001b[0m \n",
      "\u001b[36m(_tune pid=137578)\u001b[0m       Epoch    GPU_mem   box_loss   seg_loss   cls_loss   dfl_loss  Instances       Size\n"
     ]
    },
    {
     "name": "stderr",
     "output_type": "stream",
     "text": [
      "  0%|          | 0/20 [00:00<?, ?it/s]\n",
      "      13/20      2.71G      1.272      1.636      1.547      1.241          9        640:   5%|▌         | 1/20 [00:00<00:02,  7.04it/s]\n",
      "      13/20      2.71G      1.278      2.056      1.659      1.255          9        640:  10%|█         | 2/20 [00:00<00:02,  7.01it/s]\n",
      "      13/20      2.71G      1.298      2.058      1.691      1.227          8        640:  15%|█▌        | 3/20 [00:00<00:02,  7.01it/s]\n",
      "      13/20      2.71G      1.301      2.028      1.746      1.256          8        640:  20%|██        | 4/20 [00:00<00:02,  6.75it/s]\n",
      "      13/20      2.71G       1.32      2.031      1.738      1.267          6        640:  25%|██▌       | 5/20 [00:00<00:02,  6.87it/s]\n",
      "      13/20      2.71G      1.323      2.089      1.747      1.246         11        640:  30%|███       | 6/20 [00:00<00:02,  6.91it/s]\n",
      "      13/20      2.71G       1.33      2.131      1.807       1.24          7        640:  35%|███▌      | 7/20 [00:01<00:01,  6.96it/s]\n",
      "      13/20      2.71G      1.415      2.192      2.047      1.268          3        640:  40%|████      | 8/20 [00:01<00:01,  6.77it/s]\n",
      "      13/20      2.71G      1.405      2.167      2.001       1.26         12        640:  45%|████▌     | 9/20 [00:01<00:01,  6.84it/s]\n",
      "      13/20      2.71G      1.452      2.278          2       1.28         14        640:  50%|█████     | 10/20 [00:01<00:01,  6.88it/s]\n",
      "      13/20      2.71G      1.448      2.231      2.027      1.268          7        640:  55%|█████▌    | 11/20 [00:01<00:01,  6.94it/s]\n",
      "      13/20      2.71G      1.471       2.24      2.002      1.284         15        640:  60%|██████    | 12/20 [00:01<00:01,  6.72it/s]\n",
      "      13/20      2.71G      1.457       2.22      1.988      1.274         11        640:  65%|██████▌   | 13/20 [00:01<00:01,  6.81it/s]\n",
      "      13/20      2.71G       1.45      2.178      1.978      1.278          8        640:  70%|███████   | 14/20 [00:02<00:00,  6.89it/s]\n",
      "      13/20      2.71G      1.447      2.164      1.937      1.279         13        640:  75%|███████▌  | 15/20 [00:02<00:00,  6.92it/s]\n",
      "      13/20      2.71G      1.487      2.245      2.039      1.312          3        640:  80%|████████  | 16/20 [00:02<00:00,  6.76it/s]\n",
      "      13/20      2.71G      1.481      2.271      2.042      1.324          6        640:  85%|████████▌ | 17/20 [00:02<00:00,  6.86it/s]\n",
      "      13/20      2.71G      1.477       2.27      2.013      1.323         15        640:  90%|█████████ | 18/20 [00:02<00:00,  6.90it/s]\n",
      "      13/20      2.71G      1.484      2.322      2.018      1.326         11        640:  95%|█████████▌| 19/20 [00:02<00:00,  6.92it/s]\n",
      "      13/20      2.72G      1.488      2.351      2.026       1.33          3        640: 100%|██████████| 20/20 [00:02<00:00,  7.05it/s]\n",
      "                 Class     Images  Instances      Box(P          R      mAP50  mAP50-95)     Mask(P          R      mAP50  mAP50-95):   0%|          | 0/4 [00:00<?, ?it/s]\n",
      "                 Class     Images  Instances      Box(P          R      mAP50  mAP50-95)     Mask(P          R      mAP50  mAP50-95):  25%|██▌       | 1/4 [00:00<00:00,  7.76it/s]\n",
      "                 Class     Images  Instances      Box(P          R      mAP50  mAP50-95)     Mask(P          R      mAP50  mAP50-95):  50%|█████     | 2/4 [00:00<00:00,  7.06it/s]\n",
      "                 Class     Images  Instances      Box(P          R      mAP50  mAP50-95)     Mask(P          R      mAP50  mAP50-95):  75%|███████▌  | 3/4 [00:00<00:00,  6.99it/s]\n"
     ]
    },
    {
     "name": "stdout",
     "output_type": "stream",
     "text": [
      "\u001b[36m(_tune pid=137578)\u001b[0m                    all        125         79      0.829       0.57      0.683      0.382      0.927      0.582      0.703      0.389\n"
     ]
    },
    {
     "name": "stderr",
     "output_type": "stream",
     "text": [
      "                 Class     Images  Instances      Box(P          R      mAP50  mAP50-95)     Mask(P          R      mAP50  mAP50-95): 100%|██████████| 4/4 [00:00<00:00,  7.23it/s]\n"
     ]
    },
    {
     "name": "stdout",
     "output_type": "stream",
     "text": [
      "\u001b[36m(_tune pid=137578)\u001b[0m \n",
      "\u001b[36m(_tune pid=137578)\u001b[0m       Epoch    GPU_mem   box_loss   seg_loss   cls_loss   dfl_loss  Instances       Size\n"
     ]
    },
    {
     "name": "stderr",
     "output_type": "stream",
     "text": [
      "  0%|          | 0/20 [00:00<?, ?it/s]\n",
      "      14/20      2.72G      1.377      2.013      1.661      1.413         11        640:   5%|▌         | 1/20 [00:00<00:02,  7.02it/s]\n",
      "      14/20      2.72G      1.398      2.258      1.744      1.408          9        640:  10%|█         | 2/20 [00:00<00:02,  7.02it/s]\n",
      "      14/20      2.72G      1.443      2.319      1.965      1.416          8        640:  15%|█▌        | 3/20 [00:00<00:02,  7.03it/s]\n",
      "      14/20      2.72G      1.357      2.227      1.868      1.343         10        640:  20%|██        | 4/20 [00:00<00:02,  6.75it/s]\n",
      "      14/20      2.72G      1.363      2.163      1.833      1.347         15        640:  25%|██▌       | 5/20 [00:00<00:02,  6.83it/s]\n",
      "      14/20      2.72G      1.337      2.144      1.763      1.315         11        640:  30%|███       | 6/20 [00:00<00:02,  6.88it/s]\n",
      "      14/20      2.72G      1.333      2.166      1.736      1.306         11        640:  35%|███▌      | 7/20 [00:01<00:01,  6.93it/s]\n",
      "      14/20      2.72G      1.399      2.194      1.776      1.316         12        640:  40%|████      | 8/20 [00:01<00:01,  6.74it/s]\n",
      "      14/20      2.72G      1.436       2.24      1.805       1.33          9        640:  45%|████▌     | 9/20 [00:01<00:01,  6.84it/s]\n",
      "      14/20      2.72G      1.409      2.196      1.778       1.33         10        640:  50%|█████     | 10/20 [00:01<00:01,  6.90it/s]\n",
      "      14/20      2.72G      1.415       2.15      1.793      1.321          6        640:  55%|█████▌    | 11/20 [00:01<00:01,  6.94it/s]\n",
      "      14/20      2.72G      1.394      2.121      1.763      1.306         10        640:  60%|██████    | 12/20 [00:01<00:01,  6.75it/s]\n",
      "      14/20      2.72G      1.395      2.123      1.771      1.299          6        640:  65%|██████▌   | 13/20 [00:01<00:01,  6.85it/s]\n",
      "      14/20      2.72G      1.368      2.075      1.747      1.294          7        640:  70%|███████   | 14/20 [00:02<00:00,  6.91it/s]\n",
      "      14/20      2.72G      1.358      2.062       1.73      1.284          7        640:  75%|███████▌  | 15/20 [00:02<00:00,  6.96it/s]\n",
      "      14/20      2.72G      1.342      2.063      1.723      1.271          7        640:  80%|████████  | 16/20 [00:02<00:00,  6.77it/s]\n",
      "      14/20      2.72G      1.331      2.101       1.72       1.27          6        640:  85%|████████▌ | 17/20 [00:02<00:00,  6.86it/s]\n",
      "      14/20      2.72G      1.347      2.099      1.731      1.282          7        640:  90%|█████████ | 18/20 [00:02<00:00,  6.92it/s]\n",
      "      14/20      2.72G      1.344      2.077      1.718      1.281         10        640:  95%|█████████▌| 19/20 [00:02<00:00,  6.91it/s]\n",
      "      14/20      2.73G      1.342      2.088      1.706      1.284          6        640: 100%|██████████| 20/20 [00:02<00:00,  7.02it/s]\n",
      "                 Class     Images  Instances      Box(P          R      mAP50  mAP50-95)     Mask(P          R      mAP50  mAP50-95):   0%|          | 0/4 [00:00<?, ?it/s]\n",
      "                 Class     Images  Instances      Box(P          R      mAP50  mAP50-95)     Mask(P          R      mAP50  mAP50-95):  25%|██▌       | 1/4 [00:00<00:00,  7.41it/s]\n",
      "                 Class     Images  Instances      Box(P          R      mAP50  mAP50-95)     Mask(P          R      mAP50  mAP50-95):  50%|█████     | 2/4 [00:00<00:00,  6.96it/s]\n",
      "                 Class     Images  Instances      Box(P          R      mAP50  mAP50-95)     Mask(P          R      mAP50  mAP50-95):  75%|███████▌  | 3/4 [00:00<00:00,  6.96it/s]\n"
     ]
    },
    {
     "name": "stdout",
     "output_type": "stream",
     "text": [
      "\u001b[36m(_tune pid=137578)\u001b[0m                    all        125         79      0.715      0.635      0.642      0.346      0.753      0.658      0.679      0.372\n"
     ]
    },
    {
     "name": "stderr",
     "output_type": "stream",
     "text": [
      "                 Class     Images  Instances      Box(P          R      mAP50  mAP50-95)     Mask(P          R      mAP50  mAP50-95): 100%|██████████| 4/4 [00:00<00:00,  7.21it/s]\n"
     ]
    },
    {
     "name": "stdout",
     "output_type": "stream",
     "text": [
      "\u001b[36m(_tune pid=137578)\u001b[0m \n",
      "\u001b[36m(_tune pid=137578)\u001b[0m       Epoch    GPU_mem   box_loss   seg_loss   cls_loss   dfl_loss  Instances       Size\n"
     ]
    },
    {
     "name": "stderr",
     "output_type": "stream",
     "text": [
      "  0%|          | 0/20 [00:00<?, ?it/s]\n",
      "      15/20      2.73G      1.509      2.403      1.643      1.229         12        640:   5%|▌         | 1/20 [00:00<00:02,  7.01it/s]\n",
      "      15/20      2.73G      1.372      2.202      1.574      1.322          9        640:  10%|█         | 2/20 [00:00<00:02,  7.02it/s]\n",
      "      15/20      2.73G      1.366      2.059      1.553      1.326         11        640:  15%|█▌        | 3/20 [00:00<00:02,  7.01it/s]\n",
      "      15/20      2.73G      1.349      1.942      1.559      1.305          6        640:  20%|██        | 4/20 [00:00<00:02,  6.75it/s]\n",
      "      15/20      2.73G      1.387      2.166      1.699      1.301          8        640:  25%|██▌       | 5/20 [00:00<00:02,  6.88it/s]\n",
      "      15/20      2.73G      1.411      2.143      1.676      1.293          7        640:  30%|███       | 6/20 [00:00<00:02,  6.93it/s]\n",
      "      15/20      2.73G      1.433      2.218       1.73      1.311         11        640:  35%|███▌      | 7/20 [00:01<00:01,  6.95it/s]\n",
      "      15/20      2.73G      1.417      2.197      1.736      1.312         12        640:  40%|████      | 8/20 [00:01<00:01,  6.65it/s]\n",
      "      15/20      2.73G      1.419      2.168      1.733      1.306          6        640:  45%|████▌     | 9/20 [00:01<00:01,  6.78it/s]\n",
      "      15/20      2.73G      1.377      2.131      1.693      1.277          7        640:  50%|█████     | 10/20 [00:01<00:01,  6.87it/s]\n",
      "      15/20      2.73G      1.375      2.107      1.675      1.279         12        640:  55%|█████▌    | 11/20 [00:01<00:01,  6.92it/s]\n",
      "      15/20      2.73G      1.379      2.064      1.697      1.276          5        640:  60%|██████    | 12/20 [00:01<00:01,  6.71it/s]\n",
      "      15/20      2.73G      1.381      2.044      1.698      1.271          6        640:  65%|██████▌   | 13/20 [00:01<00:01,  6.83it/s]\n",
      "      15/20      2.73G      1.394      2.008      1.677      1.271         12        640:  70%|███████   | 14/20 [00:02<00:00,  6.88it/s]\n",
      "      15/20      2.73G      1.386      2.027      1.694      1.265          5        640:  75%|███████▌  | 15/20 [00:02<00:00,  6.93it/s]\n",
      "      15/20      2.73G      1.379      2.012      1.683      1.259         12        640:  80%|████████  | 16/20 [00:02<00:00,  6.76it/s]\n",
      "      15/20      2.73G      1.363      1.996      1.679      1.244         10        640:  85%|████████▌ | 17/20 [00:02<00:00,  6.85it/s]\n",
      "      15/20      2.73G      1.346      1.973      1.654      1.237         11        640:  90%|█████████ | 18/20 [00:02<00:00,  6.90it/s]\n",
      "      15/20      2.73G      1.345      1.986      1.661      1.237         14        640:  95%|█████████▌| 19/20 [00:02<00:00,  6.95it/s]\n",
      "      15/20      2.74G      1.367      1.975      1.693       1.25          3        640: 100%|██████████| 20/20 [00:02<00:00,  7.05it/s]\n",
      "                 Class     Images  Instances      Box(P          R      mAP50  mAP50-95)     Mask(P          R      mAP50  mAP50-95):   0%|          | 0/4 [00:00<?, ?it/s]\n",
      "                 Class     Images  Instances      Box(P          R      mAP50  mAP50-95)     Mask(P          R      mAP50  mAP50-95):  25%|██▌       | 1/4 [00:00<00:00,  7.98it/s]\n",
      "                 Class     Images  Instances      Box(P          R      mAP50  mAP50-95)     Mask(P          R      mAP50  mAP50-95):  50%|█████     | 2/4 [00:00<00:00,  7.23it/s]\n",
      "                 Class     Images  Instances      Box(P          R      mAP50  mAP50-95)     Mask(P          R      mAP50  mAP50-95):  75%|███████▌  | 3/4 [00:00<00:00,  7.23it/s]\n",
      "                 Class     Images  Instances      Box(P          R      mAP50  mAP50-95)     Mask(P          R      mAP50  mAP50-95): 100%|██████████| 4/4 [00:00<00:00,  7.47it/s]\n"
     ]
    },
    {
     "name": "stdout",
     "output_type": "stream",
     "text": [
      "\u001b[36m(_tune pid=137578)\u001b[0m                    all        125         79      0.846      0.684      0.784      0.509      0.828      0.722      0.806      0.507\n",
      "\u001b[36m(_tune pid=137578)\u001b[0m \n",
      "\u001b[36m(_tune pid=137578)\u001b[0m       Epoch    GPU_mem   box_loss   seg_loss   cls_loss   dfl_loss  Instances       Size\n"
     ]
    },
    {
     "name": "stderr",
     "output_type": "stream",
     "text": [
      "  0%|          | 0/20 [00:00<?, ?it/s]\n",
      "      16/20      2.74G      1.385      2.189      1.647      1.311         10        640:   5%|▌         | 1/20 [00:00<00:02,  7.04it/s]\n",
      "      16/20      2.74G      1.321      2.144      1.543      1.212          9        640:  10%|█         | 2/20 [00:00<00:02,  7.05it/s]\n",
      "      16/20      2.74G      1.314      1.989      1.444      1.255          9        640:  15%|█▌        | 3/20 [00:00<00:02,  7.07it/s]\n",
      "      16/20      2.74G       1.31      1.923      1.542      1.249          7        640:  20%|██        | 4/20 [00:00<00:02,  6.80it/s]\n",
      "      16/20      2.74G      1.317      1.932      1.547      1.255          7        640:  25%|██▌       | 5/20 [00:00<00:02,  6.92it/s]\n",
      "      16/20      2.74G      1.274      1.873      1.509      1.222         11        640:  30%|███       | 6/20 [00:00<00:02,  6.98it/s]\n",
      "      16/20      2.74G      1.299      1.848      1.494      1.221          7        640:  35%|███▌      | 7/20 [00:01<00:01,  7.00it/s]\n",
      "      16/20      2.74G      1.341      1.847      1.521      1.243          7        640:  40%|████      | 8/20 [00:01<00:01,  6.80it/s]\n",
      "      16/20      2.74G      1.305       1.84      1.528      1.235          9        640:  45%|████▌     | 9/20 [00:01<00:01,  6.88it/s]\n",
      "      16/20      2.74G        1.3      1.817      1.524      1.234          9        640:  50%|█████     | 10/20 [00:01<00:01,  6.95it/s]\n",
      "      16/20      2.74G      1.325      1.842      1.541      1.242         17        640:  55%|█████▌    | 11/20 [00:01<00:01,  6.96it/s]\n",
      "      16/20      2.74G      1.304      1.818      1.499       1.23          6        640:  60%|██████    | 12/20 [00:01<00:01,  6.76it/s]\n",
      "      16/20      2.74G      1.287      1.796      1.488      1.221          8        640:  65%|██████▌   | 13/20 [00:01<00:01,  6.85it/s]\n",
      "      16/20      2.74G      1.276      1.796      1.469       1.22          9        640:  70%|███████   | 14/20 [00:02<00:00,  6.89it/s]\n",
      "      16/20      2.74G      1.275      1.775      1.466      1.213         12        640:  75%|███████▌  | 15/20 [00:02<00:00,  6.92it/s]\n",
      "      16/20      2.74G      1.294      1.774      1.464      1.224         12        640:  80%|████████  | 16/20 [00:02<00:00,  6.74it/s]\n",
      "      16/20      2.74G      1.289      1.771      1.456      1.223         13        640:  85%|████████▌ | 17/20 [00:02<00:00,  6.82it/s]\n",
      "      16/20      2.74G      1.294      1.762      1.449      1.228         10        640:  90%|█████████ | 18/20 [00:02<00:00,  6.88it/s]\n",
      "      16/20      2.74G       1.29      1.739      1.439      1.221          6        640:  95%|█████████▌| 19/20 [00:02<00:00,  6.93it/s]\n",
      "      16/20      2.75G      1.296      1.749      1.471      1.218          4        640: 100%|██████████| 20/20 [00:02<00:00,  7.07it/s]\n",
      "                 Class     Images  Instances      Box(P          R      mAP50  mAP50-95)     Mask(P          R      mAP50  mAP50-95):   0%|          | 0/4 [00:00<?, ?it/s]\n",
      "                 Class     Images  Instances      Box(P          R      mAP50  mAP50-95)     Mask(P          R      mAP50  mAP50-95):  25%|██▌       | 1/4 [00:00<00:00,  7.96it/s]\n",
      "                 Class     Images  Instances      Box(P          R      mAP50  mAP50-95)     Mask(P          R      mAP50  mAP50-95):  50%|█████     | 2/4 [00:00<00:00,  7.18it/s]\n",
      "                 Class     Images  Instances      Box(P          R      mAP50  mAP50-95)     Mask(P          R      mAP50  mAP50-95):  75%|███████▌  | 3/4 [00:00<00:00,  7.14it/s]\n",
      "                 Class     Images  Instances      Box(P          R      mAP50  mAP50-95)     Mask(P          R      mAP50  mAP50-95): 100%|██████████| 4/4 [00:00<00:00,  7.43it/s]\n"
     ]
    },
    {
     "name": "stdout",
     "output_type": "stream",
     "text": [
      "\u001b[36m(_tune pid=137578)\u001b[0m                    all        125         79      0.835       0.43      0.534      0.296      0.835       0.43      0.519      0.303\n",
      "\u001b[36m(_tune pid=137578)\u001b[0m \n",
      "\u001b[36m(_tune pid=137578)\u001b[0m       Epoch    GPU_mem   box_loss   seg_loss   cls_loss   dfl_loss  Instances       Size\n"
     ]
    },
    {
     "name": "stderr",
     "output_type": "stream",
     "text": [
      "  0%|          | 0/20 [00:00<?, ?it/s]\n",
      "      17/20      2.75G      1.466       1.78      1.673      1.343          8        640:   5%|▌         | 1/20 [00:00<00:02,  7.01it/s]\n",
      "      17/20      2.75G      1.163      1.321      1.422      1.147          4        640:  10%|█         | 2/20 [00:00<00:02,  7.02it/s]\n",
      "      17/20      2.75G      1.176      1.365      1.384      1.142          9        640:  15%|█▌        | 3/20 [00:00<00:02,  6.98it/s]\n",
      "      17/20      2.75G      1.207      1.457      1.359      1.152         13        640:  20%|██        | 4/20 [00:00<00:02,  6.65it/s]\n",
      "      17/20      2.75G      1.219      1.488      1.341      1.164          7        640:  25%|██▌       | 5/20 [00:00<00:02,  6.79it/s]\n",
      "      17/20      2.75G      1.251      1.555      1.351      1.183         14        640:  30%|███       | 6/20 [00:00<00:02,  6.81it/s]\n",
      "      17/20      2.75G      1.246      1.597       1.36       1.16         11        640:  35%|███▌      | 7/20 [00:01<00:01,  6.85it/s]\n",
      "      17/20      2.75G      1.247      1.636      1.352      1.155          7        640:  40%|████      | 8/20 [00:01<00:01,  6.68it/s]\n",
      "      17/20      2.75G      1.271      1.715      1.376      1.179         15        640:  45%|████▌     | 9/20 [00:01<00:01,  6.76it/s]\n",
      "      17/20      2.75G      1.269      1.707      1.352      1.174         13        640:  50%|█████     | 10/20 [00:01<00:01,  6.79it/s]\n",
      "      17/20      2.75G       1.27      1.712      1.354      1.167          9        640:  55%|█████▌    | 11/20 [00:01<00:01,  6.86it/s]\n",
      "      17/20      2.75G       1.28      1.747      1.376      1.177         10        640:  60%|██████    | 12/20 [00:01<00:01,  6.69it/s]\n",
      "      17/20      2.75G      1.261      1.728      1.366       1.17          7        640:  65%|██████▌   | 13/20 [00:01<00:01,  6.77it/s]\n",
      "      17/20      2.75G       1.27      1.744      1.373      1.195          7        640:  70%|███████   | 14/20 [00:02<00:00,  6.85it/s]\n",
      "      17/20      2.75G      1.275      1.788      1.389      1.206         12        640:  75%|███████▌  | 15/20 [00:02<00:00,  6.89it/s]\n",
      "      17/20      2.75G      1.276      1.792       1.39      1.207         12        640:  80%|████████  | 16/20 [00:02<00:00,  6.70it/s]\n",
      "      17/20      2.75G      1.263      1.818       1.39      1.201          9        640:  85%|████████▌ | 17/20 [00:02<00:00,  6.78it/s]\n",
      "      17/20      2.75G      1.245      1.801      1.377      1.196          6        640:  90%|█████████ | 18/20 [00:02<00:00,  6.84it/s]\n",
      "      17/20      2.75G      1.245      1.802      1.374      1.195          5        640:  95%|█████████▌| 19/20 [00:02<00:00,  6.87it/s]\n",
      "      17/20      2.76G        1.3      1.813      1.456      1.224          1        640: 100%|██████████| 20/20 [00:02<00:00,  6.98it/s]\n",
      "                 Class     Images  Instances      Box(P          R      mAP50  mAP50-95)     Mask(P          R      mAP50  mAP50-95):   0%|          | 0/4 [00:00<?, ?it/s]\n",
      "                 Class     Images  Instances      Box(P          R      mAP50  mAP50-95)     Mask(P          R      mAP50  mAP50-95):  25%|██▌       | 1/4 [00:00<00:00,  7.68it/s]\n",
      "                 Class     Images  Instances      Box(P          R      mAP50  mAP50-95)     Mask(P          R      mAP50  mAP50-95):  50%|█████     | 2/4 [00:00<00:00,  7.09it/s]\n",
      "                 Class     Images  Instances      Box(P          R      mAP50  mAP50-95)     Mask(P          R      mAP50  mAP50-95):  75%|███████▌  | 3/4 [00:00<00:00,  7.12it/s]\n",
      "                 Class     Images  Instances      Box(P          R      mAP50  mAP50-95)     Mask(P          R      mAP50  mAP50-95): 100%|██████████| 4/4 [00:00<00:00,  7.37it/s]\n"
     ]
    },
    {
     "name": "stdout",
     "output_type": "stream",
     "text": [
      "\u001b[36m(_tune pid=137578)\u001b[0m                    all        125         79      0.796      0.696      0.813        0.5      0.811      0.709      0.804      0.537\n",
      "\u001b[36m(_tune pid=137578)\u001b[0m \n",
      "\u001b[36m(_tune pid=137578)\u001b[0m       Epoch    GPU_mem   box_loss   seg_loss   cls_loss   dfl_loss  Instances       Size\n"
     ]
    },
    {
     "name": "stderr",
     "output_type": "stream",
     "text": [
      "  0%|          | 0/20 [00:00<?, ?it/s]\n",
      "      18/20      2.76G      1.132      1.849      1.272      1.129          8        640:   5%|▌         | 1/20 [00:00<00:02,  7.08it/s]\n",
      "      18/20      2.76G      1.178       1.82      1.276      1.135         11        640:  10%|█         | 2/20 [00:00<00:02,  7.06it/s]\n",
      "      18/20      2.76G      1.216      1.629       1.28      1.135         10        640:  15%|█▌        | 3/20 [00:00<00:02,  7.05it/s]\n",
      "      18/20      2.76G      1.133      1.543      1.229      1.134          8        640:  20%|██        | 4/20 [00:00<00:02,  6.76it/s]\n",
      "      18/20      2.76G      1.151      1.618      1.247      1.137         10        640:  25%|██▌       | 5/20 [00:00<00:02,  6.87it/s]\n",
      "      18/20      2.76G      1.176      1.533      1.243      1.151          5        640:  30%|███       | 6/20 [00:00<00:02,  6.95it/s]\n",
      "      18/20      2.76G      1.163      1.557      1.239      1.148         11        640:  35%|███▌      | 7/20 [00:01<00:01,  6.95it/s]\n",
      "      18/20      2.76G      1.146      1.522      1.223      1.142         10        640:  40%|████      | 8/20 [00:01<00:01,  6.68it/s]\n",
      "      18/20      2.76G      1.128      1.537      1.225      1.137         10        640:  45%|████▌     | 9/20 [00:01<00:01,  6.78it/s]\n",
      "      18/20      2.76G      1.143      1.563      1.244      1.148          6        640:  50%|█████     | 10/20 [00:01<00:01,  6.83it/s]\n",
      "      18/20      2.76G       1.15      1.577      1.248      1.148         13        640:  55%|█████▌    | 11/20 [00:01<00:01,  6.86it/s]\n",
      "      18/20      2.76G      1.148      1.558      1.247      1.143          6        640:  60%|██████    | 12/20 [00:01<00:01,  6.70it/s]\n",
      "      18/20      2.76G      1.173      1.586      1.257      1.159         15        640:  65%|██████▌   | 13/20 [00:01<00:01,  6.78it/s]\n",
      "      18/20      2.76G      1.139      1.549      1.264      1.148          3        640:  70%|███████   | 14/20 [00:02<00:00,  6.87it/s]\n",
      "      18/20      2.76G      1.133      1.551      1.251      1.145         13        640:  75%|███████▌  | 15/20 [00:02<00:00,  6.90it/s]\n",
      "      18/20      2.76G      1.122      1.575      1.253      1.137          6        640:  80%|████████  | 16/20 [00:02<00:00,  6.70it/s]\n",
      "      18/20      2.76G      1.125      1.587      1.249      1.137          8        640:  85%|████████▌ | 17/20 [00:02<00:00,  6.80it/s]\n",
      "      18/20      2.76G      1.115      1.576       1.23      1.132         10        640:  90%|█████████ | 18/20 [00:02<00:00,  6.83it/s]\n",
      "      18/20      2.76G      1.129      1.583       1.24      1.142         11        640:  95%|█████████▌| 19/20 [00:02<00:00,  6.89it/s]\n",
      "      18/20      2.78G      1.145      1.618      1.265      1.155          3        640: 100%|██████████| 20/20 [00:02<00:00,  7.01it/s]\n",
      "                 Class     Images  Instances      Box(P          R      mAP50  mAP50-95)     Mask(P          R      mAP50  mAP50-95):   0%|          | 0/4 [00:00<?, ?it/s]\n",
      "                 Class     Images  Instances      Box(P          R      mAP50  mAP50-95)     Mask(P          R      mAP50  mAP50-95):  25%|██▌       | 1/4 [00:00<00:00,  7.74it/s]\n",
      "                 Class     Images  Instances      Box(P          R      mAP50  mAP50-95)     Mask(P          R      mAP50  mAP50-95):  50%|█████     | 2/4 [00:00<00:00,  6.96it/s]\n",
      "                 Class     Images  Instances      Box(P          R      mAP50  mAP50-95)     Mask(P          R      mAP50  mAP50-95):  75%|███████▌  | 3/4 [00:00<00:00,  6.95it/s]\n"
     ]
    },
    {
     "name": "stdout",
     "output_type": "stream",
     "text": [
      "\u001b[36m(_tune pid=137578)\u001b[0m                    all        125         79      0.875      0.684      0.781      0.495      0.892      0.696      0.804      0.519\n"
     ]
    },
    {
     "name": "stderr",
     "output_type": "stream",
     "text": [
      "                 Class     Images  Instances      Box(P          R      mAP50  mAP50-95)     Mask(P          R      mAP50  mAP50-95): 100%|██████████| 4/4 [00:00<00:00,  7.19it/s]\n"
     ]
    },
    {
     "name": "stdout",
     "output_type": "stream",
     "text": [
      "\u001b[36m(_tune pid=137578)\u001b[0m \n",
      "\u001b[36m(_tune pid=137578)\u001b[0m       Epoch    GPU_mem   box_loss   seg_loss   cls_loss   dfl_loss  Instances       Size\n"
     ]
    },
    {
     "name": "stderr",
     "output_type": "stream",
     "text": [
      "  0%|          | 0/20 [00:00<?, ?it/s]\n",
      "      19/20      2.78G      1.045      1.446     0.9702      1.097         10        640:   5%|▌         | 1/20 [00:00<00:02,  7.02it/s]\n",
      "      19/20      2.78G      1.188      1.575      1.182        1.2          7        640:  10%|█         | 2/20 [00:00<00:02,  7.03it/s]\n",
      "      19/20      2.78G      1.134      1.634      1.205      1.168          9        640:  15%|█▌        | 3/20 [00:00<00:02,  7.01it/s]\n",
      "      19/20      2.78G      1.162      1.604      1.216      1.146          7        640:  20%|██        | 4/20 [00:00<00:02,  6.73it/s]\n",
      "      19/20      2.78G      1.197      1.563      1.211      1.172         15        640:  25%|██▌       | 5/20 [00:00<00:02,  6.82it/s]\n",
      "      19/20      2.78G      1.193      1.537      1.185      1.184         13        640:  30%|███       | 6/20 [00:00<00:02,  6.86it/s]\n",
      "      19/20      2.78G      1.182      1.529      1.161      1.198          9        640:  35%|███▌      | 7/20 [00:01<00:01,  6.93it/s]\n",
      "      19/20      2.78G      1.153       1.56      1.199      1.185          7        640:  40%|████      | 8/20 [00:01<00:01,  6.74it/s]\n",
      "      19/20      2.78G      1.147      1.578      1.186       1.17         15        640:  45%|████▌     | 9/20 [00:01<00:01,  6.83it/s]\n",
      "      19/20      2.78G      1.157      1.614      1.185      1.184         15        640:  50%|█████     | 10/20 [00:01<00:01,  6.85it/s]\n",
      "      19/20      2.78G      1.124      1.568      1.162      1.164          8        640:  55%|█████▌    | 11/20 [00:01<00:01,  6.92it/s]\n",
      "      19/20      2.78G      1.133      1.649      1.215      1.167          8        640:  60%|██████    | 12/20 [00:01<00:01,  6.73it/s]\n",
      "      19/20      2.78G      1.125      1.632      1.205      1.163          9        640:  65%|██████▌   | 13/20 [00:01<00:01,  6.82it/s]\n",
      "      19/20      2.78G      1.122      1.601      1.196      1.154          8        640:  70%|███████   | 14/20 [00:02<00:00,  6.89it/s]\n",
      "      19/20      2.78G      1.095      1.561      1.187      1.137          4        640:  75%|███████▌  | 15/20 [00:02<00:00,  6.93it/s]\n",
      "      19/20      2.78G      1.092       1.53      1.171      1.132         12        640:  80%|████████  | 16/20 [00:02<00:00,  6.72it/s]\n",
      "      19/20      2.78G      1.094      1.528      1.174      1.131          5        640:  85%|████████▌ | 17/20 [00:02<00:00,  6.83it/s]\n",
      "      19/20      2.78G      1.097      1.519      1.166      1.133         10        640:  90%|█████████ | 18/20 [00:02<00:00,  6.87it/s]\n",
      "      19/20      2.78G      1.101      1.519      1.162      1.137          9        640:  95%|█████████▌| 19/20 [00:02<00:00,  6.92it/s]\n",
      "      19/20      2.78G      1.138      1.519      1.195      1.144          1        640: 100%|██████████| 20/20 [00:02<00:00,  7.04it/s]\n",
      "                 Class     Images  Instances      Box(P          R      mAP50  mAP50-95)     Mask(P          R      mAP50  mAP50-95):   0%|          | 0/4 [00:00<?, ?it/s]\n",
      "                 Class     Images  Instances      Box(P          R      mAP50  mAP50-95)     Mask(P          R      mAP50  mAP50-95):  25%|██▌       | 1/4 [00:00<00:00,  7.96it/s]\n",
      "                 Class     Images  Instances      Box(P          R      mAP50  mAP50-95)     Mask(P          R      mAP50  mAP50-95):  50%|█████     | 2/4 [00:00<00:00,  7.15it/s]\n",
      "                 Class     Images  Instances      Box(P          R      mAP50  mAP50-95)     Mask(P          R      mAP50  mAP50-95):  75%|███████▌  | 3/4 [00:00<00:00,  7.11it/s]\n"
     ]
    },
    {
     "name": "stdout",
     "output_type": "stream",
     "text": [
      "\u001b[36m(_tune pid=137578)\u001b[0m                    all        125         79      0.896      0.747      0.785      0.521      0.912      0.759        0.8      0.518\n"
     ]
    },
    {
     "name": "stderr",
     "output_type": "stream",
     "text": [
      "                 Class     Images  Instances      Box(P          R      mAP50  mAP50-95)     Mask(P          R      mAP50  mAP50-95): 100%|██████████| 4/4 [00:00<00:00,  7.32it/s]\n"
     ]
    },
    {
     "name": "stdout",
     "output_type": "stream",
     "text": [
      "\u001b[36m(_tune pid=137578)\u001b[0m \n",
      "\u001b[36m(_tune pid=137578)\u001b[0m       Epoch    GPU_mem   box_loss   seg_loss   cls_loss   dfl_loss  Instances       Size\n"
     ]
    },
    {
     "name": "stderr",
     "output_type": "stream",
     "text": [
      "  0%|          | 0/20 [00:00<?, ?it/s]\n",
      "      20/20      2.78G     0.9005      1.242     0.9298      1.021          8        640:   5%|▌         | 1/20 [00:00<00:02,  7.10it/s]\n",
      "      20/20      2.78G      1.038      1.198      1.065      1.106          6        640:  10%|█         | 2/20 [00:00<00:02,  7.07it/s]\n",
      "      20/20      2.78G      1.082      1.241      1.119      1.119          9        640:  15%|█▌        | 3/20 [00:00<00:02,  7.06it/s]\n",
      "      20/20      2.78G      1.072      1.231      1.085      1.124         12        640:  20%|██        | 4/20 [00:00<00:02,  6.76it/s]\n",
      "      20/20      2.78G      1.056      1.256      1.077      1.107          9        640:  25%|██▌       | 5/20 [00:00<00:02,  6.85it/s]\n",
      "      20/20      2.78G      1.058      1.426      1.096       1.12         11        640:  30%|███       | 6/20 [00:00<00:02,  6.90it/s]\n",
      "      20/20      2.78G      1.045      1.405      1.063      1.111         15        640:  35%|███▌      | 7/20 [00:01<00:01,  6.92it/s]\n",
      "      20/20      2.78G      1.038       1.43      1.055      1.106          8        640:  40%|████      | 8/20 [00:01<00:01,  6.73it/s]\n",
      "      20/20      2.78G      1.033      1.445      1.048      1.091         12        640:  45%|████▌     | 9/20 [00:01<00:01,  6.81it/s]\n",
      "      20/20      2.78G      1.016        1.4      1.038      1.078         13        640:  50%|█████     | 10/20 [00:01<00:01,  6.85it/s]\n",
      "      20/20      2.78G      1.043      1.508      1.082      1.101         11        640:  55%|█████▌    | 11/20 [00:01<00:01,  6.91it/s]\n",
      "      20/20      2.78G       1.02      1.565      1.106       1.09          5        640:  60%|██████    | 12/20 [00:01<00:01,  6.75it/s]\n",
      "      20/20      2.78G       1.03      1.565      1.098      1.087         11        640:  65%|██████▌   | 13/20 [00:01<00:01,  6.81it/s]\n",
      "      20/20      2.78G      1.025      1.535      1.095       1.08          6        640:  70%|███████   | 14/20 [00:02<00:00,  6.87it/s]\n",
      "      20/20      2.78G      1.036       1.54      1.118      1.076          5        640:  75%|███████▌  | 15/20 [00:02<00:00,  6.93it/s]\n",
      "      20/20      2.78G      1.043      1.533      1.112      1.085         10        640:  80%|████████  | 16/20 [00:02<00:00,  6.73it/s]\n",
      "      20/20      2.78G      1.031      1.555      1.128      1.078         10        640:  85%|████████▌ | 17/20 [00:02<00:00,  6.83it/s]\n",
      "      20/20      2.78G      1.047      1.575      1.121       1.08          8        640:  90%|█████████ | 18/20 [00:02<00:00,  6.89it/s]\n",
      "      20/20      2.78G      1.061      1.596      1.138      1.083          8        640:  95%|█████████▌| 19/20 [00:02<00:00,  6.94it/s]\n",
      "      20/20      2.78G      1.051      1.555      1.126      1.074          2        640: 100%|██████████| 20/20 [00:02<00:00,  7.04it/s]\n",
      "                 Class     Images  Instances      Box(P          R      mAP50  mAP50-95)     Mask(P          R      mAP50  mAP50-95):   0%|          | 0/4 [00:00<?, ?it/s]\n",
      "                 Class     Images  Instances      Box(P          R      mAP50  mAP50-95)     Mask(P          R      mAP50  mAP50-95):  25%|██▌       | 1/4 [00:00<00:00,  7.90it/s]\n",
      "                 Class     Images  Instances      Box(P          R      mAP50  mAP50-95)     Mask(P          R      mAP50  mAP50-95):  50%|█████     | 2/4 [00:00<00:00,  7.03it/s]\n",
      "                 Class     Images  Instances      Box(P          R      mAP50  mAP50-95)     Mask(P          R      mAP50  mAP50-95):  75%|███████▌  | 3/4 [00:00<00:00,  7.02it/s]\n"
     ]
    },
    {
     "name": "stdout",
     "output_type": "stream",
     "text": [
      "\u001b[36m(_tune pid=137578)\u001b[0m                    all        125         79      0.962      0.835      0.923      0.638      0.932      0.869       0.94      0.655\n"
     ]
    },
    {
     "name": "stderr",
     "output_type": "stream",
     "text": [
      "                 Class     Images  Instances      Box(P          R      mAP50  mAP50-95)     Mask(P          R      mAP50  mAP50-95): 100%|██████████| 4/4 [00:00<00:00,  7.28it/s]\n"
     ]
    },
    {
     "name": "stdout",
     "output_type": "stream",
     "text": [
      "\u001b[36m(_tune pid=138055)\u001b[0m New https://pypi.org/project/ultralytics/8.3.107 available 😃 Update with 'pip install -U ultralytics'\n",
      "\u001b[36m(_tune pid=138055)\u001b[0m Ultralytics 8.3.96 🚀 Python-3.10.16 torch-2.6.0+cu124 CUDA:0 (NVIDIA GeForce RTX 3060, 11912MiB)\n",
      "\u001b[36m(_tune pid=138055)\u001b[0m \u001b[34m\u001b[1mengine/trainer: \u001b[0mtask=segment, mode=train, model=models/backbone/yolov8n-seg.pt, data=/home/memorista01/tesis/datasets_yaml/Deepfish.yaml, epochs=20, time=None, patience=100, batch=16, imgsz=640, save=True, save_period=-1, cache=False, device=None, workers=8, project=None, name=train, exist_ok=False, pretrained=True, optimizer=SGD, verbose=True, seed=0, deterministic=True, single_cls=False, rect=False, cos_lr=False, close_mosaic=10, resume=False, amp=True, fraction=1.0, profile=False, freeze=None, multi_scale=False, overlap_mask=True, mask_ratio=4, dropout=0.0, val=True, split=val, save_json=False, save_hybrid=False, conf=None, iou=0.7, max_det=300, half=False, dnn=False, plots=True, source=None, vid_stride=1, stream_buffer=False, visualize=False, augment=False, agnostic_nms=False, classes=None, retina_masks=False, embed=None, show=False, save_frames=False, save_txt=False, save_conf=False, save_crop=False, show_labels=True, show_conf=True, show_boxes=True, line_width=None, format=torchscript, keras=False, optimize=False, int8=False, dynamic=False, simplify=True, opset=None, workspace=None, nms=False, lr0=0.029891354883559217, lrf=0.164924274242404, momentum=0.9778001490172242, weight_decay=0.0008645805220657138, warmup_epochs=2.3936417541042694, warmup_momentum=0.6077833908543577, warmup_bias_lr=0.1, box=7.5, cls=0.5, dfl=1.5, pose=12.0, kobj=1.0, nbs=64, hsv_h=0.015, hsv_s=0.7, hsv_v=0.4, degrees=0.0, translate=0.1, scale=0.5, shear=0.0, perspective=0.0, flipud=0.0, fliplr=0.5, bgr=0.0, mosaic=1.0, mixup=0.0, copy_paste=0.0, copy_paste_mode=flip, auto_augment=randaugment, erasing=0.4, crop_fraction=1.0, cfg=None, tracker=botsort.yaml, save_dir=runs/segment/train\n",
      "\u001b[36m(_tune pid=138055)\u001b[0m Overriding model.yaml nc=80 with nc=1\n",
      "\u001b[36m(_tune pid=138055)\u001b[0m \n",
      "\u001b[36m(_tune pid=138055)\u001b[0m                    from  n    params  module                                       arguments                     \n",
      "\u001b[36m(_tune pid=138055)\u001b[0m   0                  -1  1       464  ultralytics.nn.modules.conv.Conv             [3, 16, 3, 2]                 \n",
      "\u001b[36m(_tune pid=138055)\u001b[0m   1                  -1  1      4672  ultralytics.nn.modules.conv.Conv             [16, 32, 3, 2]                \n",
      "\u001b[36m(_tune pid=138055)\u001b[0m   2                  -1  1      7360  ultralytics.nn.modules.block.C2f             [32, 32, 1, True]             \n",
      "\u001b[36m(_tune pid=138055)\u001b[0m   3                  -1  1     18560  ultralytics.nn.modules.conv.Conv             [32, 64, 3, 2]                \n",
      "\u001b[36m(_tune pid=138055)\u001b[0m   4                  -1  2     49664  ultralytics.nn.modules.block.C2f             [64, 64, 2, True]             \n",
      "\u001b[36m(_tune pid=138055)\u001b[0m   5                  -1  1     73984  ultralytics.nn.modules.conv.Conv             [64, 128, 3, 2]               \n",
      "\u001b[36m(_tune pid=138055)\u001b[0m   6                  -1  2    197632  ultralytics.nn.modules.block.C2f             [128, 128, 2, True]           \n",
      "\u001b[36m(_tune pid=138055)\u001b[0m   7                  -1  1    295424  ultralytics.nn.modules.conv.Conv             [128, 256, 3, 2]              \n",
      "\u001b[36m(_tune pid=138055)\u001b[0m   8                  -1  1    460288  ultralytics.nn.modules.block.C2f             [256, 256, 1, True]           \n",
      "\u001b[36m(_tune pid=138055)\u001b[0m   9                  -1  1    164608  ultralytics.nn.modules.block.SPPF            [256, 256, 5]                 \n",
      "\u001b[36m(_tune pid=138055)\u001b[0m  10                  -1  1         0  torch.nn.modules.upsampling.Upsample         [None, 2, 'nearest']          \n",
      "\u001b[36m(_tune pid=138055)\u001b[0m  11             [-1, 6]  1         0  ultralytics.nn.modules.conv.Concat           [1]                           \n",
      "\u001b[36m(_tune pid=138055)\u001b[0m  12                  -1  1    148224  ultralytics.nn.modules.block.C2f             [384, 128, 1]                 \n",
      "\u001b[36m(_tune pid=138055)\u001b[0m  13                  -1  1         0  torch.nn.modules.upsampling.Upsample         [None, 2, 'nearest']          \n",
      "\u001b[36m(_tune pid=138055)\u001b[0m  14             [-1, 4]  1         0  ultralytics.nn.modules.conv.Concat           [1]                           \n",
      "\u001b[36m(_tune pid=138055)\u001b[0m  15                  -1  1     37248  ultralytics.nn.modules.block.C2f             [192, 64, 1]                  \n",
      "\u001b[36m(_tune pid=138055)\u001b[0m  16                  -1  1     36992  ultralytics.nn.modules.conv.Conv             [64, 64, 3, 2]                \n",
      "\u001b[36m(_tune pid=138055)\u001b[0m  17            [-1, 12]  1         0  ultralytics.nn.modules.conv.Concat           [1]                           \n",
      "\u001b[36m(_tune pid=138055)\u001b[0m  18                  -1  1    123648  ultralytics.nn.modules.block.C2f             [192, 128, 1]                 \n",
      "\u001b[36m(_tune pid=138055)\u001b[0m  19                  -1  1    147712  ultralytics.nn.modules.conv.Conv             [128, 128, 3, 2]              \n",
      "\u001b[36m(_tune pid=138055)\u001b[0m  20             [-1, 9]  1         0  ultralytics.nn.modules.conv.Concat           [1]                           \n",
      "\u001b[36m(_tune pid=138055)\u001b[0m  21                  -1  1    493056  ultralytics.nn.modules.block.C2f             [384, 256, 1]                 \n",
      "\u001b[36m(_tune pid=138055)\u001b[0m  22        [15, 18, 21]  1   1004275  ultralytics.nn.modules.head.Segment          [1, 32, 64, [64, 128, 256]]   \n",
      "\u001b[36m(_tune pid=138055)\u001b[0m YOLOv8n-seg summary: 151 layers, 3,263,811 parameters, 3,263,795 gradients, 12.1 GFLOPs\n",
      "\u001b[36m(_tune pid=138055)\u001b[0m \n",
      "\u001b[36m(_tune pid=138055)\u001b[0m Transferred 381/417 items from pretrained weights\n",
      "\u001b[36m(_tune pid=138055)\u001b[0m Freezing layer 'model.22.dfl.conv.weight'\n",
      "\u001b[36m(_tune pid=138055)\u001b[0m \u001b[34m\u001b[1mAMP: \u001b[0mrunning Automatic Mixed Precision (AMP) checks...\n",
      "\u001b[36m(_tune pid=138055)\u001b[0m Downloading https://github.com/ultralytics/assets/releases/download/v8.3.0/yolo11n.pt to 'yolo11n.pt'...\n"
     ]
    },
    {
     "name": "stderr",
     "output_type": "stream",
     "text": [
      "  0%|          | 0.00/5.35M [00:00<?, ?B/s]\n",
      " 21%|██        | 1.12M/5.35M [00:00<00:00, 11.5MB/s]\n",
      " 42%|████▏     | 2.25M/5.35M [00:00<00:00, 11.7MB/s]\n",
      " 63%|██████▎   | 3.38M/5.35M [00:00<00:00, 11.6MB/s]\n",
      " 84%|████████▍ | 4.50M/5.35M [00:00<00:00, 11.6MB/s]\n",
      "100%|██████████| 5.35M/5.35M [00:00<00:00, 11.7MB/s]\n",
      "\u001b[34m\u001b[1mtrain: \u001b[0mScanning /home/memorista01/tesis/datasets_yolo/Deepfish/labels/train.cache... 148 images, 161 backgrounds, 0 corrupt: 100%|██████████| 309/309 [00:00<?, ?it/s]\n",
      "\u001b[34m\u001b[1mval: \u001b[0mScanning /home/memorista01/tesis/datasets_yolo/Deepfish/labels/valid.cache... 66 images, 59 backgrounds, 0 corrupt: 100%|██████████| 125/125 [00:00<?, ?it/s]\n"
     ]
    },
    {
     "name": "stdout",
     "output_type": "stream",
     "text": [
      "\u001b[36m(_tune pid=138055)\u001b[0m \u001b[34m\u001b[1mAMP: \u001b[0mchecks passed ✅\n",
      "\u001b[36m(_tune pid=138055)\u001b[0m Plotting labels to runs/segment/train/labels.jpg... \n"
     ]
    },
    {
     "name": "stderr",
     "output_type": "stream",
     "text": [
      "  0%|          | 0/20 [00:00<?, ?it/s]\n"
     ]
    },
    {
     "name": "stdout",
     "output_type": "stream",
     "text": [
      "\u001b[36m(_tune pid=138055)\u001b[0m \u001b[34m\u001b[1moptimizer:\u001b[0m SGD(lr=0.029891354883559217, momentum=0.9778001490172242) with parameter groups 66 weight(decay=0.0), 77 weight(decay=0.0008645805220657138), 76 bias(decay=0.0)\n",
      "\u001b[36m(_tune pid=138055)\u001b[0m Image sizes 640 train, 640 val\n",
      "\u001b[36m(_tune pid=138055)\u001b[0m Using 8 dataloader workers\n",
      "\u001b[36m(_tune pid=138055)\u001b[0m Logging results to \u001b[1mruns/segment/train\u001b[0m\n",
      "\u001b[36m(_tune pid=138055)\u001b[0m Starting training for 20 epochs...\n",
      "\u001b[36m(_tune pid=138055)\u001b[0m \n",
      "\u001b[36m(_tune pid=138055)\u001b[0m       Epoch    GPU_mem   box_loss   seg_loss   cls_loss   dfl_loss  Instances       Size\n"
     ]
    },
    {
     "name": "stderr",
     "output_type": "stream",
     "text": [
      "       1/20      2.46G      1.305      1.261      6.773      1.394          5        640:   5%|▌         | 1/20 [00:00<00:08,  2.27it/s]\n",
      "       1/20      2.46G      1.168      1.673      5.465      1.301         18        640:  10%|█         | 2/20 [00:00<00:05,  3.45it/s]\n",
      "       1/20      2.46G      1.427      2.284      4.992      1.438         28        640:  15%|█▌        | 3/20 [00:00<00:04,  3.97it/s]\n",
      "       1/20      2.46G      1.267      2.221      4.748      1.345         19        640:  20%|██        | 4/20 [00:01<00:03,  4.31it/s]\n",
      "       1/20      2.46G      1.295       2.26      4.738      1.329         17        640:  25%|██▌       | 5/20 [00:01<00:03,  4.71it/s]\n",
      "       1/20      2.46G      1.343      2.435      4.947      1.346         10        640:  30%|███       | 6/20 [00:01<00:02,  5.19it/s]\n",
      "       1/20      2.46G      1.322      2.458      4.872      1.333         18        640:  35%|███▌      | 7/20 [00:01<00:02,  5.51it/s]\n",
      "       1/20      2.46G      1.301      2.444      4.725      1.311         27        640:  40%|████      | 8/20 [00:01<00:02,  5.63it/s]\n",
      "       1/20      2.47G      1.318      2.488      4.637      1.325         24        640:  45%|████▌     | 9/20 [00:01<00:01,  5.84it/s]\n",
      "       1/20      2.47G      1.301      2.476      4.595      1.312         18        640:  50%|█████     | 10/20 [00:02<00:01,  5.95it/s]\n",
      "       1/20      2.48G      1.336      2.513      4.581      1.341         19        640:  55%|█████▌    | 11/20 [00:02<00:01,  6.04it/s]\n",
      "       1/20      2.48G      1.347      2.523      4.619      1.353         16        640:  60%|██████    | 12/20 [00:02<00:01,  6.15it/s]\n",
      "       1/20      2.48G      1.341      2.479      4.597      1.336         17        640:  65%|██████▌   | 13/20 [00:02<00:01,  6.17it/s]\n",
      "       1/20      2.48G      1.354      2.564      4.597      1.337         22        640:  70%|███████   | 14/20 [00:02<00:00,  6.22it/s]\n",
      "       1/20      2.48G      1.358      2.581      4.565      1.335         20        640:  75%|███████▌  | 15/20 [00:02<00:00,  6.18it/s]\n",
      "       1/20      2.48G      1.363      2.573      4.515      1.334         28        640:  80%|████████  | 16/20 [00:02<00:00,  6.19it/s]\n",
      "       1/20      2.48G      1.354      2.547      4.528      1.329         11        640:  85%|████████▌ | 17/20 [00:03<00:00,  6.23it/s]\n",
      "       1/20      2.48G      1.335      2.501      4.475      1.314         26        640:  90%|█████████ | 18/20 [00:03<00:00,  6.42it/s]\n",
      "       1/20      2.48G      1.329      2.462      4.451      1.307         15        640:  95%|█████████▌| 19/20 [00:03<00:00,  6.38it/s]\n",
      "       1/20      2.52G      1.336      2.459      4.429      1.307          8        640: 100%|██████████| 20/20 [00:03<00:00,  5.52it/s]\n",
      "                 Class     Images  Instances      Box(P          R      mAP50  mAP50-95)     Mask(P          R      mAP50  mAP50-95):   0%|          | 0/4 [00:00<?, ?it/s]\n",
      "                 Class     Images  Instances      Box(P          R      mAP50  mAP50-95)     Mask(P          R      mAP50  mAP50-95):  25%|██▌       | 1/4 [00:00<00:00,  5.78it/s]\n",
      "                 Class     Images  Instances      Box(P          R      mAP50  mAP50-95)     Mask(P          R      mAP50  mAP50-95):  50%|█████     | 2/4 [00:00<00:00,  6.08it/s]\n",
      "                 Class     Images  Instances      Box(P          R      mAP50  mAP50-95)     Mask(P          R      mAP50  mAP50-95):  75%|███████▌  | 3/4 [00:00<00:00,  6.34it/s]\n",
      "                 Class     Images  Instances      Box(P          R      mAP50  mAP50-95)     Mask(P          R      mAP50  mAP50-95): 100%|██████████| 4/4 [00:00<00:00,  6.16it/s]\n"
     ]
    },
    {
     "name": "stdout",
     "output_type": "stream",
     "text": [
      "\u001b[36m(_tune pid=138055)\u001b[0m                    all        125         79    0.00176      0.835      0.161      0.101    0.00171       0.81       0.16      0.107\n",
      "\u001b[36m(_tune pid=138055)\u001b[0m \n",
      "\u001b[36m(_tune pid=138055)\u001b[0m       Epoch    GPU_mem   box_loss   seg_loss   cls_loss   dfl_loss  Instances       Size\n"
     ]
    },
    {
     "name": "stderr",
     "output_type": "stream",
     "text": [
      "  0%|          | 0/20 [00:00<?, ?it/s]\n",
      "       2/20      2.64G      1.227      1.552      3.875      1.092         19        640:   5%|▌         | 1/20 [00:00<00:03,  6.07it/s]\n",
      "       2/20      2.64G      1.178      2.173      3.899      1.109         21        640:  10%|█         | 2/20 [00:00<00:02,  6.56it/s]\n",
      "       2/20      2.64G      1.249      2.221      3.842       1.16         29        640:  15%|█▌        | 3/20 [00:00<00:02,  6.40it/s]\n",
      "       2/20      2.64G      1.235      2.369       3.77      1.147         19        640:  20%|██        | 4/20 [00:00<00:02,  6.59it/s]\n",
      "       2/20      2.64G      1.202      2.264      3.812      1.138         15        640:  25%|██▌       | 5/20 [00:00<00:02,  6.49it/s]\n",
      "       2/20      2.64G      1.198      2.233        3.7      1.123         30        640:  30%|███       | 6/20 [00:00<00:02,  6.62it/s]\n",
      "       2/20      2.64G      1.215      2.207      3.629      1.132         24        640:  35%|███▌      | 7/20 [00:01<00:02,  6.33it/s]\n",
      "       2/20      2.64G      1.222      2.228       3.58       1.14         25        640:  40%|████      | 8/20 [00:01<00:01,  6.51it/s]\n",
      "       2/20      2.64G      1.237      2.202      3.572      1.153         17        640:  45%|████▌     | 9/20 [00:01<00:01,  6.44it/s]\n",
      "       2/20      2.64G      1.252      2.301      3.619      1.175         15        640:  50%|█████     | 10/20 [00:01<00:01,  6.59it/s]\n",
      "       2/20      2.64G      1.271      2.283      3.589      1.182         24        640:  55%|█████▌    | 11/20 [00:01<00:01,  6.49it/s]\n",
      "       2/20      2.64G      1.285      2.298      3.579      1.196         24        640:  60%|██████    | 12/20 [00:01<00:01,  6.61it/s]\n",
      "       2/20      2.64G      1.284      2.308      3.574      1.198         18        640:  65%|██████▌   | 13/20 [00:02<00:01,  6.50it/s]\n",
      "       2/20      2.64G      1.288      2.335      3.548      1.201         31        640:  70%|███████   | 14/20 [00:02<00:00,  6.61it/s]\n",
      "       2/20      2.64G      1.296      2.333      3.525      1.199         23        640:  75%|███████▌  | 15/20 [00:02<00:00,  6.52it/s]\n",
      "       2/20      2.64G      1.301      2.338      3.568        1.2         14        640:  80%|████████  | 16/20 [00:02<00:00,  6.66it/s]\n",
      "       2/20      2.64G      1.332      2.339      3.629      1.214         12        640:  85%|████████▌ | 17/20 [00:02<00:00,  6.55it/s]\n",
      "       2/20      2.64G      1.342      2.341       3.63      1.222         20        640:  90%|█████████ | 18/20 [00:02<00:00,  6.67it/s]\n",
      "       2/20      2.66G      1.351      2.344      3.621      1.222          7        640: 100%|██████████| 20/20 [00:02<00:00,  6.73it/s]\n",
      "                 Class     Images  Instances      Box(P          R      mAP50  mAP50-95)     Mask(P          R      mAP50  mAP50-95):   0%|          | 0/4 [00:00<?, ?it/s]\n",
      "                 Class     Images  Instances      Box(P          R      mAP50  mAP50-95)     Mask(P          R      mAP50  mAP50-95):  25%|██▌       | 1/4 [00:00<00:00,  7.33it/s]\n",
      "                 Class     Images  Instances      Box(P          R      mAP50  mAP50-95)     Mask(P          R      mAP50  mAP50-95):  50%|█████     | 2/4 [00:00<00:00,  6.70it/s]\n",
      "                 Class     Images  Instances      Box(P          R      mAP50  mAP50-95)     Mask(P          R      mAP50  mAP50-95):  75%|███████▌  | 3/4 [00:00<00:00,  6.74it/s]\n",
      "                 Class     Images  Instances      Box(P          R      mAP50  mAP50-95)     Mask(P          R      mAP50  mAP50-95): 100%|██████████| 4/4 [00:00<00:00,  6.97it/s]\n"
     ]
    },
    {
     "name": "stdout",
     "output_type": "stream",
     "text": [
      "\u001b[36m(_tune pid=138055)\u001b[0m                    all        125         79    0.00133      0.633      0.175     0.0945    0.00104      0.494      0.164      0.088\n"
     ]
    },
    {
     "name": "stderr",
     "output_type": "stream",
     "text": [
      "  0%|          | 0/20 [00:00<?, ?it/s]\n",
      "       3/20      2.66G      1.053      1.901      3.006       1.15         16        640:   5%|▌         | 1/20 [00:00<00:03,  6.28it/s]\n"
     ]
    },
    {
     "name": "stdout",
     "output_type": "stream",
     "text": [
      "\u001b[36m(_tune pid=138055)\u001b[0m \n",
      "\u001b[36m(_tune pid=138055)\u001b[0m       Epoch    GPU_mem   box_loss   seg_loss   cls_loss   dfl_loss  Instances       Size\n"
     ]
    },
    {
     "name": "stderr",
     "output_type": "stream",
     "text": [
      "       3/20      2.66G      1.402      2.226      3.289      1.277         18        640:  10%|█         | 2/20 [00:00<00:02,  6.67it/s]\n",
      "       3/20      2.66G      1.337      2.276      3.261      1.244         20        640:  15%|█▌        | 3/20 [00:00<00:02,  6.46it/s]\n",
      "       3/20      2.66G      1.345      2.299      3.188      1.233         16        640:  20%|██        | 4/20 [00:00<00:02,  6.64it/s]\n",
      "       3/20      2.66G      1.383      2.393      3.172      1.213         22        640:  25%|██▌       | 5/20 [00:00<00:02,  6.52it/s]\n",
      "       3/20      2.66G      1.398      2.453      3.159      1.227         22        640:  30%|███       | 6/20 [00:00<00:02,  6.65it/s]\n",
      "       3/20      2.66G      1.445      2.507      3.182      1.248         26        640:  35%|███▌      | 7/20 [00:01<00:02,  6.49it/s]\n",
      "       3/20      2.66G      1.407      2.465      3.126      1.236         15        640:  40%|████      | 8/20 [00:01<00:01,  6.65it/s]\n",
      "       3/20      2.66G      1.418      2.452      3.051      1.234         28        640:  45%|████▌     | 9/20 [00:01<00:01,  6.53it/s]\n",
      "       3/20      2.66G      1.395      2.469      3.023      1.225         19        640:  50%|█████     | 10/20 [00:01<00:01,  6.67it/s]\n",
      "       3/20      2.66G      1.402      2.513      3.105      1.242         14        640:  55%|█████▌    | 11/20 [00:01<00:01,  6.57it/s]\n",
      "       3/20      2.66G      1.431      2.532      3.123      1.253         15        640:  60%|██████    | 12/20 [00:01<00:01,  6.71it/s]\n",
      "       3/20      2.66G      1.421      2.528      3.085      1.247         27        640:  65%|██████▌   | 13/20 [00:01<00:01,  6.76it/s]\n",
      "       3/20      2.66G      1.413      2.532      3.066       1.25         22        640:  70%|███████   | 14/20 [00:02<00:00,  6.60it/s]\n",
      "       3/20      2.66G      1.405      2.512      3.054      1.245         13        640:  75%|███████▌  | 15/20 [00:02<00:00,  6.72it/s]\n",
      "       3/20      2.66G      1.407      2.515      3.049      1.248         21        640:  80%|████████  | 16/20 [00:02<00:00,  6.78it/s]\n",
      "       3/20      2.66G      1.434      2.549      3.065      1.256         19        640:  85%|████████▌ | 17/20 [00:02<00:00,  6.63it/s]\n",
      "       3/20      2.66G      1.431      2.524      3.101      1.256         12        640:  90%|█████████ | 18/20 [00:02<00:00,  6.75it/s]\n",
      "       3/20      2.66G      1.425      2.515      3.071      1.254         23        640:  95%|█████████▌| 19/20 [00:02<00:00,  6.78it/s]\n",
      "       3/20      2.67G      1.441      2.524      3.095      1.268          6        640: 100%|██████████| 20/20 [00:02<00:00,  6.83it/s]\n",
      "                 Class     Images  Instances      Box(P          R      mAP50  mAP50-95)     Mask(P          R      mAP50  mAP50-95):   0%|          | 0/4 [00:00<?, ?it/s]\n",
      "                 Class     Images  Instances      Box(P          R      mAP50  mAP50-95)     Mask(P          R      mAP50  mAP50-95):  25%|██▌       | 1/4 [00:00<00:00,  7.30it/s]\n",
      "                 Class     Images  Instances      Box(P          R      mAP50  mAP50-95)     Mask(P          R      mAP50  mAP50-95):  50%|█████     | 2/4 [00:00<00:00,  6.80it/s]\n",
      "                 Class     Images  Instances      Box(P          R      mAP50  mAP50-95)     Mask(P          R      mAP50  mAP50-95):  75%|███████▌  | 3/4 [00:00<00:00,  6.85it/s]\n",
      "                 Class     Images  Instances      Box(P          R      mAP50  mAP50-95)     Mask(P          R      mAP50  mAP50-95): 100%|██████████| 4/4 [00:00<00:00,  7.06it/s]\n"
     ]
    },
    {
     "name": "stdout",
     "output_type": "stream",
     "text": [
      "\u001b[36m(_tune pid=138055)\u001b[0m                    all        125         79     0.0008       0.38     0.0195     0.0124    0.00048      0.228     0.0191    0.00779\n"
     ]
    },
    {
     "name": "stderr",
     "output_type": "stream",
     "text": [
      "  0%|          | 0/20 [00:00<?, ?it/s]\n"
     ]
    },
    {
     "name": "stdout",
     "output_type": "stream",
     "text": [
      "\u001b[36m(_tune pid=138055)\u001b[0m \n",
      "\u001b[36m(_tune pid=138055)\u001b[0m       Epoch    GPU_mem   box_loss   seg_loss   cls_loss   dfl_loss  Instances       Size\n"
     ]
    },
    {
     "name": "stderr",
     "output_type": "stream",
     "text": [
      "       4/20      2.67G      1.266      2.361      2.475      1.159         26        640:   5%|▌         | 1/20 [00:00<00:02,  6.96it/s]\n",
      "       4/20      2.67G      1.299      2.391       2.83      1.133         17        640:  10%|█         | 2/20 [00:00<00:02,  6.96it/s]\n",
      "       4/20      2.67G      1.377        2.4      2.976      1.201         12        640:  15%|█▌        | 3/20 [00:00<00:02,  6.64it/s]\n",
      "       4/20      2.67G      1.421      2.467      2.903      1.214         23        640:  20%|██        | 4/20 [00:00<00:02,  6.75it/s]\n",
      "       4/20      2.67G        1.4      2.364      2.796      1.194         21        640:  25%|██▌       | 5/20 [00:00<00:02,  6.81it/s]\n",
      "       4/20      2.67G      1.423      2.331      2.755      1.194         19        640:  30%|███       | 6/20 [00:00<00:02,  6.63it/s]\n",
      "       4/20      2.67G       1.46      2.463      2.814      1.241         16        640:  35%|███▌      | 7/20 [00:01<00:01,  6.73it/s]\n",
      "       4/20      2.67G      1.433      2.525      3.041      1.262          7        640:  40%|████      | 8/20 [00:01<00:01,  6.84it/s]\n",
      "       4/20      2.67G      1.423      2.473      2.952      1.245         27        640:  45%|████▌     | 9/20 [00:01<00:01,  6.64it/s]\n",
      "       4/20      2.67G      1.425      2.483       2.95      1.247         11        640:  50%|█████     | 10/20 [00:01<00:01,  6.66it/s]\n",
      "       4/20      2.67G      1.429       2.46      2.957      1.242         14        640:  55%|█████▌    | 11/20 [00:01<00:01,  6.77it/s]\n",
      "       4/20      2.67G      1.429      2.457      2.933       1.24         21        640:  60%|██████    | 12/20 [00:01<00:01,  6.61it/s]\n",
      "       4/20      2.67G      1.452      2.491      2.911      1.249         25        640:  65%|██████▌   | 13/20 [00:01<00:01,  6.71it/s]\n",
      "       4/20      2.67G      1.488      2.552      2.898      1.261         27        640:  70%|███████   | 14/20 [00:02<00:00,  6.74it/s]\n",
      "       4/20      2.67G       1.53      2.628      2.909      1.285         17        640:  75%|███████▌  | 15/20 [00:02<00:00,  6.63it/s]\n",
      "       4/20      2.67G      1.517      2.646      2.867      1.281         20        640:  80%|████████  | 16/20 [00:02<00:00,  6.73it/s]\n",
      "       4/20      2.67G      1.512      2.623      2.853      1.279         16        640:  85%|████████▌ | 17/20 [00:02<00:00,  6.80it/s]\n",
      "       4/20      2.67G       1.52      2.669       2.89       1.29         12        640:  90%|█████████ | 18/20 [00:02<00:00,  6.67it/s]\n",
      "       4/20      2.68G      1.556      2.699      2.933      1.335          3        640: 100%|██████████| 20/20 [00:02<00:00,  6.94it/s]\n",
      "                 Class     Images  Instances      Box(P          R      mAP50  mAP50-95)     Mask(P          R      mAP50  mAP50-95):   0%|          | 0/4 [00:00<?, ?it/s]\n",
      "                 Class     Images  Instances      Box(P          R      mAP50  mAP50-95)     Mask(P          R      mAP50  mAP50-95):  25%|██▌       | 1/4 [00:00<00:00,  7.53it/s]\n",
      "                 Class     Images  Instances      Box(P          R      mAP50  mAP50-95)     Mask(P          R      mAP50  mAP50-95):  50%|█████     | 2/4 [00:00<00:00,  6.92it/s]\n",
      "                 Class     Images  Instances      Box(P          R      mAP50  mAP50-95)     Mask(P          R      mAP50  mAP50-95):  75%|███████▌  | 3/4 [00:00<00:00,  6.92it/s]\n",
      "                 Class     Images  Instances      Box(P          R      mAP50  mAP50-95)     Mask(P          R      mAP50  mAP50-95): 100%|██████████| 4/4 [00:00<00:00,  7.14it/s]\n"
     ]
    },
    {
     "name": "stdout",
     "output_type": "stream",
     "text": [
      "\u001b[36m(_tune pid=138055)\u001b[0m                    all        125         79      0.799     0.0886      0.116     0.0544      0.799     0.0886      0.116     0.0464\n"
     ]
    },
    {
     "name": "stderr",
     "output_type": "stream",
     "text": [
      "  0%|          | 0/20 [00:00<?, ?it/s]\n",
      "       5/20      2.68G       1.33      2.422      2.448      1.197         14        640:   5%|▌         | 1/20 [00:00<00:02,  6.39it/s]\n"
     ]
    },
    {
     "name": "stdout",
     "output_type": "stream",
     "text": [
      "\u001b[36m(_tune pid=138055)\u001b[0m \n",
      "\u001b[36m(_tune pid=138055)\u001b[0m       Epoch    GPU_mem   box_loss   seg_loss   cls_loss   dfl_loss  Instances       Size\n"
     ]
    },
    {
     "name": "stderr",
     "output_type": "stream",
     "text": [
      "       5/20      2.68G      1.511      2.596      2.597      1.384         20        640:  10%|█         | 2/20 [00:00<00:02,  6.74it/s]\n",
      "       5/20      2.68G      1.563       2.57      2.693      1.351         16        640:  15%|█▌        | 3/20 [00:00<00:02,  6.85it/s]\n",
      "       5/20      2.68G        1.6      2.594      2.745      1.388         10        640:  20%|██        | 4/20 [00:00<00:02,  6.65it/s]\n",
      "       5/20      2.68G       1.65      2.731      2.749      1.425         25        640:  25%|██▌       | 5/20 [00:00<00:02,  6.76it/s]\n",
      "       5/20      2.68G      1.656      2.728      2.746      1.442         26        640:  30%|███       | 6/20 [00:00<00:02,  6.82it/s]\n",
      "       5/20      2.68G      1.695      2.841      2.808      1.462         17        640:  35%|███▌      | 7/20 [00:01<00:01,  6.86it/s]\n",
      "       5/20      2.68G      1.748      2.908      2.838      1.485         21        640:  40%|████      | 8/20 [00:01<00:01,  6.67it/s]\n",
      "       5/20      2.68G      1.721       2.87      2.805       1.46         17        640:  45%|████▌     | 9/20 [00:01<00:01,  6.78it/s]\n",
      "       5/20      2.68G      1.706      2.841      2.786      1.447         17        640:  50%|█████     | 10/20 [00:01<00:01,  6.84it/s]\n",
      "       5/20      2.68G       1.69      2.828      2.813      1.435         13        640:  55%|█████▌    | 11/20 [00:01<00:01,  6.89it/s]\n",
      "       5/20      2.68G      1.682      2.811      2.778      1.425         25        640:  60%|██████    | 12/20 [00:01<00:01,  6.71it/s]\n",
      "       5/20      2.68G       1.66      2.859      2.753      1.414         33        640:  65%|██████▌   | 13/20 [00:01<00:01,  6.77it/s]\n",
      "       5/20      2.68G      1.649       2.83       2.75      1.401         15        640:  70%|███████   | 14/20 [00:02<00:00,  6.84it/s]\n",
      "       5/20      2.68G      1.655      2.835      2.752      1.409         23        640:  75%|███████▌  | 15/20 [00:02<00:00,  6.86it/s]\n",
      "       5/20      2.68G      1.658      2.825      2.744      1.409         29        640:  80%|████████  | 16/20 [00:02<00:00,  6.67it/s]\n",
      "       5/20      2.68G      1.669        2.9      2.741      1.409         19        640:  85%|████████▌ | 17/20 [00:02<00:00,  6.78it/s]\n",
      "       5/20      2.68G      1.668      2.933      2.727      1.403         18        640:  90%|█████████ | 18/20 [00:02<00:00,  6.82it/s]\n",
      "       5/20      2.68G      1.672      2.989      2.759      1.403         11        640:  95%|█████████▌| 19/20 [00:02<00:00,  6.87it/s]\n",
      "       5/20       2.7G      1.661      2.989      2.717      1.391          6        640: 100%|██████████| 20/20 [00:02<00:00,  6.96it/s]\n",
      "                 Class     Images  Instances      Box(P          R      mAP50  mAP50-95)     Mask(P          R      mAP50  mAP50-95):   0%|          | 0/4 [00:00<?, ?it/s]\n",
      "                 Class     Images  Instances      Box(P          R      mAP50  mAP50-95)     Mask(P          R      mAP50  mAP50-95):  25%|██▌       | 1/4 [00:00<00:00,  7.39it/s]\n",
      "                 Class     Images  Instances      Box(P          R      mAP50  mAP50-95)     Mask(P          R      mAP50  mAP50-95):  50%|█████     | 2/4 [00:00<00:00,  6.87it/s]\n",
      "                 Class     Images  Instances      Box(P          R      mAP50  mAP50-95)     Mask(P          R      mAP50  mAP50-95):  75%|███████▌  | 3/4 [00:00<00:00,  6.88it/s]\n",
      "                 Class     Images  Instances      Box(P          R      mAP50  mAP50-95)     Mask(P          R      mAP50  mAP50-95): 100%|██████████| 4/4 [00:00<00:00,  7.11it/s]\n",
      "  0%|          | 0/20 [00:00<?, ?it/s]\n"
     ]
    },
    {
     "name": "stdout",
     "output_type": "stream",
     "text": [
      "\u001b[36m(_tune pid=138055)\u001b[0m                    all        125         79     0.0316     0.0759     0.0114    0.00403     0.0158      0.038    0.00586     0.0014\n",
      "\u001b[36m(_tune pid=138055)\u001b[0m \n",
      "\u001b[36m(_tune pid=138055)\u001b[0m       Epoch    GPU_mem   box_loss   seg_loss   cls_loss   dfl_loss  Instances       Size\n"
     ]
    },
    {
     "name": "stderr",
     "output_type": "stream",
     "text": [
      "       6/20       2.7G      1.603      3.489      2.681       1.38         22        640:   5%|▌         | 1/20 [00:00<00:02,  7.01it/s]\n",
      "       6/20       2.7G      1.862      3.666        3.2      1.553         10        640:  10%|█         | 2/20 [00:00<00:02,  7.03it/s]\n",
      "       6/20       2.7G      1.838      3.498      3.166      1.607         14        640:  15%|█▌        | 3/20 [00:00<00:02,  7.01it/s]\n",
      "       6/20       2.7G      1.795       3.39      3.012      1.567         19        640:  20%|██        | 4/20 [00:00<00:02,  6.73it/s]\n",
      "       6/20       2.7G      1.762       3.27      2.897      1.513         29        640:  25%|██▌       | 5/20 [00:00<00:02,  6.79it/s]\n",
      "       6/20       2.7G      1.778      3.219      2.845      1.511         18        640:  30%|███       | 6/20 [00:00<00:02,  6.81it/s]\n",
      "       6/20       2.7G      1.748      3.187      2.832      1.488         17        640:  35%|███▌      | 7/20 [00:01<00:01,  6.86it/s]\n",
      "       6/20       2.7G      1.729      3.149      2.774      1.486         23        640:  40%|████      | 8/20 [00:01<00:01,  6.69it/s]\n",
      "       6/20       2.7G      1.721      3.117      2.737      1.484         27        640:  45%|████▌     | 9/20 [00:01<00:01,  6.77it/s]\n",
      "       6/20       2.7G      1.727      3.136      2.799      1.489         14        640:  50%|█████     | 10/20 [00:01<00:01,  6.85it/s]\n",
      "       6/20       2.7G      1.725      3.068      2.835      1.478         11        640:  55%|█████▌    | 11/20 [00:01<00:01,  6.91it/s]\n",
      "       6/20       2.7G      1.709      3.092      2.844       1.47         19        640:  60%|██████    | 12/20 [00:01<00:01,  6.73it/s]\n",
      "       6/20       2.7G       1.69      3.064       2.86      1.451         15        640:  65%|██████▌   | 13/20 [00:01<00:01,  6.82it/s]\n",
      "       6/20       2.7G      1.701       3.04      2.913      1.461         11        640:  70%|███████   | 14/20 [00:02<00:00,  6.89it/s]\n",
      "       6/20       2.7G      1.707      3.126      2.938      1.475         17        640:  75%|███████▌  | 15/20 [00:02<00:00,  6.90it/s]\n",
      "       6/20       2.7G      1.722       3.14       2.96      1.479         20        640:  80%|████████  | 16/20 [00:02<00:00,  6.72it/s]\n",
      "       6/20       2.7G      1.738      3.139      2.955      1.483         18        640:  85%|████████▌ | 17/20 [00:02<00:00,  6.80it/s]\n",
      "       6/20       2.7G       1.74      3.141      2.948      1.483         16        640:  90%|█████████ | 18/20 [00:02<00:00,  6.85it/s]\n",
      "       6/20       2.7G       1.74      3.165      2.954       1.48         17        640:  95%|█████████▌| 19/20 [00:02<00:00,  6.89it/s]\n",
      "       6/20      2.71G      1.733      3.197      2.961      1.474          5        640: 100%|██████████| 20/20 [00:02<00:00,  7.00it/s]\n",
      "                 Class     Images  Instances      Box(P          R      mAP50  mAP50-95)     Mask(P          R      mAP50  mAP50-95):   0%|          | 0/4 [00:00<?, ?it/s]\n",
      "                 Class     Images  Instances      Box(P          R      mAP50  mAP50-95)     Mask(P          R      mAP50  mAP50-95):  25%|██▌       | 1/4 [00:00<00:00,  7.55it/s]\n",
      "                 Class     Images  Instances      Box(P          R      mAP50  mAP50-95)     Mask(P          R      mAP50  mAP50-95):  50%|█████     | 2/4 [00:00<00:00,  7.01it/s]\n",
      "                 Class     Images  Instances      Box(P          R      mAP50  mAP50-95)     Mask(P          R      mAP50  mAP50-95):  75%|███████▌  | 3/4 [00:00<00:00,  7.04it/s]\n",
      "                 Class     Images  Instances      Box(P          R      mAP50  mAP50-95)     Mask(P          R      mAP50  mAP50-95): 100%|██████████| 4/4 [00:00<00:00,  7.19it/s]\n"
     ]
    },
    {
     "name": "stdout",
     "output_type": "stream",
     "text": [
      "\u001b[36m(_tune pid=138055)\u001b[0m                    all        125         79    0.00149     0.0253   0.000792    0.00021    0.00016     0.0759   0.000112   2.94e-05\n"
     ]
    },
    {
     "name": "stderr",
     "output_type": "stream",
     "text": [
      "  0%|          | 0/20 [00:00<?, ?it/s]\n",
      "       7/20      2.71G      1.774      3.091      2.449      1.472         24        640:   5%|▌         | 1/20 [00:00<00:02,  6.93it/s]\n"
     ]
    },
    {
     "name": "stdout",
     "output_type": "stream",
     "text": [
      "\u001b[36m(_tune pid=138055)\u001b[0m \n",
      "\u001b[36m(_tune pid=138055)\u001b[0m       Epoch    GPU_mem   box_loss   seg_loss   cls_loss   dfl_loss  Instances       Size\n"
     ]
    },
    {
     "name": "stderr",
     "output_type": "stream",
     "text": [
      "       7/20      2.71G      1.886      3.326      3.086      1.518         13        640:  10%|█         | 2/20 [00:00<00:02,  6.98it/s]\n",
      "       7/20      2.71G      1.888      3.191      2.889      1.532         23        640:  15%|█▌        | 3/20 [00:00<00:02,  6.95it/s]\n",
      "       7/20      2.71G       1.91      3.177      2.877      1.588         24        640:  20%|██        | 4/20 [00:00<00:02,  6.68it/s]\n",
      "       7/20      2.71G      1.923      3.118      2.844      1.594         15        640:  25%|██▌       | 5/20 [00:00<00:02,  6.80it/s]\n",
      "       7/20      2.71G      1.914      2.991      2.768      1.563         21        640:  30%|███       | 6/20 [00:00<00:02,  6.83it/s]\n",
      "       7/20      2.71G      1.885      2.934      2.688      1.552         26        640:  35%|███▌      | 7/20 [00:01<00:01,  6.87it/s]\n",
      "       7/20      2.71G      1.857      2.859      2.613      1.535         21        640:  40%|████      | 8/20 [00:01<00:01,  6.71it/s]\n",
      "       7/20      2.71G      1.885      2.867      2.601      1.547         19        640:  45%|████▌     | 9/20 [00:01<00:01,  6.72it/s]\n",
      "       7/20      2.71G      1.886      2.918      2.591      1.538         24        640:  50%|█████     | 10/20 [00:01<00:01,  6.75it/s]\n",
      "       7/20      2.71G      1.897      2.935      2.602      1.552         18        640:  55%|█████▌    | 11/20 [00:01<00:01,  6.74it/s]\n",
      "       7/20      2.71G      1.901      2.971      2.641      1.546         20        640:  60%|██████    | 12/20 [00:01<00:01,  6.60it/s]\n",
      "       7/20      2.71G      1.904       2.95      2.613       1.54         23        640:  65%|██████▌   | 13/20 [00:01<00:01,  6.71it/s]\n",
      "       7/20      2.71G      1.932      2.922      2.689      1.559          8        640:  70%|███████   | 14/20 [00:02<00:00,  6.81it/s]\n",
      "       7/20      2.71G      1.937      2.956      2.692      1.566         23        640:  75%|███████▌  | 15/20 [00:02<00:00,  6.84it/s]\n",
      "       7/20      2.71G       1.92      2.915      2.667      1.555         19        640:  80%|████████  | 16/20 [00:02<00:00,  6.67it/s]\n",
      "       7/20      2.71G      1.929      2.959      2.663      1.557         33        640:  85%|████████▌ | 17/20 [00:02<00:00,  6.73it/s]\n",
      "       7/20      2.71G      1.944      2.979      2.673      1.568         18        640:  90%|█████████ | 18/20 [00:02<00:00,  6.81it/s]\n",
      "       7/20      2.71G      1.945      2.987      2.684      1.568         17        640:  95%|█████████▌| 19/20 [00:02<00:00,  6.85it/s]\n",
      "       7/20      2.71G      1.927      2.958      2.645      1.559          6        640: 100%|██████████| 20/20 [00:02<00:00,  6.95it/s]\n",
      "                 Class     Images  Instances      Box(P          R      mAP50  mAP50-95)     Mask(P          R      mAP50  mAP50-95):   0%|          | 0/4 [00:00<?, ?it/s]\n",
      "                 Class     Images  Instances      Box(P          R      mAP50  mAP50-95)     Mask(P          R      mAP50  mAP50-95):  25%|██▌       | 1/4 [00:00<00:00,  7.26it/s]\n",
      "                 Class     Images  Instances      Box(P          R      mAP50  mAP50-95)     Mask(P          R      mAP50  mAP50-95):  50%|█████     | 2/4 [00:00<00:00,  6.73it/s]\n",
      "                 Class     Images  Instances      Box(P          R      mAP50  mAP50-95)     Mask(P          R      mAP50  mAP50-95):  75%|███████▌  | 3/4 [00:00<00:00,  6.80it/s]\n",
      "                 Class     Images  Instances      Box(P          R      mAP50  mAP50-95)     Mask(P          R      mAP50  mAP50-95): 100%|██████████| 4/4 [00:00<00:00,  6.97it/s]\n",
      "  0%|          | 0/20 [00:00<?, ?it/s]\n"
     ]
    },
    {
     "name": "stdout",
     "output_type": "stream",
     "text": [
      "\u001b[36m(_tune pid=138055)\u001b[0m                    all        125         79      0.027     0.0127      0.018    0.00847    0.00446     0.0759   0.000854   0.000189\n",
      "\u001b[36m(_tune pid=138055)\u001b[0m \n",
      "\u001b[36m(_tune pid=138055)\u001b[0m       Epoch    GPU_mem   box_loss   seg_loss   cls_loss   dfl_loss  Instances       Size\n"
     ]
    },
    {
     "name": "stderr",
     "output_type": "stream",
     "text": [
      "       8/20      2.71G      1.678      3.096      2.537      1.433         16        640:   5%|▌         | 1/20 [00:00<00:02,  7.08it/s]\n",
      "       8/20      2.71G      1.952      3.387      3.387      1.689          9        640:  10%|█         | 2/20 [00:00<00:02,  7.05it/s]\n",
      "       8/20      2.71G      1.903      3.354      3.095      1.626         21        640:  15%|█▌        | 3/20 [00:00<00:02,  7.00it/s]\n",
      "       8/20      2.71G      1.934      3.421      3.061      1.643         14        640:  20%|██        | 4/20 [00:00<00:02,  6.76it/s]\n",
      "       8/20      2.71G      1.913      3.299      3.017      1.653         18        640:  25%|██▌       | 5/20 [00:00<00:02,  6.84it/s]\n",
      "       8/20      2.71G      1.933      3.252      2.986      1.654         17        640:  30%|███       | 6/20 [00:00<00:02,  6.87it/s]\n",
      "       8/20      2.71G      1.974      3.176      2.978      1.699         16        640:  35%|███▌      | 7/20 [00:01<00:01,  6.90it/s]\n",
      "       8/20      2.71G      2.003      3.235      3.045      1.724         15        640:  40%|████      | 8/20 [00:01<00:01,  6.72it/s]\n",
      "       8/20      2.71G      1.967      3.154      2.952      1.699         21        640:  45%|████▌     | 9/20 [00:01<00:01,  6.81it/s]\n",
      "       8/20      2.71G      1.975      3.165      2.897      1.696         25        640:  50%|█████     | 10/20 [00:01<00:01,  6.84it/s]\n",
      "       8/20      2.71G      2.009       3.24      2.928      1.705         16        640:  55%|█████▌    | 11/20 [00:01<00:01,  6.88it/s]\n",
      "       8/20      2.71G      2.023       3.25       2.93      1.714         15        640:  60%|██████    | 12/20 [00:01<00:01,  6.73it/s]\n",
      "       8/20      2.71G      2.023      3.242      2.909      1.707         16        640:  65%|██████▌   | 13/20 [00:01<00:01,  6.81it/s]\n",
      "       8/20      2.71G      2.014      3.224      2.881      1.704         16        640:  70%|███████   | 14/20 [00:02<00:00,  6.86it/s]\n",
      "       8/20      2.71G      2.014      3.241      2.897      1.704         17        640:  75%|███████▌  | 15/20 [00:02<00:00,  6.89it/s]\n",
      "       8/20      2.71G      2.013      3.228      2.874        1.7         23        640:  80%|████████  | 16/20 [00:02<00:00,  6.71it/s]\n",
      "       8/20      2.71G      2.002      3.218      2.831      1.694         24        640:  85%|████████▌ | 17/20 [00:02<00:00,  6.79it/s]\n",
      "       8/20      2.71G      1.996      3.199      2.791      1.686         23        640:  90%|█████████ | 18/20 [00:02<00:00,  6.84it/s]\n",
      "       8/20      2.71G      1.996      3.207      2.783      1.688         17        640:  95%|█████████▌| 19/20 [00:02<00:00,  6.87it/s]\n",
      "       8/20      2.71G      1.972       3.21      2.772      1.681          5        640: 100%|██████████| 20/20 [00:02<00:00,  7.01it/s]\n",
      "                 Class     Images  Instances      Box(P          R      mAP50  mAP50-95)     Mask(P          R      mAP50  mAP50-95):   0%|          | 0/4 [00:00<?, ?it/s]\n",
      "                 Class     Images  Instances      Box(P          R      mAP50  mAP50-95)     Mask(P          R      mAP50  mAP50-95):  25%|██▌       | 1/4 [00:00<00:00,  7.52it/s]\n",
      "                 Class     Images  Instances      Box(P          R      mAP50  mAP50-95)     Mask(P          R      mAP50  mAP50-95):  50%|█████     | 2/4 [00:00<00:00,  6.95it/s]\n",
      "                 Class     Images  Instances      Box(P          R      mAP50  mAP50-95)     Mask(P          R      mAP50  mAP50-95):  75%|███████▌  | 3/4 [00:00<00:00,  7.04it/s]\n",
      "                 Class     Images  Instances      Box(P          R      mAP50  mAP50-95)     Mask(P          R      mAP50  mAP50-95): 100%|██████████| 4/4 [00:00<00:00,  7.23it/s]\n"
     ]
    },
    {
     "name": "stdout",
     "output_type": "stream",
     "text": [
      "\u001b[36m(_tune pid=138055)\u001b[0m                    all        125         79     0.0476     0.0253    0.00302   0.000929          0          0          0          0\n"
     ]
    },
    {
     "name": "stderr",
     "output_type": "stream",
     "text": [
      "  0%|          | 0/20 [00:00<?, ?it/s]\n",
      "       9/20      2.71G      1.965      3.138      2.248      1.625         23        640:   5%|▌         | 1/20 [00:00<00:02,  6.96it/s]\n"
     ]
    },
    {
     "name": "stdout",
     "output_type": "stream",
     "text": [
      "\u001b[36m(_tune pid=138055)\u001b[0m \n",
      "\u001b[36m(_tune pid=138055)\u001b[0m       Epoch    GPU_mem   box_loss   seg_loss   cls_loss   dfl_loss  Instances       Size\n"
     ]
    },
    {
     "name": "stderr",
     "output_type": "stream",
     "text": [
      "       9/20      2.71G      1.998      2.957      2.308      1.602         17        640:  10%|█         | 2/20 [00:00<00:02,  6.97it/s]\n",
      "       9/20      2.71G      1.817      2.763       2.25      1.499          9        640:  15%|█▌        | 3/20 [00:00<00:02,  7.01it/s]\n",
      "       9/20      2.71G       1.82      2.599      2.196      1.483         17        640:  20%|██        | 4/20 [00:00<00:02,  6.76it/s]\n",
      "       9/20      2.71G      1.896      2.776      2.251      1.545         18        640:  25%|██▌       | 5/20 [00:00<00:02,  6.83it/s]\n",
      "       9/20      2.71G      1.906      2.762      2.246      1.562         27        640:  30%|███       | 6/20 [00:00<00:02,  6.87it/s]\n",
      "       9/20      2.71G      1.909      2.797      2.263      1.557         17        640:  35%|███▌      | 7/20 [00:01<00:01,  6.90it/s]\n",
      "       9/20      2.71G      1.912      2.806      2.293       1.58         15        640:  40%|████      | 8/20 [00:01<00:01,  6.71it/s]\n",
      "       9/20      2.71G      1.939      2.913      2.365      1.606         23        640:  45%|████▌     | 9/20 [00:01<00:01,  6.79it/s]\n",
      "       9/20      2.71G      1.952      2.959      2.397      1.614         16        640:  50%|█████     | 10/20 [00:01<00:01,  6.86it/s]\n",
      "       9/20      2.71G      1.919      2.938      2.384      1.601         19        640:  55%|█████▌    | 11/20 [00:01<00:01,  6.90it/s]\n",
      "       9/20      2.71G      1.915       2.91      2.376      1.594         22        640:  60%|██████    | 12/20 [00:01<00:01,  6.71it/s]\n",
      "       9/20      2.71G       1.92      2.902      2.366      1.601         17        640:  65%|██████▌   | 13/20 [00:01<00:01,  6.80it/s]\n",
      "       9/20      2.71G      1.951      2.936      2.401      1.629         26        640:  70%|███████   | 14/20 [00:02<00:00,  6.84it/s]\n",
      "       9/20      2.71G      1.943      2.932      2.374      1.622         22        640:  75%|███████▌  | 15/20 [00:02<00:00,  6.88it/s]\n",
      "       9/20      2.71G      1.939       2.91      2.378      1.626         16        640:  80%|████████  | 16/20 [00:02<00:00,  6.71it/s]\n",
      "       9/20      2.71G       1.94      2.908      2.385      1.638         16        640:  85%|████████▌ | 17/20 [00:02<00:00,  6.79it/s]\n",
      "       9/20      2.71G      1.944      2.904      2.398      1.639         15        640:  90%|█████████ | 18/20 [00:02<00:00,  6.87it/s]\n",
      "       9/20      2.71G      1.933      2.897      2.391      1.631         17        640:  95%|█████████▌| 19/20 [00:02<00:00,  6.91it/s]\n",
      "       9/20      2.71G      1.957      2.908       2.39      1.658          6        640: 100%|██████████| 20/20 [00:02<00:00,  7.01it/s]\n",
      "                 Class     Images  Instances      Box(P          R      mAP50  mAP50-95)     Mask(P          R      mAP50  mAP50-95):   0%|          | 0/4 [00:00<?, ?it/s]\n",
      "                 Class     Images  Instances      Box(P          R      mAP50  mAP50-95)     Mask(P          R      mAP50  mAP50-95):  25%|██▌       | 1/4 [00:00<00:00,  7.27it/s]\n",
      "                 Class     Images  Instances      Box(P          R      mAP50  mAP50-95)     Mask(P          R      mAP50  mAP50-95):  50%|█████     | 2/4 [00:00<00:00,  6.97it/s]\n",
      "                 Class     Images  Instances      Box(P          R      mAP50  mAP50-95)     Mask(P          R      mAP50  mAP50-95):  75%|███████▌  | 3/4 [00:00<00:00,  7.03it/s]\n",
      "                 Class     Images  Instances      Box(P          R      mAP50  mAP50-95)     Mask(P          R      mAP50  mAP50-95): 100%|██████████| 4/4 [00:00<00:00,  7.26it/s]\n"
     ]
    },
    {
     "name": "stdout",
     "output_type": "stream",
     "text": [
      "\u001b[36m(_tune pid=138055)\u001b[0m                    all        125         79     0.0131     0.0759    0.00204   0.000482    0.00438     0.0253   0.000255   5.67e-05\n",
      "\u001b[36m(_tune pid=138055)\u001b[0m \n",
      "\u001b[36m(_tune pid=138055)\u001b[0m       Epoch    GPU_mem   box_loss   seg_loss   cls_loss   dfl_loss  Instances       Size\n"
     ]
    },
    {
     "name": "stderr",
     "output_type": "stream",
     "text": [
      "  0%|          | 0/20 [00:00<?, ?it/s]\n",
      "      10/20      2.71G      1.987      3.027      2.686      1.925         17        640:   5%|▌         | 1/20 [00:00<00:02,  7.03it/s]\n",
      "      10/20      2.71G      2.157      3.187      2.963      1.915         16        640:  10%|█         | 2/20 [00:00<00:02,  7.03it/s]\n",
      "      10/20      2.71G      2.153      3.185       2.84      1.885         27        640:  15%|█▌        | 3/20 [00:00<00:02,  6.91it/s]\n",
      "      10/20      2.71G      2.023      3.052      2.674      1.781         15        640:  20%|██        | 4/20 [00:00<00:02,  6.67it/s]\n",
      "      10/20      2.71G      1.988      3.039      2.647      1.752         17        640:  25%|██▌       | 5/20 [00:00<00:02,  6.79it/s]\n",
      "      10/20      2.71G      1.987      3.145      2.657      1.741         21        640:  30%|███       | 6/20 [00:00<00:02,  6.86it/s]\n",
      "      10/20      2.71G      1.973      3.087      2.654      1.745         17        640:  35%|███▌      | 7/20 [00:01<00:01,  6.91it/s]\n",
      "      10/20      2.71G       1.96      3.023      2.601      1.724         30        640:  40%|████      | 8/20 [00:01<00:01,  6.70it/s]\n",
      "      10/20      2.71G      1.948      3.044      2.569      1.709         17        640:  45%|████▌     | 9/20 [00:01<00:01,  6.80it/s]\n",
      "      10/20      2.71G      1.934      3.014      2.519      1.709         17        640:  50%|█████     | 10/20 [00:01<00:01,  6.86it/s]\n",
      "      10/20      2.71G      1.937      2.983      2.476      1.699         24        640:  55%|█████▌    | 11/20 [00:01<00:01,  6.87it/s]\n",
      "      10/20      2.71G      1.921      2.945      2.464      1.681         11        640:  60%|██████    | 12/20 [00:01<00:01,  6.72it/s]\n",
      "      10/20      2.71G      1.913      2.934      2.456      1.687         18        640:  65%|██████▌   | 13/20 [00:01<00:01,  6.81it/s]\n",
      "      10/20      2.71G       1.91      2.909      2.447       1.68         17        640:  70%|███████   | 14/20 [00:02<00:00,  6.86it/s]\n",
      "      10/20      2.71G       1.92      2.917      2.457      1.673         15        640:  75%|███████▌  | 15/20 [00:02<00:00,  6.90it/s]\n",
      "      10/20      2.71G       1.92      2.914      2.453      1.674         27        640:  80%|████████  | 16/20 [00:02<00:00,  6.71it/s]\n",
      "      10/20      2.71G      1.926      2.879      2.432      1.673         14        640:  85%|████████▌ | 17/20 [00:02<00:00,  6.78it/s]\n",
      "      10/20      2.71G      1.919      2.865      2.407      1.661         22        640:  90%|█████████ | 18/20 [00:02<00:00,  6.83it/s]\n",
      "      10/20      2.71G      1.903      2.843      2.378      1.649         16        640:  95%|█████████▌| 19/20 [00:02<00:00,  6.87it/s]\n",
      "      10/20      2.71G      1.934      2.825      2.379       1.68          3        640: 100%|██████████| 20/20 [00:02<00:00,  7.01it/s]\n",
      "                 Class     Images  Instances      Box(P          R      mAP50  mAP50-95)     Mask(P          R      mAP50  mAP50-95):   0%|          | 0/4 [00:00<?, ?it/s]\n",
      "                 Class     Images  Instances      Box(P          R      mAP50  mAP50-95)     Mask(P          R      mAP50  mAP50-95):  25%|██▌       | 1/4 [00:00<00:00,  7.66it/s]\n",
      "                 Class     Images  Instances      Box(P          R      mAP50  mAP50-95)     Mask(P          R      mAP50  mAP50-95):  50%|█████     | 2/4 [00:00<00:00,  7.05it/s]\n",
      "                 Class     Images  Instances      Box(P          R      mAP50  mAP50-95)     Mask(P          R      mAP50  mAP50-95):  75%|███████▌  | 3/4 [00:00<00:00,  7.11it/s]\n",
      "                 Class     Images  Instances      Box(P          R      mAP50  mAP50-95)     Mask(P          R      mAP50  mAP50-95): 100%|██████████| 4/4 [00:00<00:00,  7.36it/s]\n"
     ]
    },
    {
     "name": "stdout",
     "output_type": "stream",
     "text": [
      "\u001b[36m(_tune pid=138055)\u001b[0m                    all        125         79     0.0367     0.0886     0.0139    0.00475     0.0367     0.0886     0.0109    0.00473\n",
      "\u001b[36m(_tune pid=138387)\u001b[0m New https://pypi.org/project/ultralytics/8.3.107 available 😃 Update with 'pip install -U ultralytics'\n",
      "\u001b[36m(_tune pid=138387)\u001b[0m Ultralytics 8.3.96 🚀 Python-3.10.16 torch-2.6.0+cu124 CUDA:0 (NVIDIA GeForce RTX 3060, 11912MiB)\n",
      "\u001b[36m(_tune pid=138387)\u001b[0m \u001b[34m\u001b[1mengine/trainer: \u001b[0mtask=segment, mode=train, model=models/backbone/yolov8n-seg.pt, data=/home/memorista01/tesis/datasets_yaml/Deepfish.yaml, epochs=20, time=None, patience=100, batch=16, imgsz=640, save=True, save_period=-1, cache=False, device=None, workers=8, project=None, name=train, exist_ok=False, pretrained=True, optimizer=SGD, verbose=True, seed=0, deterministic=True, single_cls=False, rect=False, cos_lr=False, close_mosaic=10, resume=False, amp=True, fraction=1.0, profile=False, freeze=None, multi_scale=False, overlap_mask=True, mask_ratio=4, dropout=0.0, val=True, split=val, save_json=False, save_hybrid=False, conf=None, iou=0.7, max_det=300, half=False, dnn=False, plots=True, source=None, vid_stride=1, stream_buffer=False, visualize=False, augment=False, agnostic_nms=False, classes=None, retina_masks=False, embed=None, show=False, save_frames=False, save_txt=False, save_conf=False, save_crop=False, show_labels=True, show_conf=True, show_boxes=True, line_width=None, format=torchscript, keras=False, optimize=False, int8=False, dynamic=False, simplify=True, opset=None, workspace=None, nms=False, lr0=0.0458994027250676, lrf=0.463837071737044, momentum=0.7970775548209507, weight_decay=2.8295471842850306e-05, warmup_epochs=1.253478358214803, warmup_momentum=0.38071447698102323, warmup_bias_lr=0.1, box=7.5, cls=0.5, dfl=1.5, pose=12.0, kobj=1.0, nbs=64, hsv_h=0.015, hsv_s=0.7, hsv_v=0.4, degrees=0.0, translate=0.1, scale=0.5, shear=0.0, perspective=0.0, flipud=0.0, fliplr=0.5, bgr=0.0, mosaic=1.0, mixup=0.0, copy_paste=0.0, copy_paste_mode=flip, auto_augment=randaugment, erasing=0.4, crop_fraction=1.0, cfg=None, tracker=botsort.yaml, save_dir=runs/segment/train\n",
      "\u001b[36m(_tune pid=138387)\u001b[0m Overriding model.yaml nc=80 with nc=1\n",
      "\u001b[36m(_tune pid=138387)\u001b[0m \n",
      "\u001b[36m(_tune pid=138387)\u001b[0m                    from  n    params  module                                       arguments                     \n",
      "\u001b[36m(_tune pid=138387)\u001b[0m   0                  -1  1       464  ultralytics.nn.modules.conv.Conv             [3, 16, 3, 2]                 \n",
      "\u001b[36m(_tune pid=138387)\u001b[0m   1                  -1  1      4672  ultralytics.nn.modules.conv.Conv             [16, 32, 3, 2]                \n",
      "\u001b[36m(_tune pid=138387)\u001b[0m   2                  -1  1      7360  ultralytics.nn.modules.block.C2f             [32, 32, 1, True]             \n",
      "\u001b[36m(_tune pid=138387)\u001b[0m   3                  -1  1     18560  ultralytics.nn.modules.conv.Conv             [32, 64, 3, 2]                \n",
      "\u001b[36m(_tune pid=138387)\u001b[0m   4                  -1  2     49664  ultralytics.nn.modules.block.C2f             [64, 64, 2, True]             \n",
      "\u001b[36m(_tune pid=138387)\u001b[0m   5                  -1  1     73984  ultralytics.nn.modules.conv.Conv             [64, 128, 3, 2]               \n",
      "\u001b[36m(_tune pid=138387)\u001b[0m   6                  -1  2    197632  ultralytics.nn.modules.block.C2f             [128, 128, 2, True]           \n",
      "\u001b[36m(_tune pid=138387)\u001b[0m   7                  -1  1    295424  ultralytics.nn.modules.conv.Conv             [128, 256, 3, 2]              \n",
      "\u001b[36m(_tune pid=138387)\u001b[0m   8                  -1  1    460288  ultralytics.nn.modules.block.C2f             [256, 256, 1, True]           \n",
      "\u001b[36m(_tune pid=138387)\u001b[0m   9                  -1  1    164608  ultralytics.nn.modules.block.SPPF            [256, 256, 5]                 \n",
      "\u001b[36m(_tune pid=138387)\u001b[0m  10                  -1  1         0  torch.nn.modules.upsampling.Upsample         [None, 2, 'nearest']          \n",
      "\u001b[36m(_tune pid=138387)\u001b[0m  11             [-1, 6]  1         0  ultralytics.nn.modules.conv.Concat           [1]                           \n",
      "\u001b[36m(_tune pid=138387)\u001b[0m  12                  -1  1    148224  ultralytics.nn.modules.block.C2f             [384, 128, 1]                 \n",
      "\u001b[36m(_tune pid=138387)\u001b[0m  13                  -1  1         0  torch.nn.modules.upsampling.Upsample         [None, 2, 'nearest']          \n",
      "\u001b[36m(_tune pid=138387)\u001b[0m  14             [-1, 4]  1         0  ultralytics.nn.modules.conv.Concat           [1]                           \n",
      "\u001b[36m(_tune pid=138387)\u001b[0m  15                  -1  1     37248  ultralytics.nn.modules.block.C2f             [192, 64, 1]                  \n",
      "\u001b[36m(_tune pid=138387)\u001b[0m  16                  -1  1     36992  ultralytics.nn.modules.conv.Conv             [64, 64, 3, 2]                \n",
      "\u001b[36m(_tune pid=138387)\u001b[0m  17            [-1, 12]  1         0  ultralytics.nn.modules.conv.Concat           [1]                           \n",
      "\u001b[36m(_tune pid=138387)\u001b[0m  18                  -1  1    123648  ultralytics.nn.modules.block.C2f             [192, 128, 1]                 \n",
      "\u001b[36m(_tune pid=138387)\u001b[0m  19                  -1  1    147712  ultralytics.nn.modules.conv.Conv             [128, 128, 3, 2]              \n",
      "\u001b[36m(_tune pid=138387)\u001b[0m  20             [-1, 9]  1         0  ultralytics.nn.modules.conv.Concat           [1]                           \n",
      "\u001b[36m(_tune pid=138387)\u001b[0m  21                  -1  1    493056  ultralytics.nn.modules.block.C2f             [384, 256, 1]                 \n",
      "\u001b[36m(_tune pid=138387)\u001b[0m  22        [15, 18, 21]  1   1004275  ultralytics.nn.modules.head.Segment          [1, 32, 64, [64, 128, 256]]   \n",
      "\u001b[36m(_tune pid=138387)\u001b[0m YOLOv8n-seg summary: 151 layers, 3,263,811 parameters, 3,263,795 gradients, 12.1 GFLOPs\n",
      "\u001b[36m(_tune pid=138387)\u001b[0m \n",
      "\u001b[36m(_tune pid=138387)\u001b[0m Transferred 381/417 items from pretrained weights\n",
      "\u001b[36m(_tune pid=138387)\u001b[0m Freezing layer 'model.22.dfl.conv.weight'\n",
      "\u001b[36m(_tune pid=138387)\u001b[0m \u001b[34m\u001b[1mAMP: \u001b[0mrunning Automatic Mixed Precision (AMP) checks...\n",
      "\u001b[36m(_tune pid=138387)\u001b[0m Downloading https://github.com/ultralytics/assets/releases/download/v8.3.0/yolo11n.pt to 'yolo11n.pt'...\n"
     ]
    },
    {
     "name": "stderr",
     "output_type": "stream",
     "text": [
      "  0%|          | 0.00/5.35M [00:00<?, ?B/s]\n",
      " 21%|██        | 1.12M/5.35M [00:00<00:00, 11.6MB/s]\n",
      " 42%|████▏     | 2.25M/5.35M [00:00<00:00, 10.8MB/s]\n",
      " 63%|██████▎   | 3.38M/5.35M [00:00<00:00, 9.93MB/s]\n",
      " 84%|████████▍ | 4.50M/5.35M [00:00<00:00, 10.3MB/s]\n",
      "100%|██████████| 5.35M/5.35M [00:00<00:00, 10.5MB/s]\n"
     ]
    },
    {
     "name": "stdout",
     "output_type": "stream",
     "text": [
      "\u001b[36m(_tune pid=138387)\u001b[0m \u001b[34m\u001b[1mAMP: \u001b[0mchecks passed ✅\n"
     ]
    },
    {
     "name": "stderr",
     "output_type": "stream",
     "text": [
      "\u001b[34m\u001b[1mtrain: \u001b[0mScanning /home/memorista01/tesis/datasets_yolo/Deepfish/labels/train.cache... 148 images, 161 backgrounds, 0 corrupt: 100%|██████████| 309/309 [00:00<?, ?it/s]\n",
      "\u001b[34m\u001b[1mval: \u001b[0mScanning /home/memorista01/tesis/datasets_yolo/Deepfish/labels/valid.cache... 66 images, 59 backgrounds, 0 corrupt: 100%|██████████| 125/125 [00:00<?, ?it/s]\n"
     ]
    },
    {
     "name": "stdout",
     "output_type": "stream",
     "text": [
      "\u001b[36m(_tune pid=138387)\u001b[0m Plotting labels to runs/segment/train/labels.jpg... \n",
      "\u001b[36m(_tune pid=138387)\u001b[0m \u001b[34m\u001b[1moptimizer:\u001b[0m SGD(lr=0.0458994027250676, momentum=0.7970775548209507) with parameter groups 66 weight(decay=0.0), 77 weight(decay=2.8295471842850306e-05), 76 bias(decay=0.0)\n",
      "\u001b[36m(_tune pid=138387)\u001b[0m Image sizes 640 train, 640 val\n",
      "\u001b[36m(_tune pid=138387)\u001b[0m Using 8 dataloader workers\n",
      "\u001b[36m(_tune pid=138387)\u001b[0m Logging results to \u001b[1mruns/segment/train\u001b[0m\n",
      "\u001b[36m(_tune pid=138387)\u001b[0m Starting training for 20 epochs...\n",
      "\u001b[36m(_tune pid=138387)\u001b[0m \n",
      "\u001b[36m(_tune pid=138387)\u001b[0m       Epoch    GPU_mem   box_loss   seg_loss   cls_loss   dfl_loss  Instances       Size\n"
     ]
    },
    {
     "name": "stderr",
     "output_type": "stream",
     "text": [
      "  0%|          | 0/20 [00:00<?, ?it/s]\n",
      "       1/20      2.46G      1.305      1.261      6.773      1.394          5        640:   5%|▌         | 1/20 [00:00<00:08,  2.15it/s]\n",
      "       1/20      2.46G      1.168      1.673      5.465      1.301         18        640:  10%|█         | 2/20 [00:00<00:05,  3.33it/s]\n",
      "       1/20      2.46G      1.427      2.284      4.992      1.438         28        640:  15%|█▌        | 3/20 [00:00<00:04,  3.84it/s]\n",
      "       1/20      2.46G      1.267      2.221      4.748      1.345         19        640:  20%|██        | 4/20 [00:01<00:03,  4.24it/s]\n",
      "       1/20      2.46G      1.295       2.26      4.738      1.329         17        640:  25%|██▌       | 5/20 [00:01<00:03,  4.77it/s]\n",
      "       1/20      2.46G      1.343      2.435      4.947      1.346         10        640:  30%|███       | 6/20 [00:01<00:02,  5.19it/s]\n",
      "       1/20      2.46G      1.322      2.458      4.872      1.333         18        640:  35%|███▌      | 7/20 [00:01<00:02,  5.53it/s]\n",
      "       1/20      2.46G      1.301      2.444      4.725      1.311         27        640:  40%|████      | 8/20 [00:01<00:02,  5.65it/s]\n",
      "       1/20      2.47G      1.325      2.485      4.642      1.331         24        640:  45%|████▌     | 9/20 [00:01<00:01,  5.81it/s]\n",
      "       1/20      2.47G      1.322      2.511      4.607      1.323         18        640:  50%|█████     | 10/20 [00:02<00:01,  5.99it/s]\n",
      "       1/20      2.48G      1.354      2.551      4.572       1.35         19        640:  55%|█████▌    | 11/20 [00:02<00:01,  6.08it/s]\n",
      "       1/20      2.48G      1.377      2.576      4.602      1.364         16        640:  60%|██████    | 12/20 [00:02<00:01,  6.18it/s]\n",
      "       1/20      2.48G      1.372      2.541        4.6      1.351         17        640:  65%|██████▌   | 13/20 [00:02<00:01,  6.24it/s]\n",
      "       1/20      2.48G      1.389      2.616      4.608      1.355         22        640:  70%|███████   | 14/20 [00:02<00:00,  6.26it/s]\n",
      "       1/20      2.48G      1.382      2.621       4.57      1.346         20        640:  75%|███████▌  | 15/20 [00:02<00:00,  6.30it/s]\n",
      "       1/20      2.48G      1.371      2.603      4.523      1.336         28        640:  80%|████████  | 16/20 [00:02<00:00,  6.31it/s]\n",
      "       1/20      2.48G      1.369      2.588      4.556      1.333         11        640:  85%|████████▌ | 17/20 [00:03<00:00,  6.34it/s]\n",
      "       1/20      2.48G      1.351      2.556      4.504      1.321         26        640:  90%|█████████ | 18/20 [00:03<00:00,  6.52it/s]\n",
      "       1/20      2.48G      1.345       2.55      4.485      1.318         15        640:  95%|█████████▌| 19/20 [00:03<00:00,  6.47it/s]\n",
      "       1/20      2.52G      1.357      2.558      4.464      1.317          8        640: 100%|██████████| 20/20 [00:03<00:00,  5.54it/s]\n",
      "                 Class     Images  Instances      Box(P          R      mAP50  mAP50-95)     Mask(P          R      mAP50  mAP50-95):   0%|          | 0/4 [00:00<?, ?it/s]\n",
      "                 Class     Images  Instances      Box(P          R      mAP50  mAP50-95)     Mask(P          R      mAP50  mAP50-95):  25%|██▌       | 1/4 [00:00<00:00,  5.90it/s]\n",
      "                 Class     Images  Instances      Box(P          R      mAP50  mAP50-95)     Mask(P          R      mAP50  mAP50-95):  50%|█████     | 2/4 [00:00<00:00,  6.24it/s]\n",
      "                 Class     Images  Instances      Box(P          R      mAP50  mAP50-95)     Mask(P          R      mAP50  mAP50-95):  75%|███████▌  | 3/4 [00:00<00:00,  6.48it/s]\n"
     ]
    },
    {
     "name": "stdout",
     "output_type": "stream",
     "text": [
      "\u001b[36m(_tune pid=138387)\u001b[0m                    all        125         79    0.00163      0.772      0.104     0.0432    0.00155      0.734      0.121     0.0615\n",
      "\u001b[36m(_tune pid=138387)\u001b[0m \n",
      "\u001b[36m(_tune pid=138387)\u001b[0m       Epoch    GPU_mem   box_loss   seg_loss   cls_loss   dfl_loss  Instances       Size\n"
     ]
    },
    {
     "name": "stderr",
     "output_type": "stream",
     "text": [
      "                 Class     Images  Instances      Box(P          R      mAP50  mAP50-95)     Mask(P          R      mAP50  mAP50-95): 100%|██████████| 4/4 [00:00<00:00,  6.34it/s]\n",
      "  0%|          | 0/20 [00:00<?, ?it/s]\n",
      "       2/20      2.64G      1.073      2.015      3.998      1.039         19        640:   5%|▌         | 1/20 [00:00<00:02,  6.36it/s]\n",
      "       2/20      2.64G      1.183      2.479      4.022      1.122         21        640:  10%|█         | 2/20 [00:00<00:02,  6.73it/s]\n",
      "       2/20      2.64G       1.27      2.591      3.964      1.176         29        640:  15%|█▌        | 3/20 [00:00<00:02,  6.52it/s]\n",
      "       2/20      2.64G       1.27      2.572      3.912      1.177         19        640:  20%|██        | 4/20 [00:00<00:02,  6.69it/s]\n",
      "       2/20      2.64G      1.195      2.426      3.929      1.144         15        640:  25%|██▌       | 5/20 [00:00<00:02,  6.58it/s]\n",
      "       2/20      2.64G      1.167      2.365      3.827      1.123         30        640:  30%|███       | 6/20 [00:00<00:02,  6.70it/s]\n",
      "       2/20      2.64G      1.177      2.323      3.755      1.129         24        640:  35%|███▌      | 7/20 [00:01<00:01,  6.58it/s]\n",
      "       2/20      2.64G      1.205      2.355      3.735      1.143         25        640:  40%|████      | 8/20 [00:01<00:01,  6.71it/s]\n",
      "       2/20      2.64G      1.209      2.342      3.722      1.147         17        640:  45%|████▌     | 9/20 [00:01<00:01,  6.58it/s]\n",
      "       2/20      2.64G      1.202      2.456       3.74      1.156         15        640:  50%|█████     | 10/20 [00:01<00:01,  6.71it/s]\n",
      "       2/20      2.64G      1.222      2.439      3.715      1.164         24        640:  55%|█████▌    | 11/20 [00:01<00:01,  6.59it/s]\n",
      "       2/20      2.64G      1.247      2.412        3.7       1.18         24        640:  60%|██████    | 12/20 [00:01<00:01,  6.70it/s]\n",
      "       2/20      2.64G      1.248      2.387      3.661      1.178         18        640:  65%|██████▌   | 13/20 [00:01<00:01,  6.56it/s]\n",
      "       2/20      2.64G      1.266      2.398      3.609      1.176         31        640:  70%|███████   | 14/20 [00:02<00:00,  6.67it/s]\n",
      "       2/20      2.64G       1.28      2.401      3.592      1.186         23        640:  75%|███████▌  | 15/20 [00:02<00:00,  6.56it/s]\n",
      "       2/20      2.64G      1.292      2.409      3.668      1.192         14        640:  80%|████████  | 16/20 [00:02<00:00,  6.71it/s]\n",
      "       2/20      2.64G      1.335      2.426      3.725      1.221         12        640:  85%|████████▌ | 17/20 [00:02<00:00,  6.60it/s]\n",
      "       2/20      2.64G      1.338      2.437      3.712      1.224         20        640:  90%|█████████ | 18/20 [00:02<00:00,  6.72it/s]\n",
      "       2/20      2.64G      1.343      2.438      3.704      1.227         17        640:  95%|█████████▌| 19/20 [00:02<00:00,  6.59it/s]\n",
      "       2/20      2.66G       1.34      2.458      3.698      1.218          7        640: 100%|██████████| 20/20 [00:02<00:00,  6.83it/s]\n",
      "                 Class     Images  Instances      Box(P          R      mAP50  mAP50-95)     Mask(P          R      mAP50  mAP50-95):   0%|          | 0/4 [00:00<?, ?it/s]\n",
      "                 Class     Images  Instances      Box(P          R      mAP50  mAP50-95)     Mask(P          R      mAP50  mAP50-95):  25%|██▌       | 1/4 [00:00<00:00,  7.46it/s]\n",
      "                 Class     Images  Instances      Box(P          R      mAP50  mAP50-95)     Mask(P          R      mAP50  mAP50-95):  50%|█████     | 2/4 [00:00<00:00,  6.85it/s]\n",
      "                 Class     Images  Instances      Box(P          R      mAP50  mAP50-95)     Mask(P          R      mAP50  mAP50-95):  75%|███████▌  | 3/4 [00:00<00:00,  6.90it/s]\n"
     ]
    },
    {
     "name": "stdout",
     "output_type": "stream",
     "text": [
      "\u001b[36m(_tune pid=138387)\u001b[0m                    all        125         79    0.00125      0.595     0.0757     0.0267   0.000773      0.367     0.0733     0.0343\n",
      "\u001b[36m(_tune pid=138387)\u001b[0m \n",
      "\u001b[36m(_tune pid=138387)\u001b[0m       Epoch    GPU_mem   box_loss   seg_loss   cls_loss   dfl_loss  Instances       Size\n"
     ]
    },
    {
     "name": "stderr",
     "output_type": "stream",
     "text": [
      "                 Class     Images  Instances      Box(P          R      mAP50  mAP50-95)     Mask(P          R      mAP50  mAP50-95): 100%|██████████| 4/4 [00:00<00:00,  7.12it/s]\n",
      "  0%|          | 0/20 [00:00<?, ?it/s]\n",
      "       3/20      2.66G      1.206      2.038      3.322      1.199         16        640:   5%|▌         | 1/20 [00:00<00:02,  6.36it/s]\n",
      "       3/20      2.66G      1.551      2.381      3.537       1.32         18        640:  10%|█         | 2/20 [00:00<00:02,  6.74it/s]\n",
      "       3/20      2.66G      1.527      2.292      3.499      1.302         20        640:  15%|█▌        | 3/20 [00:00<00:02,  6.51it/s]\n",
      "       3/20      2.66G      1.547      2.332      3.527      1.351         16        640:  20%|██        | 4/20 [00:00<00:02,  6.69it/s]\n",
      "       3/20      2.66G      1.519      2.343      3.461      1.312         22        640:  25%|██▌       | 5/20 [00:00<00:02,  6.56it/s]\n",
      "       3/20      2.66G      1.545       2.35      3.443      1.335         22        640:  30%|███       | 6/20 [00:00<00:02,  6.70it/s]\n",
      "       3/20      2.66G       1.58      2.436      3.451      1.346         26        640:  35%|███▌      | 7/20 [00:01<00:01,  6.56it/s]\n",
      "       3/20      2.66G      1.519      2.389      3.393      1.311         15        640:  40%|████      | 8/20 [00:01<00:01,  6.71it/s]\n",
      "       3/20      2.66G      1.504      2.381      3.309      1.299         28        640:  45%|████▌     | 9/20 [00:01<00:01,  6.58it/s]\n",
      "       3/20      2.66G       1.51      2.401      3.319      1.305         19        640:  50%|█████     | 10/20 [00:01<00:01,  6.70it/s]\n",
      "       3/20      2.66G      1.515      2.457      3.396      1.316         14        640:  55%|█████▌    | 11/20 [00:01<00:01,  6.60it/s]\n",
      "       3/20      2.66G      1.535      2.497      3.455      1.322         15        640:  60%|██████    | 12/20 [00:01<00:01,  6.73it/s]\n",
      "       3/20      2.66G       1.54      2.491      3.438       1.32         27        640:  65%|██████▌   | 13/20 [00:01<00:01,  6.79it/s]\n",
      "       3/20      2.66G      1.523      2.518      3.392      1.315         22        640:  70%|███████   | 14/20 [00:02<00:00,  6.65it/s]\n",
      "       3/20      2.66G      1.522       2.48      3.391      1.312         13        640:  75%|███████▌  | 15/20 [00:02<00:00,  6.77it/s]\n",
      "       3/20      2.66G      1.534      2.486      3.365      1.322         21        640:  80%|████████  | 16/20 [00:02<00:00,  6.81it/s]\n",
      "       3/20      2.66G      1.548      2.504      3.376      1.327         19        640:  85%|████████▌ | 17/20 [00:02<00:00,  6.64it/s]\n",
      "       3/20      2.66G      1.557      2.498      3.444      1.336         12        640:  90%|█████████ | 18/20 [00:02<00:00,  6.76it/s]\n",
      "       3/20      2.66G      1.559      2.536      3.424      1.342         23        640:  95%|█████████▌| 19/20 [00:02<00:00,  6.81it/s]\n",
      "       3/20      2.68G       1.59      2.618       3.45      1.364          6        640: 100%|██████████| 20/20 [00:02<00:00,  6.87it/s]\n",
      "                 Class     Images  Instances      Box(P          R      mAP50  mAP50-95)     Mask(P          R      mAP50  mAP50-95):   0%|          | 0/4 [00:00<?, ?it/s]\n",
      "                 Class     Images  Instances      Box(P          R      mAP50  mAP50-95)     Mask(P          R      mAP50  mAP50-95):  25%|██▌       | 1/4 [00:00<00:00,  7.50it/s]\n",
      "                 Class     Images  Instances      Box(P          R      mAP50  mAP50-95)     Mask(P          R      mAP50  mAP50-95):  50%|█████     | 2/4 [00:00<00:00,  6.91it/s]\n",
      "                 Class     Images  Instances      Box(P          R      mAP50  mAP50-95)     Mask(P          R      mAP50  mAP50-95):  75%|███████▌  | 3/4 [00:00<00:00,  6.93it/s]\n",
      "                 Class     Images  Instances      Box(P          R      mAP50  mAP50-95)     Mask(P          R      mAP50  mAP50-95): 100%|██████████| 4/4 [00:00<00:00,  7.16it/s]\n"
     ]
    },
    {
     "name": "stdout",
     "output_type": "stream",
     "text": [
      "\u001b[36m(_tune pid=138387)\u001b[0m                    all        125         79   0.000907       0.43     0.0328     0.0178   0.000373      0.177     0.0314     0.0135\n",
      "\u001b[36m(_tune pid=138387)\u001b[0m \n",
      "\u001b[36m(_tune pid=138387)\u001b[0m       Epoch    GPU_mem   box_loss   seg_loss   cls_loss   dfl_loss  Instances       Size\n"
     ]
    },
    {
     "name": "stderr",
     "output_type": "stream",
     "text": [
      "  0%|          | 0/20 [00:00<?, ?it/s]\n",
      "       4/20      2.68G      1.512      2.762      2.745       1.33         26        640:   5%|▌         | 1/20 [00:00<00:02,  7.00it/s]\n",
      "       4/20      2.68G       1.39       2.62      3.036       1.25         17        640:  10%|█         | 2/20 [00:00<00:02,  7.00it/s]\n",
      "       4/20      2.68G      1.444      2.568      3.268      1.268         12        640:  15%|█▌        | 3/20 [00:00<00:02,  6.67it/s]\n",
      "       4/20      2.68G      1.484      2.639      3.179      1.267         23        640:  20%|██        | 4/20 [00:00<00:02,  6.79it/s]\n",
      "       4/20      2.68G      1.452      2.523      3.058      1.238         21        640:  25%|██▌       | 5/20 [00:00<00:02,  6.85it/s]\n",
      "       4/20      2.68G      1.461      2.544      3.029      1.226         19        640:  30%|███       | 6/20 [00:00<00:02,  6.65it/s]\n",
      "       4/20      2.68G      1.531      2.582      3.087      1.278         16        640:  35%|███▌      | 7/20 [00:01<00:01,  6.76it/s]\n",
      "       4/20      2.68G      1.567      2.604      3.388      1.343          7        640:  40%|████      | 8/20 [00:01<00:01,  6.86it/s]\n",
      "       4/20      2.68G      1.562      2.527      3.301      1.322         27        640:  45%|████▌     | 9/20 [00:01<00:01,  6.68it/s]\n",
      "       4/20      2.68G      1.571      2.538      3.355      1.316         11        640:  50%|█████     | 10/20 [00:01<00:01,  6.79it/s]\n",
      "       4/20      2.68G      1.572      2.546      3.397      1.318         14        640:  55%|█████▌    | 11/20 [00:01<00:01,  6.87it/s]\n",
      "       4/20      2.68G      1.559       2.51      3.366      1.309         21        640:  60%|██████    | 12/20 [00:01<00:01,  6.67it/s]\n",
      "       4/20      2.68G      1.547      2.514      3.323      1.301         25        640:  65%|██████▌   | 13/20 [00:01<00:01,  6.76it/s]\n",
      "       4/20      2.68G      1.558       2.52      3.312      1.303         27        640:  70%|███████   | 14/20 [00:02<00:00,  6.81it/s]\n",
      "       4/20      2.68G      1.571       2.56      3.312      1.327         17        640:  75%|███████▌  | 15/20 [00:02<00:00,  6.68it/s]\n",
      "       4/20      2.68G      1.569      2.582       3.27      1.323         20        640:  80%|████████  | 16/20 [00:02<00:00,  6.77it/s]\n",
      "       4/20      2.68G      1.559      2.611      3.255      1.319         16        640:  85%|████████▌ | 17/20 [00:02<00:00,  6.84it/s]\n",
      "       4/20      2.68G      1.556       2.65      3.275      1.318         12        640:  90%|█████████ | 18/20 [00:02<00:00,  6.70it/s]\n",
      "       4/20       2.7G      1.572      2.773      3.349      1.325          3        640: 100%|██████████| 20/20 [00:02<00:00,  6.98it/s]\n",
      "                 Class     Images  Instances      Box(P          R      mAP50  mAP50-95)     Mask(P          R      mAP50  mAP50-95):   0%|          | 0/4 [00:00<?, ?it/s]\n",
      "                 Class     Images  Instances      Box(P          R      mAP50  mAP50-95)     Mask(P          R      mAP50  mAP50-95):  25%|██▌       | 1/4 [00:00<00:00,  7.51it/s]\n",
      "                 Class     Images  Instances      Box(P          R      mAP50  mAP50-95)     Mask(P          R      mAP50  mAP50-95):  50%|█████     | 2/4 [00:00<00:00,  6.93it/s]\n",
      "                 Class     Images  Instances      Box(P          R      mAP50  mAP50-95)     Mask(P          R      mAP50  mAP50-95):  75%|███████▌  | 3/4 [00:00<00:00,  6.94it/s]\n",
      "                 Class     Images  Instances      Box(P          R      mAP50  mAP50-95)     Mask(P          R      mAP50  mAP50-95): 100%|██████████| 4/4 [00:00<00:00,  7.16it/s]\n"
     ]
    },
    {
     "name": "stdout",
     "output_type": "stream",
     "text": [
      "\u001b[36m(_tune pid=138387)\u001b[0m                    all        125         79   0.000987      0.468     0.0287     0.0191   0.000133     0.0633     0.0266     0.0118\n",
      "\u001b[36m(_tune pid=138387)\u001b[0m \n",
      "\u001b[36m(_tune pid=138387)\u001b[0m       Epoch    GPU_mem   box_loss   seg_loss   cls_loss   dfl_loss  Instances       Size\n"
     ]
    },
    {
     "name": "stderr",
     "output_type": "stream",
     "text": [
      "  0%|          | 0/20 [00:00<?, ?it/s]\n",
      "       5/20       2.7G      1.383       2.81      2.696      1.214         14        640:   5%|▌         | 1/20 [00:00<00:02,  6.39it/s]\n",
      "       5/20       2.7G       1.74      3.672      3.067      1.535         20        640:  10%|█         | 2/20 [00:00<00:02,  6.74it/s]\n",
      "       5/20       2.7G      1.695      3.891      3.189      1.434         16        640:  15%|█▌        | 3/20 [00:00<00:02,  6.85it/s]\n",
      "       5/20       2.7G      1.654      3.874      3.161      1.446         10        640:  20%|██        | 4/20 [00:00<00:02,  6.66it/s]\n",
      "       5/20       2.7G       1.68      3.926      3.189      1.473         25        640:  25%|██▌       | 5/20 [00:00<00:02,  6.78it/s]\n",
      "       5/20       2.7G      1.639      3.887      3.159      1.451         26        640:  30%|███       | 6/20 [00:00<00:02,  6.83it/s]\n",
      "       5/20       2.7G      1.659      3.858      3.165      1.467         17        640:  35%|███▌      | 7/20 [00:01<00:01,  6.88it/s]\n",
      "       5/20       2.7G      1.679      3.823      3.191      1.487         21        640:  40%|████      | 8/20 [00:01<00:01,  6.67it/s]\n",
      "       5/20       2.7G      1.679      3.773      3.165      1.482         17        640:  45%|████▌     | 9/20 [00:01<00:01,  6.78it/s]\n",
      "       5/20       2.7G      1.684      3.686      3.115      1.469         17        640:  50%|█████     | 10/20 [00:01<00:01,  6.84it/s]\n",
      "       5/20       2.7G      1.685      3.698       3.16       1.47         13        640:  55%|█████▌    | 11/20 [00:01<00:01,  6.89it/s]\n",
      "       5/20       2.7G      1.687      3.672      3.104      1.464         25        640:  60%|██████    | 12/20 [00:01<00:01,  6.71it/s]\n",
      "       5/20       2.7G      1.709      3.728      3.112      1.479         33        640:  65%|██████▌   | 13/20 [00:01<00:01,  6.77it/s]\n",
      "       5/20       2.7G      1.701      3.669      3.105      1.468         15        640:  70%|███████   | 14/20 [00:02<00:00,  6.84it/s]\n",
      "       5/20       2.7G      1.723      3.672      3.106       1.48         23        640:  75%|███████▌  | 15/20 [00:02<00:00,  6.86it/s]\n",
      "       5/20       2.7G      1.738      3.693      3.124      1.486         29        640:  80%|████████  | 16/20 [00:02<00:00,  6.67it/s]\n",
      "       5/20       2.7G      1.756      3.712      3.099      1.489         19        640:  85%|████████▌ | 17/20 [00:02<00:00,  6.78it/s]\n",
      "       5/20       2.7G       1.76      3.753      3.089       1.49         18        640:  90%|█████████ | 18/20 [00:02<00:00,  6.83it/s]\n",
      "       5/20       2.7G      1.788      3.787      3.154      1.495         11        640:  95%|█████████▌| 19/20 [00:02<00:00,  6.89it/s]\n",
      "       5/20      2.71G      1.788      3.833      3.131      1.484          6        640: 100%|██████████| 20/20 [00:02<00:00,  6.97it/s]\n",
      "                 Class     Images  Instances      Box(P          R      mAP50  mAP50-95)     Mask(P          R      mAP50  mAP50-95):   0%|          | 0/4 [00:00<?, ?it/s]\n",
      "                 Class     Images  Instances      Box(P          R      mAP50  mAP50-95)     Mask(P          R      mAP50  mAP50-95):  25%|██▌       | 1/4 [00:00<00:00,  7.48it/s]\n",
      "                 Class     Images  Instances      Box(P          R      mAP50  mAP50-95)     Mask(P          R      mAP50  mAP50-95):  50%|█████     | 2/4 [00:00<00:00,  6.94it/s]\n",
      "                 Class     Images  Instances      Box(P          R      mAP50  mAP50-95)     Mask(P          R      mAP50  mAP50-95):  75%|███████▌  | 3/4 [00:00<00:00,  6.94it/s]\n",
      "                 Class     Images  Instances      Box(P          R      mAP50  mAP50-95)     Mask(P          R      mAP50  mAP50-95): 100%|██████████| 4/4 [00:00<00:00,  7.14it/s]\n"
     ]
    },
    {
     "name": "stdout",
     "output_type": "stream",
     "text": [
      "\u001b[36m(_tune pid=138387)\u001b[0m                    all        125         79   0.000933      0.443     0.0359     0.0186      8e-05      0.038   4.17e-05   8.27e-06\n",
      "\u001b[36m(_tune pid=138387)\u001b[0m \n",
      "\u001b[36m(_tune pid=138387)\u001b[0m       Epoch    GPU_mem   box_loss   seg_loss   cls_loss   dfl_loss  Instances       Size\n"
     ]
    },
    {
     "name": "stderr",
     "output_type": "stream",
     "text": [
      "  0%|          | 0/20 [00:00<?, ?it/s]\n",
      "       6/20      2.71G      1.991      4.229      3.088      1.522         22        640:   5%|▌         | 1/20 [00:00<00:02,  7.02it/s]\n",
      "       6/20      2.71G      2.091      4.231      3.615       1.61         10        640:  10%|█         | 2/20 [00:00<00:02,  7.05it/s]\n",
      "       6/20      2.71G      2.059       4.36      3.592      1.612         14        640:  15%|█▌        | 3/20 [00:00<00:02,  7.05it/s]\n",
      "       6/20      2.71G      2.052      4.311      3.473       1.59         19        640:  20%|██        | 4/20 [00:00<00:02,  6.75it/s]\n",
      "       6/20      2.71G      1.966      4.196      3.365      1.523         29        640:  25%|██▌       | 5/20 [00:00<00:02,  6.81it/s]\n",
      "       6/20      2.71G      1.943      4.137      3.357      1.513         18        640:  30%|███       | 6/20 [00:00<00:02,  6.88it/s]\n",
      "       6/20      2.71G      1.894      4.094      3.315      1.491         17        640:  35%|███▌      | 7/20 [00:01<00:01,  6.91it/s]\n",
      "       6/20      2.71G      1.862      4.099      3.286      1.491         23        640:  40%|████      | 8/20 [00:01<00:01,  6.73it/s]\n",
      "       6/20      2.71G      1.861      4.068      3.241      1.507         27        640:  45%|████▌     | 9/20 [00:01<00:01,  6.79it/s]\n",
      "       6/20      2.71G      1.829      4.027      3.246      1.492         14        640:  50%|█████     | 10/20 [00:01<00:01,  6.86it/s]\n",
      "       6/20      2.71G       1.83      4.039      3.359      1.503         11        640:  55%|█████▌    | 11/20 [00:01<00:01,  6.91it/s]\n",
      "       6/20      2.71G      1.822      4.052      3.368      1.502         19        640:  60%|██████    | 12/20 [00:01<00:01,  6.72it/s]\n",
      "       6/20      2.71G      1.818      4.016      3.384      1.499         15        640:  65%|██████▌   | 13/20 [00:01<00:01,  6.80it/s]\n",
      "       6/20      2.71G      1.842       3.97       3.46      1.517         11        640:  70%|███████   | 14/20 [00:02<00:00,  6.87it/s]\n",
      "       6/20      2.71G      1.842      4.042      3.477      1.529         17        640:  75%|███████▌  | 15/20 [00:02<00:00,  6.84it/s]\n",
      "       6/20      2.71G      1.861      4.037      3.493      1.535         20        640:  80%|████████  | 16/20 [00:02<00:00,  6.64it/s]\n",
      "       6/20      2.71G      1.898      4.022      3.516      1.556         18        640:  85%|████████▌ | 17/20 [00:02<00:00,  6.73it/s]\n",
      "       6/20      2.71G      1.906      4.013      3.535      1.558         16        640:  90%|█████████ | 18/20 [00:02<00:00,  6.79it/s]\n",
      "       6/20      2.72G      1.919      4.041      3.547       1.56          5        640: 100%|██████████| 20/20 [00:02<00:00,  6.99it/s]\n",
      "                 Class     Images  Instances      Box(P          R      mAP50  mAP50-95)     Mask(P          R      mAP50  mAP50-95):   0%|          | 0/4 [00:00<?, ?it/s]\n",
      "                 Class     Images  Instances      Box(P          R      mAP50  mAP50-95)     Mask(P          R      mAP50  mAP50-95):  25%|██▌       | 1/4 [00:00<00:00,  7.28it/s]\n",
      "                 Class     Images  Instances      Box(P          R      mAP50  mAP50-95)     Mask(P          R      mAP50  mAP50-95):  50%|█████     | 2/4 [00:00<00:00,  6.67it/s]\n",
      "                 Class     Images  Instances      Box(P          R      mAP50  mAP50-95)     Mask(P          R      mAP50  mAP50-95):  75%|███████▌  | 3/4 [00:00<00:00,  6.74it/s]\n",
      "                 Class     Images  Instances      Box(P          R      mAP50  mAP50-95)     Mask(P          R      mAP50  mAP50-95): 100%|██████████| 4/4 [00:00<00:00,  6.85it/s]\n"
     ]
    },
    {
     "name": "stdout",
     "output_type": "stream",
     "text": [
      "\u001b[36m(_tune pid=138387)\u001b[0m                    all        125         79   0.000851      0.392    0.00103   0.000347   0.000247      0.114   0.000191   3.04e-05\n",
      "\u001b[36m(_tune pid=138387)\u001b[0m \n",
      "\u001b[36m(_tune pid=138387)\u001b[0m       Epoch    GPU_mem   box_loss   seg_loss   cls_loss   dfl_loss  Instances       Size\n"
     ]
    },
    {
     "name": "stderr",
     "output_type": "stream",
     "text": [
      "  0%|          | 0/20 [00:00<?, ?it/s]\n",
      "       7/20      2.72G      1.879      3.747      3.198        1.6         24        640:   5%|▌         | 1/20 [00:00<00:02,  6.78it/s]\n",
      "       7/20      2.72G      2.125      3.834      3.848      1.686         13        640:  10%|█         | 2/20 [00:00<00:02,  6.79it/s]\n",
      "       7/20      2.72G      2.072      3.789      3.648      1.662         23        640:  15%|█▌        | 3/20 [00:00<00:02,  6.78it/s]\n",
      "       7/20      2.72G      2.061      3.808      3.573      1.684         24        640:  20%|██        | 4/20 [00:00<00:02,  6.54it/s]\n",
      "       7/20      2.72G      2.048       3.84       3.64      1.692         15        640:  25%|██▌       | 5/20 [00:00<00:02,  6.70it/s]\n",
      "       7/20      2.72G      2.008      3.749      3.587      1.652         21        640:  30%|███       | 6/20 [00:00<00:02,  6.77it/s]\n",
      "       7/20      2.72G      2.023      3.692      3.493      1.671         26        640:  35%|███▌      | 7/20 [00:01<00:01,  6.81it/s]\n",
      "       7/20      2.72G      2.003      3.643       3.45      1.659         21        640:  40%|████      | 8/20 [00:01<00:01,  6.65it/s]\n",
      "       7/20      2.72G      2.014       3.61       3.41      1.697         19        640:  45%|████▌     | 9/20 [00:01<00:01,  6.73it/s]\n",
      "       7/20      2.72G      2.005      3.593      3.366      1.684         24        640:  50%|█████     | 10/20 [00:01<00:01,  6.77it/s]\n",
      "       7/20      2.72G      1.986      3.551      3.351       1.68         18        640:  55%|█████▌    | 11/20 [00:01<00:01,  6.84it/s]\n",
      "       7/20      2.72G      1.977      3.577      3.373      1.666         20        640:  60%|██████    | 12/20 [00:01<00:01,  6.64it/s]\n",
      "       7/20      2.72G      1.972      3.531      3.328      1.665         23        640:  65%|██████▌   | 13/20 [00:01<00:01,  6.73it/s]\n",
      "       7/20      2.72G      1.983        3.5      3.449      1.669          8        640:  70%|███████   | 14/20 [00:02<00:00,  6.82it/s]\n",
      "       7/20      2.72G      2.006      3.554      3.444      1.685         23        640:  75%|███████▌  | 15/20 [00:02<00:00,  6.84it/s]\n",
      "       7/20      2.72G      1.983      3.503      3.397      1.663         19        640:  80%|████████  | 16/20 [00:02<00:00,  6.64it/s]\n",
      "       7/20      2.72G      1.994      3.507      3.374      1.665         33        640:  85%|████████▌ | 17/20 [00:02<00:00,  6.61it/s]\n",
      "       7/20      2.72G      1.996      3.483      3.365      1.668         18        640:  90%|█████████ | 18/20 [00:02<00:00,  6.63it/s]\n",
      "       7/20      2.72G      1.977      3.443      3.319      1.654          6        640: 100%|██████████| 20/20 [00:02<00:00,  6.89it/s]\n",
      "                 Class     Images  Instances      Box(P          R      mAP50  mAP50-95)     Mask(P          R      mAP50  mAP50-95):   0%|          | 0/4 [00:00<?, ?it/s]\n",
      "                 Class     Images  Instances      Box(P          R      mAP50  mAP50-95)     Mask(P          R      mAP50  mAP50-95):  25%|██▌       | 1/4 [00:00<00:00,  7.65it/s]\n",
      "                 Class     Images  Instances      Box(P          R      mAP50  mAP50-95)     Mask(P          R      mAP50  mAP50-95):  50%|█████     | 2/4 [00:00<00:00,  7.06it/s]\n",
      "                 Class     Images  Instances      Box(P          R      mAP50  mAP50-95)     Mask(P          R      mAP50  mAP50-95):  75%|███████▌  | 3/4 [00:00<00:00,  7.18it/s]\n"
     ]
    },
    {
     "name": "stdout",
     "output_type": "stream",
     "text": [
      "\u001b[36m(_tune pid=138387)\u001b[0m                    all        125         79      0.219     0.0633     0.0398     0.0121      0.178     0.0759     0.0492     0.0132\n",
      "\u001b[36m(_tune pid=138387)\u001b[0m \n",
      "\u001b[36m(_tune pid=138387)\u001b[0m       Epoch    GPU_mem   box_loss   seg_loss   cls_loss   dfl_loss  Instances       Size\n"
     ]
    },
    {
     "name": "stderr",
     "output_type": "stream",
     "text": [
      "                 Class     Images  Instances      Box(P          R      mAP50  mAP50-95)     Mask(P          R      mAP50  mAP50-95): 100%|██████████| 4/4 [00:00<00:00,  7.43it/s]\n",
      "  0%|          | 0/20 [00:00<?, ?it/s]\n",
      "       8/20      2.72G      1.594      3.801      2.992      1.401         16        640:   5%|▌         | 1/20 [00:00<00:02,  7.07it/s]\n",
      "       8/20      2.72G      1.843      3.922      3.587      1.619          9        640:  10%|█         | 2/20 [00:00<00:02,  7.04it/s]\n",
      "       8/20      2.72G      1.913      4.025      3.405      1.619         21        640:  15%|█▌        | 3/20 [00:00<00:02,  6.97it/s]\n",
      "       8/20      2.72G      1.942       4.09      3.511      1.645         14        640:  20%|██        | 4/20 [00:00<00:02,  6.73it/s]\n",
      "       8/20      2.72G       1.97      3.885      3.398      1.651         18        640:  25%|██▌       | 5/20 [00:00<00:02,  6.81it/s]\n",
      "       8/20      2.72G      1.931      3.814      3.296      1.614         17        640:  30%|███       | 6/20 [00:00<00:02,  6.84it/s]\n",
      "       8/20      2.72G      1.917      3.775      3.288      1.602         16        640:  35%|███▌      | 7/20 [00:01<00:01,  6.87it/s]\n",
      "       8/20      2.72G      1.975      3.815      3.285      1.642         15        640:  40%|████      | 8/20 [00:01<00:01,  6.69it/s]\n",
      "       8/20      2.72G      1.952      3.712      3.204      1.618         21        640:  45%|████▌     | 9/20 [00:01<00:01,  6.79it/s]\n",
      "       8/20      2.72G      1.962      3.738      3.179      1.626         25        640:  50%|█████     | 10/20 [00:01<00:01,  6.82it/s]\n",
      "       8/20      2.72G      1.965      3.765      3.204      1.619         16        640:  55%|█████▌    | 11/20 [00:01<00:01,  6.87it/s]\n",
      "       8/20      2.72G      1.981      3.829      3.267      1.623         15        640:  60%|██████    | 12/20 [00:01<00:01,  6.71it/s]\n",
      "       8/20      2.72G      1.967      3.813      3.261      1.616         16        640:  65%|██████▌   | 13/20 [00:01<00:01,  6.80it/s]\n",
      "       8/20      2.72G      1.987       3.78      3.265      1.637         16        640:  70%|███████   | 14/20 [00:02<00:00,  6.85it/s]\n",
      "       8/20      2.72G      1.982      3.731      3.269      1.628         17        640:  75%|███████▌  | 15/20 [00:02<00:00,  6.90it/s]\n",
      "       8/20      2.72G      1.964      3.688      3.238      1.614         23        640:  80%|████████  | 16/20 [00:02<00:00,  6.69it/s]\n",
      "       8/20      2.72G      1.954      3.623        3.2      1.611         24        640:  85%|████████▌ | 17/20 [00:02<00:00,  6.77it/s]\n",
      "       8/20      2.72G      1.949      3.585      3.168      1.611         23        640:  90%|█████████ | 18/20 [00:02<00:00,  6.82it/s]\n",
      "       8/20      2.72G      1.962      3.537      3.144      1.641          5        640: 100%|██████████| 20/20 [00:02<00:00,  6.99it/s]\n",
      "                 Class     Images  Instances      Box(P          R      mAP50  mAP50-95)     Mask(P          R      mAP50  mAP50-95):   0%|          | 0/4 [00:00<?, ?it/s]\n",
      "                 Class     Images  Instances      Box(P          R      mAP50  mAP50-95)     Mask(P          R      mAP50  mAP50-95):  25%|██▌       | 1/4 [00:00<00:00,  7.51it/s]\n",
      "                 Class     Images  Instances      Box(P          R      mAP50  mAP50-95)     Mask(P          R      mAP50  mAP50-95):  50%|█████     | 2/4 [00:00<00:00,  6.88it/s]\n",
      "                 Class     Images  Instances      Box(P          R      mAP50  mAP50-95)     Mask(P          R      mAP50  mAP50-95):  75%|███████▌  | 3/4 [00:00<00:00,  7.01it/s]\n",
      "                 Class     Images  Instances      Box(P          R      mAP50  mAP50-95)     Mask(P          R      mAP50  mAP50-95): 100%|██████████| 4/4 [00:00<00:00,  7.19it/s]\n"
     ]
    },
    {
     "name": "stdout",
     "output_type": "stream",
     "text": [
      "\u001b[36m(_tune pid=138387)\u001b[0m                    all        125         79      0.127     0.0506     0.0265     0.0106      0.116     0.0349     0.0195     0.0101\n",
      "\u001b[36m(_tune pid=138387)\u001b[0m \n",
      "\u001b[36m(_tune pid=138387)\u001b[0m       Epoch    GPU_mem   box_loss   seg_loss   cls_loss   dfl_loss  Instances       Size\n"
     ]
    },
    {
     "name": "stderr",
     "output_type": "stream",
     "text": [
      "  0%|          | 0/20 [00:00<?, ?it/s]\n",
      "       9/20      2.72G      2.065      3.575      2.593      1.764         23        640:   5%|▌         | 1/20 [00:00<00:02,  6.97it/s]\n",
      "       9/20      2.72G      1.881      3.126      2.489      1.572         17        640:  10%|█         | 2/20 [00:00<00:02,  6.97it/s]\n",
      "       9/20      2.72G      1.771      2.873      2.664      1.485          9        640:  15%|█▌        | 3/20 [00:00<00:02,  7.01it/s]\n",
      "       9/20      2.72G      1.771      2.699      2.593      1.469         17        640:  20%|██        | 4/20 [00:00<00:02,  6.74it/s]\n",
      "       9/20      2.72G      1.778      2.792      2.611       1.49         18        640:  25%|██▌       | 5/20 [00:00<00:02,  6.82it/s]\n",
      "       9/20      2.72G      1.807      2.784      2.577      1.505         27        640:  30%|███       | 6/20 [00:00<00:02,  6.86it/s]\n",
      "       9/20      2.72G      1.795       2.77      2.561      1.511         17        640:  35%|███▌      | 7/20 [00:01<00:01,  6.88it/s]\n",
      "       9/20      2.72G      1.789      2.764      2.585      1.528         15        640:  40%|████      | 8/20 [00:01<00:01,  6.69it/s]\n",
      "       9/20      2.72G      1.822      2.893      2.709      1.562         23        640:  45%|████▌     | 9/20 [00:01<00:01,  6.77it/s]\n",
      "       9/20      2.72G      1.819      2.929      2.741      1.556         16        640:  50%|█████     | 10/20 [00:01<00:01,  6.84it/s]\n",
      "       9/20      2.72G      1.816      2.924       2.71      1.558         19        640:  55%|█████▌    | 11/20 [00:01<00:01,  6.89it/s]\n",
      "       9/20      2.72G      1.813      2.905      2.707      1.555         22        640:  60%|██████    | 12/20 [00:01<00:01,  6.69it/s]\n",
      "       9/20      2.72G      1.816      2.897      2.713      1.546         17        640:  65%|██████▌   | 13/20 [00:01<00:01,  6.80it/s]\n",
      "       9/20      2.72G      1.843      2.951      2.732      1.568         26        640:  70%|███████   | 14/20 [00:02<00:00,  6.82it/s]\n",
      "       9/20      2.72G      1.836      2.947      2.734      1.555         22        640:  75%|███████▌  | 15/20 [00:02<00:00,  6.86it/s]\n",
      "       9/20      2.72G      1.842      2.947      2.745      1.555         16        640:  80%|████████  | 16/20 [00:02<00:00,  6.69it/s]\n",
      "       9/20      2.72G      1.845       2.94      2.758      1.562         16        640:  85%|████████▌ | 17/20 [00:02<00:00,  6.76it/s]\n",
      "       9/20      2.72G       1.85      2.944       2.78       1.57         15        640:  90%|█████████ | 18/20 [00:02<00:00,  6.84it/s]\n",
      "       9/20      2.72G      1.855      2.982      2.792      1.565         17        640:  95%|█████████▌| 19/20 [00:02<00:00,  6.89it/s]\n",
      "       9/20      2.72G      1.891      3.023      2.819      1.585          6        640: 100%|██████████| 20/20 [00:02<00:00,  6.99it/s]\n",
      "                 Class     Images  Instances      Box(P          R      mAP50  mAP50-95)     Mask(P          R      mAP50  mAP50-95):   0%|          | 0/4 [00:00<?, ?it/s]\n",
      "                 Class     Images  Instances      Box(P          R      mAP50  mAP50-95)     Mask(P          R      mAP50  mAP50-95):  25%|██▌       | 1/4 [00:00<00:00,  7.89it/s]\n",
      "                 Class     Images  Instances      Box(P          R      mAP50  mAP50-95)     Mask(P          R      mAP50  mAP50-95):  50%|█████     | 2/4 [00:00<00:00,  7.26it/s]\n",
      "                 Class     Images  Instances      Box(P          R      mAP50  mAP50-95)     Mask(P          R      mAP50  mAP50-95):  75%|███████▌  | 3/4 [00:00<00:00,  7.34it/s]\n"
     ]
    },
    {
     "name": "stdout",
     "output_type": "stream",
     "text": [
      "\u001b[36m(_tune pid=138387)\u001b[0m                    all        125         79      0.373     0.0886     0.0815     0.0332      0.692     0.0759     0.0717     0.0338\n"
     ]
    },
    {
     "name": "stderr",
     "output_type": "stream",
     "text": [
      "                 Class     Images  Instances      Box(P          R      mAP50  mAP50-95)     Mask(P          R      mAP50  mAP50-95): 100%|██████████| 4/4 [00:00<00:00,  7.35it/s]\n"
     ]
    },
    {
     "name": "stdout",
     "output_type": "stream",
     "text": [
      "\u001b[36m(_tune pid=138387)\u001b[0m \n",
      "\u001b[36m(_tune pid=138387)\u001b[0m       Epoch    GPU_mem   box_loss   seg_loss   cls_loss   dfl_loss  Instances       Size\n"
     ]
    },
    {
     "name": "stderr",
     "output_type": "stream",
     "text": [
      "  0%|          | 0/20 [00:00<?, ?it/s]\n",
      "      10/20      2.72G      1.722      2.668      2.621      1.374         17        640:   5%|▌         | 1/20 [00:00<00:02,  6.98it/s]\n",
      "      10/20      2.72G      2.167      3.212      2.997      1.609         16        640:  10%|█         | 2/20 [00:00<00:02,  6.96it/s]\n",
      "      10/20      2.72G      2.068      3.199      2.913      1.586         27        640:  15%|█▌        | 3/20 [00:00<00:02,  6.88it/s]\n",
      "      10/20      2.72G       1.99      3.187      2.904      1.547         15        640:  20%|██        | 4/20 [00:00<00:02,  6.65it/s]\n",
      "      10/20      2.72G      2.045      3.146      2.898      1.579         17        640:  25%|██▌       | 5/20 [00:00<00:02,  6.77it/s]\n",
      "      10/20      2.72G       2.03      3.224      2.915      1.559         21        640:  30%|███       | 6/20 [00:00<00:02,  6.84it/s]\n",
      "      10/20      2.72G      1.994      3.204      2.887      1.547         17        640:  35%|███▌      | 7/20 [00:01<00:01,  6.78it/s]\n",
      "      10/20      2.72G      1.992      3.148      2.808      1.546         30        640:  40%|████      | 8/20 [00:01<00:01,  6.59it/s]\n",
      "      10/20      2.72G      1.976       3.15      2.777      1.523         17        640:  45%|████▌     | 9/20 [00:01<00:01,  6.70it/s]\n",
      "      10/20      2.72G      1.959      3.129      2.773      1.521         17        640:  50%|█████     | 10/20 [00:01<00:01,  6.77it/s]\n",
      "      10/20      2.72G      1.951       3.11      2.732      1.515         24        640:  55%|█████▌    | 11/20 [00:01<00:01,  6.80it/s]\n",
      "      10/20      2.72G      1.942      3.123      2.796      1.513         11        640:  60%|██████    | 12/20 [00:01<00:01,  6.66it/s]\n",
      "      10/20      2.72G      1.921      3.098      2.803      1.509         18        640:  65%|██████▌   | 13/20 [00:01<00:01,  6.74it/s]\n",
      "      10/20      2.72G      1.902      3.088      2.805      1.497         17        640:  70%|███████   | 14/20 [00:02<00:00,  6.80it/s]\n",
      "      10/20      2.72G      1.902       3.11      2.823      1.501         15        640:  75%|███████▌  | 15/20 [00:02<00:00,  6.85it/s]\n",
      "      10/20      2.72G      1.885      3.103      2.821      1.494         27        640:  80%|████████  | 16/20 [00:02<00:00,  6.66it/s]\n",
      "      10/20      2.72G       1.88      3.055      2.807      1.494         14        640:  85%|████████▌ | 17/20 [00:02<00:00,  6.76it/s]\n",
      "      10/20      2.72G      1.894      3.045      2.805      1.496         22        640:  90%|█████████ | 18/20 [00:02<00:00,  6.80it/s]\n",
      "      10/20      2.72G       1.94      2.987      2.845      1.529          3        640: 100%|██████████| 20/20 [00:02<00:00,  6.95it/s]\n",
      "                 Class     Images  Instances      Box(P          R      mAP50  mAP50-95)     Mask(P          R      mAP50  mAP50-95):   0%|          | 0/4 [00:00<?, ?it/s]\n",
      "                 Class     Images  Instances      Box(P          R      mAP50  mAP50-95)     Mask(P          R      mAP50  mAP50-95):  25%|██▌       | 1/4 [00:00<00:00,  7.75it/s]\n",
      "                 Class     Images  Instances      Box(P          R      mAP50  mAP50-95)     Mask(P          R      mAP50  mAP50-95):  50%|█████     | 2/4 [00:00<00:00,  6.97it/s]\n",
      "                 Class     Images  Instances      Box(P          R      mAP50  mAP50-95)     Mask(P          R      mAP50  mAP50-95):  75%|███████▌  | 3/4 [00:00<00:00,  6.98it/s]\n",
      "                 Class     Images  Instances      Box(P          R      mAP50  mAP50-95)     Mask(P          R      mAP50  mAP50-95): 100%|██████████| 4/4 [00:00<00:00,  7.23it/s]\n"
     ]
    },
    {
     "name": "stdout",
     "output_type": "stream",
     "text": [
      "\u001b[36m(_tune pid=138387)\u001b[0m                    all        125         79      0.765       0.38      0.417        0.2      0.734      0.392      0.427      0.211\n",
      "\u001b[36m(_tune pid=138387)\u001b[0m Closing dataloader mosaic\n",
      "\u001b[36m(_tune pid=138387)\u001b[0m \n",
      "\u001b[36m(_tune pid=138387)\u001b[0m       Epoch    GPU_mem   box_loss   seg_loss   cls_loss   dfl_loss  Instances       Size\n"
     ]
    },
    {
     "name": "stderr",
     "output_type": "stream",
     "text": [
      "  0%|          | 0/20 [00:00<?, ?it/s]\n",
      "      11/20      2.72G      1.984      2.482      2.557      1.545         14        640:   5%|▌         | 1/20 [00:00<00:09,  2.04it/s]\n",
      "      11/20      2.72G      1.859      2.512      2.604      1.419         15        640:  10%|█         | 2/20 [00:00<00:05,  3.17it/s]\n",
      "      11/20      2.72G      1.854      2.644      2.531      1.437         12        640:  15%|█▌        | 3/20 [00:00<00:04,  3.76it/s]\n",
      "      11/20      2.72G      1.786      2.752      2.645       1.43          7        640:  20%|██        | 4/20 [00:01<00:04,  3.95it/s]\n",
      "      11/20      2.72G      1.786      2.717      2.665      1.466         11        640:  25%|██▌       | 5/20 [00:01<00:03,  4.66it/s]\n",
      "      11/20      2.72G      1.738      2.773      2.694      1.453          8        640:  30%|███       | 6/20 [00:01<00:02,  5.27it/s]\n",
      "      11/20      2.72G      1.723      2.823      2.726      1.454         10        640:  35%|███▌      | 7/20 [00:01<00:02,  5.73it/s]\n",
      "      11/20      2.72G      1.728       2.86      2.674      1.486         13        640:  40%|████      | 8/20 [00:01<00:02,  5.92it/s]\n",
      "      11/20      2.72G       1.71      2.824      2.703      1.463         10        640:  45%|████▌     | 9/20 [00:01<00:01,  6.22it/s]\n",
      "      11/20      2.72G      1.777      2.875      2.779      1.484          5        640:  50%|█████     | 10/20 [00:01<00:01,  6.44it/s]\n",
      "      11/20      2.72G        1.8      2.892      2.871      1.499          6        640:  55%|█████▌    | 11/20 [00:02<00:01,  6.60it/s]\n",
      "      11/20      2.72G      1.783      2.857      2.908      1.492          4        640:  60%|██████    | 12/20 [00:02<00:01,  6.48it/s]\n",
      "      11/20      2.72G      1.813      2.875      2.893      1.519         11        640:  65%|██████▌   | 13/20 [00:02<00:01,  6.64it/s]\n",
      "      11/20      2.72G      1.799      2.863      2.934      1.523          4        640:  70%|███████   | 14/20 [00:02<00:00,  6.76it/s]\n",
      "      11/20      2.72G      1.785      2.804      2.902      1.513          7        640:  75%|███████▌  | 15/20 [00:02<00:00,  6.84it/s]\n",
      "      11/20      2.72G      1.779      2.781      2.885      1.508         12        640:  80%|████████  | 16/20 [00:02<00:00,  6.69it/s]\n",
      "      11/20      2.72G      1.771      2.766      2.834      1.509         10        640:  85%|████████▌ | 17/20 [00:03<00:00,  6.80it/s]\n",
      "      11/20      2.72G      1.769      2.733      2.814        1.5          8        640:  90%|█████████ | 18/20 [00:03<00:00,  6.85it/s]\n",
      "      11/20      2.72G      1.773      2.764      2.807      1.503          8        640:  95%|█████████▌| 19/20 [00:03<00:00,  6.88it/s]\n",
      "      11/20      2.72G      1.773      2.797      2.788      1.507          4        640: 100%|██████████| 20/20 [00:03<00:00,  5.90it/s]\n",
      "                 Class     Images  Instances      Box(P          R      mAP50  mAP50-95)     Mask(P          R      mAP50  mAP50-95):   0%|          | 0/4 [00:00<?, ?it/s]\n",
      "                 Class     Images  Instances      Box(P          R      mAP50  mAP50-95)     Mask(P          R      mAP50  mAP50-95):  25%|██▌       | 1/4 [00:00<00:00,  7.51it/s]\n",
      "                 Class     Images  Instances      Box(P          R      mAP50  mAP50-95)     Mask(P          R      mAP50  mAP50-95):  50%|█████     | 2/4 [00:00<00:00,  6.92it/s]\n",
      "                 Class     Images  Instances      Box(P          R      mAP50  mAP50-95)     Mask(P          R      mAP50  mAP50-95):  75%|███████▌  | 3/4 [00:00<00:00,  6.83it/s]\n"
     ]
    },
    {
     "name": "stdout",
     "output_type": "stream",
     "text": [
      "\u001b[36m(_tune pid=138387)\u001b[0m                    all        125         79       0.63      0.345      0.387      0.176       0.65      0.405      0.405      0.184\n"
     ]
    },
    {
     "name": "stderr",
     "output_type": "stream",
     "text": [
      "                 Class     Images  Instances      Box(P          R      mAP50  mAP50-95)     Mask(P          R      mAP50  mAP50-95): 100%|██████████| 4/4 [00:00<00:00,  7.07it/s]\n"
     ]
    },
    {
     "name": "stdout",
     "output_type": "stream",
     "text": [
      "\u001b[36m(_tune pid=138387)\u001b[0m \n",
      "\u001b[36m(_tune pid=138387)\u001b[0m       Epoch    GPU_mem   box_loss   seg_loss   cls_loss   dfl_loss  Instances       Size\n"
     ]
    },
    {
     "name": "stderr",
     "output_type": "stream",
     "text": [
      "  0%|          | 0/20 [00:00<?, ?it/s]\n",
      "      12/20      2.72G      2.183      4.737      5.137      1.815          4        640:   5%|▌         | 1/20 [00:00<00:02,  7.11it/s]\n",
      "      12/20      2.72G      2.055       3.91      3.982      1.728          9        640:  10%|█         | 2/20 [00:00<00:02,  7.06it/s]\n",
      "      12/20      2.72G      2.003      3.609      3.603      1.691         11        640:  15%|█▌        | 3/20 [00:00<00:02,  7.02it/s]\n",
      "      12/20      2.72G      2.017      3.525      3.514      1.716          7        640:  20%|██        | 4/20 [00:00<00:02,  6.75it/s]\n",
      "      12/20      2.72G      1.946       3.28      3.305      1.664         11        640:  25%|██▌       | 5/20 [00:00<00:02,  6.84it/s]\n",
      "      12/20      2.72G      1.942      3.179      3.236      1.686          8        640:  30%|███       | 6/20 [00:00<00:02,  6.91it/s]\n",
      "      12/20      2.72G      1.932      3.112      3.189      1.688          6        640:  35%|███▌      | 7/20 [00:01<00:01,  6.96it/s]\n",
      "      12/20      2.72G      1.917      3.031       3.14      1.665         10        640:  40%|████      | 8/20 [00:01<00:01,  6.76it/s]\n",
      "      12/20      2.72G      1.928      2.966      3.108      1.671          9        640:  45%|████▌     | 9/20 [00:01<00:01,  6.86it/s]\n",
      "      12/20      2.72G      1.899      2.985       3.07      1.646          8        640:  50%|█████     | 10/20 [00:01<00:01,  6.91it/s]\n",
      "      12/20      2.72G      1.885      2.947      3.006      1.626         12        640:  55%|█████▌    | 11/20 [00:01<00:01,  6.93it/s]\n",
      "      12/20      2.72G      1.884      2.953      2.957      1.623         11        640:  60%|██████    | 12/20 [00:01<00:01,  6.75it/s]\n",
      "      12/20      2.72G      1.838      2.939      2.866      1.596         14        640:  65%|██████▌   | 13/20 [00:01<00:01,  6.82it/s]\n",
      "      12/20      2.72G      1.849      2.945      2.844      1.601          9        640:  70%|███████   | 14/20 [00:02<00:00,  6.87it/s]\n",
      "      12/20      2.72G      1.834      2.918      2.799      1.599          9        640:  75%|███████▌  | 15/20 [00:02<00:00,  6.93it/s]\n",
      "      12/20      2.72G      1.844      2.931      2.759      1.601         13        640:  80%|████████  | 16/20 [00:02<00:00,  6.72it/s]\n",
      "      12/20      2.72G      1.846      2.895      2.773      1.605          6        640:  85%|████████▌ | 17/20 [00:02<00:00,  6.83it/s]\n",
      "      12/20      2.72G      1.839      2.909      2.758      1.615          6        640:  90%|█████████ | 18/20 [00:02<00:00,  6.90it/s]\n",
      "      12/20      2.72G      1.842      2.913      2.746      1.617         14        640:  95%|█████████▌| 19/20 [00:02<00:00,  6.94it/s]\n",
      "      12/20      2.73G      1.842      2.892        2.7      1.618          4        640: 100%|██████████| 20/20 [00:02<00:00,  7.04it/s]\n",
      "                 Class     Images  Instances      Box(P          R      mAP50  mAP50-95)     Mask(P          R      mAP50  mAP50-95):   0%|          | 0/4 [00:00<?, ?it/s]\n",
      "                 Class     Images  Instances      Box(P          R      mAP50  mAP50-95)     Mask(P          R      mAP50  mAP50-95):  25%|██▌       | 1/4 [00:00<00:00,  7.66it/s]\n",
      "                 Class     Images  Instances      Box(P          R      mAP50  mAP50-95)     Mask(P          R      mAP50  mAP50-95):  50%|█████     | 2/4 [00:00<00:00,  7.00it/s]\n",
      "                 Class     Images  Instances      Box(P          R      mAP50  mAP50-95)     Mask(P          R      mAP50  mAP50-95):  75%|███████▌  | 3/4 [00:00<00:00,  6.93it/s]\n"
     ]
    },
    {
     "name": "stdout",
     "output_type": "stream",
     "text": [
      "\u001b[36m(_tune pid=138387)\u001b[0m                    all        125         79      0.597      0.367      0.388      0.207       0.62       0.38      0.402      0.216\n"
     ]
    },
    {
     "name": "stderr",
     "output_type": "stream",
     "text": [
      "                 Class     Images  Instances      Box(P          R      mAP50  mAP50-95)     Mask(P          R      mAP50  mAP50-95): 100%|██████████| 4/4 [00:00<00:00,  7.18it/s]\n"
     ]
    },
    {
     "name": "stdout",
     "output_type": "stream",
     "text": [
      "\u001b[36m(_tune pid=138387)\u001b[0m \n",
      "\u001b[36m(_tune pid=138387)\u001b[0m       Epoch    GPU_mem   box_loss   seg_loss   cls_loss   dfl_loss  Instances       Size\n"
     ]
    },
    {
     "name": "stderr",
     "output_type": "stream",
     "text": [
      "  0%|          | 0/20 [00:00<?, ?it/s]\n",
      "      13/20      2.73G      1.519       1.83      1.928      1.481          9        640:   5%|▌         | 1/20 [00:00<00:02,  7.07it/s]\n",
      "      13/20      2.73G       1.79      2.391      2.342      1.632          9        640:  10%|█         | 2/20 [00:00<00:02,  7.07it/s]\n",
      "      13/20      2.73G       1.67      2.417      2.173      1.523          8        640:  15%|█▌        | 3/20 [00:00<00:02,  7.05it/s]\n",
      "      13/20      2.73G      1.691      2.315      2.225      1.547          8        640:  20%|██        | 4/20 [00:00<00:02,  6.78it/s]\n",
      "      13/20      2.73G      1.712      2.349      2.246      1.528          6        640:  25%|██▌       | 5/20 [00:00<00:02,  6.89it/s]\n",
      "      13/20      2.73G      1.708      2.387      2.255      1.508         11        640:  30%|███       | 6/20 [00:00<00:02,  6.93it/s]\n",
      "      13/20      2.73G      1.711      2.489      2.322      1.526          7        640:  35%|███▌      | 7/20 [00:01<00:01,  6.97it/s]\n",
      "      13/20      2.73G      1.708      2.542      2.677      1.501          3        640:  40%|████      | 8/20 [00:01<00:01,  6.79it/s]\n",
      "      13/20      2.73G      1.678      2.542      2.714       1.48         12        640:  45%|████▌     | 9/20 [00:01<00:01,  6.85it/s]\n",
      "      13/20      2.73G      1.671      2.592      2.778      1.473         14        640:  50%|█████     | 10/20 [00:01<00:01,  6.88it/s]\n",
      "      13/20      2.73G      1.668      2.547      2.841      1.461          7        640:  55%|█████▌    | 11/20 [00:01<00:01,  6.92it/s]\n",
      "      13/20      2.73G      1.673      2.603      2.863      1.471         15        640:  60%|██████    | 12/20 [00:01<00:01,  6.71it/s]\n",
      "      13/20      2.73G      1.661      2.576      2.838      1.469         11        640:  65%|██████▌   | 13/20 [00:01<00:01,  6.79it/s]\n",
      "      13/20      2.73G       1.64       2.56      2.831      1.466          8        640:  70%|███████   | 14/20 [00:02<00:00,  6.88it/s]\n",
      "      13/20      2.73G      1.632      2.568      2.826      1.467         13        640:  75%|███████▌  | 15/20 [00:02<00:00,  6.82it/s]\n",
      "      13/20      2.73G      1.664      2.626      3.028      1.504          3        640:  80%|████████  | 16/20 [00:02<00:00,  6.72it/s]\n",
      "      13/20      2.73G      1.658      2.639       3.02      1.518          6        640:  85%|████████▌ | 17/20 [00:02<00:00,  6.83it/s]\n",
      "      13/20      2.73G      1.653      2.613      2.984      1.513         15        640:  90%|█████████ | 18/20 [00:02<00:00,  6.88it/s]\n",
      "      13/20      2.73G      1.651      2.622      2.965      1.511         11        640:  95%|█████████▌| 19/20 [00:02<00:00,  6.94it/s]\n",
      "      13/20      2.73G      1.626      2.597      2.925      1.499          3        640: 100%|██████████| 20/20 [00:02<00:00,  7.04it/s]\n",
      "                 Class     Images  Instances      Box(P          R      mAP50  mAP50-95)     Mask(P          R      mAP50  mAP50-95):   0%|          | 0/4 [00:00<?, ?it/s]\n",
      "                 Class     Images  Instances      Box(P          R      mAP50  mAP50-95)     Mask(P          R      mAP50  mAP50-95):  25%|██▌       | 1/4 [00:00<00:00,  7.79it/s]\n",
      "                 Class     Images  Instances      Box(P          R      mAP50  mAP50-95)     Mask(P          R      mAP50  mAP50-95):  50%|█████     | 2/4 [00:00<00:00,  7.06it/s]\n",
      "                 Class     Images  Instances      Box(P          R      mAP50  mAP50-95)     Mask(P          R      mAP50  mAP50-95):  75%|███████▌  | 3/4 [00:00<00:00,  7.08it/s]\n",
      "                 Class     Images  Instances      Box(P          R      mAP50  mAP50-95)     Mask(P          R      mAP50  mAP50-95): 100%|██████████| 4/4 [00:00<00:00,  7.35it/s]\n"
     ]
    },
    {
     "name": "stdout",
     "output_type": "stream",
     "text": [
      "\u001b[36m(_tune pid=138387)\u001b[0m                    all        125         79      0.586      0.342      0.396      0.198      0.591      0.347        0.4      0.227\n",
      "\u001b[36m(_tune pid=138387)\u001b[0m \n",
      "\u001b[36m(_tune pid=138387)\u001b[0m       Epoch    GPU_mem   box_loss   seg_loss   cls_loss   dfl_loss  Instances       Size\n"
     ]
    },
    {
     "name": "stderr",
     "output_type": "stream",
     "text": [
      "  0%|          | 0/20 [00:00<?, ?it/s]\n",
      "      14/20      2.73G      1.569      2.244      2.216      1.519         11        640:   5%|▌         | 1/20 [00:00<00:02,  6.44it/s]\n",
      "      14/20      2.73G      1.622      2.424      2.532      1.538          9        640:  10%|█         | 2/20 [00:00<00:02,  6.74it/s]\n",
      "      14/20      2.73G      1.566      2.421      2.482      1.461          8        640:  15%|█▌        | 3/20 [00:00<00:02,  6.88it/s]\n",
      "      14/20      2.73G      1.601      2.434      2.365      1.449         10        640:  20%|██        | 4/20 [00:00<00:02,  6.68it/s]\n",
      "      14/20      2.73G      1.633      2.457      2.313      1.483         15        640:  25%|██▌       | 5/20 [00:00<00:02,  6.81it/s]\n",
      "      14/20      2.73G      1.638      2.478       2.31      1.463         11        640:  30%|███       | 6/20 [00:00<00:02,  6.88it/s]\n",
      "      14/20      2.73G      1.672      2.595      2.365      1.485         11        640:  35%|███▌      | 7/20 [00:01<00:01,  6.94it/s]\n",
      "      14/20      2.73G       1.74       2.63      2.411      1.517         12        640:  40%|████      | 8/20 [00:01<00:01,  6.76it/s]\n",
      "      14/20      2.73G      1.737      2.652      2.406      1.512          9        640:  45%|████▌     | 9/20 [00:01<00:01,  6.85it/s]\n",
      "      14/20      2.73G      1.711      2.613      2.355       1.51         10        640:  50%|█████     | 10/20 [00:01<00:01,  6.92it/s]\n",
      "      14/20      2.73G      1.742      2.571      2.404      1.512          6        640:  55%|█████▌    | 11/20 [00:01<00:01,  6.97it/s]\n",
      "      14/20      2.73G      1.735      2.562      2.403      1.506         10        640:  60%|██████    | 12/20 [00:01<00:01,  6.80it/s]\n",
      "      14/20      2.73G      1.707      2.617      2.417      1.476          6        640:  65%|██████▌   | 13/20 [00:01<00:01,  6.90it/s]\n",
      "      14/20      2.73G       1.69      2.602      2.387      1.477          7        640:  70%|███████   | 14/20 [00:02<00:00,  6.95it/s]\n",
      "      14/20      2.73G      1.685      2.565       2.37      1.465          7        640:  75%|███████▌  | 15/20 [00:02<00:00,  7.00it/s]\n",
      "      14/20      2.73G      1.689      2.576       2.39      1.469          7        640:  80%|████████  | 16/20 [00:02<00:00,  6.82it/s]\n",
      "      14/20      2.73G      1.672      2.631      2.409      1.468          6        640:  85%|████████▌ | 17/20 [00:02<00:00,  6.91it/s]\n",
      "      14/20      2.73G      1.681      2.649       2.41      1.478          7        640:  90%|█████████ | 18/20 [00:02<00:00,  6.97it/s]\n",
      "      14/20      2.75G      1.671      2.651      2.412      1.473          6        640: 100%|██████████| 20/20 [00:02<00:00,  7.06it/s]\n",
      "                 Class     Images  Instances      Box(P          R      mAP50  mAP50-95)     Mask(P          R      mAP50  mAP50-95):   0%|          | 0/4 [00:00<?, ?it/s]\n",
      "                 Class     Images  Instances      Box(P          R      mAP50  mAP50-95)     Mask(P          R      mAP50  mAP50-95):  25%|██▌       | 1/4 [00:00<00:00,  7.74it/s]\n",
      "                 Class     Images  Instances      Box(P          R      mAP50  mAP50-95)     Mask(P          R      mAP50  mAP50-95):  50%|█████     | 2/4 [00:00<00:00,  7.01it/s]\n",
      "                 Class     Images  Instances      Box(P          R      mAP50  mAP50-95)     Mask(P          R      mAP50  mAP50-95):  75%|███████▌  | 3/4 [00:00<00:00,  7.17it/s]\n",
      "                 Class     Images  Instances      Box(P          R      mAP50  mAP50-95)     Mask(P          R      mAP50  mAP50-95): 100%|██████████| 4/4 [00:00<00:00,  7.41it/s]\n"
     ]
    },
    {
     "name": "stdout",
     "output_type": "stream",
     "text": [
      "\u001b[36m(_tune pid=138387)\u001b[0m                    all        125         79      0.232      0.215      0.118     0.0702      0.242      0.165      0.107     0.0562\n",
      "\u001b[36m(_tune pid=138387)\u001b[0m \n",
      "\u001b[36m(_tune pid=138387)\u001b[0m       Epoch    GPU_mem   box_loss   seg_loss   cls_loss   dfl_loss  Instances       Size\n"
     ]
    },
    {
     "name": "stderr",
     "output_type": "stream",
     "text": [
      "  0%|          | 0/20 [00:00<?, ?it/s]\n",
      "      15/20      2.75G      1.716      2.843        2.1      1.511         12        640:   5%|▌         | 1/20 [00:00<00:02,  7.08it/s]\n",
      "      15/20      2.75G      1.628      2.462      1.877      1.492          9        640:  10%|█         | 2/20 [00:00<00:02,  7.06it/s]\n",
      "      15/20      2.75G      1.561      2.431      1.797      1.495         11        640:  15%|█▌        | 3/20 [00:00<00:02,  7.04it/s]\n",
      "      15/20      2.75G       1.52      2.312      1.822      1.456          6        640:  20%|██        | 4/20 [00:00<00:02,  6.75it/s]\n",
      "      15/20      2.75G      1.606      2.423      2.008      1.487          8        640:  25%|██▌       | 5/20 [00:00<00:02,  6.88it/s]\n",
      "      15/20      2.75G      1.656      2.444       2.06      1.507          7        640:  30%|███       | 6/20 [00:00<00:02,  6.95it/s]\n",
      "      15/20      2.75G       1.69      2.575      2.144      1.513         11        640:  35%|███▌      | 7/20 [00:01<00:01,  6.98it/s]\n",
      "      15/20      2.75G      1.698      2.564      2.198      1.514         12        640:  40%|████      | 8/20 [00:01<00:01,  6.78it/s]\n",
      "      15/20      2.75G      1.711       2.57      2.241      1.502          6        640:  45%|████▌     | 9/20 [00:01<00:01,  6.88it/s]\n",
      "      15/20      2.75G      1.672      2.571      2.235       1.49          7        640:  50%|█████     | 10/20 [00:01<00:01,  6.94it/s]\n",
      "      15/20      2.75G      1.681       2.59      2.252      1.498         12        640:  55%|█████▌    | 11/20 [00:01<00:01,  6.98it/s]\n",
      "      15/20      2.75G      1.684      2.582      2.323       1.52          5        640:  60%|██████    | 12/20 [00:01<00:01,  6.78it/s]\n",
      "      15/20      2.75G      1.679       2.56      2.303      1.508          6        640:  65%|██████▌   | 13/20 [00:01<00:01,  6.88it/s]\n",
      "      15/20      2.75G      1.695      2.527      2.294      1.508         12        640:  70%|███████   | 14/20 [00:02<00:00,  6.92it/s]\n",
      "      15/20      2.75G      1.706      2.553      2.314      1.516          5        640:  75%|███████▌  | 15/20 [00:02<00:00,  6.97it/s]\n",
      "      15/20      2.75G      1.721      2.557      2.318      1.524         12        640:  80%|████████  | 16/20 [00:02<00:00,  6.79it/s]\n",
      "      15/20      2.75G      1.694      2.538      2.292      1.505         10        640:  85%|████████▌ | 17/20 [00:02<00:00,  6.87it/s]\n",
      "      15/20      2.75G      1.679       2.51      2.259      1.496         11        640:  90%|█████████ | 18/20 [00:02<00:00,  6.92it/s]\n",
      "      15/20      2.75G      1.688      2.512      2.268        1.5         14        640:  95%|█████████▌| 19/20 [00:02<00:00,  6.96it/s]\n",
      "      15/20      2.76G      1.708      2.502      2.302      1.506          3        640: 100%|██████████| 20/20 [00:02<00:00,  7.09it/s]\n",
      "                 Class     Images  Instances      Box(P          R      mAP50  mAP50-95)     Mask(P          R      mAP50  mAP50-95):   0%|          | 0/4 [00:00<?, ?it/s]\n",
      "                 Class     Images  Instances      Box(P          R      mAP50  mAP50-95)     Mask(P          R      mAP50  mAP50-95):  25%|██▌       | 1/4 [00:00<00:00,  7.90it/s]\n",
      "                 Class     Images  Instances      Box(P          R      mAP50  mAP50-95)     Mask(P          R      mAP50  mAP50-95):  50%|█████     | 2/4 [00:00<00:00,  7.15it/s]\n",
      "                 Class     Images  Instances      Box(P          R      mAP50  mAP50-95)     Mask(P          R      mAP50  mAP50-95):  75%|███████▌  | 3/4 [00:00<00:00,  7.13it/s]\n"
     ]
    },
    {
     "name": "stdout",
     "output_type": "stream",
     "text": [
      "\u001b[36m(_tune pid=138387)\u001b[0m                    all        125         79      0.566      0.278      0.279       0.15      0.619      0.304        0.3       0.17\n"
     ]
    },
    {
     "name": "stderr",
     "output_type": "stream",
     "text": [
      "                 Class     Images  Instances      Box(P          R      mAP50  mAP50-95)     Mask(P          R      mAP50  mAP50-95): 100%|██████████| 4/4 [00:00<00:00,  7.44it/s]\n"
     ]
    },
    {
     "name": "stdout",
     "output_type": "stream",
     "text": [
      "\u001b[36m(_tune pid=138387)\u001b[0m \n",
      "\u001b[36m(_tune pid=138387)\u001b[0m       Epoch    GPU_mem   box_loss   seg_loss   cls_loss   dfl_loss  Instances       Size\n"
     ]
    },
    {
     "name": "stderr",
     "output_type": "stream",
     "text": [
      "  0%|          | 0/20 [00:00<?, ?it/s]\n",
      "      16/20      2.76G      1.617      2.604       1.89      1.525         10        640:   5%|▌         | 1/20 [00:00<00:02,  6.74it/s]\n",
      "      16/20      2.76G      1.597      2.572      1.974      1.415          9        640:  10%|█         | 2/20 [00:00<00:02,  6.92it/s]\n",
      "      16/20      2.76G      1.583      2.549      1.956      1.457          9        640:  15%|█▌        | 3/20 [00:00<00:02,  7.00it/s]\n",
      "      16/20      2.76G       1.58      2.631      1.911      1.477          7        640:  20%|██        | 4/20 [00:00<00:02,  6.76it/s]\n",
      "      16/20      2.76G      1.534      2.646      1.941      1.439          7        640:  25%|██▌       | 5/20 [00:00<00:02,  6.90it/s]\n",
      "      16/20      2.76G      1.486      2.598      1.926      1.394         11        640:  30%|███       | 6/20 [00:00<00:02,  6.95it/s]\n",
      "      16/20      2.76G      1.495      2.502      1.911      1.382          7        640:  35%|███▌      | 7/20 [00:01<00:01,  6.99it/s]\n",
      "      16/20      2.76G      1.516      2.484      1.888        1.4          7        640:  40%|████      | 8/20 [00:01<00:01,  6.81it/s]\n",
      "      16/20      2.76G      1.487       2.48      1.863      1.402          9        640:  45%|████▌     | 9/20 [00:01<00:01,  6.89it/s]\n",
      "      16/20      2.76G      1.479      2.424      1.832      1.396          9        640:  50%|█████     | 10/20 [00:01<00:01,  6.95it/s]\n",
      "      16/20      2.76G      1.512       2.44      1.849       1.41         17        640:  55%|█████▌    | 11/20 [00:01<00:01,  6.97it/s]\n",
      "      16/20      2.76G      1.495      2.413      1.839      1.397          6        640:  60%|██████    | 12/20 [00:01<00:01,  6.80it/s]\n",
      "      16/20      2.76G      1.512      2.371      1.861      1.394          8        640:  65%|██████▌   | 13/20 [00:01<00:01,  6.87it/s]\n",
      "      16/20      2.76G      1.481      2.353       1.86      1.384          9        640:  70%|███████   | 14/20 [00:02<00:00,  6.92it/s]\n",
      "      16/20      2.76G      1.484      2.342      1.902      1.388         12        640:  75%|███████▌  | 15/20 [00:02<00:00,  6.97it/s]\n",
      "      16/20      2.76G      1.506       2.35      1.905      1.397         12        640:  80%|████████  | 16/20 [00:02<00:00,  6.78it/s]\n",
      "      16/20      2.76G      1.506      2.331      1.898      1.397         13        640:  85%|████████▌ | 17/20 [00:02<00:00,  6.86it/s]\n",
      "      16/20      2.76G      1.513      2.312      1.901      1.398         10        640:  90%|█████████ | 18/20 [00:02<00:00,  6.92it/s]\n",
      "      16/20      2.76G       1.51      2.286      1.906      1.392          6        640:  95%|█████████▌| 19/20 [00:02<00:00,  6.98it/s]\n",
      "      16/20      2.77G       1.52      2.322      1.908      1.399          4        640: 100%|██████████| 20/20 [00:02<00:00,  7.08it/s]\n",
      "                 Class     Images  Instances      Box(P          R      mAP50  mAP50-95)     Mask(P          R      mAP50  mAP50-95):   0%|          | 0/4 [00:00<?, ?it/s]\n",
      "                 Class     Images  Instances      Box(P          R      mAP50  mAP50-95)     Mask(P          R      mAP50  mAP50-95):  25%|██▌       | 1/4 [00:00<00:00,  8.16it/s]\n",
      "                 Class     Images  Instances      Box(P          R      mAP50  mAP50-95)     Mask(P          R      mAP50  mAP50-95):  50%|█████     | 2/4 [00:00<00:00,  7.37it/s]\n",
      "                 Class     Images  Instances      Box(P          R      mAP50  mAP50-95)     Mask(P          R      mAP50  mAP50-95):  75%|███████▌  | 3/4 [00:00<00:00,  7.33it/s]\n",
      "                 Class     Images  Instances      Box(P          R      mAP50  mAP50-95)     Mask(P          R      mAP50  mAP50-95): 100%|██████████| 4/4 [00:00<00:00,  7.61it/s]\n"
     ]
    },
    {
     "name": "stdout",
     "output_type": "stream",
     "text": [
      "\u001b[36m(_tune pid=138387)\u001b[0m                    all        125         79      0.804      0.342      0.456      0.233      0.804      0.342      0.453      0.229\n",
      "\u001b[36m(_tune pid=138387)\u001b[0m \n",
      "\u001b[36m(_tune pid=138387)\u001b[0m       Epoch    GPU_mem   box_loss   seg_loss   cls_loss   dfl_loss  Instances       Size\n"
     ]
    },
    {
     "name": "stderr",
     "output_type": "stream",
     "text": [
      "  0%|          | 0/20 [00:00<?, ?it/s]\n",
      "      17/20      2.77G       1.29      2.257      1.899       1.22          8        640:   5%|▌         | 1/20 [00:00<00:02,  7.08it/s]\n",
      "      17/20      2.77G      1.033      1.734       1.55      1.083          4        640:  10%|█         | 2/20 [00:00<00:02,  7.09it/s]\n",
      "      17/20      2.77G      1.193        2.1      1.541      1.155          9        640:  15%|█▌        | 3/20 [00:00<00:02,  7.08it/s]\n",
      "      17/20      2.77G       1.29      2.152      1.589      1.196         13        640:  20%|██        | 4/20 [00:00<00:02,  6.79it/s]\n",
      "      17/20      2.77G      1.308      2.163      1.688       1.23          7        640:  25%|██▌       | 5/20 [00:00<00:02,  6.91it/s]\n",
      "      17/20      2.77G      1.366      2.173      1.673      1.255         14        640:  30%|███       | 6/20 [00:00<00:02,  6.93it/s]\n",
      "      17/20      2.77G      1.453      2.197      1.709      1.296         11        640:  35%|███▌      | 7/20 [00:01<00:01,  6.97it/s]\n",
      "      17/20      2.77G      1.466      2.214      1.689      1.296          7        640:  40%|████      | 8/20 [00:01<00:01,  6.79it/s]\n",
      "      17/20      2.77G      1.491      2.275      1.729      1.321         15        640:  45%|████▌     | 9/20 [00:01<00:01,  6.82it/s]\n",
      "      17/20      2.77G      1.489      2.227        1.7       1.32         13        640:  50%|█████     | 10/20 [00:01<00:01,  6.87it/s]\n",
      "      17/20      2.77G      1.502      2.225      1.707      1.315          9        640:  55%|█████▌    | 11/20 [00:01<00:01,  6.95it/s]\n",
      "      17/20      2.77G       1.51      2.243      1.748      1.318         10        640:  60%|██████    | 12/20 [00:01<00:01,  6.78it/s]\n",
      "      17/20      2.77G      1.486      2.201      1.732      1.303          7        640:  65%|██████▌   | 13/20 [00:01<00:01,  6.88it/s]\n",
      "      17/20      2.77G      1.498      2.181      1.754      1.325          7        640:  70%|███████   | 14/20 [00:02<00:00,  6.94it/s]\n",
      "      17/20      2.77G      1.529      2.244      1.755      1.343         12        640:  75%|███████▌  | 15/20 [00:02<00:00,  6.98it/s]\n",
      "      17/20      2.77G      1.529      2.299      1.792      1.347         12        640:  80%|████████  | 16/20 [00:02<00:00,  6.79it/s]\n",
      "      17/20      2.77G      1.525      2.316      1.791      1.348          9        640:  85%|████████▌ | 17/20 [00:02<00:00,  6.84it/s]\n",
      "      17/20      2.77G      1.528      2.295      1.779      1.349          6        640:  90%|█████████ | 18/20 [00:02<00:00,  6.92it/s]\n",
      "      17/20      2.77G       1.52      2.256      1.762      1.338          5        640:  95%|█████████▌| 19/20 [00:02<00:00,  6.98it/s]\n",
      "      17/20      2.78G      1.593      2.271      1.897       1.36          1        640: 100%|██████████| 20/20 [00:02<00:00,  7.09it/s]\n",
      "                 Class     Images  Instances      Box(P          R      mAP50  mAP50-95)     Mask(P          R      mAP50  mAP50-95):   0%|          | 0/4 [00:00<?, ?it/s]\n",
      "                 Class     Images  Instances      Box(P          R      mAP50  mAP50-95)     Mask(P          R      mAP50  mAP50-95):  25%|██▌       | 1/4 [00:00<00:00,  7.85it/s]\n",
      "                 Class     Images  Instances      Box(P          R      mAP50  mAP50-95)     Mask(P          R      mAP50  mAP50-95):  50%|█████     | 2/4 [00:00<00:00,  7.15it/s]\n",
      "                 Class     Images  Instances      Box(P          R      mAP50  mAP50-95)     Mask(P          R      mAP50  mAP50-95):  75%|███████▌  | 3/4 [00:00<00:00,  7.20it/s]\n",
      "                 Class     Images  Instances      Box(P          R      mAP50  mAP50-95)     Mask(P          R      mAP50  mAP50-95): 100%|██████████| 4/4 [00:00<00:00,  7.43it/s]\n"
     ]
    },
    {
     "name": "stdout",
     "output_type": "stream",
     "text": [
      "\u001b[36m(_tune pid=138387)\u001b[0m                    all        125         79      0.679      0.454      0.552       0.29      0.724      0.468      0.567      0.291\n",
      "\u001b[36m(_tune pid=138387)\u001b[0m \n",
      "\u001b[36m(_tune pid=138387)\u001b[0m       Epoch    GPU_mem   box_loss   seg_loss   cls_loss   dfl_loss  Instances       Size\n"
     ]
    },
    {
     "name": "stderr",
     "output_type": "stream",
     "text": [
      "  0%|          | 0/20 [00:00<?, ?it/s]\n",
      "      18/20      2.78G      1.599      2.393      1.965      1.395          8        640:   5%|▌         | 1/20 [00:00<00:02,  6.53it/s]\n",
      "      18/20      2.78G        1.6      2.544      1.903       1.38         11        640:  10%|█         | 2/20 [00:00<00:02,  6.77it/s]\n",
      "      18/20      2.78G      1.606      2.345      1.852      1.338         10        640:  15%|█▌        | 3/20 [00:00<00:02,  6.91it/s]\n",
      "      18/20      2.78G      1.511      2.307      1.779      1.338          8        640:  20%|██        | 4/20 [00:00<00:02,  6.71it/s]\n",
      "      18/20      2.78G      1.505      2.266      1.833       1.33         10        640:  25%|██▌       | 5/20 [00:00<00:02,  6.80it/s]\n",
      "      18/20      2.78G      1.517      2.098      1.789      1.335          5        640:  30%|███       | 6/20 [00:00<00:02,  6.91it/s]\n",
      "      18/20      2.78G      1.507      2.086      1.777      1.338         11        640:  35%|███▌      | 7/20 [00:01<00:01,  6.95it/s]\n",
      "      18/20      2.78G      1.489      2.037      1.752      1.329         10        640:  40%|████      | 8/20 [00:01<00:01,  6.75it/s]\n",
      "      18/20      2.78G      1.473      2.078       1.79      1.328         10        640:  45%|████▌     | 9/20 [00:01<00:01,  6.85it/s]\n",
      "      18/20      2.78G      1.473      2.081      1.777      1.311          6        640:  50%|█████     | 10/20 [00:01<00:01,  6.92it/s]\n",
      "      18/20      2.78G      1.481      2.095      1.772      1.327         13        640:  55%|█████▌    | 11/20 [00:01<00:01,  6.95it/s]\n",
      "      18/20      2.78G      1.482      2.046      1.777      1.314          6        640:  60%|██████    | 12/20 [00:01<00:01,  6.79it/s]\n",
      "      18/20      2.78G       1.49      2.065       1.78      1.314         15        640:  65%|██████▌   | 13/20 [00:01<00:01,  6.81it/s]\n",
      "      18/20      2.78G      1.462      2.042      1.753      1.303          3        640:  70%|███████   | 14/20 [00:02<00:00,  6.91it/s]\n",
      "      18/20      2.78G      1.478      2.028      1.727      1.312         13        640:  75%|███████▌  | 15/20 [00:02<00:00,  6.95it/s]\n",
      "      18/20      2.78G      1.501      2.077      1.772      1.326          6        640:  80%|████████  | 16/20 [00:02<00:00,  6.79it/s]\n",
      "      18/20      2.78G      1.516      2.115      1.786      1.338          8        640:  85%|████████▌ | 17/20 [00:02<00:00,  6.88it/s]\n",
      "      18/20      2.78G      1.497      2.093      1.756      1.329         10        640:  90%|█████████ | 18/20 [00:02<00:00,  6.88it/s]\n",
      "      18/20      2.78G      1.505      2.098      1.751       1.34         11        640:  95%|█████████▌| 19/20 [00:02<00:00,  6.94it/s]\n",
      "      18/20      2.79G      1.552      2.131      1.762      1.382          3        640: 100%|██████████| 20/20 [00:02<00:00,  7.04it/s]\n",
      "                 Class     Images  Instances      Box(P          R      mAP50  mAP50-95)     Mask(P          R      mAP50  mAP50-95):   0%|          | 0/4 [00:00<?, ?it/s]\n",
      "                 Class     Images  Instances      Box(P          R      mAP50  mAP50-95)     Mask(P          R      mAP50  mAP50-95):  25%|██▌       | 1/4 [00:00<00:00,  8.14it/s]\n",
      "                 Class     Images  Instances      Box(P          R      mAP50  mAP50-95)     Mask(P          R      mAP50  mAP50-95):  50%|█████     | 2/4 [00:00<00:00,  7.34it/s]\n",
      "                 Class     Images  Instances      Box(P          R      mAP50  mAP50-95)     Mask(P          R      mAP50  mAP50-95):  75%|███████▌  | 3/4 [00:00<00:00,  7.31it/s]\n",
      "                 Class     Images  Instances      Box(P          R      mAP50  mAP50-95)     Mask(P          R      mAP50  mAP50-95): 100%|██████████| 4/4 [00:00<00:00,  7.57it/s]\n"
     ]
    },
    {
     "name": "stdout",
     "output_type": "stream",
     "text": [
      "\u001b[36m(_tune pid=138387)\u001b[0m                    all        125         79       0.85      0.532      0.688      0.421      0.871      0.544      0.707      0.398\n",
      "\u001b[36m(_tune pid=138387)\u001b[0m \n",
      "\u001b[36m(_tune pid=138387)\u001b[0m       Epoch    GPU_mem   box_loss   seg_loss   cls_loss   dfl_loss  Instances       Size\n"
     ]
    },
    {
     "name": "stderr",
     "output_type": "stream",
     "text": [
      "  0%|          | 0/20 [00:00<?, ?it/s]\n",
      "      19/20      2.79G      1.243      1.932      1.336      1.144         10        640:   5%|▌         | 1/20 [00:00<00:02,  6.95it/s]\n",
      "      19/20      2.79G       1.47      2.233      1.826      1.332          7        640:  10%|█         | 2/20 [00:00<00:02,  7.03it/s]\n",
      "      19/20      2.79G       1.44      2.131       1.62      1.329          9        640:  15%|█▌        | 3/20 [00:00<00:02,  7.04it/s]\n",
      "      19/20      2.79G      1.432      2.032      1.685      1.295          7        640:  20%|██        | 4/20 [00:00<00:02,  6.80it/s]\n",
      "      19/20      2.79G      1.472      2.108      1.643       1.32         15        640:  25%|██▌       | 5/20 [00:00<00:02,  6.89it/s]\n",
      "      19/20      2.79G       1.46      2.081      1.587      1.333         13        640:  30%|███       | 6/20 [00:00<00:02,  6.95it/s]\n",
      "      19/20      2.79G       1.44      2.035      1.553      1.339          9        640:  35%|███▌      | 7/20 [00:01<00:01,  7.01it/s]\n",
      "      19/20      2.79G      1.445      2.032      1.557      1.342          7        640:  40%|████      | 8/20 [00:01<00:01,  6.81it/s]\n",
      "      19/20      2.79G      1.443      2.034      1.531      1.338         15        640:  45%|████▌     | 9/20 [00:01<00:01,  6.84it/s]\n",
      "      19/20      2.79G      1.448      2.054      1.555      1.344         15        640:  50%|█████     | 10/20 [00:01<00:01,  6.88it/s]\n",
      "      19/20      2.79G      1.419      2.036      1.556      1.325          8        640:  55%|█████▌    | 11/20 [00:01<00:01,  6.95it/s]\n",
      "      19/20      2.79G      1.435      2.087      1.624      1.337          8        640:  60%|██████    | 12/20 [00:01<00:01,  6.77it/s]\n",
      "      19/20      2.79G       1.43       2.07      1.605      1.339          9        640:  65%|██████▌   | 13/20 [00:01<00:01,  6.85it/s]\n",
      "      19/20      2.79G      1.422      2.062      1.585      1.325          8        640:  70%|███████   | 14/20 [00:02<00:00,  6.93it/s]\n",
      "      19/20      2.79G      1.405      2.008       1.57      1.305          4        640:  75%|███████▌  | 15/20 [00:02<00:00,  6.98it/s]\n",
      "      19/20      2.79G      1.394      1.984      1.544      1.296         12        640:  80%|████████  | 16/20 [00:02<00:00,  6.76it/s]\n",
      "      19/20      2.79G      1.407      2.002      1.567      1.298          5        640:  85%|████████▌ | 17/20 [00:02<00:00,  6.84it/s]\n",
      "      19/20      2.79G       1.43      1.999      1.581      1.305         10        640:  90%|█████████ | 18/20 [00:02<00:00,  6.90it/s]\n",
      "      19/20      2.79G      1.405          2      1.607      1.295          1        640: 100%|██████████| 20/20 [00:02<00:00,  7.08it/s]\n",
      "                 Class     Images  Instances      Box(P          R      mAP50  mAP50-95)     Mask(P          R      mAP50  mAP50-95):   0%|          | 0/4 [00:00<?, ?it/s]\n",
      "                 Class     Images  Instances      Box(P          R      mAP50  mAP50-95)     Mask(P          R      mAP50  mAP50-95):  25%|██▌       | 1/4 [00:00<00:00,  8.16it/s]\n",
      "                 Class     Images  Instances      Box(P          R      mAP50  mAP50-95)     Mask(P          R      mAP50  mAP50-95):  50%|█████     | 2/4 [00:00<00:00,  7.31it/s]\n",
      "                 Class     Images  Instances      Box(P          R      mAP50  mAP50-95)     Mask(P          R      mAP50  mAP50-95):  75%|███████▌  | 3/4 [00:00<00:00,  7.34it/s]\n"
     ]
    },
    {
     "name": "stdout",
     "output_type": "stream",
     "text": [
      "\u001b[36m(_tune pid=138387)\u001b[0m                    all        125         79      0.872      0.582      0.663      0.362      0.887      0.608      0.664      0.359\n",
      "\u001b[36m(_tune pid=138387)\u001b[0m \n",
      "\u001b[36m(_tune pid=138387)\u001b[0m       Epoch    GPU_mem   box_loss   seg_loss   cls_loss   dfl_loss  Instances       Size\n"
     ]
    },
    {
     "name": "stderr",
     "output_type": "stream",
     "text": [
      "                 Class     Images  Instances      Box(P          R      mAP50  mAP50-95)     Mask(P          R      mAP50  mAP50-95): 100%|██████████| 4/4 [00:00<00:00,  7.61it/s]\n",
      "  0%|          | 0/20 [00:00<?, ?it/s]\n",
      "      20/20      2.79G      1.542      1.476      1.359      1.334          8        640:   5%|▌         | 1/20 [00:00<00:02,  7.15it/s]\n",
      "      20/20      2.79G      1.523      1.496      1.423      1.367          6        640:  10%|█         | 2/20 [00:00<00:02,  7.12it/s]\n",
      "      20/20      2.79G      1.577      1.434      1.492       1.39          9        640:  15%|█▌        | 3/20 [00:00<00:02,  7.10it/s]\n",
      "      20/20      2.79G      1.535      1.489      1.391      1.365         12        640:  20%|██        | 4/20 [00:00<00:02,  6.80it/s]\n",
      "      20/20      2.79G      1.482      1.554      1.333      1.316          9        640:  25%|██▌       | 5/20 [00:00<00:02,  6.90it/s]\n",
      "      20/20      2.79G       1.47      1.749      1.433      1.323         11        640:  30%|███       | 6/20 [00:00<00:02,  6.95it/s]\n",
      "      20/20      2.79G      1.458      1.715      1.379      1.315         15        640:  35%|███▌      | 7/20 [00:01<00:01,  6.96it/s]\n",
      "      20/20      2.79G      1.438      1.791      1.394      1.313          8        640:  40%|████      | 8/20 [00:01<00:01,  6.76it/s]\n",
      "      20/20      2.79G      1.423      1.818      1.374      1.311         12        640:  45%|████▌     | 9/20 [00:01<00:01,  6.84it/s]\n",
      "      20/20      2.79G      1.408      1.894       1.39        1.3         13        640:  50%|█████     | 10/20 [00:01<00:01,  6.85it/s]\n",
      "      20/20      2.79G      1.421      1.982      1.457      1.316         11        640:  55%|█████▌    | 11/20 [00:01<00:01,  6.92it/s]\n",
      "      20/20      2.79G      1.411       2.01      1.477      1.309          5        640:  60%|██████    | 12/20 [00:01<00:01,  6.77it/s]\n",
      "      20/20      2.79G      1.413      1.999      1.456      1.305         11        640:  65%|██████▌   | 13/20 [00:01<00:01,  6.85it/s]\n",
      "      20/20      2.79G      1.415      1.952      1.446      1.307          6        640:  70%|███████   | 14/20 [00:02<00:00,  6.92it/s]\n",
      "      20/20      2.79G      1.422      1.941      1.455      1.301          5        640:  75%|███████▌  | 15/20 [00:02<00:00,  6.97it/s]\n",
      "      20/20      2.79G      1.435      1.927      1.443      1.324         10        640:  80%|████████  | 16/20 [00:02<00:00,  6.79it/s]\n",
      "      20/20      2.79G      1.441      1.962      1.468      1.334         10        640:  85%|████████▌ | 17/20 [00:02<00:00,  6.87it/s]\n",
      "      20/20      2.79G       1.45      1.983       1.47       1.34          8        640:  90%|█████████ | 18/20 [00:02<00:00,  6.91it/s]\n",
      "      20/20      2.79G      1.478      2.008      1.499      1.351          8        640:  95%|█████████▌| 19/20 [00:02<00:00,  6.96it/s]\n",
      "      20/20      2.79G      1.458      1.969      1.488      1.346          2        640: 100%|██████████| 20/20 [00:02<00:00,  7.08it/s]\n",
      "                 Class     Images  Instances      Box(P          R      mAP50  mAP50-95)     Mask(P          R      mAP50  mAP50-95):   0%|          | 0/4 [00:00<?, ?it/s]\n",
      "                 Class     Images  Instances      Box(P          R      mAP50  mAP50-95)     Mask(P          R      mAP50  mAP50-95):  25%|██▌       | 1/4 [00:00<00:00,  8.11it/s]\n",
      "                 Class     Images  Instances      Box(P          R      mAP50  mAP50-95)     Mask(P          R      mAP50  mAP50-95):  50%|█████     | 2/4 [00:00<00:00,  7.31it/s]\n",
      "                 Class     Images  Instances      Box(P          R      mAP50  mAP50-95)     Mask(P          R      mAP50  mAP50-95):  75%|███████▌  | 3/4 [00:00<00:00,  7.31it/s]\n"
     ]
    },
    {
     "name": "stdout",
     "output_type": "stream",
     "text": [
      "\u001b[36m(_tune pid=138387)\u001b[0m                    all        125         79      0.846      0.626      0.711      0.366      0.829      0.613      0.712       0.41\n"
     ]
    },
    {
     "name": "stderr",
     "output_type": "stream",
     "text": [
      "                 Class     Images  Instances      Box(P          R      mAP50  mAP50-95)     Mask(P          R      mAP50  mAP50-95): 100%|██████████| 4/4 [00:00<00:00,  7.57it/s]\n"
     ]
    },
    {
     "name": "stdout",
     "output_type": "stream",
     "text": [
      "\u001b[36m(_tune pid=138894)\u001b[0m New https://pypi.org/project/ultralytics/8.3.107 available 😃 Update with 'pip install -U ultralytics'\n",
      "\u001b[36m(_tune pid=138894)\u001b[0m Ultralytics 8.3.96 🚀 Python-3.10.16 torch-2.6.0+cu124 CUDA:0 (NVIDIA GeForce RTX 3060, 11912MiB)\n",
      "\u001b[36m(_tune pid=138894)\u001b[0m \u001b[34m\u001b[1mengine/trainer: \u001b[0mtask=segment, mode=train, model=models/backbone/yolov8n-seg.pt, data=/home/memorista01/tesis/datasets_yaml/Deepfish.yaml, epochs=20, time=None, patience=100, batch=16, imgsz=640, save=True, save_period=-1, cache=False, device=None, workers=8, project=None, name=train, exist_ok=False, pretrained=True, optimizer=SGD, verbose=True, seed=0, deterministic=True, single_cls=False, rect=False, cos_lr=False, close_mosaic=10, resume=False, amp=True, fraction=1.0, profile=False, freeze=None, multi_scale=False, overlap_mask=True, mask_ratio=4, dropout=0.0, val=True, split=val, save_json=False, save_hybrid=False, conf=None, iou=0.7, max_det=300, half=False, dnn=False, plots=True, source=None, vid_stride=1, stream_buffer=False, visualize=False, augment=False, agnostic_nms=False, classes=None, retina_masks=False, embed=None, show=False, save_frames=False, save_txt=False, save_conf=False, save_crop=False, show_labels=True, show_conf=True, show_boxes=True, line_width=None, format=torchscript, keras=False, optimize=False, int8=False, dynamic=False, simplify=True, opset=None, workspace=None, nms=False, lr0=0.026254154438845427, lrf=0.4630606760725435, momentum=0.6280508514226745, weight_decay=0.0006076261488094344, warmup_epochs=3.030422765797182, warmup_momentum=0.29279495338039824, warmup_bias_lr=0.1, box=7.5, cls=0.5, dfl=1.5, pose=12.0, kobj=1.0, nbs=64, hsv_h=0.015, hsv_s=0.7, hsv_v=0.4, degrees=0.0, translate=0.1, scale=0.5, shear=0.0, perspective=0.0, flipud=0.0, fliplr=0.5, bgr=0.0, mosaic=1.0, mixup=0.0, copy_paste=0.0, copy_paste_mode=flip, auto_augment=randaugment, erasing=0.4, crop_fraction=1.0, cfg=None, tracker=botsort.yaml, save_dir=runs/segment/train\n",
      "\u001b[36m(_tune pid=138894)\u001b[0m Overriding model.yaml nc=80 with nc=1\n",
      "\u001b[36m(_tune pid=138894)\u001b[0m \n",
      "\u001b[36m(_tune pid=138894)\u001b[0m                    from  n    params  module                                       arguments                     \n",
      "\u001b[36m(_tune pid=138894)\u001b[0m   0                  -1  1       464  ultralytics.nn.modules.conv.Conv             [3, 16, 3, 2]                 \n",
      "\u001b[36m(_tune pid=138894)\u001b[0m   1                  -1  1      4672  ultralytics.nn.modules.conv.Conv             [16, 32, 3, 2]                \n",
      "\u001b[36m(_tune pid=138894)\u001b[0m   2                  -1  1      7360  ultralytics.nn.modules.block.C2f             [32, 32, 1, True]             \n",
      "\u001b[36m(_tune pid=138894)\u001b[0m   3                  -1  1     18560  ultralytics.nn.modules.conv.Conv             [32, 64, 3, 2]                \n",
      "\u001b[36m(_tune pid=138894)\u001b[0m   4                  -1  2     49664  ultralytics.nn.modules.block.C2f             [64, 64, 2, True]             \n",
      "\u001b[36m(_tune pid=138894)\u001b[0m   5                  -1  1     73984  ultralytics.nn.modules.conv.Conv             [64, 128, 3, 2]               \n",
      "\u001b[36m(_tune pid=138894)\u001b[0m   6                  -1  2    197632  ultralytics.nn.modules.block.C2f             [128, 128, 2, True]           \n",
      "\u001b[36m(_tune pid=138894)\u001b[0m   7                  -1  1    295424  ultralytics.nn.modules.conv.Conv             [128, 256, 3, 2]              \n",
      "\u001b[36m(_tune pid=138894)\u001b[0m   8                  -1  1    460288  ultralytics.nn.modules.block.C2f             [256, 256, 1, True]           \n",
      "\u001b[36m(_tune pid=138894)\u001b[0m   9                  -1  1    164608  ultralytics.nn.modules.block.SPPF            [256, 256, 5]                 \n",
      "\u001b[36m(_tune pid=138894)\u001b[0m  10                  -1  1         0  torch.nn.modules.upsampling.Upsample         [None, 2, 'nearest']          \n",
      "\u001b[36m(_tune pid=138894)\u001b[0m  11             [-1, 6]  1         0  ultralytics.nn.modules.conv.Concat           [1]                           \n",
      "\u001b[36m(_tune pid=138894)\u001b[0m  12                  -1  1    148224  ultralytics.nn.modules.block.C2f             [384, 128, 1]                 \n",
      "\u001b[36m(_tune pid=138894)\u001b[0m  13                  -1  1         0  torch.nn.modules.upsampling.Upsample         [None, 2, 'nearest']          \n",
      "\u001b[36m(_tune pid=138894)\u001b[0m  14             [-1, 4]  1         0  ultralytics.nn.modules.conv.Concat           [1]                           \n",
      "\u001b[36m(_tune pid=138894)\u001b[0m  15                  -1  1     37248  ultralytics.nn.modules.block.C2f             [192, 64, 1]                  \n",
      "\u001b[36m(_tune pid=138894)\u001b[0m  16                  -1  1     36992  ultralytics.nn.modules.conv.Conv             [64, 64, 3, 2]                \n",
      "\u001b[36m(_tune pid=138894)\u001b[0m  17            [-1, 12]  1         0  ultralytics.nn.modules.conv.Concat           [1]                           \n",
      "\u001b[36m(_tune pid=138894)\u001b[0m  18                  -1  1    123648  ultralytics.nn.modules.block.C2f             [192, 128, 1]                 \n",
      "\u001b[36m(_tune pid=138894)\u001b[0m  19                  -1  1    147712  ultralytics.nn.modules.conv.Conv             [128, 128, 3, 2]              \n",
      "\u001b[36m(_tune pid=138894)\u001b[0m  20             [-1, 9]  1         0  ultralytics.nn.modules.conv.Concat           [1]                           \n",
      "\u001b[36m(_tune pid=138894)\u001b[0m  21                  -1  1    493056  ultralytics.nn.modules.block.C2f             [384, 256, 1]                 \n",
      "\u001b[36m(_tune pid=138894)\u001b[0m  22        [15, 18, 21]  1   1004275  ultralytics.nn.modules.head.Segment          [1, 32, 64, [64, 128, 256]]   \n",
      "\u001b[36m(_tune pid=138894)\u001b[0m YOLOv8n-seg summary: 151 layers, 3,263,811 parameters, 3,263,795 gradients, 12.1 GFLOPs\n",
      "\u001b[36m(_tune pid=138894)\u001b[0m \n",
      "\u001b[36m(_tune pid=138894)\u001b[0m Transferred 381/417 items from pretrained weights\n",
      "\u001b[36m(_tune pid=138894)\u001b[0m Freezing layer 'model.22.dfl.conv.weight'\n",
      "\u001b[36m(_tune pid=138894)\u001b[0m \u001b[34m\u001b[1mAMP: \u001b[0mrunning Automatic Mixed Precision (AMP) checks...\n",
      "\u001b[36m(_tune pid=138894)\u001b[0m Downloading https://github.com/ultralytics/assets/releases/download/v8.3.0/yolo11n.pt to 'yolo11n.pt'...\n"
     ]
    },
    {
     "name": "stderr",
     "output_type": "stream",
     "text": [
      "  0%|          | 0.00/5.35M [00:00<?, ?B/s]\n",
      " 21%|██        | 1.12M/5.35M [00:00<00:00, 11.4MB/s]\n",
      " 42%|████▏     | 2.25M/5.35M [00:00<00:00, 11.6MB/s]\n",
      " 63%|██████▎   | 3.38M/5.35M [00:00<00:00, 11.6MB/s]\n",
      " 84%|████████▍ | 4.50M/5.35M [00:00<00:00, 11.6MB/s]\n",
      "100%|██████████| 5.35M/5.35M [00:00<00:00, 11.6MB/s]\n"
     ]
    },
    {
     "name": "stdout",
     "output_type": "stream",
     "text": [
      "\u001b[36m(_tune pid=138894)\u001b[0m \u001b[34m\u001b[1mAMP: \u001b[0mchecks passed ✅\n"
     ]
    },
    {
     "name": "stderr",
     "output_type": "stream",
     "text": [
      "\u001b[34m\u001b[1mtrain: \u001b[0mScanning /home/memorista01/tesis/datasets_yolo/Deepfish/labels/train.cache... 148 images, 161 backgrounds, 0 corrupt: 100%|██████████| 309/309 [00:00<?, ?it/s]\n",
      "\u001b[34m\u001b[1mval: \u001b[0mScanning /home/memorista01/tesis/datasets_yolo/Deepfish/labels/valid.cache... 66 images, 59 backgrounds, 0 corrupt: 100%|██████████| 125/125 [00:00<?, ?it/s]\n"
     ]
    },
    {
     "name": "stdout",
     "output_type": "stream",
     "text": [
      "\u001b[36m(_tune pid=138894)\u001b[0m Plotting labels to runs/segment/train/labels.jpg... \n",
      "\u001b[36m(_tune pid=138894)\u001b[0m \u001b[34m\u001b[1moptimizer:\u001b[0m SGD(lr=0.026254154438845427, momentum=0.6280508514226745) with parameter groups 66 weight(decay=0.0), 77 weight(decay=0.0006076261488094344), 76 bias(decay=0.0)\n",
      "\u001b[36m(_tune pid=138894)\u001b[0m Image sizes 640 train, 640 val\n",
      "\u001b[36m(_tune pid=138894)\u001b[0m Using 8 dataloader workers\n",
      "\u001b[36m(_tune pid=138894)\u001b[0m Logging results to \u001b[1mruns/segment/train\u001b[0m\n",
      "\u001b[36m(_tune pid=138894)\u001b[0m Starting training for 20 epochs...\n",
      "\u001b[36m(_tune pid=138894)\u001b[0m \n",
      "\u001b[36m(_tune pid=138894)\u001b[0m       Epoch    GPU_mem   box_loss   seg_loss   cls_loss   dfl_loss  Instances       Size\n"
     ]
    },
    {
     "name": "stderr",
     "output_type": "stream",
     "text": [
      "  0%|          | 0/20 [00:00<?, ?it/s]\n",
      "       1/20      2.46G      1.305      1.261      6.773      1.394          5        640:   5%|▌         | 1/20 [00:00<00:08,  2.12it/s]\n",
      "       1/20      2.46G      1.168      1.673      5.465      1.301         18        640:  10%|█         | 2/20 [00:00<00:05,  3.30it/s]\n",
      "       1/20      2.46G      1.427      2.284      4.992      1.438         28        640:  15%|█▌        | 3/20 [00:00<00:04,  3.82it/s]\n",
      "       1/20      2.46G      1.267      2.221      4.748      1.345         19        640:  20%|██        | 4/20 [00:01<00:03,  4.26it/s]\n",
      "       1/20      2.46G      1.295       2.26      4.738      1.329         17        640:  25%|██▌       | 5/20 [00:01<00:03,  4.79it/s]\n",
      "       1/20      2.46G      1.343      2.435      4.947      1.346         10        640:  30%|███       | 6/20 [00:01<00:02,  5.24it/s]\n",
      "       1/20      2.46G      1.322      2.458      4.872      1.333         18        640:  35%|███▌      | 7/20 [00:01<00:02,  5.56it/s]\n",
      "       1/20      2.46G      1.301      2.444      4.725      1.311         27        640:  40%|████      | 8/20 [00:01<00:02,  5.65it/s]\n",
      "       1/20      2.47G      1.321      2.489      4.643      1.328         24        640:  45%|████▌     | 9/20 [00:01<00:01,  5.86it/s]\n",
      "       1/20      2.47G        1.3      2.471      4.607      1.313         18        640:  50%|█████     | 10/20 [00:02<00:01,  5.96it/s]\n",
      "       1/20      2.48G      1.328      2.508       4.59      1.336         19        640:  55%|█████▌    | 11/20 [00:02<00:01,  6.05it/s]\n",
      "       1/20      2.48G      1.359      2.523      4.625      1.357         16        640:  60%|██████    | 12/20 [00:02<00:01,  6.14it/s]\n",
      "       1/20      2.48G      1.362       2.48       4.62      1.354         17        640:  65%|██████▌   | 13/20 [00:02<00:01,  6.19it/s]\n",
      "       1/20      2.48G      1.373      2.542      4.617      1.352         22        640:  70%|███████   | 14/20 [00:02<00:00,  6.22it/s]\n",
      "       1/20      2.48G      1.369      2.555      4.584      1.344         20        640:  75%|███████▌  | 15/20 [00:02<00:00,  6.26it/s]\n",
      "       1/20      2.48G      1.357      2.553      4.543      1.336         28        640:  80%|████████  | 16/20 [00:02<00:00,  6.27it/s]\n",
      "       1/20      2.48G      1.355      2.539      4.548      1.332         11        640:  85%|████████▌ | 17/20 [00:03<00:00,  6.29it/s]\n",
      "       1/20      2.48G      1.331      2.496        4.5      1.315         26        640:  90%|█████████ | 18/20 [00:03<00:00,  6.48it/s]\n",
      "       1/20      2.48G      1.334       2.48      4.496      1.315         15        640:  95%|█████████▌| 19/20 [00:03<00:00,  6.36it/s]\n",
      "       1/20      2.52G      1.318      2.478      4.476      1.308          8        640: 100%|██████████| 20/20 [00:03<00:00,  5.51it/s]\n",
      "                 Class     Images  Instances      Box(P          R      mAP50  mAP50-95)     Mask(P          R      mAP50  mAP50-95):   0%|          | 0/4 [00:00<?, ?it/s]\n",
      "                 Class     Images  Instances      Box(P          R      mAP50  mAP50-95)     Mask(P          R      mAP50  mAP50-95):  25%|██▌       | 1/4 [00:00<00:00,  5.74it/s]\n",
      "                 Class     Images  Instances      Box(P          R      mAP50  mAP50-95)     Mask(P          R      mAP50  mAP50-95):  50%|█████     | 2/4 [00:00<00:00,  6.07it/s]\n",
      "                 Class     Images  Instances      Box(P          R      mAP50  mAP50-95)     Mask(P          R      mAP50  mAP50-95):  75%|███████▌  | 3/4 [00:00<00:00,  6.31it/s]\n"
     ]
    },
    {
     "name": "stdout",
     "output_type": "stream",
     "text": [
      "\u001b[36m(_tune pid=138894)\u001b[0m                    all        125         79    0.00165      0.785     0.0737     0.0423    0.00171       0.81     0.0733     0.0516\n",
      "\u001b[36m(_tune pid=138894)\u001b[0m \n",
      "\u001b[36m(_tune pid=138894)\u001b[0m       Epoch    GPU_mem   box_loss   seg_loss   cls_loss   dfl_loss  Instances       Size\n"
     ]
    },
    {
     "name": "stderr",
     "output_type": "stream",
     "text": [
      "                 Class     Images  Instances      Box(P          R      mAP50  mAP50-95)     Mask(P          R      mAP50  mAP50-95): 100%|██████████| 4/4 [00:00<00:00,  6.17it/s]\n",
      "  0%|          | 0/20 [00:00<?, ?it/s]\n",
      "       2/20      2.64G      1.022      1.936      4.128      1.092         19        640:   5%|▌         | 1/20 [00:00<00:03,  6.30it/s]\n",
      "       2/20      2.64G      1.061       2.43      4.115      1.141         21        640:  10%|█         | 2/20 [00:00<00:02,  6.71it/s]\n",
      "       2/20      2.64G      1.187      2.632      4.128       1.23         29        640:  15%|█▌        | 3/20 [00:00<00:02,  6.49it/s]\n",
      "       2/20      2.64G      1.176      2.569      4.078      1.205         19        640:  20%|██        | 4/20 [00:00<00:02,  6.66it/s]\n",
      "       2/20      2.64G      1.145      2.449      4.121      1.189         15        640:  25%|██▌       | 5/20 [00:00<00:02,  6.54it/s]\n",
      "       2/20      2.64G      1.131      2.344      4.029      1.168         30        640:  30%|███       | 6/20 [00:00<00:02,  6.66it/s]\n",
      "       2/20      2.64G      1.149      2.305       3.95      1.183         24        640:  35%|███▌      | 7/20 [00:01<00:01,  6.51it/s]\n",
      "       2/20      2.64G      1.162      2.302      3.912      1.179         25        640:  40%|████      | 8/20 [00:01<00:01,  6.65it/s]\n",
      "       2/20      2.64G      1.164       2.29       3.91       1.19         17        640:  45%|████▌     | 9/20 [00:01<00:01,  6.52it/s]\n",
      "       2/20      2.64G      1.178      2.384      3.965      1.204         15        640:  50%|█████     | 10/20 [00:01<00:01,  6.66it/s]\n",
      "       2/20      2.64G      1.189      2.365      3.936      1.205         24        640:  55%|█████▌    | 11/20 [00:01<00:01,  6.54it/s]\n",
      "       2/20      2.64G      1.189      2.335      3.914      1.205         24        640:  60%|██████    | 12/20 [00:01<00:01,  6.65it/s]\n",
      "       2/20      2.64G      1.177      2.299      3.887      1.194         18        640:  65%|██████▌   | 13/20 [00:01<00:01,  6.52it/s]\n",
      "       2/20      2.64G      1.181       2.29      3.839      1.187         31        640:  70%|███████   | 14/20 [00:02<00:00,  6.63it/s]\n",
      "       2/20      2.64G      1.196      2.301       3.83      1.196         23        640:  75%|███████▌  | 15/20 [00:02<00:00,  6.51it/s]\n",
      "       2/20      2.64G      1.202      2.302      3.883      1.194         14        640:  80%|████████  | 16/20 [00:02<00:00,  6.65it/s]\n",
      "       2/20      2.64G      1.223      2.305      3.936      1.207         12        640:  85%|████████▌ | 17/20 [00:02<00:00,  6.55it/s]\n",
      "       2/20      2.64G      1.228      2.304       3.93      1.208         20        640:  90%|█████████ | 18/20 [00:02<00:00,  6.67it/s]\n",
      "       2/20      2.66G      1.221      2.287      3.895      1.195          7        640: 100%|██████████| 20/20 [00:02<00:00,  6.77it/s]\n",
      "                 Class     Images  Instances      Box(P          R      mAP50  mAP50-95)     Mask(P          R      mAP50  mAP50-95):   0%|          | 0/4 [00:00<?, ?it/s]\n",
      "                 Class     Images  Instances      Box(P          R      mAP50  mAP50-95)     Mask(P          R      mAP50  mAP50-95):  25%|██▌       | 1/4 [00:00<00:00,  7.16it/s]\n",
      "                 Class     Images  Instances      Box(P          R      mAP50  mAP50-95)     Mask(P          R      mAP50  mAP50-95):  50%|█████     | 2/4 [00:00<00:00,  6.50it/s]\n",
      "                 Class     Images  Instances      Box(P          R      mAP50  mAP50-95)     Mask(P          R      mAP50  mAP50-95):  75%|███████▌  | 3/4 [00:00<00:00,  6.56it/s]\n",
      "                 Class     Images  Instances      Box(P          R      mAP50  mAP50-95)     Mask(P          R      mAP50  mAP50-95): 100%|██████████| 4/4 [00:00<00:00,  6.81it/s]\n"
     ]
    },
    {
     "name": "stdout",
     "output_type": "stream",
     "text": [
      "\u001b[36m(_tune pid=138894)\u001b[0m                    all        125         79    0.00168      0.797      0.172     0.0931    0.00152      0.722      0.171      0.111\n",
      "\u001b[36m(_tune pid=138894)\u001b[0m \n",
      "\u001b[36m(_tune pid=138894)\u001b[0m       Epoch    GPU_mem   box_loss   seg_loss   cls_loss   dfl_loss  Instances       Size\n"
     ]
    },
    {
     "name": "stderr",
     "output_type": "stream",
     "text": [
      "  0%|          | 0/20 [00:00<?, ?it/s]\n",
      "       3/20      2.66G     0.9833      1.737      3.192      1.062         16        640:   5%|▌         | 1/20 [00:00<00:03,  6.27it/s]\n",
      "       3/20      2.66G      1.234      2.155      3.701      1.224         18        640:  10%|█         | 2/20 [00:00<00:02,  6.66it/s]\n",
      "       3/20      2.66G      1.193      2.094      3.648       1.19         20        640:  15%|█▌        | 3/20 [00:00<00:02,  6.45it/s]\n",
      "       3/20      2.66G      1.185      2.034      3.562       1.16         16        640:  20%|██        | 4/20 [00:00<00:02,  6.65it/s]\n",
      "       3/20      2.66G      1.224      2.033      3.552      1.166         22        640:  25%|██▌       | 5/20 [00:00<00:02,  6.52it/s]\n",
      "       3/20      2.66G      1.261      2.079       3.53      1.197         22        640:  30%|███       | 6/20 [00:00<00:02,  6.65it/s]\n",
      "       3/20      2.66G      1.288      2.128       3.53      1.196         26        640:  35%|███▌      | 7/20 [00:01<00:01,  6.51it/s]\n",
      "       3/20      2.66G      1.264      2.094      3.488      1.186         15        640:  40%|████      | 8/20 [00:01<00:01,  6.61it/s]\n",
      "       3/20      2.66G      1.252        2.1      3.418      1.176         28        640:  45%|████▌     | 9/20 [00:01<00:01,  6.49it/s]\n",
      "       3/20      2.66G      1.251      2.171      3.438      1.181         19        640:  50%|█████     | 10/20 [00:01<00:01,  6.63it/s]\n",
      "       3/20      2.66G      1.279      2.235      3.484      1.209         14        640:  55%|█████▌    | 11/20 [00:01<00:01,  6.55it/s]\n",
      "       3/20      2.66G      1.282      2.229      3.506      1.208         15        640:  60%|██████    | 12/20 [00:01<00:01,  6.68it/s]\n",
      "       3/20      2.66G      1.283      2.196      3.484      1.202         27        640:  65%|██████▌   | 13/20 [00:01<00:01,  6.74it/s]\n",
      "       3/20      2.66G      1.287      2.178      3.455      1.207         22        640:  70%|███████   | 14/20 [00:02<00:00,  6.59it/s]\n",
      "       3/20      2.66G      1.316      2.162      3.459       1.22         13        640:  75%|███████▌  | 15/20 [00:02<00:00,  6.71it/s]\n",
      "       3/20      2.66G      1.323      2.195      3.452      1.231         21        640:  80%|████████  | 16/20 [00:02<00:00,  6.70it/s]\n",
      "       3/20      2.66G      1.338      2.207      3.454      1.226         19        640:  85%|████████▌ | 17/20 [00:02<00:00,  6.56it/s]\n",
      "       3/20      2.66G      1.335      2.194      3.505      1.228         12        640:  90%|█████████ | 18/20 [00:02<00:00,  6.70it/s]\n",
      "       3/20      2.69G      1.325      2.253      3.497      1.228          6        640: 100%|██████████| 20/20 [00:02<00:00,  6.80it/s]\n",
      "                 Class     Images  Instances      Box(P          R      mAP50  mAP50-95)     Mask(P          R      mAP50  mAP50-95):   0%|          | 0/4 [00:00<?, ?it/s]\n",
      "                 Class     Images  Instances      Box(P          R      mAP50  mAP50-95)     Mask(P          R      mAP50  mAP50-95):  25%|██▌       | 1/4 [00:00<00:00,  7.21it/s]\n",
      "                 Class     Images  Instances      Box(P          R      mAP50  mAP50-95)     Mask(P          R      mAP50  mAP50-95):  50%|█████     | 2/4 [00:00<00:00,  6.58it/s]\n",
      "                 Class     Images  Instances      Box(P          R      mAP50  mAP50-95)     Mask(P          R      mAP50  mAP50-95):  75%|███████▌  | 3/4 [00:00<00:00,  6.58it/s]\n",
      "                 Class     Images  Instances      Box(P          R      mAP50  mAP50-95)     Mask(P          R      mAP50  mAP50-95): 100%|██████████| 4/4 [00:00<00:00,  6.78it/s]\n"
     ]
    },
    {
     "name": "stdout",
     "output_type": "stream",
     "text": [
      "\u001b[36m(_tune pid=138894)\u001b[0m                    all        125         79          1      0.123      0.454       0.27          1      0.123      0.446      0.257\n",
      "\u001b[36m(_tune pid=138894)\u001b[0m \n",
      "\u001b[36m(_tune pid=138894)\u001b[0m       Epoch    GPU_mem   box_loss   seg_loss   cls_loss   dfl_loss  Instances       Size\n"
     ]
    },
    {
     "name": "stderr",
     "output_type": "stream",
     "text": [
      "  0%|          | 0/20 [00:00<?, ?it/s]\n",
      "       4/20      2.69G      1.211      2.062      2.509      1.152         26        640:   5%|▌         | 1/20 [00:00<00:02,  6.94it/s]\n",
      "       4/20      2.69G      1.096      2.002      2.948      1.067         17        640:  10%|█         | 2/20 [00:00<00:02,  6.93it/s]\n",
      "       4/20      2.69G      1.189      2.012      3.249      1.091         12        640:  15%|█▌        | 3/20 [00:00<00:02,  6.61it/s]\n",
      "       4/20      2.69G      1.262      2.089      3.166      1.115         23        640:  20%|██        | 4/20 [00:00<00:02,  6.72it/s]\n",
      "       4/20      2.69G      1.244      2.045      3.031      1.096         21        640:  25%|██▌       | 5/20 [00:00<00:02,  6.79it/s]\n",
      "       4/20      2.69G      1.235      2.013       2.97      1.086         19        640:  30%|███       | 6/20 [00:00<00:02,  6.61it/s]\n",
      "       4/20      2.69G      1.294      2.107       3.04      1.136         16        640:  35%|███▌      | 7/20 [00:01<00:01,  6.72it/s]\n",
      "       4/20      2.69G      1.308      2.243      3.327      1.167          7        640:  40%|████      | 8/20 [00:01<00:01,  6.83it/s]\n",
      "       4/20      2.69G      1.309      2.212      3.247      1.159         27        640:  45%|████▌     | 9/20 [00:01<00:01,  6.62it/s]\n",
      "       4/20      2.69G       1.33      2.193      3.276      1.171         11        640:  50%|█████     | 10/20 [00:01<00:01,  6.73it/s]\n",
      "       4/20      2.69G      1.337      2.161      3.296      1.171         14        640:  55%|█████▌    | 11/20 [00:01<00:01,  6.81it/s]\n",
      "       4/20      2.69G      1.335      2.155      3.235      1.168         21        640:  60%|██████    | 12/20 [00:01<00:01,  6.56it/s]\n",
      "       4/20      2.69G      1.331      2.144      3.187      1.164         25        640:  65%|██████▌   | 13/20 [00:01<00:01,  6.66it/s]\n",
      "       4/20      2.69G      1.341      2.156      3.165      1.167         27        640:  70%|███████   | 14/20 [00:02<00:00,  6.73it/s]\n",
      "       4/20      2.69G      1.343      2.179      3.158      1.177         17        640:  75%|███████▌  | 15/20 [00:02<00:00,  6.60it/s]\n",
      "       4/20      2.69G      1.337       2.18       3.13       1.18         20        640:  80%|████████  | 16/20 [00:02<00:00,  6.70it/s]\n",
      "       4/20      2.69G      1.327      2.156      3.096      1.173         16        640:  85%|████████▌ | 17/20 [00:02<00:00,  6.77it/s]\n",
      "       4/20      2.69G      1.334      2.197      3.136      1.185         12        640:  90%|█████████ | 18/20 [00:02<00:00,  6.64it/s]\n",
      "       4/20       2.7G      1.333      2.221      3.141      1.186          3        640: 100%|██████████| 20/20 [00:02<00:00,  6.91it/s]\n",
      "                 Class     Images  Instances      Box(P          R      mAP50  mAP50-95)     Mask(P          R      mAP50  mAP50-95):   0%|          | 0/4 [00:00<?, ?it/s]\n",
      "                 Class     Images  Instances      Box(P          R      mAP50  mAP50-95)     Mask(P          R      mAP50  mAP50-95):  25%|██▌       | 1/4 [00:00<00:00,  7.34it/s]\n",
      "                 Class     Images  Instances      Box(P          R      mAP50  mAP50-95)     Mask(P          R      mAP50  mAP50-95):  50%|█████     | 2/4 [00:00<00:00,  6.72it/s]\n",
      "                 Class     Images  Instances      Box(P          R      mAP50  mAP50-95)     Mask(P          R      mAP50  mAP50-95):  75%|███████▌  | 3/4 [00:00<00:00,  6.75it/s]\n",
      "                 Class     Images  Instances      Box(P          R      mAP50  mAP50-95)     Mask(P          R      mAP50  mAP50-95): 100%|██████████| 4/4 [00:00<00:00,  6.96it/s]\n"
     ]
    },
    {
     "name": "stdout",
     "output_type": "stream",
     "text": [
      "\u001b[36m(_tune pid=138894)\u001b[0m                    all        125         79      0.276     0.0253     0.0345     0.0133      0.847      0.038      0.043     0.0123\n",
      "\u001b[36m(_tune pid=138894)\u001b[0m \n",
      "\u001b[36m(_tune pid=138894)\u001b[0m       Epoch    GPU_mem   box_loss   seg_loss   cls_loss   dfl_loss  Instances       Size\n"
     ]
    },
    {
     "name": "stderr",
     "output_type": "stream",
     "text": [
      "  0%|          | 0/20 [00:00<?, ?it/s]\n",
      "       5/20       2.7G      1.112      1.465      2.551      1.035         14        640:   5%|▌         | 1/20 [00:00<00:03,  6.31it/s]\n",
      "       5/20       2.7G       1.34      2.211      2.721      1.213         20        640:  10%|█         | 2/20 [00:00<00:02,  6.68it/s]\n",
      "       5/20       2.7G      1.411      2.194      2.906      1.214         16        640:  15%|█▌        | 3/20 [00:00<00:02,  6.80it/s]\n",
      "       5/20       2.7G      1.386      2.296      2.986      1.235         10        640:  20%|██        | 4/20 [00:00<00:02,  6.61it/s]\n",
      "       5/20       2.7G      1.407       2.41      2.942      1.253         25        640:  25%|██▌       | 5/20 [00:00<00:02,  6.72it/s]\n",
      "       5/20       2.7G      1.384      2.403      2.899      1.239         26        640:  30%|███       | 6/20 [00:00<00:02,  6.77it/s]\n",
      "       5/20       2.7G        1.4      2.456      2.899      1.234         17        640:  35%|███▌      | 7/20 [00:01<00:01,  6.83it/s]\n",
      "       5/20       2.7G      1.417      2.507      2.917      1.241         21        640:  40%|████      | 8/20 [00:01<00:01,  6.55it/s]\n",
      "       5/20       2.7G      1.394      2.427      2.861      1.226         17        640:  45%|████▌     | 9/20 [00:01<00:01,  6.67it/s]\n",
      "       5/20       2.7G       1.38       2.37      2.822      1.216         17        640:  50%|█████     | 10/20 [00:01<00:01,  6.75it/s]\n",
      "       5/20       2.7G      1.372      2.327       2.85      1.213         13        640:  55%|█████▌    | 11/20 [00:01<00:01,  6.83it/s]\n",
      "       5/20       2.7G      1.358      2.327       2.79      1.208         25        640:  60%|██████    | 12/20 [00:01<00:01,  6.66it/s]\n",
      "       5/20       2.7G      1.367      2.355      2.761      1.214         33        640:  65%|██████▌   | 13/20 [00:01<00:01,  6.73it/s]\n",
      "       5/20       2.7G      1.367      2.361      2.773      1.218         15        640:  70%|███████   | 14/20 [00:02<00:00,  6.81it/s]\n",
      "       5/20       2.7G      1.372      2.383      2.764      1.221         23        640:  75%|███████▌  | 15/20 [00:02<00:00,  6.83it/s]\n",
      "       5/20       2.7G      1.377      2.364      2.751      1.223         29        640:  80%|████████  | 16/20 [00:02<00:00,  6.56it/s]\n",
      "       5/20       2.7G      1.393       2.35      2.729      1.227         19        640:  85%|████████▌ | 17/20 [00:02<00:00,  6.69it/s]\n",
      "       5/20       2.7G      1.397      2.322      2.712      1.231         18        640:  90%|█████████ | 18/20 [00:02<00:00,  6.76it/s]\n",
      "       5/20       2.7G      1.412      2.334       2.76      1.239         11        640:  95%|█████████▌| 19/20 [00:02<00:00,  6.82it/s]\n",
      "       5/20      2.71G      1.389      2.306      2.706      1.225          6        640: 100%|██████████| 20/20 [00:02<00:00,  6.89it/s]\n",
      "                 Class     Images  Instances      Box(P          R      mAP50  mAP50-95)     Mask(P          R      mAP50  mAP50-95):   0%|          | 0/4 [00:00<?, ?it/s]\n",
      "                 Class     Images  Instances      Box(P          R      mAP50  mAP50-95)     Mask(P          R      mAP50  mAP50-95):  25%|██▌       | 1/4 [00:00<00:00,  7.37it/s]\n",
      "                 Class     Images  Instances      Box(P          R      mAP50  mAP50-95)     Mask(P          R      mAP50  mAP50-95):  50%|█████     | 2/4 [00:00<00:00,  6.75it/s]\n",
      "                 Class     Images  Instances      Box(P          R      mAP50  mAP50-95)     Mask(P          R      mAP50  mAP50-95):  75%|███████▌  | 3/4 [00:00<00:00,  6.74it/s]\n",
      "                 Class     Images  Instances      Box(P          R      mAP50  mAP50-95)     Mask(P          R      mAP50  mAP50-95): 100%|██████████| 4/4 [00:00<00:00,  6.98it/s]\n"
     ]
    },
    {
     "name": "stdout",
     "output_type": "stream",
     "text": [
      "\u001b[36m(_tune pid=138894)\u001b[0m                    all        125         79      0.649       0.19      0.228      0.081       0.61      0.178      0.224     0.0809\n",
      "\u001b[36m(_tune pid=138894)\u001b[0m \n",
      "\u001b[36m(_tune pid=138894)\u001b[0m       Epoch    GPU_mem   box_loss   seg_loss   cls_loss   dfl_loss  Instances       Size\n"
     ]
    },
    {
     "name": "stderr",
     "output_type": "stream",
     "text": [
      "  0%|          | 0/20 [00:00<?, ?it/s]\n",
      "       6/20      2.71G      1.741      2.874       2.44       1.42         22        640:   5%|▌         | 1/20 [00:00<00:02,  6.99it/s]\n",
      "       6/20      2.71G      1.792      3.213      3.285      1.444         10        640:  10%|█         | 2/20 [00:00<00:02,  7.03it/s]\n",
      "       6/20      2.71G      1.836      3.105      3.243      1.464         14        640:  15%|█▌        | 3/20 [00:00<00:02,  7.03it/s]\n",
      "       6/20      2.71G      1.824      2.957      3.071      1.497         19        640:  20%|██        | 4/20 [00:00<00:02,  6.72it/s]\n",
      "       6/20      2.71G      1.754      2.884      2.996      1.423         29        640:  25%|██▌       | 5/20 [00:00<00:02,  6.80it/s]\n",
      "       6/20      2.71G      1.689      2.872      2.982      1.388         18        640:  30%|███       | 6/20 [00:00<00:02,  6.87it/s]\n",
      "       6/20      2.71G      1.607       2.82      2.922      1.346         17        640:  35%|███▌      | 7/20 [00:01<00:01,  6.88it/s]\n",
      "       6/20      2.71G      1.568      2.798      2.859      1.325         23        640:  40%|████      | 8/20 [00:01<00:01,  6.71it/s]\n",
      "       6/20      2.71G      1.536      2.783      2.782      1.309         27        640:  45%|████▌     | 9/20 [00:01<00:01,  6.79it/s]\n",
      "       6/20      2.71G      1.505      2.771      2.771      1.287         14        640:  50%|█████     | 10/20 [00:01<00:01,  6.86it/s]\n",
      "       6/20      2.71G      1.504      2.786      2.823      1.285         11        640:  55%|█████▌    | 11/20 [00:01<00:01,  6.92it/s]\n",
      "       6/20      2.71G      1.478      2.781      2.796      1.271         19        640:  60%|██████    | 12/20 [00:01<00:01,  6.68it/s]\n",
      "       6/20      2.71G      1.433      2.733      2.784      1.246         15        640:  65%|██████▌   | 13/20 [00:01<00:01,  6.78it/s]\n",
      "       6/20      2.71G      1.436      2.679      2.853      1.249         11        640:  70%|███████   | 14/20 [00:02<00:00,  6.86it/s]\n",
      "       6/20      2.71G      1.412       2.67       2.84      1.245         17        640:  75%|███████▌  | 15/20 [00:02<00:00,  6.89it/s]\n",
      "       6/20      2.71G      1.402       2.64      2.822      1.235         20        640:  80%|████████  | 16/20 [00:02<00:00,  6.70it/s]\n",
      "       6/20      2.71G      1.396      2.636      2.811      1.227         18        640:  85%|████████▌ | 17/20 [00:02<00:00,  6.80it/s]\n",
      "       6/20      2.71G      1.376      2.632      2.791      1.217         16        640:  90%|█████████ | 18/20 [00:02<00:00,  6.84it/s]\n",
      "       6/20      2.73G       1.35       2.65      2.779      1.204          5        640: 100%|██████████| 20/20 [00:02<00:00,  7.00it/s]\n",
      "                 Class     Images  Instances      Box(P          R      mAP50  mAP50-95)     Mask(P          R      mAP50  mAP50-95):   0%|          | 0/4 [00:00<?, ?it/s]\n",
      "                 Class     Images  Instances      Box(P          R      mAP50  mAP50-95)     Mask(P          R      mAP50  mAP50-95):  25%|██▌       | 1/4 [00:00<00:00,  7.29it/s]\n",
      "                 Class     Images  Instances      Box(P          R      mAP50  mAP50-95)     Mask(P          R      mAP50  mAP50-95):  50%|█████     | 2/4 [00:00<00:00,  6.69it/s]\n",
      "                 Class     Images  Instances      Box(P          R      mAP50  mAP50-95)     Mask(P          R      mAP50  mAP50-95):  75%|███████▌  | 3/4 [00:00<00:00,  6.65it/s]\n",
      "                 Class     Images  Instances      Box(P          R      mAP50  mAP50-95)     Mask(P          R      mAP50  mAP50-95): 100%|██████████| 4/4 [00:00<00:00,  6.90it/s]\n"
     ]
    },
    {
     "name": "stdout",
     "output_type": "stream",
     "text": [
      "\u001b[36m(_tune pid=138894)\u001b[0m                    all        125         79      0.606      0.304      0.428      0.275      0.606      0.304      0.427      0.226\n",
      "\u001b[36m(_tune pid=138894)\u001b[0m \n",
      "\u001b[36m(_tune pid=138894)\u001b[0m       Epoch    GPU_mem   box_loss   seg_loss   cls_loss   dfl_loss  Instances       Size\n"
     ]
    },
    {
     "name": "stderr",
     "output_type": "stream",
     "text": [
      "  0%|          | 0/20 [00:00<?, ?it/s]\n",
      "       7/20      2.73G      1.142      2.084      2.105      1.112         24        640:   5%|▌         | 1/20 [00:00<00:02,  6.89it/s]\n",
      "       7/20      2.73G      1.368      2.113      2.718      1.174         13        640:  10%|█         | 2/20 [00:00<00:02,  6.96it/s]\n",
      "       7/20      2.73G      1.317      1.968       2.52      1.125         23        640:  15%|█▌        | 3/20 [00:00<00:02,  6.95it/s]\n",
      "       7/20      2.73G      1.276      1.985      2.468      1.137         24        640:  20%|██        | 4/20 [00:00<00:02,  6.69it/s]\n",
      "       7/20      2.73G      1.318      2.133      2.523      1.178         15        640:  25%|██▌       | 5/20 [00:00<00:02,  6.82it/s]\n",
      "       7/20      2.73G      1.323      2.083      2.472       1.16         21        640:  30%|███       | 6/20 [00:00<00:02,  6.87it/s]\n",
      "       7/20      2.73G      1.338      2.094      2.394      1.184         26        640:  35%|███▌      | 7/20 [00:01<00:01,  6.88it/s]\n",
      "       7/20      2.73G      1.356      2.062      2.356      1.203         21        640:  40%|████      | 8/20 [00:01<00:01,  6.71it/s]\n",
      "       7/20      2.73G      1.359      2.064      2.341      1.211         19        640:  45%|████▌     | 9/20 [00:01<00:01,  6.78it/s]\n",
      "       7/20      2.73G      1.357      2.071       2.32      1.203         24        640:  50%|█████     | 10/20 [00:01<00:01,  6.83it/s]\n",
      "       7/20      2.73G      1.348      2.066      2.349      1.198         18        640:  55%|█████▌    | 11/20 [00:01<00:01,  6.89it/s]\n",
      "       7/20      2.73G      1.354      2.065      2.389      1.196         20        640:  60%|██████    | 12/20 [00:01<00:01,  6.70it/s]\n",
      "       7/20      2.73G      1.343       2.02      2.354      1.182         23        640:  65%|██████▌   | 13/20 [00:01<00:01,  6.78it/s]\n",
      "       7/20      2.73G       1.36      2.006      2.451      1.192          8        640:  70%|███████   | 14/20 [00:02<00:00,  6.86it/s]\n",
      "       7/20      2.73G      1.371      2.031      2.448      1.198         23        640:  75%|███████▌  | 15/20 [00:02<00:00,  6.88it/s]\n",
      "       7/20      2.73G      1.358      1.998      2.415      1.189         19        640:  80%|████████  | 16/20 [00:02<00:00,  6.68it/s]\n",
      "       7/20      2.73G      1.374      2.039      2.421      1.194         33        640:  85%|████████▌ | 17/20 [00:02<00:00,  6.74it/s]\n",
      "       7/20      2.73G       1.37      2.032      2.448      1.195         18        640:  90%|█████████ | 18/20 [00:02<00:00,  6.82it/s]\n",
      "       7/20      2.73G      1.368      2.029       2.45      1.193         17        640:  95%|█████████▌| 19/20 [00:02<00:00,  6.86it/s]\n",
      "       7/20      2.73G      1.357          2      2.435      1.185          6        640: 100%|██████████| 20/20 [00:02<00:00,  6.98it/s]\n",
      "                 Class     Images  Instances      Box(P          R      mAP50  mAP50-95)     Mask(P          R      mAP50  mAP50-95):   0%|          | 0/4 [00:00<?, ?it/s]\n",
      "                 Class     Images  Instances      Box(P          R      mAP50  mAP50-95)     Mask(P          R      mAP50  mAP50-95):  25%|██▌       | 1/4 [00:00<00:00,  7.23it/s]\n",
      "                 Class     Images  Instances      Box(P          R      mAP50  mAP50-95)     Mask(P          R      mAP50  mAP50-95):  50%|█████     | 2/4 [00:00<00:00,  6.57it/s]\n",
      "                 Class     Images  Instances      Box(P          R      mAP50  mAP50-95)     Mask(P          R      mAP50  mAP50-95):  75%|███████▌  | 3/4 [00:00<00:00,  6.65it/s]\n"
     ]
    },
    {
     "name": "stdout",
     "output_type": "stream",
     "text": [
      "\u001b[36m(_tune pid=138894)\u001b[0m                    all        125         79      0.761      0.443      0.522      0.312      0.781      0.452      0.543      0.329\n"
     ]
    },
    {
     "name": "stderr",
     "output_type": "stream",
     "text": [
      "                 Class     Images  Instances      Box(P          R      mAP50  mAP50-95)     Mask(P          R      mAP50  mAP50-95): 100%|██████████| 4/4 [00:00<00:00,  6.86it/s]\n"
     ]
    },
    {
     "name": "stdout",
     "output_type": "stream",
     "text": [
      "\u001b[36m(_tune pid=138894)\u001b[0m \n",
      "\u001b[36m(_tune pid=138894)\u001b[0m       Epoch    GPU_mem   box_loss   seg_loss   cls_loss   dfl_loss  Instances       Size\n"
     ]
    },
    {
     "name": "stderr",
     "output_type": "stream",
     "text": [
      "  0%|          | 0/20 [00:00<?, ?it/s]\n",
      "       8/20      2.73G      1.104      2.408      2.354      1.057         16        640:   5%|▌         | 1/20 [00:00<00:02,  7.07it/s]\n",
      "       8/20      2.73G      1.193      2.112      3.034      1.142          9        640:  10%|█         | 2/20 [00:00<00:02,  7.06it/s]\n",
      "       8/20      2.73G      1.207      2.097      2.754      1.129         21        640:  15%|█▌        | 3/20 [00:00<00:02,  6.98it/s]\n",
      "       8/20      2.73G      1.216      2.245      2.791      1.133         14        640:  20%|██        | 4/20 [00:00<00:02,  6.74it/s]\n",
      "       8/20      2.73G      1.254      2.179       2.69      1.156         18        640:  25%|██▌       | 5/20 [00:00<00:02,  6.83it/s]\n",
      "       8/20      2.73G      1.223      2.152      2.653      1.139         17        640:  30%|███       | 6/20 [00:00<00:02,  6.87it/s]\n",
      "       8/20      2.73G        1.2      2.125      2.642      1.132         16        640:  35%|███▌      | 7/20 [00:01<00:01,  6.90it/s]\n",
      "       8/20      2.73G      1.233      2.203      2.662      1.143         15        640:  40%|████      | 8/20 [00:01<00:01,  6.72it/s]\n",
      "       8/20      2.73G      1.225       2.19      2.551       1.13         21        640:  45%|████▌     | 9/20 [00:01<00:01,  6.82it/s]\n",
      "       8/20      2.73G       1.23      2.193      2.503      1.134         25        640:  50%|█████     | 10/20 [00:01<00:01,  6.84it/s]\n",
      "       8/20      2.73G      1.245      2.183      2.492      1.136         16        640:  55%|█████▌    | 11/20 [00:01<00:01,  6.89it/s]\n",
      "       8/20      2.73G      1.249      2.231      2.492      1.131         15        640:  60%|██████    | 12/20 [00:01<00:01,  6.73it/s]\n",
      "       8/20      2.73G      1.246      2.258      2.472      1.128         16        640:  65%|██████▌   | 13/20 [00:01<00:01,  6.80it/s]\n",
      "       8/20      2.73G      1.254      2.258      2.457      1.135         16        640:  70%|███████   | 14/20 [00:02<00:00,  6.86it/s]\n",
      "       8/20      2.73G      1.269      2.286        2.5       1.14         17        640:  75%|███████▌  | 15/20 [00:02<00:00,  6.90it/s]\n",
      "       8/20      2.73G      1.274      2.283      2.467      1.136         23        640:  80%|████████  | 16/20 [00:02<00:00,  6.69it/s]\n",
      "       8/20      2.73G      1.278      2.247      2.426      1.138         24        640:  85%|████████▌ | 17/20 [00:02<00:00,  6.77it/s]\n",
      "       8/20      2.73G       1.28      2.245       2.39       1.14         23        640:  90%|█████████ | 18/20 [00:02<00:00,  6.83it/s]\n",
      "       8/20      2.73G      1.277      2.225      2.381      1.137         17        640:  95%|█████████▌| 19/20 [00:02<00:00,  6.87it/s]\n",
      "       8/20      2.73G      1.269      2.216      2.384      1.133          5        640: 100%|██████████| 20/20 [00:02<00:00,  7.00it/s]\n",
      "                 Class     Images  Instances      Box(P          R      mAP50  mAP50-95)     Mask(P          R      mAP50  mAP50-95):   0%|          | 0/4 [00:00<?, ?it/s]\n",
      "                 Class     Images  Instances      Box(P          R      mAP50  mAP50-95)     Mask(P          R      mAP50  mAP50-95):  25%|██▌       | 1/4 [00:00<00:00,  7.34it/s]\n",
      "                 Class     Images  Instances      Box(P          R      mAP50  mAP50-95)     Mask(P          R      mAP50  mAP50-95):  50%|█████     | 2/4 [00:00<00:00,  6.73it/s]\n",
      "                 Class     Images  Instances      Box(P          R      mAP50  mAP50-95)     Mask(P          R      mAP50  mAP50-95):  75%|███████▌  | 3/4 [00:00<00:00,  6.70it/s]\n",
      "                 Class     Images  Instances      Box(P          R      mAP50  mAP50-95)     Mask(P          R      mAP50  mAP50-95): 100%|██████████| 4/4 [00:00<00:00,  6.93it/s]\n"
     ]
    },
    {
     "name": "stdout",
     "output_type": "stream",
     "text": [
      "\u001b[36m(_tune pid=138894)\u001b[0m                    all        125         79      0.602       0.38      0.425      0.197       0.55      0.418      0.464      0.239\n",
      "\u001b[36m(_tune pid=138894)\u001b[0m \n",
      "\u001b[36m(_tune pid=138894)\u001b[0m       Epoch    GPU_mem   box_loss   seg_loss   cls_loss   dfl_loss  Instances       Size\n"
     ]
    },
    {
     "name": "stderr",
     "output_type": "stream",
     "text": [
      "  0%|          | 0/20 [00:00<?, ?it/s]\n",
      "       9/20      2.73G      1.273       1.72      1.806      1.146         23        640:   5%|▌         | 1/20 [00:00<00:02,  6.99it/s]\n",
      "       9/20      2.73G       1.23      1.711      1.894      1.088         17        640:  10%|█         | 2/20 [00:00<00:02,  6.98it/s]\n",
      "       9/20      2.73G       1.16      1.678      2.042       1.04          9        640:  15%|█▌        | 3/20 [00:00<00:02,  7.02it/s]\n",
      "       9/20      2.73G      1.176      1.612      1.988      1.061         17        640:  20%|██        | 4/20 [00:00<00:02,  6.75it/s]\n",
      "       9/20      2.73G      1.167      1.681      2.018      1.053         18        640:  25%|██▌       | 5/20 [00:00<00:02,  6.83it/s]\n",
      "       9/20      2.73G      1.195      1.697      1.988      1.068         27        640:  30%|███       | 6/20 [00:00<00:02,  6.88it/s]\n",
      "       9/20      2.73G      1.191      1.706      1.986      1.058         17        640:  35%|███▌      | 7/20 [00:01<00:01,  6.90it/s]\n",
      "       9/20      2.73G      1.208       1.72      2.022      1.066         15        640:  40%|████      | 8/20 [00:01<00:01,  6.71it/s]\n",
      "       9/20      2.73G      1.233      1.852      2.107      1.079         23        640:  45%|████▌     | 9/20 [00:01<00:01,  6.79it/s]\n",
      "       9/20      2.73G      1.242      1.909      2.134      1.091         16        640:  50%|█████     | 10/20 [00:01<00:01,  6.86it/s]\n",
      "       9/20      2.73G      1.249       1.91      2.116      1.104         19        640:  55%|█████▌    | 11/20 [00:01<00:01,  6.90it/s]\n",
      "       9/20      2.73G      1.271      1.896      2.106      1.115         22        640:  60%|██████    | 12/20 [00:01<00:01,  6.68it/s]\n",
      "       9/20      2.73G      1.272      1.891      2.085       1.11         17        640:  65%|██████▌   | 13/20 [00:01<00:01,  6.79it/s]\n",
      "       9/20      2.73G      1.282      1.932      2.111      1.123         26        640:  70%|███████   | 14/20 [00:02<00:00,  6.82it/s]\n",
      "       9/20      2.73G      1.272      1.955      2.096      1.119         22        640:  75%|███████▌  | 15/20 [00:02<00:00,  6.87it/s]\n",
      "       9/20      2.73G      1.287      1.946      2.092      1.128         16        640:  80%|████████  | 16/20 [00:02<00:00,  6.71it/s]\n",
      "       9/20      2.73G      1.284      1.938      2.092      1.131         16        640:  85%|████████▌ | 17/20 [00:02<00:00,  6.79it/s]\n",
      "       9/20      2.73G      1.291      1.942      2.093      1.133         15        640:  90%|█████████ | 18/20 [00:02<00:00,  6.87it/s]\n",
      "       9/20      2.73G      1.278      1.931      2.071       1.13         17        640:  95%|█████████▌| 19/20 [00:02<00:00,  6.91it/s]\n",
      "       9/20      2.73G       1.28      1.972      2.067      1.136          6        640: 100%|██████████| 20/20 [00:02<00:00,  7.00it/s]\n",
      "                 Class     Images  Instances      Box(P          R      mAP50  mAP50-95)     Mask(P          R      mAP50  mAP50-95):   0%|          | 0/4 [00:00<?, ?it/s]\n",
      "                 Class     Images  Instances      Box(P          R      mAP50  mAP50-95)     Mask(P          R      mAP50  mAP50-95):  25%|██▌       | 1/4 [00:00<00:00,  7.41it/s]\n",
      "                 Class     Images  Instances      Box(P          R      mAP50  mAP50-95)     Mask(P          R      mAP50  mAP50-95):  50%|█████     | 2/4 [00:00<00:00,  6.78it/s]\n",
      "                 Class     Images  Instances      Box(P          R      mAP50  mAP50-95)     Mask(P          R      mAP50  mAP50-95):  75%|███████▌  | 3/4 [00:00<00:00,  6.79it/s]\n"
     ]
    },
    {
     "name": "stdout",
     "output_type": "stream",
     "text": [
      "\u001b[36m(_tune pid=138894)\u001b[0m                    all        125         79      0.393      0.114      0.159     0.0843      0.463      0.114      0.147     0.0801\n",
      "\u001b[36m(_tune pid=138894)\u001b[0m \n",
      "\u001b[36m(_tune pid=138894)\u001b[0m       Epoch    GPU_mem   box_loss   seg_loss   cls_loss   dfl_loss  Instances       Size\n"
     ]
    },
    {
     "name": "stderr",
     "output_type": "stream",
     "text": [
      "                 Class     Images  Instances      Box(P          R      mAP50  mAP50-95)     Mask(P          R      mAP50  mAP50-95): 100%|██████████| 4/4 [00:00<00:00,  7.04it/s]\n",
      "  0%|          | 0/20 [00:00<?, ?it/s]\n",
      "      10/20      2.73G     0.9309      1.474      1.797      1.025         17        640:   5%|▌         | 1/20 [00:00<00:02,  7.04it/s]\n",
      "      10/20      2.73G      1.157      1.757      2.079      1.136         16        640:  10%|█         | 2/20 [00:00<00:02,  7.01it/s]\n",
      "      10/20      2.73G      1.186      1.693      1.906      1.135         27        640:  15%|█▌        | 3/20 [00:00<00:02,  6.94it/s]\n",
      "      10/20      2.73G       1.09        1.6      1.823      1.084         15        640:  20%|██        | 4/20 [00:00<00:02,  6.71it/s]\n",
      "      10/20      2.73G      1.127      1.744      1.885      1.098         17        640:  25%|██▌       | 5/20 [00:00<00:02,  6.83it/s]\n",
      "      10/20      2.73G      1.162      1.798      1.897      1.099         21        640:  30%|███       | 6/20 [00:00<00:02,  6.89it/s]\n",
      "      10/20      2.73G      1.148      1.788      1.905        1.1         17        640:  35%|███▌      | 7/20 [00:01<00:01,  6.93it/s]\n",
      "      10/20      2.73G      1.183      1.772       1.87      1.115         30        640:  40%|████      | 8/20 [00:01<00:01,  6.72it/s]\n",
      "      10/20      2.73G      1.182      1.763      1.848      1.104         17        640:  45%|████▌     | 9/20 [00:01<00:01,  6.79it/s]\n",
      "      10/20      2.73G      1.192       1.75      1.845      1.118         17        640:  50%|█████     | 10/20 [00:01<00:01,  6.85it/s]\n",
      "      10/20      2.73G       1.18      1.737      1.835       1.11         24        640:  55%|█████▌    | 11/20 [00:01<00:01,  6.87it/s]\n",
      "      10/20      2.73G      1.174      1.739      1.868      1.108         11        640:  60%|██████    | 12/20 [00:01<00:01,  6.72it/s]\n",
      "      10/20      2.73G      1.195      1.729      1.876      1.118         18        640:  65%|██████▌   | 13/20 [00:01<00:01,  6.81it/s]\n",
      "      10/20      2.73G      1.196      1.727      1.897      1.117         17        640:  70%|███████   | 14/20 [00:02<00:00,  6.87it/s]\n",
      "      10/20      2.73G      1.221      1.734      1.943      1.123         15        640:  75%|███████▌  | 15/20 [00:02<00:00,  6.91it/s]\n",
      "      10/20      2.73G      1.225      1.741      1.943      1.123         27        640:  80%|████████  | 16/20 [00:02<00:00,  6.71it/s]\n",
      "      10/20      2.73G      1.229       1.73      1.942      1.124         14        640:  85%|████████▌ | 17/20 [00:02<00:00,  6.80it/s]\n",
      "      10/20      2.73G      1.231      1.737      1.931      1.123         22        640:  90%|█████████ | 18/20 [00:02<00:00,  6.84it/s]\n",
      "      10/20      2.73G      1.227      1.732       1.92      1.118         16        640:  95%|█████████▌| 19/20 [00:02<00:00,  6.89it/s]\n",
      "      10/20      2.73G      1.283      1.749      2.048      1.156          3        640: 100%|██████████| 20/20 [00:02<00:00,  7.02it/s]\n",
      "                 Class     Images  Instances      Box(P          R      mAP50  mAP50-95)     Mask(P          R      mAP50  mAP50-95):   0%|          | 0/4 [00:00<?, ?it/s]\n",
      "                 Class     Images  Instances      Box(P          R      mAP50  mAP50-95)     Mask(P          R      mAP50  mAP50-95):  25%|██▌       | 1/4 [00:00<00:00,  7.40it/s]\n",
      "                 Class     Images  Instances      Box(P          R      mAP50  mAP50-95)     Mask(P          R      mAP50  mAP50-95):  50%|█████     | 2/4 [00:00<00:00,  6.75it/s]\n",
      "                 Class     Images  Instances      Box(P          R      mAP50  mAP50-95)     Mask(P          R      mAP50  mAP50-95):  75%|███████▌  | 3/4 [00:00<00:00,  6.67it/s]\n",
      "                 Class     Images  Instances      Box(P          R      mAP50  mAP50-95)     Mask(P          R      mAP50  mAP50-95): 100%|██████████| 4/4 [00:00<00:00,  6.93it/s]\n"
     ]
    },
    {
     "name": "stdout",
     "output_type": "stream",
     "text": [
      "\u001b[36m(_tune pid=138894)\u001b[0m                    all        125         79      0.703      0.569      0.676       0.44      0.738      0.608      0.713      0.446\n",
      "\u001b[36m(_tune pid=138894)\u001b[0m Closing dataloader mosaic\n",
      "\u001b[36m(_tune pid=138894)\u001b[0m \n",
      "\u001b[36m(_tune pid=138894)\u001b[0m       Epoch    GPU_mem   box_loss   seg_loss   cls_loss   dfl_loss  Instances       Size\n"
     ]
    },
    {
     "name": "stderr",
     "output_type": "stream",
     "text": [
      "  0%|          | 0/20 [00:00<?, ?it/s]\n",
      "      11/20      2.73G      1.246      1.894      2.021      1.074         14        640:   5%|▌         | 1/20 [00:00<00:08,  2.23it/s]\n",
      "      11/20      2.73G      1.173      1.798      2.009      1.046         15        640:  10%|█         | 2/20 [00:00<00:05,  3.37it/s]\n",
      "      11/20      2.73G      1.151      1.912       2.03      1.069         12        640:  15%|█▌        | 3/20 [00:00<00:04,  3.85it/s]\n",
      "      11/20      2.73G      1.105      1.877      2.153      1.081          7        640:  20%|██        | 4/20 [00:01<00:03,  4.04it/s]\n",
      "      11/20      2.73G      1.129      1.838      2.125      1.105         11        640:  25%|██▌       | 5/20 [00:01<00:03,  4.77it/s]\n",
      "      11/20      2.73G      1.109      1.807      2.169      1.109          8        640:  30%|███       | 6/20 [00:01<00:02,  5.36it/s]\n",
      "      11/20      2.73G      1.107      1.869      2.133      1.106         10        640:  35%|███▌      | 7/20 [00:01<00:02,  5.80it/s]\n",
      "      11/20      2.73G      1.106      1.837      2.088       1.11         13        640:  40%|████      | 8/20 [00:01<00:02,  5.95it/s]\n",
      "      11/20      2.73G      1.092      1.805      2.054      1.095         10        640:  45%|████▌     | 9/20 [00:01<00:01,  6.22it/s]\n",
      "      11/20      2.73G      1.132      1.803      2.224      1.099          5        640:  50%|█████     | 10/20 [00:01<00:01,  6.43it/s]\n",
      "      11/20      2.73G      1.142      1.794      2.269      1.097          6        640:  55%|█████▌    | 11/20 [00:02<00:01,  6.55it/s]\n",
      "      11/20      2.73G      1.108      1.768      2.347      1.073          4        640:  60%|██████    | 12/20 [00:02<00:01,  6.49it/s]\n",
      "      11/20      2.73G      1.094      1.746      2.325      1.072         11        640:  65%|██████▌   | 13/20 [00:02<00:01,  6.64it/s]\n",
      "      11/20      2.73G       1.06      1.716      2.371      1.065          4        640:  70%|███████   | 14/20 [00:02<00:00,  6.76it/s]\n",
      "      11/20      2.73G      1.069      1.717      2.363      1.066          7        640:  75%|███████▌  | 15/20 [00:02<00:00,  6.80it/s]\n",
      "      11/20      2.73G      1.067       1.72      2.349      1.061         12        640:  80%|████████  | 16/20 [00:02<00:00,  6.66it/s]\n",
      "      11/20      2.73G      1.064       1.72      2.325      1.063         10        640:  85%|████████▌ | 17/20 [00:02<00:00,  6.71it/s]\n",
      "      11/20      2.73G       1.08      1.721      2.323      1.062          8        640:  90%|█████████ | 18/20 [00:03<00:00,  6.79it/s]\n",
      "      11/20      2.73G      1.092       1.75      2.334      1.064          8        640:  95%|█████████▌| 19/20 [00:03<00:00,  6.87it/s]\n",
      "      11/20      2.73G      1.113      1.764      2.338      1.069          4        640: 100%|██████████| 20/20 [00:03<00:00,  5.96it/s]\n",
      "                 Class     Images  Instances      Box(P          R      mAP50  mAP50-95)     Mask(P          R      mAP50  mAP50-95):   0%|          | 0/4 [00:00<?, ?it/s]\n",
      "                 Class     Images  Instances      Box(P          R      mAP50  mAP50-95)     Mask(P          R      mAP50  mAP50-95):  25%|██▌       | 1/4 [00:00<00:00,  7.16it/s]\n",
      "                 Class     Images  Instances      Box(P          R      mAP50  mAP50-95)     Mask(P          R      mAP50  mAP50-95):  50%|█████     | 2/4 [00:00<00:00,  6.58it/s]\n",
      "                 Class     Images  Instances      Box(P          R      mAP50  mAP50-95)     Mask(P          R      mAP50  mAP50-95):  75%|███████▌  | 3/4 [00:00<00:00,  6.62it/s]\n",
      "                 Class     Images  Instances      Box(P          R      mAP50  mAP50-95)     Mask(P          R      mAP50  mAP50-95): 100%|██████████| 4/4 [00:00<00:00,  6.82it/s]\n"
     ]
    },
    {
     "name": "stdout",
     "output_type": "stream",
     "text": [
      "\u001b[36m(_tune pid=138894)\u001b[0m                    all        125         79        0.6      0.354      0.382      0.228        0.6      0.354      0.387      0.211\n",
      "\u001b[36m(_tune pid=138894)\u001b[0m \n",
      "\u001b[36m(_tune pid=138894)\u001b[0m       Epoch    GPU_mem   box_loss   seg_loss   cls_loss   dfl_loss  Instances       Size\n"
     ]
    },
    {
     "name": "stderr",
     "output_type": "stream",
     "text": [
      "  0%|          | 0/20 [00:00<?, ?it/s]\n",
      "      12/20      2.73G      1.596      1.635       4.18       1.13          4        640:   5%|▌         | 1/20 [00:00<00:02,  7.13it/s]\n",
      "      12/20      2.73G       1.59      2.092      3.371      1.208          9        640:  10%|█         | 2/20 [00:00<00:02,  7.09it/s]\n",
      "      12/20      2.73G      1.513      2.191      2.944      1.188         11        640:  15%|█▌        | 3/20 [00:00<00:02,  7.04it/s]\n",
      "      12/20      2.73G      1.456      2.383      2.852      1.203          7        640:  20%|██        | 4/20 [00:00<00:02,  6.75it/s]\n",
      "      12/20      2.73G      1.406      2.321      2.669      1.178         11        640:  25%|██▌       | 5/20 [00:00<00:02,  6.80it/s]\n",
      "      12/20      2.73G      1.399      2.255      2.629      1.204          8        640:  30%|███       | 6/20 [00:00<00:02,  6.88it/s]\n",
      "      12/20      2.73G      1.366       2.27       2.67      1.175          6        640:  35%|███▌      | 7/20 [00:01<00:01,  6.93it/s]\n",
      "      12/20      2.73G      1.357      2.234       2.62      1.163         10        640:  40%|████      | 8/20 [00:01<00:01,  6.75it/s]\n",
      "      12/20      2.73G       1.37       2.15      2.593      1.162          9        640:  45%|████▌     | 9/20 [00:01<00:01,  6.84it/s]\n",
      "      12/20      2.73G      1.356      2.168      2.577      1.153          8        640:  50%|█████     | 10/20 [00:01<00:01,  6.90it/s]\n",
      "      12/20      2.73G      1.341      2.154      2.526      1.146         12        640:  55%|█████▌    | 11/20 [00:01<00:01,  6.93it/s]\n",
      "      12/20      2.73G      1.327      2.127      2.465      1.132         11        640:  60%|██████    | 12/20 [00:01<00:01,  6.75it/s]\n",
      "      12/20      2.73G      1.316      2.142      2.426      1.131         14        640:  65%|██████▌   | 13/20 [00:01<00:01,  6.76it/s]\n",
      "      12/20      2.73G      1.295      2.129      2.435      1.128          9        640:  70%|███████   | 14/20 [00:02<00:00,  6.84it/s]\n",
      "      12/20      2.73G      1.274      2.073       2.39      1.126          9        640:  75%|███████▌  | 15/20 [00:02<00:00,  6.91it/s]\n",
      "      12/20      2.73G      1.291      2.074      2.368      1.133         13        640:  80%|████████  | 16/20 [00:02<00:00,  6.71it/s]\n",
      "      12/20      2.73G      1.278      2.029      2.384      1.124          6        640:  85%|████████▌ | 17/20 [00:02<00:00,  6.83it/s]\n",
      "      12/20      2.73G      1.268      1.996        2.4      1.123          6        640:  90%|█████████ | 18/20 [00:02<00:00,  6.90it/s]\n",
      "      12/20      2.73G      1.272      1.972      2.358      1.124         14        640:  95%|█████████▌| 19/20 [00:02<00:00,  6.93it/s]\n",
      "      12/20      2.73G      1.288      1.948      2.335      1.135          4        640: 100%|██████████| 20/20 [00:02<00:00,  7.04it/s]\n",
      "                 Class     Images  Instances      Box(P          R      mAP50  mAP50-95)     Mask(P          R      mAP50  mAP50-95):   0%|          | 0/4 [00:00<?, ?it/s]\n",
      "                 Class     Images  Instances      Box(P          R      mAP50  mAP50-95)     Mask(P          R      mAP50  mAP50-95):  25%|██▌       | 1/4 [00:00<00:00,  6.68it/s]\n",
      "                 Class     Images  Instances      Box(P          R      mAP50  mAP50-95)     Mask(P          R      mAP50  mAP50-95):  50%|█████     | 2/4 [00:00<00:00,  6.42it/s]\n",
      "                 Class     Images  Instances      Box(P          R      mAP50  mAP50-95)     Mask(P          R      mAP50  mAP50-95):  75%|███████▌  | 3/4 [00:00<00:00,  6.50it/s]\n"
     ]
    },
    {
     "name": "stdout",
     "output_type": "stream",
     "text": [
      "\u001b[36m(_tune pid=138894)\u001b[0m                    all        125         79      0.714      0.519      0.658      0.401       0.77      0.519      0.689      0.438\n",
      "\u001b[36m(_tune pid=138894)\u001b[0m \n",
      "\u001b[36m(_tune pid=138894)\u001b[0m       Epoch    GPU_mem   box_loss   seg_loss   cls_loss   dfl_loss  Instances       Size\n"
     ]
    },
    {
     "name": "stderr",
     "output_type": "stream",
     "text": [
      "                 Class     Images  Instances      Box(P          R      mAP50  mAP50-95)     Mask(P          R      mAP50  mAP50-95): 100%|██████████| 4/4 [00:00<00:00,  6.72it/s]\n",
      "  0%|          | 0/20 [00:00<?, ?it/s]\n",
      "      13/20      2.73G      1.186      1.137      1.941      1.153          9        640:   5%|▌         | 1/20 [00:00<00:02,  6.98it/s]\n",
      "      13/20      2.73G      1.283      1.538      2.255      1.175          9        640:  10%|█         | 2/20 [00:00<00:02,  7.01it/s]\n",
      "      13/20      2.73G      1.278      1.575      2.192      1.147          8        640:  15%|█▌        | 3/20 [00:00<00:02,  7.03it/s]\n",
      "      13/20      2.73G      1.225      1.674      2.218       1.15          8        640:  20%|██        | 4/20 [00:00<00:02,  6.78it/s]\n",
      "      13/20      2.73G       1.23      1.763      2.313      1.173          6        640:  25%|██▌       | 5/20 [00:00<00:02,  6.89it/s]\n",
      "      13/20      2.73G      1.232      1.724      2.255      1.168         11        640:  30%|███       | 6/20 [00:00<00:02,  6.93it/s]\n",
      "      13/20      2.73G      1.203      1.704      2.303       1.14          7        640:  35%|███▌      | 7/20 [00:01<00:01,  6.97it/s]\n",
      "      13/20      2.73G      1.201      1.784      2.496      1.119          3        640:  40%|████      | 8/20 [00:01<00:01,  6.79it/s]\n",
      "      13/20      2.73G      1.169      1.774       2.41      1.105         12        640:  45%|████▌     | 9/20 [00:01<00:01,  6.81it/s]\n",
      "      13/20      2.73G      1.174      1.829      2.393      1.104         14        640:  50%|█████     | 10/20 [00:01<00:01,  6.85it/s]\n",
      "      13/20      2.73G      1.184      1.802      2.406      1.104          7        640:  55%|█████▌    | 11/20 [00:01<00:01,  6.90it/s]\n",
      "      13/20      2.73G      1.189      1.822      2.355       1.11         15        640:  60%|██████    | 12/20 [00:01<00:01,  6.69it/s]\n",
      "      13/20      2.73G      1.187      1.807      2.323      1.104         11        640:  65%|██████▌   | 13/20 [00:01<00:01,  6.77it/s]\n",
      "      13/20      2.73G      1.178      1.769      2.301      1.104          8        640:  70%|███████   | 14/20 [00:02<00:00,  6.87it/s]\n",
      "      13/20      2.73G      1.176      1.745       2.25      1.105         13        640:  75%|███████▌  | 15/20 [00:02<00:00,  6.90it/s]\n",
      "      13/20      2.73G       1.19      1.739      2.392      1.105          3        640:  80%|████████  | 16/20 [00:02<00:00,  6.75it/s]\n",
      "      13/20      2.73G      1.191      1.757      2.397      1.119          6        640:  85%|████████▌ | 17/20 [00:02<00:00,  6.83it/s]\n",
      "      13/20      2.73G      1.179      1.743      2.359      1.113         15        640:  90%|█████████ | 18/20 [00:02<00:00,  6.88it/s]\n",
      "      13/20      2.74G      1.173      1.778      2.325      1.109          3        640: 100%|██████████| 20/20 [00:02<00:00,  7.04it/s]\n",
      "                 Class     Images  Instances      Box(P          R      mAP50  mAP50-95)     Mask(P          R      mAP50  mAP50-95):   0%|          | 0/4 [00:00<?, ?it/s]\n",
      "                 Class     Images  Instances      Box(P          R      mAP50  mAP50-95)     Mask(P          R      mAP50  mAP50-95):  25%|██▌       | 1/4 [00:00<00:00,  7.37it/s]\n",
      "                 Class     Images  Instances      Box(P          R      mAP50  mAP50-95)     Mask(P          R      mAP50  mAP50-95):  50%|█████     | 2/4 [00:00<00:00,  6.72it/s]\n",
      "                 Class     Images  Instances      Box(P          R      mAP50  mAP50-95)     Mask(P          R      mAP50  mAP50-95):  75%|███████▌  | 3/4 [00:00<00:00,  6.69it/s]\n",
      "                 Class     Images  Instances      Box(P          R      mAP50  mAP50-95)     Mask(P          R      mAP50  mAP50-95): 100%|██████████| 4/4 [00:00<00:00,  6.94it/s]\n"
     ]
    },
    {
     "name": "stdout",
     "output_type": "stream",
     "text": [
      "\u001b[36m(_tune pid=138894)\u001b[0m                    all        125         79      0.818      0.696      0.801      0.495      0.818      0.696      0.799      0.532\n",
      "\u001b[36m(_tune pid=138894)\u001b[0m \n",
      "\u001b[36m(_tune pid=138894)\u001b[0m       Epoch    GPU_mem   box_loss   seg_loss   cls_loss   dfl_loss  Instances       Size\n"
     ]
    },
    {
     "name": "stderr",
     "output_type": "stream",
     "text": [
      "  0%|          | 0/20 [00:00<?, ?it/s]\n",
      "      14/20      2.74G      1.084      1.431      1.566      1.116         11        640:   5%|▌         | 1/20 [00:00<00:02,  7.06it/s]\n",
      "      14/20      2.74G      1.149      1.786      2.053      1.154          9        640:  10%|█         | 2/20 [00:00<00:02,  7.05it/s]\n",
      "      14/20      2.74G       1.17       1.71       2.07      1.126          8        640:  15%|█▌        | 3/20 [00:00<00:02,  7.04it/s]\n",
      "      14/20      2.74G      1.124      1.644      2.003      1.105         10        640:  20%|██        | 4/20 [00:00<00:02,  6.77it/s]\n",
      "      14/20      2.74G      1.126       1.65      1.904        1.1         15        640:  25%|██▌       | 5/20 [00:00<00:02,  6.78it/s]\n",
      "      14/20      2.74G      1.114      1.647      1.827      1.089         11        640:  30%|███       | 6/20 [00:00<00:02,  6.86it/s]\n",
      "      14/20      2.74G       1.11      1.633      1.846      1.085         11        640:  35%|███▌      | 7/20 [00:01<00:01,  6.91it/s]\n",
      "      14/20      2.74G      1.152      1.681      1.874      1.091         12        640:  40%|████      | 8/20 [00:01<00:01,  6.72it/s]\n",
      "      14/20      2.74G      1.193      1.682      1.903      1.113          9        640:  45%|████▌     | 9/20 [00:01<00:01,  6.83it/s]\n",
      "      14/20      2.74G       1.17      1.657      1.861      1.114         10        640:  50%|█████     | 10/20 [00:01<00:01,  6.89it/s]\n",
      "      14/20      2.74G      1.155      1.618      1.902      1.104          6        640:  55%|█████▌    | 11/20 [00:01<00:01,  6.94it/s]\n",
      "      14/20      2.74G       1.14      1.586      1.874      1.093         10        640:  60%|██████    | 12/20 [00:01<00:01,  6.76it/s]\n",
      "      14/20      2.74G      1.144        1.6      1.947      1.086          6        640:  65%|██████▌   | 13/20 [00:01<00:01,  6.84it/s]\n",
      "      14/20      2.74G      1.133      1.568      1.948      1.086          7        640:  70%|███████   | 14/20 [00:02<00:00,  6.89it/s]\n",
      "      14/20      2.74G       1.13      1.557      1.949      1.077          7        640:  75%|███████▌  | 15/20 [00:02<00:00,  6.95it/s]\n",
      "      14/20      2.74G      1.104      1.551      1.944      1.062          7        640:  80%|████████  | 16/20 [00:02<00:00,  6.75it/s]\n",
      "      14/20      2.74G      1.131      1.601      2.008      1.077          6        640:  85%|████████▌ | 17/20 [00:02<00:00,  6.86it/s]\n",
      "      14/20      2.74G      1.136      1.605      2.024      1.079          7        640:  90%|█████████ | 18/20 [00:02<00:00,  6.92it/s]\n",
      "      14/20      2.74G      1.144      1.587       2.02      1.083         10        640:  95%|█████████▌| 19/20 [00:02<00:00,  6.94it/s]\n",
      "      14/20      2.75G       1.15      1.596       1.99      1.092          6        640: 100%|██████████| 20/20 [00:02<00:00,  7.04it/s]\n",
      "                 Class     Images  Instances      Box(P          R      mAP50  mAP50-95)     Mask(P          R      mAP50  mAP50-95):   0%|          | 0/4 [00:00<?, ?it/s]\n",
      "                 Class     Images  Instances      Box(P          R      mAP50  mAP50-95)     Mask(P          R      mAP50  mAP50-95):  25%|██▌       | 1/4 [00:00<00:00,  7.45it/s]\n",
      "                 Class     Images  Instances      Box(P          R      mAP50  mAP50-95)     Mask(P          R      mAP50  mAP50-95):  50%|█████     | 2/4 [00:00<00:00,  6.73it/s]\n",
      "                 Class     Images  Instances      Box(P          R      mAP50  mAP50-95)     Mask(P          R      mAP50  mAP50-95):  75%|███████▌  | 3/4 [00:00<00:00,  6.70it/s]\n",
      "                 Class     Images  Instances      Box(P          R      mAP50  mAP50-95)     Mask(P          R      mAP50  mAP50-95): 100%|██████████| 4/4 [00:00<00:00,  6.96it/s]\n"
     ]
    },
    {
     "name": "stdout",
     "output_type": "stream",
     "text": [
      "\u001b[36m(_tune pid=138894)\u001b[0m                    all        125         79      0.813      0.715      0.779       0.48      0.819      0.696      0.786      0.526\n",
      "\u001b[36m(_tune pid=138894)\u001b[0m \n",
      "\u001b[36m(_tune pid=138894)\u001b[0m       Epoch    GPU_mem   box_loss   seg_loss   cls_loss   dfl_loss  Instances       Size\n"
     ]
    },
    {
     "name": "stderr",
     "output_type": "stream",
     "text": [
      "  0%|          | 0/20 [00:00<?, ?it/s]\n",
      "      15/20      2.75G      1.097      1.698      1.659       1.03         12        640:   5%|▌         | 1/20 [00:00<00:02,  7.05it/s]\n",
      "      15/20      2.75G      1.113      1.526      1.586      1.085          9        640:  10%|█         | 2/20 [00:00<00:02,  7.00it/s]\n",
      "      15/20      2.75G      1.082      1.483      1.563      1.081         11        640:  15%|█▌        | 3/20 [00:00<00:02,  6.99it/s]\n",
      "      15/20      2.75G       1.15       1.44      1.722       1.11          6        640:  20%|██        | 4/20 [00:00<00:02,  6.74it/s]\n",
      "      15/20      2.75G      1.213      1.493      1.797      1.103          8        640:  25%|██▌       | 5/20 [00:00<00:02,  6.87it/s]\n",
      "      15/20      2.75G      1.196      1.572      1.793      1.098          7        640:  30%|███       | 6/20 [00:00<00:02,  6.92it/s]\n",
      "      15/20      2.75G      1.204      1.702      1.794      1.099         11        640:  35%|███▌      | 7/20 [00:01<00:01,  6.92it/s]\n",
      "      15/20      2.75G      1.201      1.703      1.804      1.101         12        640:  40%|████      | 8/20 [00:01<00:01,  6.71it/s]\n",
      "      15/20      2.75G      1.204      1.692      1.839      1.098          6        640:  45%|████▌     | 9/20 [00:01<00:01,  6.83it/s]\n",
      "      15/20      2.75G       1.18      1.682      1.855      1.089          7        640:  50%|█████     | 10/20 [00:01<00:01,  6.89it/s]\n",
      "      15/20      2.75G      1.178      1.676       1.82      1.096         12        640:  55%|█████▌    | 11/20 [00:01<00:01,  6.93it/s]\n",
      "      15/20      2.75G      1.186      1.648      1.856        1.1          5        640:  60%|██████    | 12/20 [00:01<00:01,  6.76it/s]\n",
      "      15/20      2.75G      1.178      1.647      1.864      1.099          6        640:  65%|██████▌   | 13/20 [00:01<00:01,  6.86it/s]\n",
      "      15/20      2.75G      1.167      1.629      1.834      1.092         12        640:  70%|███████   | 14/20 [00:02<00:00,  6.91it/s]\n",
      "      15/20      2.75G      1.153      1.647       1.87      1.087          5        640:  75%|███████▌  | 15/20 [00:02<00:00,  6.93it/s]\n",
      "      15/20      2.75G       1.16      1.646      1.882      1.088         12        640:  80%|████████  | 16/20 [00:02<00:00,  6.74it/s]\n",
      "      15/20      2.75G      1.147      1.622      1.856      1.084         10        640:  85%|████████▌ | 17/20 [00:02<00:00,  6.83it/s]\n",
      "      15/20      2.75G      1.135      1.603      1.824       1.08         11        640:  90%|█████████ | 18/20 [00:02<00:00,  6.88it/s]\n",
      "      15/20      2.75G      1.135      1.603      1.808      1.083         14        640:  95%|█████████▌| 19/20 [00:02<00:00,  6.92it/s]\n",
      "      15/20      2.76G      1.134      1.622      1.838      1.087          3        640: 100%|██████████| 20/20 [00:02<00:00,  7.04it/s]\n",
      "                 Class     Images  Instances      Box(P          R      mAP50  mAP50-95)     Mask(P          R      mAP50  mAP50-95):   0%|          | 0/4 [00:00<?, ?it/s]\n",
      "                 Class     Images  Instances      Box(P          R      mAP50  mAP50-95)     Mask(P          R      mAP50  mAP50-95):  25%|██▌       | 1/4 [00:00<00:00,  7.42it/s]\n",
      "                 Class     Images  Instances      Box(P          R      mAP50  mAP50-95)     Mask(P          R      mAP50  mAP50-95):  50%|█████     | 2/4 [00:00<00:00,  6.71it/s]\n",
      "                 Class     Images  Instances      Box(P          R      mAP50  mAP50-95)     Mask(P          R      mAP50  mAP50-95):  75%|███████▌  | 3/4 [00:00<00:00,  6.70it/s]\n"
     ]
    },
    {
     "name": "stdout",
     "output_type": "stream",
     "text": [
      "\u001b[36m(_tune pid=138894)\u001b[0m                    all        125         79       0.91      0.734      0.845      0.513       0.91      0.734      0.846       0.59\n"
     ]
    },
    {
     "name": "stderr",
     "output_type": "stream",
     "text": [
      "                 Class     Images  Instances      Box(P          R      mAP50  mAP50-95)     Mask(P          R      mAP50  mAP50-95): 100%|██████████| 4/4 [00:00<00:00,  6.93it/s]\n"
     ]
    },
    {
     "name": "stdout",
     "output_type": "stream",
     "text": [
      "\u001b[36m(_tune pid=138894)\u001b[0m \n",
      "\u001b[36m(_tune pid=138894)\u001b[0m       Epoch    GPU_mem   box_loss   seg_loss   cls_loss   dfl_loss  Instances       Size\n"
     ]
    },
    {
     "name": "stderr",
     "output_type": "stream",
     "text": [
      "  0%|          | 0/20 [00:00<?, ?it/s]\n",
      "      16/20      2.76G      1.261      1.834      1.863      1.281         10        640:   5%|▌         | 1/20 [00:00<00:02,  7.07it/s]\n",
      "      16/20      2.76G      1.165      1.653      1.843      1.149          9        640:  10%|█         | 2/20 [00:00<00:02,  7.04it/s]\n",
      "      16/20      2.76G      1.119      1.512      1.761      1.104          9        640:  15%|█▌        | 3/20 [00:00<00:02,  7.05it/s]\n",
      "      16/20      2.76G      1.121      1.493      1.767      1.106          7        640:  20%|██        | 4/20 [00:00<00:02,  6.78it/s]\n",
      "      16/20      2.76G       1.07       1.53      1.774      1.084          7        640:  25%|██▌       | 5/20 [00:00<00:02,  6.90it/s]\n",
      "      16/20      2.76G      1.054      1.494      1.765      1.076         11        640:  30%|███       | 6/20 [00:00<00:02,  6.94it/s]\n",
      "      16/20      2.76G      1.057      1.482      1.808      1.071          7        640:  35%|███▌      | 7/20 [00:01<00:01,  6.96it/s]\n",
      "      16/20      2.76G      1.102      1.514       1.85      1.088          7        640:  40%|████      | 8/20 [00:01<00:01,  6.78it/s]\n",
      "      16/20      2.76G      1.101       1.51      1.804      1.097          9        640:  45%|████▌     | 9/20 [00:01<00:01,  6.86it/s]\n",
      "      16/20      2.76G      1.114      1.498      1.805      1.106          9        640:  50%|█████     | 10/20 [00:01<00:01,  6.92it/s]\n",
      "      16/20      2.76G      1.132      1.531      1.806      1.114         17        640:  55%|█████▌    | 11/20 [00:01<00:01,  6.94it/s]\n",
      "      16/20      2.76G       1.11      1.511       1.78      1.099          6        640:  60%|██████    | 12/20 [00:01<00:01,  6.74it/s]\n",
      "      16/20      2.76G      1.099      1.491      1.792      1.088          8        640:  65%|██████▌   | 13/20 [00:01<00:01,  6.84it/s]\n",
      "      16/20      2.76G      1.093      1.487      1.786      1.086          9        640:  70%|███████   | 14/20 [00:02<00:00,  6.89it/s]\n",
      "      16/20      2.76G      1.089        1.5      1.782      1.082         12        640:  75%|███████▌  | 15/20 [00:02<00:00,  6.94it/s]\n",
      "      16/20      2.76G      1.109      1.499      1.759      1.088         12        640:  80%|████████  | 16/20 [00:02<00:00,  6.68it/s]\n",
      "      16/20      2.76G        1.1       1.49      1.741      1.086         13        640:  85%|████████▌ | 17/20 [00:02<00:00,  6.78it/s]\n",
      "      16/20      2.76G      1.102      1.485      1.737      1.087         10        640:  90%|█████████ | 18/20 [00:02<00:00,  6.86it/s]\n",
      "      16/20      2.76G        1.1      1.479      1.746      1.082          6        640:  95%|█████████▌| 19/20 [00:02<00:00,  6.93it/s]\n",
      "      16/20      2.77G       1.09       1.53      1.736       1.08          4        640: 100%|██████████| 20/20 [00:02<00:00,  7.05it/s]\n",
      "                 Class     Images  Instances      Box(P          R      mAP50  mAP50-95)     Mask(P          R      mAP50  mAP50-95):   0%|          | 0/4 [00:00<?, ?it/s]\n",
      "                 Class     Images  Instances      Box(P          R      mAP50  mAP50-95)     Mask(P          R      mAP50  mAP50-95):  25%|██▌       | 1/4 [00:00<00:00,  7.36it/s]\n",
      "                 Class     Images  Instances      Box(P          R      mAP50  mAP50-95)     Mask(P          R      mAP50  mAP50-95):  50%|█████     | 2/4 [00:00<00:00,  6.69it/s]\n",
      "                 Class     Images  Instances      Box(P          R      mAP50  mAP50-95)     Mask(P          R      mAP50  mAP50-95):  75%|███████▌  | 3/4 [00:00<00:00,  6.73it/s]\n"
     ]
    },
    {
     "name": "stdout",
     "output_type": "stream",
     "text": [
      "\u001b[36m(_tune pid=138894)\u001b[0m                    all        125         79      0.868      0.663      0.756      0.493      0.868      0.663       0.75      0.458\n",
      "\u001b[36m(_tune pid=138894)\u001b[0m \n",
      "\u001b[36m(_tune pid=138894)\u001b[0m       Epoch    GPU_mem   box_loss   seg_loss   cls_loss   dfl_loss  Instances       Size\n"
     ]
    },
    {
     "name": "stderr",
     "output_type": "stream",
     "text": [
      "                 Class     Images  Instances      Box(P          R      mAP50  mAP50-95)     Mask(P          R      mAP50  mAP50-95): 100%|██████████| 4/4 [00:00<00:00,  6.99it/s]\n",
      "  0%|          | 0/20 [00:00<?, ?it/s]\n",
      "      17/20      2.77G      1.089      1.751      2.022      1.062          8        640:   5%|▌         | 1/20 [00:00<00:02,  6.96it/s]\n",
      "      17/20      2.77G     0.8555      1.264      1.848     0.9479          4        640:  10%|█         | 2/20 [00:00<00:02,  6.98it/s]\n",
      "      17/20      2.77G     0.9127      1.258      1.712     0.9587          9        640:  15%|█▌        | 3/20 [00:00<00:02,  7.01it/s]\n",
      "      17/20      2.77G      0.934       1.39      1.619     0.9673         13        640:  20%|██        | 4/20 [00:00<00:02,  6.75it/s]\n",
      "      17/20      2.77G      1.035      1.491      1.612      1.007          7        640:  25%|██▌       | 5/20 [00:00<00:02,  6.87it/s]\n",
      "      17/20      2.77G      1.105      1.513      1.606       1.04         14        640:  30%|███       | 6/20 [00:00<00:02,  6.90it/s]\n",
      "      17/20      2.77G      1.089      1.518      1.635      1.018         11        640:  35%|███▌      | 7/20 [00:01<00:01,  6.95it/s]\n",
      "      17/20      2.77G      1.146      1.591      1.661      1.028          7        640:  40%|████      | 8/20 [00:01<00:01,  6.77it/s]\n",
      "      17/20      2.77G       1.17      1.615      1.645      1.057         15        640:  45%|████▌     | 9/20 [00:01<00:01,  6.85it/s]\n",
      "      17/20      2.77G      1.164      1.603      1.636      1.056         13        640:  50%|█████     | 10/20 [00:01<00:01,  6.87it/s]\n",
      "      17/20      2.77G      1.156      1.616      1.625       1.05          9        640:  55%|█████▌    | 11/20 [00:01<00:01,  6.93it/s]\n",
      "      17/20      2.77G      1.168      1.631       1.66      1.058         10        640:  60%|██████    | 12/20 [00:01<00:01,  6.71it/s]\n",
      "      17/20      2.77G      1.144      1.582       1.64      1.052          7        640:  65%|██████▌   | 13/20 [00:01<00:01,  6.83it/s]\n",
      "      17/20      2.77G      1.116      1.551      1.633      1.052          7        640:  70%|███████   | 14/20 [00:02<00:00,  6.90it/s]\n",
      "      17/20      2.77G      1.127       1.56      1.626      1.071         12        640:  75%|███████▌  | 15/20 [00:02<00:00,  6.94it/s]\n",
      "      17/20      2.77G      1.134      1.569      1.615      1.075         12        640:  80%|████████  | 16/20 [00:02<00:00,  6.76it/s]\n",
      "      17/20      2.77G      1.129      1.579      1.615      1.073          9        640:  85%|████████▌ | 17/20 [00:02<00:00,  6.85it/s]\n",
      "      17/20      2.77G      1.107      1.557      1.614      1.066          6        640:  90%|█████████ | 18/20 [00:02<00:00,  6.90it/s]\n",
      "      17/20      2.78G      1.096      1.539      1.687       1.06          1        640: 100%|██████████| 20/20 [00:02<00:00,  7.05it/s]\n",
      "                 Class     Images  Instances      Box(P          R      mAP50  mAP50-95)     Mask(P          R      mAP50  mAP50-95):   0%|          | 0/4 [00:00<?, ?it/s]\n",
      "                 Class     Images  Instances      Box(P          R      mAP50  mAP50-95)     Mask(P          R      mAP50  mAP50-95):  25%|██▌       | 1/4 [00:00<00:00,  7.57it/s]\n",
      "                 Class     Images  Instances      Box(P          R      mAP50  mAP50-95)     Mask(P          R      mAP50  mAP50-95):  50%|█████     | 2/4 [00:00<00:00,  6.85it/s]\n",
      "                 Class     Images  Instances      Box(P          R      mAP50  mAP50-95)     Mask(P          R      mAP50  mAP50-95):  75%|███████▌  | 3/4 [00:00<00:00,  6.83it/s]\n",
      "                 Class     Images  Instances      Box(P          R      mAP50  mAP50-95)     Mask(P          R      mAP50  mAP50-95): 100%|██████████| 4/4 [00:00<00:00,  7.07it/s]\n"
     ]
    },
    {
     "name": "stdout",
     "output_type": "stream",
     "text": [
      "\u001b[36m(_tune pid=138894)\u001b[0m                    all        125         79      0.894      0.749      0.831      0.544      0.953       0.77      0.863      0.552\n",
      "\u001b[36m(_tune pid=138894)\u001b[0m \n",
      "\u001b[36m(_tune pid=138894)\u001b[0m       Epoch    GPU_mem   box_loss   seg_loss   cls_loss   dfl_loss  Instances       Size\n"
     ]
    },
    {
     "name": "stderr",
     "output_type": "stream",
     "text": [
      "  0%|          | 0/20 [00:00<?, ?it/s]\n",
      "      18/20      2.78G       1.06      1.633      1.678      1.079          8        640:   5%|▌         | 1/20 [00:00<00:02,  7.04it/s]\n",
      "      18/20      2.78G      1.205      1.587      1.597      1.119         11        640:  10%|█         | 2/20 [00:00<00:02,  7.04it/s]\n",
      "      18/20      2.78G      1.108      1.526      1.585      1.046         10        640:  15%|█▌        | 3/20 [00:00<00:02,  7.03it/s]\n",
      "      18/20      2.78G      1.036      1.429      1.531      1.046          8        640:  20%|██        | 4/20 [00:00<00:02,  6.78it/s]\n",
      "      18/20      2.78G      1.088      1.448      1.625      1.055         10        640:  25%|██▌       | 5/20 [00:00<00:02,  6.88it/s]\n",
      "      18/20      2.78G      1.109      1.394      1.687      1.071          5        640:  30%|███       | 6/20 [00:00<00:02,  6.95it/s]\n",
      "      18/20      2.78G      1.096       1.41      1.642       1.07         11        640:  35%|███▌      | 7/20 [00:01<00:01,  6.97it/s]\n",
      "      18/20      2.78G      1.062      1.376      1.606      1.066         10        640:  40%|████      | 8/20 [00:01<00:01,  6.71it/s]\n",
      "      18/20      2.78G      1.024      1.418      1.563      1.046         10        640:  45%|████▌     | 9/20 [00:01<00:01,  6.80it/s]\n",
      "      18/20      2.78G      1.003      1.431       1.59      1.035          6        640:  50%|█████     | 10/20 [00:01<00:01,  6.89it/s]\n",
      "      18/20      2.78G      1.003      1.428      1.562      1.033         13        640:  55%|█████▌    | 11/20 [00:01<00:01,  6.93it/s]\n",
      "      18/20      2.78G      0.999      1.415      1.585       1.03          6        640:  60%|██████    | 12/20 [00:01<00:01,  6.76it/s]\n",
      "      18/20      2.78G      1.024      1.444      1.616      1.037         15        640:  65%|██████▌   | 13/20 [00:01<00:01,  6.82it/s]\n",
      "      18/20      2.78G          1      1.414      1.643      1.028          3        640:  70%|███████   | 14/20 [00:02<00:00,  6.91it/s]\n",
      "      18/20      2.78G     0.9947      1.401      1.616      1.025         13        640:  75%|███████▌  | 15/20 [00:02<00:00,  6.94it/s]\n",
      "      18/20      2.78G      1.003      1.397      1.626      1.024          6        640:  80%|████████  | 16/20 [00:02<00:00,  6.75it/s]\n",
      "      18/20      2.78G      1.003      1.399      1.611      1.026          8        640:  85%|████████▌ | 17/20 [00:02<00:00,  6.85it/s]\n",
      "      18/20      2.78G     0.9952      1.385      1.585       1.02         10        640:  90%|█████████ | 18/20 [00:02<00:00,  6.88it/s]\n",
      "      18/20      2.78G     0.9939      1.383      1.585       1.02         11        640:  95%|█████████▌| 19/20 [00:02<00:00,  6.93it/s]\n",
      "      18/20      2.78G     0.9805      1.409      1.602      1.014          3        640: 100%|██████████| 20/20 [00:02<00:00,  7.06it/s]\n",
      "                 Class     Images  Instances      Box(P          R      mAP50  mAP50-95)     Mask(P          R      mAP50  mAP50-95):   0%|          | 0/4 [00:00<?, ?it/s]\n",
      "                 Class     Images  Instances      Box(P          R      mAP50  mAP50-95)     Mask(P          R      mAP50  mAP50-95):  25%|██▌       | 1/4 [00:00<00:00,  7.70it/s]\n",
      "                 Class     Images  Instances      Box(P          R      mAP50  mAP50-95)     Mask(P          R      mAP50  mAP50-95):  50%|█████     | 2/4 [00:00<00:00,  6.96it/s]\n",
      "                 Class     Images  Instances      Box(P          R      mAP50  mAP50-95)     Mask(P          R      mAP50  mAP50-95):  75%|███████▌  | 3/4 [00:00<00:00,  6.94it/s]\n",
      "                 Class     Images  Instances      Box(P          R      mAP50  mAP50-95)     Mask(P          R      mAP50  mAP50-95): 100%|██████████| 4/4 [00:00<00:00,  7.21it/s]\n"
     ]
    },
    {
     "name": "stdout",
     "output_type": "stream",
     "text": [
      "\u001b[36m(_tune pid=138894)\u001b[0m                    all        125         79      0.966      0.759      0.892      0.608      0.939      0.774      0.903      0.634\n",
      "\u001b[36m(_tune pid=138894)\u001b[0m \n",
      "\u001b[36m(_tune pid=138894)\u001b[0m       Epoch    GPU_mem   box_loss   seg_loss   cls_loss   dfl_loss  Instances       Size\n"
     ]
    },
    {
     "name": "stderr",
     "output_type": "stream",
     "text": [
      "  0%|          | 0/20 [00:00<?, ?it/s]\n",
      "      19/20      2.78G     0.8931      1.264      1.208     0.9335         10        640:   5%|▌         | 1/20 [00:00<00:02,  7.07it/s]\n",
      "      19/20      2.78G      1.024      1.094      1.418      1.014          7        640:  10%|█         | 2/20 [00:00<00:02,  7.07it/s]\n",
      "      19/20      2.78G      1.059      1.265      1.339      1.026          9        640:  15%|█▌        | 3/20 [00:00<00:02,  7.06it/s]\n",
      "      19/20      2.78G      1.092      1.332       1.48      1.008          7        640:  20%|██        | 4/20 [00:00<00:02,  6.80it/s]\n",
      "      19/20      2.78G      1.084      1.318      1.467      1.021         15        640:  25%|██▌       | 5/20 [00:00<00:02,  6.89it/s]\n",
      "      19/20      2.78G      1.074      1.351      1.415      1.024         13        640:  30%|███       | 6/20 [00:00<00:02,  6.91it/s]\n",
      "      19/20      2.78G      1.088      1.408      1.402      1.055          9        640:  35%|███▌      | 7/20 [00:01<00:01,  6.97it/s]\n",
      "      19/20      2.78G      1.077      1.429      1.412      1.056          7        640:  40%|████      | 8/20 [00:01<00:01,  6.78it/s]\n",
      "      19/20      2.78G      1.087      1.434      1.423      1.051         15        640:  45%|████▌     | 9/20 [00:01<00:01,  6.86it/s]\n",
      "      19/20      2.78G      1.074      1.468      1.404      1.047         15        640:  50%|█████     | 10/20 [00:01<00:01,  6.89it/s]\n",
      "      19/20      2.78G      1.067       1.42      1.402       1.04          8        640:  55%|█████▌    | 11/20 [00:01<00:01,  6.95it/s]\n",
      "      19/20      2.78G       1.08      1.471      1.425      1.047          8        640:  60%|██████    | 12/20 [00:01<00:01,  6.78it/s]\n",
      "      19/20      2.78G      1.083      1.467      1.418      1.053          9        640:  65%|██████▌   | 13/20 [00:01<00:01,  6.85it/s]\n",
      "      19/20      2.78G      1.071      1.454      1.404      1.045          8        640:  70%|███████   | 14/20 [00:02<00:00,  6.93it/s]\n",
      "      19/20      2.78G      1.049      1.415      1.416      1.032          4        640:  75%|███████▌  | 15/20 [00:02<00:00,  6.94it/s]\n",
      "      19/20      2.78G      1.043      1.398      1.404      1.032         12        640:  80%|████████  | 16/20 [00:02<00:00,  6.73it/s]\n",
      "      19/20      2.78G      1.064      1.416       1.45      1.042          5        640:  85%|████████▌ | 17/20 [00:02<00:00,  6.84it/s]\n",
      "      19/20      2.78G       1.06      1.415      1.444      1.041         10        640:  90%|█████████ | 18/20 [00:02<00:00,  6.89it/s]\n",
      "      19/20      2.78G      1.064      1.418       1.44      1.045          9        640:  95%|█████████▌| 19/20 [00:02<00:00,  6.94it/s]\n",
      "      19/20      2.78G       1.09      1.425      1.524       1.05          1        640: 100%|██████████| 20/20 [00:02<00:00,  7.07it/s]\n",
      "                 Class     Images  Instances      Box(P          R      mAP50  mAP50-95)     Mask(P          R      mAP50  mAP50-95):   0%|          | 0/4 [00:00<?, ?it/s]\n",
      "                 Class     Images  Instances      Box(P          R      mAP50  mAP50-95)     Mask(P          R      mAP50  mAP50-95):  25%|██▌       | 1/4 [00:00<00:00,  7.83it/s]\n",
      "                 Class     Images  Instances      Box(P          R      mAP50  mAP50-95)     Mask(P          R      mAP50  mAP50-95):  50%|█████     | 2/4 [00:00<00:00,  7.07it/s]\n",
      "                 Class     Images  Instances      Box(P          R      mAP50  mAP50-95)     Mask(P          R      mAP50  mAP50-95):  75%|███████▌  | 3/4 [00:00<00:00,  7.10it/s]\n",
      "                 Class     Images  Instances      Box(P          R      mAP50  mAP50-95)     Mask(P          R      mAP50  mAP50-95): 100%|██████████| 4/4 [00:00<00:00,  7.36it/s]\n"
     ]
    },
    {
     "name": "stdout",
     "output_type": "stream",
     "text": [
      "\u001b[36m(_tune pid=138894)\u001b[0m                    all        125         79      0.983      0.582      0.779        0.5      0.837      0.658      0.807      0.531\n",
      "\u001b[36m(_tune pid=138894)\u001b[0m \n",
      "\u001b[36m(_tune pid=138894)\u001b[0m       Epoch    GPU_mem   box_loss   seg_loss   cls_loss   dfl_loss  Instances       Size\n"
     ]
    },
    {
     "name": "stderr",
     "output_type": "stream",
     "text": [
      "  0%|          | 0/20 [00:00<?, ?it/s]\n",
      "      20/20      2.78G     0.9978      1.202       1.32       1.02          8        640:   5%|▌         | 1/20 [00:00<00:02,  7.14it/s]\n",
      "      20/20      2.78G      1.059      1.114      1.443      1.069          6        640:  10%|█         | 2/20 [00:00<00:02,  7.10it/s]\n",
      "      20/20      2.78G      1.132       1.19      1.441      1.088          9        640:  15%|█▌        | 3/20 [00:00<00:02,  7.07it/s]\n",
      "      20/20      2.78G      1.061      1.116      1.368      1.045         12        640:  20%|██        | 4/20 [00:00<00:02,  6.79it/s]\n",
      "      20/20      2.78G     0.9929      1.146      1.349      1.011          9        640:  25%|██▌       | 5/20 [00:00<00:02,  6.88it/s]\n",
      "      20/20      2.78G      1.039       1.29      1.404      1.052         11        640:  30%|███       | 6/20 [00:00<00:02,  6.93it/s]\n",
      "      20/20      2.78G      1.024      1.296      1.347      1.051         15        640:  35%|███▌      | 7/20 [00:01<00:01,  6.94it/s]\n",
      "      20/20      2.78G     0.9993      1.401      1.339      1.038          8        640:  40%|████      | 8/20 [00:01<00:01,  6.72it/s]\n",
      "      20/20      2.78G      1.008      1.406      1.335      1.036         12        640:  45%|████▌     | 9/20 [00:01<00:01,  6.79it/s]\n",
      "      20/20      2.78G     0.9922      1.386      1.326      1.023         13        640:  50%|█████     | 10/20 [00:01<00:01,  6.85it/s]\n",
      "      20/20      2.78G      1.012      1.429      1.362      1.044         11        640:  55%|█████▌    | 11/20 [00:01<00:01,  6.91it/s]\n",
      "      20/20      2.78G     0.9972      1.434      1.402      1.034          5        640:  60%|██████    | 12/20 [00:01<00:01,  6.76it/s]\n",
      "      20/20      2.78G      1.004      1.422      1.394      1.035         11        640:  65%|██████▌   | 13/20 [00:01<00:01,  6.83it/s]\n",
      "      20/20      2.78G     0.9937      1.393      1.398      1.028          6        640:  70%|███████   | 14/20 [00:02<00:00,  6.90it/s]\n",
      "      20/20      2.78G     0.9993      1.405      1.463      1.024          5        640:  75%|███████▌  | 15/20 [00:02<00:00,  6.96it/s]\n",
      "      20/20      2.78G     0.9985      1.386      1.446      1.032         10        640:  80%|████████  | 16/20 [00:02<00:00,  6.75it/s]\n",
      "      20/20      2.78G     0.9916      1.383      1.432      1.027         10        640:  85%|████████▌ | 17/20 [00:02<00:00,  6.84it/s]\n",
      "      20/20      2.78G     0.9913      1.406       1.43      1.024          8        640:  90%|█████████ | 18/20 [00:02<00:00,  6.90it/s]\n",
      "      20/20      2.78G      1.008      1.426      1.433      1.024          8        640:  95%|█████████▌| 19/20 [00:02<00:00,  6.95it/s]\n",
      "      20/20      2.78G     0.9845      1.391      1.426      1.013          2        640: 100%|██████████| 20/20 [00:02<00:00,  7.05it/s]\n",
      "                 Class     Images  Instances      Box(P          R      mAP50  mAP50-95)     Mask(P          R      mAP50  mAP50-95):   0%|          | 0/4 [00:00<?, ?it/s]\n",
      "                 Class     Images  Instances      Box(P          R      mAP50  mAP50-95)     Mask(P          R      mAP50  mAP50-95):  25%|██▌       | 1/4 [00:00<00:00,  7.77it/s]\n",
      "                 Class     Images  Instances      Box(P          R      mAP50  mAP50-95)     Mask(P          R      mAP50  mAP50-95):  50%|█████     | 2/4 [00:00<00:00,  7.10it/s]\n",
      "                 Class     Images  Instances      Box(P          R      mAP50  mAP50-95)     Mask(P          R      mAP50  mAP50-95):  75%|███████▌  | 3/4 [00:00<00:00,  7.06it/s]\n",
      "                 Class     Images  Instances      Box(P          R      mAP50  mAP50-95)     Mask(P          R      mAP50  mAP50-95): 100%|██████████| 4/4 [00:00<00:00,  7.28it/s]\n"
     ]
    },
    {
     "name": "stdout",
     "output_type": "stream",
     "text": [
      "\u001b[36m(_tune pid=138894)\u001b[0m                    all        125         79      0.986      0.867      0.936      0.658      0.986      0.867      0.939      0.658\n"
     ]
    },
    {
     "name": "stderr",
     "output_type": "stream",
     "text": [
      "2025-04-10 23:48:51,573\tINFO tune.py:1009 -- Wrote the latest version of all result files and experiment state to '/home/memorista01/tesis/runs/detect/tune/_tune_2025-04-10_23-42-11' in 0.0381s.\n",
      "2025-04-10 23:48:51,577\tINFO tune.py:1041 -- Total run time: 400.19 seconds (400.12 seconds for the tuning loop).\n"
     ]
    }
   ],
   "source": [
    "run_tuning_file(tuning_config_deepfish_2, 20, 5)"
   ]
  }
 ],
 "metadata": {
  "kernelspec": {
   "display_name": "thesis",
   "language": "python",
   "name": "python3"
  },
  "language_info": {
   "codemirror_mode": {
    "name": "ipython",
    "version": 3
   },
   "file_extension": ".py",
   "mimetype": "text/x-python",
   "name": "python",
   "nbconvert_exporter": "python",
   "pygments_lexer": "ipython3",
   "version": "3.10.16"
  }
 },
 "nbformat": 4,
 "nbformat_minor": 2
}
