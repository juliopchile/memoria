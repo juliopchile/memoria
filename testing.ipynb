{
 "cells": [
  {
   "cell_type": "code",
   "execution_count": 19,
   "metadata": {},
   "outputs": [
    {
     "name": "stdout",
     "output_type": "stream",
     "text": [
      "Entrada faltante en el primer archivo (archivo1.csv):\n",
      "('yolov9e-seg', 'salmones', 'sgd', 'pytorch')\n"
     ]
    }
   ],
   "source": [
    "import pandas as pd\n",
    "\n",
    "# Cargar ambos archivos CSV\n",
    "# Reemplaza 'archivo1.csv' y 'archivo2.csv' con los nombres reales de tus archivos\n",
    "df1 = pd.read_csv('training/results_4.csv')\n",
    "df2 = pd.read_csv('training/results_5.csv')\n",
    "\n",
    "# Definir las columnas clave\n",
    "columnas_clave = ['Model', 'Dataset', 'Optimizer', 'Format']\n",
    "\n",
    "# Quitar el asterisco de la columna Model y limpiar datos\n",
    "for df in [df1, df2]:\n",
    "    df['Model'] = df['Model'].astype(str).str.replace('*', '', regex=False).str.strip().str.lower()\n",
    "    for col in columnas_clave[1:]:  # Limpiar las otras columnas\n",
    "        df[col] = df[col].astype(str).str.strip().str.lower().fillna('nan')\n",
    "\n",
    "# Crear conjuntos de combinaciones únicas\n",
    "combinaciones_df1 = set(df1[columnas_clave].itertuples(index=False, name=None))\n",
    "combinaciones_df2 = set(df2[columnas_clave].itertuples(index=False, name=None))\n",
    "\n",
    "# Encontrar la combinación faltante en df1\n",
    "faltantes_en_df1 = combinaciones_df2 - combinaciones_df1\n",
    "\n",
    "# Imprimir resultados\n",
    "if faltantes_en_df1:\n",
    "    print(\"Entrada faltante en el primer archivo (archivo1.csv):\")\n",
    "    for combinacion in faltantes_en_df1:\n",
    "        print(combinacion)\n",
    "else:\n",
    "    print(\"No se encontraron entradas faltantes en archivo1.csv.\")"
   ]
  },
  {
   "cell_type": "code",
   "execution_count": 21,
   "metadata": {},
   "outputs": [
    {
     "name": "stdout",
     "output_type": "stream",
     "text": [
      "Ultralytics 8.3.96 🚀 Python-3.10.16 torch-2.6.0+cu124 CUDA:0 (NVIDIA GeForce RTX 3060, 11912MiB)\n",
      "YOLOv9e-seg summary (fused): 292 layers, 59,682,451 parameters, 0 gradients, 244.4 GFLOPs\n"
     ]
    },
    {
     "name": "stderr",
     "output_type": "stream",
     "text": [
      "\u001b[34m\u001b[1mval: \u001b[0mScanning /home/memorista01/tesis/datasets_yolo/Salmones/labels/valid.cache... 128 images, 26 backgrounds, 0 corrupt: 100%|██████████| 154/154 [00:00<?, ?it/s]\n",
      "                 Class     Images  Instances      Box(P          R      mAP50  mAP50-95)     Mask(P          R      mAP50  mAP50-95): 100%|██████████| 10/10 [00:06<00:00,  1.47it/s]\n"
     ]
    },
    {
     "name": "stdout",
     "output_type": "stream",
     "text": [
      "                   all        154        428      0.909      0.871      0.957      0.853      0.909      0.871      0.957        0.8\n",
      "Speed: 0.6ms preprocess, 39.3ms inference, 0.0ms loss, 0.4ms postprocess per image\n",
      "Results saved to \u001b[1mruns/segment/val770\u001b[0m\n",
      "Ultralytics 8.3.96 🚀 Python-3.10.16 torch-2.6.0+cu124 CUDA:0 (NVIDIA GeForce RTX 3060, 11912MiB)\n",
      "YOLOv9e-seg summary (fused): 292 layers, 59,682,451 parameters, 0 gradients, 244.4 GFLOPs\n"
     ]
    },
    {
     "name": "stderr",
     "output_type": "stream",
     "text": [
      "\u001b[34m\u001b[1mval: \u001b[0mScanning /home/memorista01/tesis/datasets_yolo/Salmones/labels/valid.cache... 128 images, 26 backgrounds, 0 corrupt: 100%|██████████| 154/154 [00:00<?, ?it/s]\n",
      "                 Class     Images  Instances      Box(P          R      mAP50  mAP50-95)     Mask(P          R      mAP50  mAP50-95): 100%|██████████| 10/10 [00:06<00:00,  1.48it/s]\n"
     ]
    },
    {
     "name": "stdout",
     "output_type": "stream",
     "text": [
      "                   all        154        428      0.909      0.871      0.957      0.853      0.909      0.871      0.957        0.8\n",
      "Speed: 0.6ms preprocess, 39.3ms inference, 0.0ms loss, 0.4ms postprocess per image\n",
      "Results saved to \u001b[1mruns/segment/val771\u001b[0m\n"
     ]
    }
   ],
   "source": [
    "from utility_training import validate_experiment\n",
    "\n",
    "validation_params = {\"data\": \"datasets_yaml/Salmones.yaml\", \"device\": \"cuda:0\", \"split\": \"val\"}\n",
    "parameters = {\"model_pt_path\": \"training/first_run/Salmones/yolov9e-seg_SGD/weights/best.pt\", \"validation_params\": validation_params,\n",
    "              \"model_name\": \"yolov9e-seg\", \"dataset_name\": \"Salmones\", \"optimizer\": \"SGD\", \"format\": \"Pytorch\"}\n",
    "\n",
    "dataframe = pd.DataFrame()\n",
    "dataframe = validate_experiment(dataframe, parameters)\n",
    "dataframe = validate_experiment(dataframe, parameters)\n",
    "dataframe.to_csv(\"results_path.csv\", index=False)"
   ]
  }
 ],
 "metadata": {
  "kernelspec": {
   "display_name": "thesis",
   "language": "python",
   "name": "python3"
  },
  "language_info": {
   "codemirror_mode": {
    "name": "ipython",
    "version": 3
   },
   "file_extension": ".py",
   "mimetype": "text/x-python",
   "name": "python",
   "nbconvert_exporter": "python",
   "pygments_lexer": "ipython3",
   "version": "3.10.16"
  }
 },
 "nbformat": 4,
 "nbformat_minor": 2
}
